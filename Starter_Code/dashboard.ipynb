{
 "cells": [
  {
   "cell_type": "markdown",
   "metadata": {},
   "source": [
    "# San Francisco Rental Prices Dashboard\n",
    "\n",
    "In this notebook, you will compile the visualizations from the previous analysis into functions that can be used for a Panel dashboard."
   ]
  },
  {
   "cell_type": "code",
   "execution_count": 76,
   "metadata": {},
   "outputs": [],
   "source": [
    "# imports\n",
    "import panel as pn\n",
    "pn.extension('plotly')\n",
    "import plotly.express as px\n",
    "import pandas as pd\n",
    "import hvplot.pandas\n",
    "import matplotlib.pyplot as plt\n",
    "import os\n",
    "from pathlib import Path\n",
    "from dotenv import load_dotenv"
   ]
  },
  {
   "cell_type": "code",
   "execution_count": 77,
   "metadata": {},
   "outputs": [],
   "source": [
    "# Read the Mapbox API key\n",
    "load_dotenv()\n",
    "map_box_api = os.getenv(\"mapbox\")\n",
    "px.set_mapbox_access_token(map_box_api)"
   ]
  },
  {
   "cell_type": "markdown",
   "metadata": {},
   "source": [
    "# Import Data"
   ]
  },
  {
   "cell_type": "code",
   "execution_count": 78,
   "metadata": {},
   "outputs": [],
   "source": [
    "# Import the necessary CSVs to Pandas DataFrames\n",
    "# YOUR CODE HERE!\n",
    "file_path = Path(\"Data/sfo_neighborhoods_census_data.csv\")\n",
    "sfo_data = pd.read_csv(file_path, index_col=\"year\")\n",
    "file_path = Path(\"Data/neighborhoods_coordinates.csv\")\n",
    "coord_data = pd.read_csv(file_path, index_col=\"Neighborhood\")\n",
    "\n"
   ]
  },
  {
   "cell_type": "markdown",
   "metadata": {},
   "source": [
    "- - -"
   ]
  },
  {
   "cell_type": "markdown",
   "metadata": {},
   "source": [
    "## Panel Visualizations\n",
    "\n",
    "In this section, you will copy the code for each plot type from your analysis notebook and place it into separate functions that Panel can use to create panes for the dashboard. \n",
    "\n",
    "These functions will convert the plot object to a Panel pane.\n",
    "\n",
    "Be sure to include any DataFrame transformation/manipulation code required along with the plotting code.\n",
    "\n",
    "Return a Panel pane object from each function that can be used to build the dashboard.\n",
    "\n",
    "Note: Remove any `.show()` lines from the code. We want to return the plots instead of showing them. The Panel dashboard will then display the plots."
   ]
  },
  {
   "cell_type": "code",
   "execution_count": 79,
   "metadata": {},
   "outputs": [],
   "source": [
    "sfo_housing = sfo_data.groupby('year').mean()\n",
    "sfo_data_units = sfo_data[\"housing_units\"]\n",
    "\n",
    "sale_price_sqr_foot = sfo_data['sale_price_sqr_foot']\n",
    "gross_rent = sfo_data['gross_rent']\n",
    "\n",
    "year_neighbor = sfo_data.groupby(['year','neighborhood']).mean()\n",
    "year_neighbor = year_neighbor.drop(columns='housing_units')\n",
    "\n",
    "expensive_ten = year_neighbor.groupby('neighborhood').mean().sort_values('sale_price_sqr_foot',                               ascending=False).head(10).drop(columns='gross_rent')\n",
    " \n",
    "top_ten_year = sfo_data[sfo_data['neighborhood'].isin(expensive_ten.index)].drop(columns='housing_units')\n",
    "\n",
    "exp_nb_per_yr=sfo_data[sfo_data[\"neighborhood\"].isin(expensive_ten.index)]\n",
    "ten_exp_nb_per_yr=exp_nb_per_yr.groupby(['neighborhood']).mean().reset_index()\n",
    "\n",
    "mean_val= sfo_data.groupby(['neighborhood']).mean()\n",
    "join_location = pd.concat([coord_data, mean_val], axis='columns', join='outer').dropna()\n",
    "join_location.reset_index(inplace=True)\n",
    "px.set_mapbox_access_token(map_box_api)\n",
    "\n",
    "data_sunburst=exp_nb_per_yr.reset_index()"
   ]
  },
  {
   "cell_type": "code",
   "execution_count": 105,
   "metadata": {},
   "outputs": [],
   "source": [
    "\n",
    "\n",
    "# Define Panel Visualization Functions\n",
    "def housing_units_per_year():\n",
    "    \"\"\"Housing Units Per Year.\"\"\"\n",
    "    \n",
    "    # YOUR CODE HERE!\n",
    "    \n",
    "    sfo_unit_avg = sfo_data_units.hvplot.bar(x=\"year\", \n",
    "                                            y=\"housing_units\",\n",
    "                                            rot=90, \n",
    "                                            ylim=(370000, 385000)\n",
    "                                            ).opts(yformatter=\"%.0f\", \n",
    "                                              title=\"Housing Units in Sanfrancisco from 2010 to 2016\")\n",
    "    return sfo_unit_avg\n",
    "\n",
    "def average_gross_rent():\n",
    "    \"\"\"Average Gross Rent in San Francisco Per Year.\"\"\"\n",
    "    \n",
    "    # YOUR CODE HERE!\n",
    " \n",
    "    plot_gross_rent = gross_rent.hvplot(label='Average Gross Rent by Year',\n",
    "                                line_color= 'red',\n",
    "                                ylabel= 'Average Gross Rent',\n",
    "                                grid=True)\n",
    "    return plot_gross_rent\n",
    "\n",
    "def average_sales_price():\n",
    "    \"\"\"Average Sales Price Per Year.\"\"\"\n",
    "    \n",
    "    # YOUR CODE HERE!\n",
    "    plot_sale_price_sqr_foot = sale_price_sqr_foot.hvplot(label='Average Price per sq ft by Year',                                                                       line_color= 'green', \n",
    "                                                ylabel= 'Price Per sqft',\n",
    "                                                grid=True)\n",
    "    return plot_sale_price_sqr_foot\n",
    "\n",
    "def average_price_by_neighborhood():\n",
    "    \"\"\"Average Prices by Neighborhood.\"\"\"\n",
    "    \n",
    "    # YOUR CODE HERE!\n",
    "\n",
    "    \n",
    "    y_n_price = year_neighbor.hvplot(groupby=['neighborhood'],\n",
    "                label='Average Price/sqft',\n",
    "                x=\"year\",\n",
    "                y='sale_price_sqr_foot',\n",
    "                dynamic=False)\n",
    "    y_n_rent = year_neighbor.hvplot(groupby=['neighborhood'],\n",
    "                label=\"Average Monthly Rent\",\n",
    "                x=\"year\",\n",
    "                y='gross_rent',\n",
    "                dynamic=False)\n",
    "    return y_n_price + y_n_rent\n",
    "\n",
    "def top_most_expensive_neighborhoods():\n",
    "    \"\"\"Top 10 Most Expensive Neighborhoods.\"\"\"\n",
    "\n",
    "    # YOUR CODE HERE!\n",
    "   \n",
    "    ex_ten = expensive_ten.hvplot(kind='bar', \n",
    "                            rot=45,\n",
    "                            ylim=(600, 900), \n",
    "                            title=\"10 Most Expensive Neighborhoods\")\n",
    "    return ex_ten\n",
    "\n",
    "def most_expensive_neighborhoods_rent_sales():\n",
    "    \"\"\"Comparison of Rent and Sales Prices of Most Expensive Neighborhoods.\"\"\"   \n",
    "    \n",
    "    # YOUR CODE HERE!\n",
    "   \n",
    "    compare_ten=top_ten_year.hvplot(kind=\"bar\", \n",
    "                rot=90, \n",
    "                label='High cost of living ',                       \n",
    "                ylabel= 'Average Price', \n",
    "                x='year', \n",
    "                xlabel=\"Yearly Rent vs Price/sqft\",                    \n",
    "                groupby='neighborhood', \n",
    "                y=(['sale_price_sqr_foot', 'gross_rent'])\n",
    "                )\n",
    "\n",
    "    return compare_ten\n",
    "\n",
    "def parallel_coordinates():\n",
    "    \"\"\"Parallel Coordinates Plot.\"\"\"\n",
    "\n",
    "    # YOUR CODE HERE!\n",
    "   \n",
    "    par_cord= px.parallel_coordinates(ten_exp_nb_per_yr, \n",
    "                                        color=ten_exp_nb_per_yr.index, \n",
    "                                        width=1000, \n",
    "                                        height=500)\n",
    "    return par_cord\n",
    "\n",
    "def parallel_categories():\n",
    "    \"\"\"Parallel Categories Plot.\"\"\"\n",
    "    \n",
    "    # YOUR CODE HERE!\n",
    "    par_cat= px.parallel_categories(ten_exp_nb_per_yr, color=\"sale_price_sqr_foot\")\n",
    "    return par_cat\n",
    "\n",
    "\n",
    "def neighborhood_map():\n",
    "    \"\"\"Neighborhood Map.\"\"\"\n",
    "\n",
    "    # YOUR CODE HERE!\n",
    "    \n",
    "    map_box=px.scatter_mapbox(\n",
    "                join_location, \n",
    "                lat=\"Lat\", \n",
    "                lon=\"Lon\", \n",
    "                size=\"gross_rent\", \n",
    "                color=\"index\",\n",
    "                zoom=12)\n",
    "    map_box.update_layout(mapbox_style=\"streets\")\n",
    "    \n",
    "    return map_box\n",
    "\n",
    "def sunburst():\n",
    "    \"\"\"Sunburst Plot.\"\"\"\n",
    "    \n",
    "    # YOUR CODE HERE!\n",
    "    \n",
    "    sun_burst=px.sunburst(data_sunburst,\n",
    "                path=['year','neighborhood'],\n",
    "                values=\"sale_price_sqr_foot\",\n",
    "                color=\"gross_rent\", \n",
    "                color_continuous_scale='RdBu')\n",
    "    return sun_burst\n"
   ]
  },
  {
   "source": [
    "## Panel Dashboard\n",
    "\n",
    "In this section, you will combine all of the plots into a single dashboard view using Panel. Be creative with your dashboard design!"
   ],
   "cell_type": "markdown",
   "metadata": {}
  },
  {
   "cell_type": "code",
   "execution_count": 117,
   "metadata": {},
   "outputs": [],
   "source": [
    "# Create a Title for the Dashboard\n",
    "# YOUR CODE HERE!\n",
    "\"### San Francisco Housing Dashboard\"\n",
    "\n",
    "# Create a tab layout for the dashboard\n",
    "# YOUR CODE HERE!\n",
    "\n",
    "\n",
    "\n",
    "cost_column = pn.Column(\n",
    "                \"## San Francisco Average Housing Cost \",\n",
    "                    housing_units_per_year(),\n",
    "                    (average_gross_rent(),\n",
    "                    average_sales_price()),\n",
    "                    average_price_by_neighborhood(),\n",
    "                    \"# Top 10 mMst Expensive Neighbor Hoods\",\n",
    "                    top_most_expensive_neighborhoods(),\n",
    "                    most_expensive_neighborhoods_rent_sales()\n",
    "\n",
    ")\n",
    "\n",
    "graphic_column = pn.Column(\n",
    "                    \"##Interactive Info Graphics\",\n",
    "                    parallel_categories(),\n",
    "                    parallel_coordinates(),\n",
    "                    neighborhood_map(),\n",
    "                    sunburst()\n",
    ")\n",
    "# Create the dashboard\n",
    "# YOUR CODE HERE!\n",
    "\n",
    "sfo_dash = pn.Tabs(\n",
    "        (\"Cost\", cost_column),(\"Interactive Info Graphics\", graphic_column)\n",
    "    )"
   ]
  },
  {
   "cell_type": "markdown",
   "metadata": {},
   "source": [
    "## Serve the Panel Dashboard"
   ]
  },
  {
   "cell_type": "code",
   "execution_count": 118,
   "metadata": {},
   "outputs": [
    {
     "output_type": "display_data",
     "data": {},
     "metadata": {}
    },
    {
     "output_type": "display_data",
     "data": {},
     "metadata": {}
    },
    {
     "output_type": "execute_result",
     "data": {
      "text/html": "<div id='8045'>\n\n\n\n\n\n  <div class=\"bk-root\" id=\"67ec6012-bd11-46fd-a346-8e3c17f6fdb9\" data-root-id=\"8045\"></div>\n</div>\n<script type=\"application/javascript\">(function(root) {\n  function embed_document(root) {\n    var docs_json = {\"22557de5-524c-46ab-8eb8-7f5b337df780\":{\"roots\":{\"references\":[{\"attributes\":{},\"id\":\"8133\",\"type\":\"WheelZoomTool\"},{\"attributes\":{\"axis\":{\"id\":\"8063\"},\"dimension\":1,\"grid_line_color\":null,\"ticker\":null},\"id\":\"8066\",\"type\":\"Grid\"},{\"attributes\":{\"data\":{\"lat\":[{\"__ndarray__\":\"jukJSzzgQkA=\",\"dtype\":\"float64\",\"order\":\"little\",\"shape\":[1]}],\"lon\":[{\"__ndarray__\":\"umbyzTabXsA=\",\"dtype\":\"float64\",\"order\":\"little\",\"shape\":[1]}],\"marker.size\":[{\"__ndarray__\":\"VVVVVVX2o0A=\",\"dtype\":\"float64\",\"order\":\"little\",\"shape\":[1]}]},\"selected\":{\"id\":\"8687\"},\"selection_policy\":{\"id\":\"8688\"}},\"id\":\"8563\",\"type\":\"ColumnDataSource\"},{\"attributes\":{\"end\":4705.1,\"reset_end\":4705.1,\"reset_start\":923.9,\"start\":923.9,\"tags\":[[[\"gross_rent\",\"gross_rent\",null]]]},\"id\":\"8156\",\"type\":\"Range1d\"},{\"attributes\":{\"active_drag\":\"auto\",\"active_inspect\":\"auto\",\"active_multi\":null,\"active_scroll\":\"auto\",\"active_tap\":\"auto\",\"tools\":[{\"id\":\"8113\"},{\"id\":\"8131\"},{\"id\":\"8132\"},{\"id\":\"8133\"},{\"id\":\"8134\"},{\"id\":\"8135\"}]},\"id\":\"8137\",\"type\":\"Toolbar\"},{\"attributes\":{\"end\":385000,\"reset_end\":385000,\"reset_start\":370000,\"start\":370000,\"tags\":[[[\"housing_units\",\"housing_units\",null]]]},\"id\":\"8049\",\"type\":\"Range1d\"},{\"attributes\":{},\"id\":\"8506\",\"type\":\"UnionRenderers\"},{\"attributes\":{\"overlay\":{\"id\":\"8136\"}},\"id\":\"8134\",\"type\":\"BoxZoomTool\"},{\"attributes\":{\"data\":{\"lat\":[{\"__ndarray__\":\"NnFyv0PdQkA=\",\"dtype\":\"float64\",\"order\":\"little\",\"shape\":[1]}],\"lon\":[{\"__ndarray__\":\"ih9j7lqcXsA=\",\"dtype\":\"float64\",\"order\":\"little\",\"shape\":[1]}],\"marker.size\":[{\"__ndarray__\":\"zczMzMzKqEA=\",\"dtype\":\"float64\",\"order\":\"little\",\"shape\":[1]}]},\"selected\":{\"id\":\"8689\"},\"selection_policy\":{\"id\":\"8690\"}},\"id\":\"8564\",\"type\":\"ColumnDataSource\"},{\"attributes\":{},\"id\":\"8207\",\"type\":\"UnionRenderers\"},{\"attributes\":{\"callback\":null,\"renderers\":[{\"id\":\"8086\"}],\"tags\":[\"hv_created\"],\"tooltips\":[[\"year\",\"@{year}\"],[\"housing_units\",\"@{housing_units}\"]]},\"id\":\"8050\",\"type\":\"HoverTool\"},{\"attributes\":{\"axis_label\":\"sale_price_sqr_foot\",\"bounds\":\"auto\",\"formatter\":{\"id\":\"8154\"},\"major_label_orientation\":\"horizontal\",\"ticker\":{\"id\":\"8128\"}},\"id\":\"8127\",\"type\":\"LinearAxis\"},{\"attributes\":{},\"id\":\"8175\",\"type\":\"SaveTool\"},{\"attributes\":{\"axis_label\":\"year\",\"bounds\":\"auto\",\"formatter\":{\"id\":\"8152\"},\"major_label_orientation\":\"horizontal\",\"ticker\":{\"id\":\"8124\"}},\"id\":\"8123\",\"type\":\"LinearAxis\"},{\"attributes\":{\"data\":{\"lat\":[{\"__ndarray__\":\"6DBfXoDlQkA=\",\"dtype\":\"float64\",\"order\":\"little\",\"shape\":[1]}],\"lon\":[{\"__ndarray__\":\"IHu9++ObXsA=\",\"dtype\":\"float64\",\"order\":\"little\",\"shape\":[1]}],\"marker.size\":[{\"__ndarray__\":\"SZIkSZICpkA=\",\"dtype\":\"float64\",\"order\":\"little\",\"shape\":[1]}]},\"selected\":{\"id\":\"8691\"},\"selection_policy\":{\"id\":\"8692\"}},\"id\":\"8565\",\"type\":\"ColumnDataSource\"},{\"attributes\":{},\"id\":\"8131\",\"type\":\"SaveTool\"},{\"attributes\":{\"data_source\":{\"id\":\"8421\"},\"glyph\":{\"id\":\"8424\"},\"hover_glyph\":null,\"muted_glyph\":{\"id\":\"8426\"},\"nonselection_glyph\":{\"id\":\"8425\"},\"selection_glyph\":null,\"view\":{\"id\":\"8428\"}},\"id\":\"8427\",\"type\":\"GlyphRenderer\"},{\"attributes\":{\"text\":\"Housing Units in Sanfrancisco from 2010 to 2016\",\"text_color\":{\"value\":\"black\"},\"text_font_size\":{\"value\":\"12pt\"}},\"id\":\"8052\",\"type\":\"Title\"},{\"attributes\":{},\"id\":\"8061\",\"type\":\"CategoricalTicker\"},{\"attributes\":{\"axis_label\":\"sale_price_sqr_foot\",\"bounds\":\"auto\",\"formatter\":{\"id\":\"8431\"},\"major_label_orientation\":\"horizontal\",\"ticker\":{\"id\":\"8405\"}},\"id\":\"8404\",\"type\":\"LinearAxis\"},{\"attributes\":{\"data\":{\"lat\":[{\"__ndarray__\":\"+N9KdmzgQkA=\",\"dtype\":\"float64\",\"order\":\"little\",\"shape\":[1]}],\"lon\":[{\"__ndarray__\":\"LZW3I5ycXsA=\",\"dtype\":\"float64\",\"order\":\"little\",\"shape\":[1]}],\"marker.size\":[{\"__ndarray__\":\"SZIkSZICpkA=\",\"dtype\":\"float64\",\"order\":\"little\",\"shape\":[1]}]},\"selected\":{\"id\":\"8693\"},\"selection_policy\":{\"id\":\"8694\"}},\"id\":\"8566\",\"type\":\"ColumnDataSource\"},{\"attributes\":{},\"id\":\"8081\",\"type\":\"Selection\"},{\"attributes\":{\"below\":[{\"id\":\"8060\"}],\"center\":[{\"id\":\"8062\"},{\"id\":\"8066\"}],\"left\":[{\"id\":\"8063\"}],\"margin\":[5,5,5,5],\"min_border_bottom\":10,\"min_border_left\":10,\"min_border_right\":10,\"min_border_top\":10,\"plot_height\":300,\"plot_width\":700,\"renderers\":[{\"id\":\"8086\"}],\"sizing_mode\":\"fixed\",\"title\":{\"id\":\"8052\"},\"toolbar\":{\"id\":\"8073\"},\"x_range\":{\"id\":\"8048\"},\"x_scale\":{\"id\":\"8056\"},\"y_range\":{\"id\":\"8049\"},\"y_scale\":{\"id\":\"8058\"}},\"id\":\"8051\",\"subtype\":\"Figure\",\"type\":\"Plot\"},{\"attributes\":{\"fill_color\":{\"value\":\"#1f77b3\"},\"top\":{\"field\":\"sale_price_sqr_foot\"},\"width\":{\"value\":0.8},\"x\":{\"field\":\"neighborhood\"}},\"id\":\"8424\",\"type\":\"VBar\"},{\"attributes\":{\"children\":[{\"id\":\"8453\"},{\"id\":\"8515\"}],\"margin\":[0,0,0,0],\"name\":\"Row247386\"},\"id\":\"8449\",\"type\":\"Row\"},{\"attributes\":{\"data\":{\"lat\":[{\"__ndarray__\":\"CmgibHjmQkA=\",\"dtype\":\"float64\",\"order\":\"little\",\"shape\":[1]}],\"lon\":[{\"__ndarray__\":\"q7LviuCZXsA=\",\"dtype\":\"float64\",\"order\":\"little\",\"shape\":[1]}],\"marker.size\":[{\"__ndarray__\":\"mpmZmZldp0A=\",\"dtype\":\"float64\",\"order\":\"little\",\"shape\":[1]}]},\"selected\":{\"id\":\"8695\"},\"selection_policy\":{\"id\":\"8696\"}},\"id\":\"8567\",\"type\":\"ColumnDataSource\"},{\"attributes\":{\"fill_alpha\":{\"value\":0.1},\"fill_color\":{\"value\":\"#1f77b3\"},\"line_alpha\":{\"value\":0.1},\"top\":{\"field\":\"sale_price_sqr_foot\"},\"width\":{\"value\":0.8},\"x\":{\"field\":\"neighborhood\"}},\"id\":\"8425\",\"type\":\"VBar\"},{\"attributes\":{},\"id\":\"8064\",\"type\":\"BasicTicker\"},{\"attributes\":{\"axis_label\":\"neighborhood\",\"bounds\":\"auto\",\"formatter\":{\"id\":\"8429\"},\"major_label_orientation\":0.7853981633974483,\"ticker\":{\"id\":\"8402\"}},\"id\":\"8401\",\"type\":\"CategoricalAxis\"},{\"attributes\":{},\"id\":\"8056\",\"type\":\"CategoricalScale\"},{\"attributes\":{\"axis\":{\"id\":\"8404\"},\"dimension\":1,\"grid_line_color\":null,\"ticker\":null},\"id\":\"8407\",\"type\":\"Grid\"},{\"attributes\":{\"text\":\"10 Most Expensive Neighborhoods\",\"text_color\":{\"value\":\"black\"},\"text_font_size\":{\"value\":\"12pt\"}},\"id\":\"8393\",\"type\":\"Title\"},{\"attributes\":{\"data\":{\"lat\":[{\"__ndarray__\":\"CmgibHjmQkA=\",\"dtype\":\"float64\",\"order\":\"little\",\"shape\":[1]}],\"lon\":[{\"__ndarray__\":\"q7LviuCZXsA=\",\"dtype\":\"float64\",\"order\":\"little\",\"shape\":[1]}],\"marker.size\":[{\"__ndarray__\":\"zczMzMwEpkA=\",\"dtype\":\"float64\",\"order\":\"little\",\"shape\":[1]}]},\"selected\":{\"id\":\"8697\"},\"selection_policy\":{\"id\":\"8698\"}},\"id\":\"8568\",\"type\":\"ColumnDataSource\"},{\"attributes\":{\"css_classes\":[\"markdown\"],\"margin\":[5,5,5,5],\"name\":\"Markdown247395\",\"text\":\"&lt;h2&gt;Interactive Info Graphics&lt;/h2&gt;\"},\"id\":\"8521\",\"type\":\"panel.models.markup.HTML\"},{\"attributes\":{},\"id\":\"8058\",\"type\":\"LinearScale\"},{\"attributes\":{},\"id\":\"8405\",\"type\":\"BasicTicker\"},{\"attributes\":{\"children\":[{\"id\":\"8521\"},{\"id\":\"8523\"},{\"id\":\"8525\"},{\"id\":\"8595\"},{\"id\":\"8597\"}],\"margin\":[0,0,0,0],\"name\":\"Column247405\"},\"id\":\"8520\",\"type\":\"Column\"},{\"attributes\":{\"fill_alpha\":{\"value\":0.2},\"fill_color\":{\"value\":\"#1f77b3\"},\"line_alpha\":{\"value\":0.2},\"top\":{\"field\":\"sale_price_sqr_foot\"},\"width\":{\"value\":0.8},\"x\":{\"field\":\"neighborhood\"}},\"id\":\"8426\",\"type\":\"VBar\"},{\"attributes\":{\"source\":{\"id\":\"8188\"}},\"id\":\"8195\",\"type\":\"CDSView\"},{\"attributes\":{},\"id\":\"8198\",\"type\":\"BasicTickFormatter\"},{\"attributes\":{\"children\":[{\"id\":\"8223\"},{\"id\":\"8384\"}],\"margin\":[0,0,0,0],\"name\":\"Row247368\"},\"id\":\"8110\",\"type\":\"Row\"},{\"attributes\":{\"data\":{\"lat\":[{\"__ndarray__\":\"Y7SOqibcQkA=\",\"dtype\":\"float64\",\"order\":\"little\",\"shape\":[1]}],\"lon\":[{\"__ndarray__\":\"j+TyH9KdXsA=\",\"dtype\":\"float64\",\"order\":\"little\",\"shape\":[1]}],\"marker.size\":[{\"__ndarray__\":\"AAAAAAAEo0A=\",\"dtype\":\"float64\",\"order\":\"little\",\"shape\":[1]}]},\"selected\":{\"id\":\"8699\"},\"selection_policy\":{\"id\":\"8700\"}},\"id\":\"8569\",\"type\":\"ColumnDataSource\"},{\"attributes\":{\"margin\":[5,5,5,5],\"name\":\"Str247365\",\"text\":\"&lt;pre&gt;(:Curve   [year]   (gross_rent), :Curve   [year]   (sale_price_sqr_foot))&lt;/pre&gt;\"},\"id\":\"8109\",\"type\":\"panel.models.markup.HTML\"},{\"attributes\":{\"below\":[{\"id\":\"8123\"}],\"center\":[{\"id\":\"8126\"},{\"id\":\"8130\"}],\"left\":[{\"id\":\"8127\"}],\"margin\":null,\"min_border_bottom\":10,\"min_border_left\":10,\"min_border_right\":10,\"min_border_top\":10,\"plot_height\":300,\"plot_width\":700,\"renderers\":[{\"id\":\"8150\"}],\"sizing_mode\":\"fixed\",\"title\":{\"id\":\"8115\"},\"toolbar\":{\"id\":\"8137\"},\"toolbar_location\":null,\"x_range\":{\"id\":\"8111\"},\"x_scale\":{\"id\":\"8119\"},\"y_range\":{\"id\":\"8112\"},\"y_scale\":{\"id\":\"8121\"}},\"id\":\"8114\",\"subtype\":\"Figure\",\"type\":\"Plot\"},{\"attributes\":{},\"id\":\"8399\",\"type\":\"LinearScale\"},{\"attributes\":{},\"id\":\"8402\",\"type\":\"CategoricalTicker\"},{\"attributes\":{\"factors\":[\"2010\",\"2011\",\"2012\",\"2013\",\"2014\",\"2015\",\"2016\"],\"tags\":[[[\"year\",\"year\",null]]]},\"id\":\"8048\",\"type\":\"FactorRange\"},{\"attributes\":{\"axis\":{\"id\":\"8401\"},\"grid_line_color\":null,\"ticker\":null},\"id\":\"8403\",\"type\":\"Grid\"},{\"attributes\":{},\"id\":\"8397\",\"type\":\"CategoricalScale\"},{\"attributes\":{\"data\":{\"lat\":[{\"__ndarray__\":\"P8bctYTcQkA=\",\"dtype\":\"float64\",\"order\":\"little\",\"shape\":[1]}],\"lon\":[{\"__ndarray__\":\"Q8U4fxOcXsA=\",\"dtype\":\"float64\",\"order\":\"little\",\"shape\":[1]}],\"marker.size\":[{\"__ndarray__\":\"AAAAAIBnp0A=\",\"dtype\":\"float64\",\"order\":\"little\",\"shape\":[1]}]},\"selected\":{\"id\":\"8701\"},\"selection_policy\":{\"id\":\"8702\"}},\"id\":\"8570\",\"type\":\"ColumnDataSource\"},{\"attributes\":{\"below\":[{\"id\":\"8401\"}],\"center\":[{\"id\":\"8403\"},{\"id\":\"8407\"}],\"left\":[{\"id\":\"8404\"}],\"margin\":[5,5,5,5],\"min_border_bottom\":10,\"min_border_left\":10,\"min_border_right\":10,\"min_border_top\":10,\"plot_height\":300,\"plot_width\":700,\"renderers\":[{\"id\":\"8427\"}],\"sizing_mode\":\"fixed\",\"title\":{\"id\":\"8393\"},\"toolbar\":{\"id\":\"8414\"},\"x_range\":{\"id\":\"8389\"},\"x_scale\":{\"id\":\"8397\"},\"y_range\":{\"id\":\"8112\"},\"y_scale\":{\"id\":\"8399\"}},\"id\":\"8392\",\"subtype\":\"Figure\",\"type\":\"Plot\"},{\"attributes\":{\"css_classes\":[\"markdown\"],\"margin\":[5,5,5,5],\"name\":\"Markdown247378\",\"text\":\"&lt;h1&gt;Top 10 mMst Expensive Neighbor Hoods&lt;/h1&gt;\"},\"id\":\"8388\",\"type\":\"panel.models.markup.HTML\"},{\"attributes\":{},\"id\":\"8135\",\"type\":\"ResetTool\"},{\"attributes\":{\"data\":{\"lat\":[{\"__ndarray__\":\"nDOitDfgQkA=\",\"dtype\":\"float64\",\"order\":\"little\",\"shape\":[1]}],\"lon\":[{\"__ndarray__\":\"BoGVQ4ucXsA=\",\"dtype\":\"float64\",\"order\":\"little\",\"shape\":[1]}],\"marker.size\":[{\"__ndarray__\":\"SZIkSZICpkA=\",\"dtype\":\"float64\",\"order\":\"little\",\"shape\":[1]}]},\"selected\":{\"id\":\"8703\"},\"selection_policy\":{\"id\":\"8704\"}},\"id\":\"8571\",\"type\":\"ColumnDataSource\"},{\"attributes\":{\"line_alpha\":0.2,\"line_color\":\"#1f77b3\",\"line_width\":2,\"x\":{\"field\":\"year\"},\"y\":{\"field\":\"sale_price_sqr_foot\"}},\"id\":\"8149\",\"type\":\"Line\"},{\"attributes\":{\"source\":{\"id\":\"8421\"}},\"id\":\"8428\",\"type\":\"CDSView\"},{\"attributes\":{\"data_source\":{\"id\":\"8144\"},\"glyph\":{\"id\":\"8147\"},\"hover_glyph\":null,\"muted_glyph\":{\"id\":\"8149\"},\"nonselection_glyph\":{\"id\":\"8148\"},\"selection_glyph\":null,\"view\":{\"id\":\"8151\"}},\"id\":\"8150\",\"type\":\"GlyphRenderer\"},{\"attributes\":{},\"id\":\"8176\",\"type\":\"PanTool\"},{\"attributes\":{\"data\":{\"lat\":[{\"__ndarray__\":\"lWBxOPPfQkA=\",\"dtype\":\"float64\",\"order\":\"little\",\"shape\":[1]}],\"lon\":[{\"__ndarray__\":\"fVcE/1ufXsA=\",\"dtype\":\"float64\",\"order\":\"little\",\"shape\":[1]}],\"marker.size\":[{\"__ndarray__\":\"SZIkSZICpkA=\",\"dtype\":\"float64\",\"order\":\"little\",\"shape\":[1]}]},\"selected\":{\"id\":\"8705\"},\"selection_policy\":{\"id\":\"8706\"}},\"id\":\"8572\",\"type\":\"ColumnDataSource\"},{\"attributes\":{\"axis\":{\"id\":\"8127\"},\"dimension\":1,\"grid_line_color\":null,\"ticker\":null},\"id\":\"8130\",\"type\":\"Grid\"},{\"attributes\":{\"axis\":{\"id\":\"8123\"},\"grid_line_color\":null,\"ticker\":null},\"id\":\"8126\",\"type\":\"Grid\"},{\"attributes\":{},\"id\":\"8152\",\"type\":\"BasicTickFormatter\"},{\"attributes\":{\"data\":{\"lat\":[{\"__ndarray__\":\"VvFG5pHjQkA=\",\"dtype\":\"float64\",\"order\":\"little\",\"shape\":[1]}],\"lon\":[{\"__ndarray__\":\"QspPqn2cXsA=\",\"dtype\":\"float64\",\"order\":\"little\",\"shape\":[1]}],\"marker.size\":[{\"__ndarray__\":\"SZIkSZICpkA=\",\"dtype\":\"float64\",\"order\":\"little\",\"shape\":[1]}]},\"selected\":{\"id\":\"8623\"},\"selection_policy\":{\"id\":\"8624\"}},\"id\":\"8531\",\"type\":\"ColumnDataSource\"},{\"attributes\":{\"data\":{\"lat\":[{\"__ndarray__\":\"B3sTQ3LiQkA=\",\"dtype\":\"float64\",\"order\":\"little\",\"shape\":[1]}],\"lon\":[{\"__ndarray__\":\"SN3OvvKeXsA=\",\"dtype\":\"float64\",\"order\":\"little\",\"shape\":[1]}],\"marker.size\":[{\"__ndarray__\":\"SZIkSZICpkA=\",\"dtype\":\"float64\",\"order\":\"little\",\"shape\":[1]}]},\"selected\":{\"id\":\"8665\"},\"selection_policy\":{\"id\":\"8666\"}},\"id\":\"8552\",\"type\":\"ColumnDataSource\"},{\"attributes\":{\"data\":{\"lat\":[{\"__ndarray__\":\"6DBfXoDlQkA=\",\"dtype\":\"float64\",\"order\":\"little\",\"shape\":[1]}],\"lon\":[{\"__ndarray__\":\"IHu9++ObXsA=\",\"dtype\":\"float64\",\"order\":\"little\",\"shape\":[1]}],\"marker.size\":[{\"__ndarray__\":\"SZIkSZICpkA=\",\"dtype\":\"float64\",\"order\":\"little\",\"shape\":[1]}]},\"selected\":{\"id\":\"8707\"},\"selection_policy\":{\"id\":\"8708\"}},\"id\":\"8573\",\"type\":\"ColumnDataSource\"},{\"attributes\":{\"data\":{\"lat\":[{\"__ndarray__\":\"jGfQ0D/lQkA=\",\"dtype\":\"float64\",\"order\":\"little\",\"shape\":[1]}],\"lon\":[{\"__ndarray__\":\"L26jAbyZXsA=\",\"dtype\":\"float64\",\"order\":\"little\",\"shape\":[1]}],\"marker.size\":[{\"__ndarray__\":\"AAAAAABQo0A=\",\"dtype\":\"float64\",\"order\":\"little\",\"shape\":[1]}]},\"selected\":{\"id\":\"8645\"},\"selection_policy\":{\"id\":\"8646\"}},\"id\":\"8542\",\"type\":\"ColumnDataSource\"},{\"attributes\":{\"_render_count\":0,\"config\":null,\"data\":[{\"dimensions\":[{\"label\":\"neighborhood\"},{\"label\":\"sale_price_sqr_foot\"},{\"label\":\"housing_units\"},{\"label\":\"gross_rent\"}],\"domain\":{\"x\":[0.0,1.0],\"y\":[0.0,1.0]},\"line\":{\"coloraxis\":\"coloraxis\"},\"name\":\"\",\"type\":\"parcats\"}],\"data_sources\":[{\"id\":\"8522\"}],\"layout\":{\"coloraxis\":{\"colorbar\":{\"title\":{\"text\":\"sale_price_sqr_foot\"}},\"colorscale\":[[0.0,\"#0d0887\"],[0.1111111111111111,\"#46039f\"],[0.2222222222222222,\"#7201a8\"],[0.3333333333333333,\"#9c179e\"],[0.4444444444444444,\"#bd3786\"],[0.5555555555555556,\"#d8576b\"],[0.6666666666666666,\"#ed7953\"],[0.7777777777777778,\"#fb9f3a\"],[0.8888888888888888,\"#fdca26\"],[1.0,\"#f0f921\"]]},\"legend\":{\"tracegroupgap\":0},\"margin\":{\"t\":60},\"template\":{\"data\":{\"bar\":[{\"error_x\":{\"color\":\"#2a3f5f\"},\"error_y\":{\"color\":\"#2a3f5f\"},\"marker\":{\"line\":{\"color\":\"#E5ECF6\",\"width\":0.5}},\"type\":\"bar\"}],\"barpolar\":[{\"marker\":{\"line\":{\"color\":\"#E5ECF6\",\"width\":0.5}},\"type\":\"barpolar\"}],\"carpet\":[{\"aaxis\":{\"endlinecolor\":\"#2a3f5f\",\"gridcolor\":\"white\",\"linecolor\":\"white\",\"minorgridcolor\":\"white\",\"startlinecolor\":\"#2a3f5f\"},\"baxis\":{\"endlinecolor\":\"#2a3f5f\",\"gridcolor\":\"white\",\"linecolor\":\"white\",\"minorgridcolor\":\"white\",\"startlinecolor\":\"#2a3f5f\"},\"type\":\"carpet\"}],\"choropleth\":[{\"colorbar\":{\"outlinewidth\":0,\"ticks\":\"\"},\"type\":\"choropleth\"}],\"contour\":[{\"colorbar\":{\"outlinewidth\":0,\"ticks\":\"\"},\"colorscale\":[[0.0,\"#0d0887\"],[0.1111111111111111,\"#46039f\"],[0.2222222222222222,\"#7201a8\"],[0.3333333333333333,\"#9c179e\"],[0.4444444444444444,\"#bd3786\"],[0.5555555555555556,\"#d8576b\"],[0.6666666666666666,\"#ed7953\"],[0.7777777777777778,\"#fb9f3a\"],[0.8888888888888888,\"#fdca26\"],[1.0,\"#f0f921\"]],\"type\":\"contour\"}],\"contourcarpet\":[{\"colorbar\":{\"outlinewidth\":0,\"ticks\":\"\"},\"type\":\"contourcarpet\"}],\"heatmap\":[{\"colorbar\":{\"outlinewidth\":0,\"ticks\":\"\"},\"colorscale\":[[0.0,\"#0d0887\"],[0.1111111111111111,\"#46039f\"],[0.2222222222222222,\"#7201a8\"],[0.3333333333333333,\"#9c179e\"],[0.4444444444444444,\"#bd3786\"],[0.5555555555555556,\"#d8576b\"],[0.6666666666666666,\"#ed7953\"],[0.7777777777777778,\"#fb9f3a\"],[0.8888888888888888,\"#fdca26\"],[1.0,\"#f0f921\"]],\"type\":\"heatmap\"}],\"heatmapgl\":[{\"colorbar\":{\"outlinewidth\":0,\"ticks\":\"\"},\"colorscale\":[[0.0,\"#0d0887\"],[0.1111111111111111,\"#46039f\"],[0.2222222222222222,\"#7201a8\"],[0.3333333333333333,\"#9c179e\"],[0.4444444444444444,\"#bd3786\"],[0.5555555555555556,\"#d8576b\"],[0.6666666666666666,\"#ed7953\"],[0.7777777777777778,\"#fb9f3a\"],[0.8888888888888888,\"#fdca26\"],[1.0,\"#f0f921\"]],\"type\":\"heatmapgl\"}],\"histogram\":[{\"marker\":{\"colorbar\":{\"outlinewidth\":0,\"ticks\":\"\"}},\"type\":\"histogram\"}],\"histogram2d\":[{\"colorbar\":{\"outlinewidth\":0,\"ticks\":\"\"},\"colorscale\":[[0.0,\"#0d0887\"],[0.1111111111111111,\"#46039f\"],[0.2222222222222222,\"#7201a8\"],[0.3333333333333333,\"#9c179e\"],[0.4444444444444444,\"#bd3786\"],[0.5555555555555556,\"#d8576b\"],[0.6666666666666666,\"#ed7953\"],[0.7777777777777778,\"#fb9f3a\"],[0.8888888888888888,\"#fdca26\"],[1.0,\"#f0f921\"]],\"type\":\"histogram2d\"}],\"histogram2dcontour\":[{\"colorbar\":{\"outlinewidth\":0,\"ticks\":\"\"},\"colorscale\":[[0.0,\"#0d0887\"],[0.1111111111111111,\"#46039f\"],[0.2222222222222222,\"#7201a8\"],[0.3333333333333333,\"#9c179e\"],[0.4444444444444444,\"#bd3786\"],[0.5555555555555556,\"#d8576b\"],[0.6666666666666666,\"#ed7953\"],[0.7777777777777778,\"#fb9f3a\"],[0.8888888888888888,\"#fdca26\"],[1.0,\"#f0f921\"]],\"type\":\"histogram2dcontour\"}],\"mesh3d\":[{\"colorbar\":{\"outlinewidth\":0,\"ticks\":\"\"},\"type\":\"mesh3d\"}],\"parcoords\":[{\"line\":{\"colorbar\":{\"outlinewidth\":0,\"ticks\":\"\"}},\"type\":\"parcoords\"}],\"pie\":[{\"automargin\":true,\"type\":\"pie\"}],\"scatter\":[{\"marker\":{\"colorbar\":{\"outlinewidth\":0,\"ticks\":\"\"}},\"type\":\"scatter\"}],\"scatter3d\":[{\"line\":{\"colorbar\":{\"outlinewidth\":0,\"ticks\":\"\"}},\"marker\":{\"colorbar\":{\"outlinewidth\":0,\"ticks\":\"\"}},\"type\":\"scatter3d\"}],\"scattercarpet\":[{\"marker\":{\"colorbar\":{\"outlinewidth\":0,\"ticks\":\"\"}},\"type\":\"scattercarpet\"}],\"scattergeo\":[{\"marker\":{\"colorbar\":{\"outlinewidth\":0,\"ticks\":\"\"}},\"type\":\"scattergeo\"}],\"scattergl\":[{\"marker\":{\"colorbar\":{\"outlinewidth\":0,\"ticks\":\"\"}},\"type\":\"scattergl\"}],\"scattermapbox\":[{\"marker\":{\"colorbar\":{\"outlinewidth\":0,\"ticks\":\"\"}},\"type\":\"scattermapbox\"}],\"scatterpolar\":[{\"marker\":{\"colorbar\":{\"outlinewidth\":0,\"ticks\":\"\"}},\"type\":\"scatterpolar\"}],\"scatterpolargl\":[{\"marker\":{\"colorbar\":{\"outlinewidth\":0,\"ticks\":\"\"}},\"type\":\"scatterpolargl\"}],\"scatterternary\":[{\"marker\":{\"colorbar\":{\"outlinewidth\":0,\"ticks\":\"\"}},\"type\":\"scatterternary\"}],\"surface\":[{\"colorbar\":{\"outlinewidth\":0,\"ticks\":\"\"},\"colorscale\":[[0.0,\"#0d0887\"],[0.1111111111111111,\"#46039f\"],[0.2222222222222222,\"#7201a8\"],[0.3333333333333333,\"#9c179e\"],[0.4444444444444444,\"#bd3786\"],[0.5555555555555556,\"#d8576b\"],[0.6666666666666666,\"#ed7953\"],[0.7777777777777778,\"#fb9f3a\"],[0.8888888888888888,\"#fdca26\"],[1.0,\"#f0f921\"]],\"type\":\"surface\"}],\"table\":[{\"cells\":{\"fill\":{\"color\":\"#EBF0F8\"},\"line\":{\"color\":\"white\"}},\"header\":{\"fill\":{\"color\":\"#C8D4E3\"},\"line\":{\"color\":\"white\"}},\"type\":\"table\"}]},\"layout\":{\"annotationdefaults\":{\"arrowcolor\":\"#2a3f5f\",\"arrowhead\":0,\"arrowwidth\":1},\"autotypenumbers\":\"strict\",\"coloraxis\":{\"colorbar\":{\"outlinewidth\":0,\"ticks\":\"\"}},\"colorscale\":{\"diverging\":[[0,\"#8e0152\"],[0.1,\"#c51b7d\"],[0.2,\"#de77ae\"],[0.3,\"#f1b6da\"],[0.4,\"#fde0ef\"],[0.5,\"#f7f7f7\"],[0.6,\"#e6f5d0\"],[0.7,\"#b8e186\"],[0.8,\"#7fbc41\"],[0.9,\"#4d9221\"],[1,\"#276419\"]],\"sequential\":[[0.0,\"#0d0887\"],[0.1111111111111111,\"#46039f\"],[0.2222222222222222,\"#7201a8\"],[0.3333333333333333,\"#9c179e\"],[0.4444444444444444,\"#bd3786\"],[0.5555555555555556,\"#d8576b\"],[0.6666666666666666,\"#ed7953\"],[0.7777777777777778,\"#fb9f3a\"],[0.8888888888888888,\"#fdca26\"],[1.0,\"#f0f921\"]],\"sequentialminus\":[[0.0,\"#0d0887\"],[0.1111111111111111,\"#46039f\"],[0.2222222222222222,\"#7201a8\"],[0.3333333333333333,\"#9c179e\"],[0.4444444444444444,\"#bd3786\"],[0.5555555555555556,\"#d8576b\"],[0.6666666666666666,\"#ed7953\"],[0.7777777777777778,\"#fb9f3a\"],[0.8888888888888888,\"#fdca26\"],[1.0,\"#f0f921\"]]},\"colorway\":[\"#636efa\",\"#EF553B\",\"#00cc96\",\"#ab63fa\",\"#FFA15A\",\"#19d3f3\",\"#FF6692\",\"#B6E880\",\"#FF97FF\",\"#FECB52\"],\"font\":{\"color\":\"#2a3f5f\"},\"geo\":{\"bgcolor\":\"white\",\"lakecolor\":\"white\",\"landcolor\":\"#E5ECF6\",\"showlakes\":true,\"showland\":true,\"subunitcolor\":\"white\"},\"hoverlabel\":{\"align\":\"left\"},\"hovermode\":\"closest\",\"mapbox\":{\"style\":\"light\"},\"paper_bgcolor\":\"white\",\"plot_bgcolor\":\"#E5ECF6\",\"polar\":{\"angularaxis\":{\"gridcolor\":\"white\",\"linecolor\":\"white\",\"ticks\":\"\"},\"bgcolor\":\"#E5ECF6\",\"radialaxis\":{\"gridcolor\":\"white\",\"linecolor\":\"white\",\"ticks\":\"\"}},\"scene\":{\"xaxis\":{\"backgroundcolor\":\"#E5ECF6\",\"gridcolor\":\"white\",\"gridwidth\":2,\"linecolor\":\"white\",\"showbackground\":true,\"ticks\":\"\",\"zerolinecolor\":\"white\"},\"yaxis\":{\"backgroundcolor\":\"#E5ECF6\",\"gridcolor\":\"white\",\"gridwidth\":2,\"linecolor\":\"white\",\"showbackground\":true,\"ticks\":\"\",\"zerolinecolor\":\"white\"},\"zaxis\":{\"backgroundcolor\":\"#E5ECF6\",\"gridcolor\":\"white\",\"gridwidth\":2,\"linecolor\":\"white\",\"showbackground\":true,\"ticks\":\"\",\"zerolinecolor\":\"white\"}},\"shapedefaults\":{\"line\":{\"color\":\"#2a3f5f\"}},\"ternary\":{\"aaxis\":{\"gridcolor\":\"white\",\"linecolor\":\"white\",\"ticks\":\"\"},\"baxis\":{\"gridcolor\":\"white\",\"linecolor\":\"white\",\"ticks\":\"\"},\"bgcolor\":\"#E5ECF6\",\"caxis\":{\"gridcolor\":\"white\",\"linecolor\":\"white\",\"ticks\":\"\"}},\"title\":{\"x\":0.05},\"xaxis\":{\"automargin\":true,\"gridcolor\":\"white\",\"linecolor\":\"white\",\"ticks\":\"\",\"title\":{\"standoff\":15},\"zerolinecolor\":\"white\",\"zerolinewidth\":2},\"yaxis\":{\"automargin\":true,\"gridcolor\":\"white\",\"linecolor\":\"white\",\"ticks\":\"\",\"title\":{\"standoff\":15},\"zerolinecolor\":\"white\",\"zerolinewidth\":2}}}},\"margin\":[5,5,5,5],\"name\":\"Plotly247397\",\"viewport_update_throttle\":200},\"id\":\"8523\",\"type\":\"panel.models.plotly.PlotlyPlot\"},{\"attributes\":{\"margin\":[5,5,5,5],\"name\":\"VSpacer247392\",\"sizing_mode\":\"stretch_height\"},\"id\":\"8518\",\"type\":\"Spacer\"},{\"attributes\":{},\"id\":\"8491\",\"type\":\"CategoricalTickFormatter\"},{\"attributes\":{},\"id\":\"8154\",\"type\":\"BasicTickFormatter\"},{\"attributes\":{\"data\":{\"lat\":[{\"__ndarray__\":\"lWBxOPPfQkA=\",\"dtype\":\"float64\",\"order\":\"little\",\"shape\":[1]}],\"lon\":[{\"__ndarray__\":\"WoEhq1ufXsA=\",\"dtype\":\"float64\",\"order\":\"little\",\"shape\":[1]}],\"marker.size\":[{\"__ndarray__\":\"SZIkSZICpkA=\",\"dtype\":\"float64\",\"order\":\"little\",\"shape\":[1]}]},\"selected\":{\"id\":\"8667\"},\"selection_policy\":{\"id\":\"8668\"}},\"id\":\"8553\",\"type\":\"ColumnDataSource\"},{\"attributes\":{\"data\":{\"lat\":[{\"__ndarray__\":\"vodLjjvdQkA=\",\"dtype\":\"float64\",\"order\":\"little\",\"shape\":[1]}],\"lon\":[{\"__ndarray__\":\"xzNo6J+eXsA=\",\"dtype\":\"float64\",\"order\":\"little\",\"shape\":[1]}],\"marker.size\":[{\"__ndarray__\":\"SZIkSZICpkA=\",\"dtype\":\"float64\",\"order\":\"little\",\"shape\":[1]}]},\"selected\":{\"id\":\"8709\"},\"selection_policy\":{\"id\":\"8710\"}},\"id\":\"8574\",\"type\":\"ColumnDataSource\"},{\"attributes\":{\"children\":[{\"id\":\"8220\"},{\"id\":\"8218\"}]},\"id\":\"8221\",\"type\":\"Column\"},{\"attributes\":{\"data\":{\"lat\":[{\"__ndarray__\":\"lWBxOPPfQkA=\",\"dtype\":\"float64\",\"order\":\"little\",\"shape\":[1]}],\"lon\":[{\"__ndarray__\":\"fVcE/1ufXsA=\",\"dtype\":\"float64\",\"order\":\"little\",\"shape\":[1]}],\"marker.size\":[{\"__ndarray__\":\"SZIkSZICpkA=\",\"dtype\":\"float64\",\"order\":\"little\",\"shape\":[1]}]},\"selected\":{\"id\":\"8625\"},\"selection_policy\":{\"id\":\"8626\"}},\"id\":\"8532\",\"type\":\"ColumnDataSource\"},{\"attributes\":{\"data\":{\"lat\":[{\"__ndarray__\":\"DI6SV+fgQkA=\",\"dtype\":\"float64\",\"order\":\"little\",\"shape\":[1]}],\"lon\":[{\"__ndarray__\":\"JK/OMSCdXsA=\",\"dtype\":\"float64\",\"order\":\"little\",\"shape\":[1]}],\"marker.size\":[{\"__ndarray__\":\"AAAAAADWm0A=\",\"dtype\":\"float64\",\"order\":\"little\",\"shape\":[1]}]},\"selected\":{\"id\":\"8647\"},\"selection_policy\":{\"id\":\"8648\"}},\"id\":\"8543\",\"type\":\"ColumnDataSource\"},{\"attributes\":{\"fill_color\":{\"value\":\"#1f77b3\"},\"top\":{\"field\":\"housing_units\"},\"width\":{\"value\":0.8},\"x\":{\"field\":\"year\"}},\"id\":\"8083\",\"type\":\"VBar\"},{\"attributes\":{\"bottom_units\":\"screen\",\"fill_alpha\":0.5,\"fill_color\":\"lightgrey\",\"left_units\":\"screen\",\"level\":\"overlay\",\"line_alpha\":1.0,\"line_color\":\"black\",\"line_dash\":[4,4],\"line_width\":2,\"right_units\":\"screen\",\"top_units\":\"screen\"},\"id\":\"8413\",\"type\":\"BoxAnnotation\"},{\"attributes\":{\"fill_alpha\":{\"value\":0.1},\"fill_color\":{\"field\":\"Variable\",\"transform\":{\"id\":\"8482\"}},\"line_alpha\":{\"value\":0.1},\"top\":{\"field\":\"value\"},\"width\":{\"value\":0.8},\"x\":{\"field\":\"xoffsets\"}},\"id\":\"8487\",\"type\":\"VBar\"},{\"attributes\":{\"active_drag\":\"auto\",\"active_inspect\":\"auto\",\"active_multi\":null,\"active_scroll\":\"auto\",\"active_tap\":\"auto\",\"tools\":[{\"id\":\"8391\"},{\"id\":\"8408\"},{\"id\":\"8409\"},{\"id\":\"8410\"},{\"id\":\"8411\"},{\"id\":\"8412\"}]},\"id\":\"8414\",\"type\":\"Toolbar\"},{\"attributes\":{\"data\":{\"lat\":[{\"__ndarray__\":\"cQM+P4zkQkA=\",\"dtype\":\"float64\",\"order\":\"little\",\"shape\":[1]}],\"lon\":[{\"__ndarray__\":\"d76fGi+dXsA=\",\"dtype\":\"float64\",\"order\":\"little\",\"shape\":[1]}],\"marker.size\":[{\"__ndarray__\":\"SZIkSZICpkA=\",\"dtype\":\"float64\",\"order\":\"little\",\"shape\":[1]}]},\"selected\":{\"id\":\"8669\"},\"selection_policy\":{\"id\":\"8670\"}},\"id\":\"8554\",\"type\":\"ColumnDataSource\"},{\"attributes\":{},\"id\":\"8119\",\"type\":\"LinearScale\"},{\"attributes\":{\"data\":{\"lat\":[{\"__ndarray__\":\"lWBxOPPfQkA=\",\"dtype\":\"float64\",\"order\":\"little\",\"shape\":[1]}],\"lon\":[{\"__ndarray__\":\"fVcE/1ufXsA=\",\"dtype\":\"float64\",\"order\":\"little\",\"shape\":[1]}],\"marker.size\":[{\"__ndarray__\":\"VVVVVVX2o0A=\",\"dtype\":\"float64\",\"order\":\"little\",\"shape\":[1]}]},\"selected\":{\"id\":\"8711\"},\"selection_policy\":{\"id\":\"8712\"}},\"id\":\"8575\",\"type\":\"ColumnDataSource\"},{\"attributes\":{\"data\":{\"lat\":[{\"__ndarray__\":\"+N9KdmzgQkA=\",\"dtype\":\"float64\",\"order\":\"little\",\"shape\":[1]}],\"lon\":[{\"__ndarray__\":\"LZW3I5ycXsA=\",\"dtype\":\"float64\",\"order\":\"little\",\"shape\":[1]}],\"marker.size\":[{\"__ndarray__\":\"AAAAAACVoUA=\",\"dtype\":\"float64\",\"order\":\"little\",\"shape\":[1]}]},\"selected\":{\"id\":\"8627\"},\"selection_policy\":{\"id\":\"8628\"}},\"id\":\"8533\",\"type\":\"ColumnDataSource\"},{\"attributes\":{\"children\":[{\"id\":\"8517\"}],\"css_classes\":[\"panel-widget-box\"],\"margin\":[5,5,5,5],\"name\":\"WidgetBox247387\"},\"id\":\"8516\",\"type\":\"Column\"},{\"attributes\":{\"data\":{\"lat\":[{\"__ndarray__\":\"NnFyv0PdQkA=\",\"dtype\":\"float64\",\"order\":\"little\",\"shape\":[1]}],\"lon\":[{\"__ndarray__\":\"ih9j7lqcXsA=\",\"dtype\":\"float64\",\"order\":\"little\",\"shape\":[1]}],\"marker.size\":[{\"__ndarray__\":\"AAAAAACnpkA=\",\"dtype\":\"float64\",\"order\":\"little\",\"shape\":[1]}]},\"selected\":{\"id\":\"8649\"},\"selection_policy\":{\"id\":\"8650\"}},\"id\":\"8544\",\"type\":\"ColumnDataSource\"},{\"attributes\":{\"overlay\":{\"id\":\"8180\"}},\"id\":\"8178\",\"type\":\"BoxZoomTool\"},{\"attributes\":{\"data\":{\"lat\":[{\"__ndarray__\":\"g4sVNZjmQkA=\",\"dtype\":\"float64\",\"order\":\"little\",\"shape\":[1]}],\"lon\":[{\"__ndarray__\":\"iO/ErBedXsA=\",\"dtype\":\"float64\",\"order\":\"little\",\"shape\":[1]}],\"marker.size\":[{\"__ndarray__\":\"VVVVVVX2o0A=\",\"dtype\":\"float64\",\"order\":\"little\",\"shape\":[1]}]},\"selected\":{\"id\":\"8671\"},\"selection_policy\":{\"id\":\"8672\"}},\"id\":\"8555\",\"type\":\"ColumnDataSource\"},{\"attributes\":{\"data\":{\"lat\":[{\"__ndarray__\":\"L26jAbzhQkA=\",\"dtype\":\"float64\",\"order\":\"little\",\"shape\":[1]}],\"lon\":[{\"__ndarray__\":\"7MA5I0qdXsA=\",\"dtype\":\"float64\",\"order\":\"little\",\"shape\":[1]}],\"marker.size\":[{\"__ndarray__\":\"SZIkSZICpkA=\",\"dtype\":\"float64\",\"order\":\"little\",\"shape\":[1]}]},\"selected\":{\"id\":\"8713\"},\"selection_policy\":{\"id\":\"8714\"}},\"id\":\"8576\",\"type\":\"ColumnDataSource\"},{\"attributes\":{},\"id\":\"8471\",\"type\":\"WheelZoomTool\"},{\"attributes\":{\"data\":{\"lat\":[{\"__ndarray__\":\"cQM+P4zkQkA=\",\"dtype\":\"float64\",\"order\":\"little\",\"shape\":[1]}],\"lon\":[{\"__ndarray__\":\"d76fGi+dXsA=\",\"dtype\":\"float64\",\"order\":\"little\",\"shape\":[1]}],\"marker.size\":[{\"__ndarray__\":\"AAAAAABQo0A=\",\"dtype\":\"float64\",\"order\":\"little\",\"shape\":[1]}]},\"selected\":{\"id\":\"8629\"},\"selection_policy\":{\"id\":\"8630\"}},\"id\":\"8534\",\"type\":\"ColumnDataSource\"},{\"attributes\":{},\"id\":\"8163\",\"type\":\"LinearScale\"},{\"attributes\":{\"axis_label\":\"year\",\"bounds\":\"auto\",\"formatter\":{\"id\":\"8089\"},\"major_label_orientation\":1.5707963267948966,\"ticker\":{\"id\":\"8061\"}},\"id\":\"8060\",\"type\":\"CategoricalAxis\"},{\"attributes\":{\"data\":{\"lat\":[{\"__ndarray__\":\"e5+qQgPhQkA=\",\"dtype\":\"float64\",\"order\":\"little\",\"shape\":[1]}],\"lon\":[{\"__ndarray__\":\"JyzxgLKdXsA=\",\"dtype\":\"float64\",\"order\":\"little\",\"shape\":[1]}],\"marker.size\":[{\"__ndarray__\":\"zczMzMxSpEA=\",\"dtype\":\"float64\",\"order\":\"little\",\"shape\":[1]}]},\"selected\":{\"id\":\"8651\"},\"selection_policy\":{\"id\":\"8652\"}},\"id\":\"8545\",\"type\":\"ColumnDataSource\"},{\"attributes\":{\"data\":{\"lat\":[{\"__ndarray__\":\"6DBfXoDlQkA=\",\"dtype\":\"float64\",\"order\":\"little\",\"shape\":[1]}],\"lon\":[{\"__ndarray__\":\"IHu9++ObXsA=\",\"dtype\":\"float64\",\"order\":\"little\",\"shape\":[1]}],\"marker.size\":[{\"__ndarray__\":\"SZIkSZICpkA=\",\"dtype\":\"float64\",\"order\":\"little\",\"shape\":[1]}]},\"selected\":{\"id\":\"8631\"},\"selection_policy\":{\"id\":\"8632\"}},\"id\":\"8535\",\"type\":\"ColumnDataSource\"},{\"attributes\":{\"data\":{\"lat\":[{\"__ndarray__\":\"XW3F/rLjQkA=\",\"dtype\":\"float64\",\"order\":\"little\",\"shape\":[1]}],\"lon\":[{\"__ndarray__\":\"Pz+MEB6dXsA=\",\"dtype\":\"float64\",\"order\":\"little\",\"shape\":[1]}],\"marker.size\":[{\"__ndarray__\":\"VVVVVVX2o0A=\",\"dtype\":\"float64\",\"order\":\"little\",\"shape\":[1]}]},\"selected\":{\"id\":\"8673\"},\"selection_policy\":{\"id\":\"8674\"}},\"id\":\"8556\",\"type\":\"ColumnDataSource\"},{\"attributes\":{},\"id\":\"8408\",\"type\":\"SaveTool\"},{\"attributes\":{\"data\":{\"lat\":[{\"__ndarray__\":\"Ga2jqgneQkA=\",\"dtype\":\"float64\",\"order\":\"little\",\"shape\":[1]}],\"lon\":[{\"__ndarray__\":\"9+6P96qZXsA=\",\"dtype\":\"float64\",\"order\":\"little\",\"shape\":[1]}],\"marker.size\":[{\"__ndarray__\":\"zczMzMwcokA=\",\"dtype\":\"float64\",\"order\":\"little\",\"shape\":[1]}]},\"selected\":{\"id\":\"8715\"},\"selection_policy\":{\"id\":\"8716\"}},\"id\":\"8577\",\"type\":\"ColumnDataSource\"},{\"attributes\":{\"data\":{\"lat\":[{\"__ndarray__\":\"y6FFtvPhQkA=\",\"dtype\":\"float64\",\"order\":\"little\",\"shape\":[1]}],\"lon\":[{\"__ndarray__\":\"T5fFxOabXsA=\",\"dtype\":\"float64\",\"order\":\"little\",\"shape\":[1]}],\"marker.size\":[{\"__ndarray__\":\"SZIkSZICpkA=\",\"dtype\":\"float64\",\"order\":\"little\",\"shape\":[1]}]},\"selected\":{\"id\":\"8653\"},\"selection_policy\":{\"id\":\"8654\"}},\"id\":\"8546\",\"type\":\"ColumnDataSource\"},{\"attributes\":{\"axis\":{\"id\":\"8171\"},\"dimension\":1,\"grid_line_color\":null,\"ticker\":null},\"id\":\"8174\",\"type\":\"Grid\"},{\"attributes\":{\"_render_count\":0,\"config\":null,\"data\":[{\"hovertemplate\":\"index=Alamo Square<br>gross_rent=%{marker.size}<br>Lat=%{lat}<br>Lon=%{lon}<extra></extra>\",\"legendgroup\":\"Alamo Square\",\"marker\":{\"color\":\"#636efa\",\"sizemode\":\"area\",\"sizeref\":9.8975},\"mode\":\"markers\",\"name\":\"Alamo Square\",\"showlegend\":true,\"subplot\":\"mapbox\",\"type\":\"scattermapbox\"},{\"hovertemplate\":\"index=Anza Vista<br>gross_rent=%{marker.size}<br>Lat=%{lat}<br>Lon=%{lon}<extra></extra>\",\"legendgroup\":\"Anza Vista\",\"marker\":{\"color\":\"#EF553B\",\"sizemode\":\"area\",\"sizeref\":9.8975},\"mode\":\"markers\",\"name\":\"Anza Vista\",\"showlegend\":true,\"subplot\":\"mapbox\",\"type\":\"scattermapbox\"},{\"hovertemplate\":\"index=Bayview<br>gross_rent=%{marker.size}<br>Lat=%{lat}<br>Lon=%{lon}<extra></extra>\",\"legendgroup\":\"Bayview\",\"marker\":{\"color\":\"#00cc96\",\"sizemode\":\"area\",\"sizeref\":9.8975},\"mode\":\"markers\",\"name\":\"Bayview\",\"showlegend\":true,\"subplot\":\"mapbox\",\"type\":\"scattermapbox\"},{\"hovertemplate\":\"index=Bayview Heights<br>gross_rent=%{marker.size}<br>Lat=%{lat}<br>Lon=%{lon}<extra></extra>\",\"legendgroup\":\"Bayview Heights\",\"marker\":{\"color\":\"#ab63fa\",\"sizemode\":\"area\",\"sizeref\":9.8975},\"mode\":\"markers\",\"name\":\"Bayview Heights\",\"showlegend\":true,\"subplot\":\"mapbox\",\"type\":\"scattermapbox\"},{\"hovertemplate\":\"index=Buena Vista Park<br>gross_rent=%{marker.size}<br>Lat=%{lat}<br>Lon=%{lon}<extra></extra>\",\"legendgroup\":\"Buena Vista Park\",\"marker\":{\"color\":\"#FFA15A\",\"sizemode\":\"area\",\"sizeref\":9.8975},\"mode\":\"markers\",\"name\":\"Buena Vista Park\",\"showlegend\":true,\"subplot\":\"mapbox\",\"type\":\"scattermapbox\"},{\"hovertemplate\":\"index=Central Richmond<br>gross_rent=%{marker.size}<br>Lat=%{lat}<br>Lon=%{lon}<extra></extra>\",\"legendgroup\":\"Central Richmond\",\"marker\":{\"color\":\"#19d3f3\",\"sizemode\":\"area\",\"sizeref\":9.8975},\"mode\":\"markers\",\"name\":\"Central Richmond\",\"showlegend\":true,\"subplot\":\"mapbox\",\"type\":\"scattermapbox\"},{\"hovertemplate\":\"index=Central Sunset<br>gross_rent=%{marker.size}<br>Lat=%{lat}<br>Lon=%{lon}<extra></extra>\",\"legendgroup\":\"Central Sunset\",\"marker\":{\"color\":\"#FF6692\",\"sizemode\":\"area\",\"sizeref\":9.8975},\"mode\":\"markers\",\"name\":\"Central Sunset\",\"showlegend\":true,\"subplot\":\"mapbox\",\"type\":\"scattermapbox\"},{\"hovertemplate\":\"index=Clarendon Heights<br>gross_rent=%{marker.size}<br>Lat=%{lat}<br>Lon=%{lon}<extra></extra>\",\"legendgroup\":\"Clarendon Heights\",\"marker\":{\"color\":\"#B6E880\",\"sizemode\":\"area\",\"sizeref\":9.8975},\"mode\":\"markers\",\"name\":\"Clarendon Heights\",\"showlegend\":true,\"subplot\":\"mapbox\",\"type\":\"scattermapbox\"},{\"hovertemplate\":\"index=Corona Heights<br>gross_rent=%{marker.size}<br>Lat=%{lat}<br>Lon=%{lon}<extra></extra>\",\"legendgroup\":\"Corona Heights\",\"marker\":{\"color\":\"#FF97FF\",\"sizemode\":\"area\",\"sizeref\":9.8975},\"mode\":\"markers\",\"name\":\"Corona Heights\",\"showlegend\":true,\"subplot\":\"mapbox\",\"type\":\"scattermapbox\"},{\"hovertemplate\":\"index=Cow Hollow<br>gross_rent=%{marker.size}<br>Lat=%{lat}<br>Lon=%{lon}<extra></extra>\",\"legendgroup\":\"Cow Hollow\",\"marker\":{\"color\":\"#FECB52\",\"sizemode\":\"area\",\"sizeref\":9.8975},\"mode\":\"markers\",\"name\":\"Cow Hollow\",\"showlegend\":true,\"subplot\":\"mapbox\",\"type\":\"scattermapbox\"},{\"hovertemplate\":\"index=Croker Amazon<br>gross_rent=%{marker.size}<br>Lat=%{lat}<br>Lon=%{lon}<extra></extra>\",\"legendgroup\":\"Croker Amazon\",\"marker\":{\"color\":\"#636efa\",\"sizemode\":\"area\",\"sizeref\":9.8975},\"mode\":\"markers\",\"name\":\"Croker Amazon\",\"showlegend\":true,\"subplot\":\"mapbox\",\"type\":\"scattermapbox\"},{\"hovertemplate\":\"index=Diamond Heights<br>gross_rent=%{marker.size}<br>Lat=%{lat}<br>Lon=%{lon}<extra></extra>\",\"legendgroup\":\"Diamond Heights\",\"marker\":{\"color\":\"#EF553B\",\"sizemode\":\"area\",\"sizeref\":9.8975},\"mode\":\"markers\",\"name\":\"Diamond Heights\",\"showlegend\":true,\"subplot\":\"mapbox\",\"type\":\"scattermapbox\"},{\"hovertemplate\":\"index=Duboce Triangle<br>gross_rent=%{marker.size}<br>Lat=%{lat}<br>Lon=%{lon}<extra></extra>\",\"legendgroup\":\"Duboce Triangle\",\"marker\":{\"color\":\"#00cc96\",\"sizemode\":\"area\",\"sizeref\":9.8975},\"mode\":\"markers\",\"name\":\"Duboce Triangle\",\"showlegend\":true,\"subplot\":\"mapbox\",\"type\":\"scattermapbox\"},{\"hovertemplate\":\"index=Eureka Valley/Dolores Heights<br>gross_rent=%{marker.size}<br>Lat=%{lat}<br>Lon=%{lon}<extra></extra>\",\"legendgroup\":\"Eureka Valley/Dolores Heights\",\"marker\":{\"color\":\"#ab63fa\",\"sizemode\":\"area\",\"sizeref\":9.8975},\"mode\":\"markers\",\"name\":\"Eureka Valley/Dolores Heights\",\"showlegend\":true,\"subplot\":\"mapbox\",\"type\":\"scattermapbox\"},{\"hovertemplate\":\"index=Excelsior<br>gross_rent=%{marker.size}<br>Lat=%{lat}<br>Lon=%{lon}<extra></extra>\",\"legendgroup\":\"Excelsior\",\"marker\":{\"color\":\"#FFA15A\",\"sizemode\":\"area\",\"sizeref\":9.8975},\"mode\":\"markers\",\"name\":\"Excelsior\",\"showlegend\":true,\"subplot\":\"mapbox\",\"type\":\"scattermapbox\"},{\"hovertemplate\":\"index=Financial District North<br>gross_rent=%{marker.size}<br>Lat=%{lat}<br>Lon=%{lon}<extra></extra>\",\"legendgroup\":\"Financial District North\",\"marker\":{\"color\":\"#19d3f3\",\"sizemode\":\"area\",\"sizeref\":9.8975},\"mode\":\"markers\",\"name\":\"Financial District North\",\"showlegend\":true,\"subplot\":\"mapbox\",\"type\":\"scattermapbox\"},{\"hovertemplate\":\"index=Financial District South<br>gross_rent=%{marker.size}<br>Lat=%{lat}<br>Lon=%{lon}<extra></extra>\",\"legendgroup\":\"Financial District South\",\"marker\":{\"color\":\"#FF6692\",\"sizemode\":\"area\",\"sizeref\":9.8975},\"mode\":\"markers\",\"name\":\"Financial District South\",\"showlegend\":true,\"subplot\":\"mapbox\",\"type\":\"scattermapbox\"},{\"hovertemplate\":\"index=Forest Knolls<br>gross_rent=%{marker.size}<br>Lat=%{lat}<br>Lon=%{lon}<extra></extra>\",\"legendgroup\":\"Forest Knolls\",\"marker\":{\"color\":\"#B6E880\",\"sizemode\":\"area\",\"sizeref\":9.8975},\"mode\":\"markers\",\"name\":\"Forest Knolls\",\"showlegend\":true,\"subplot\":\"mapbox\",\"type\":\"scattermapbox\"},{\"hovertemplate\":\"index=Glen Park<br>gross_rent=%{marker.size}<br>Lat=%{lat}<br>Lon=%{lon}<extra></extra>\",\"legendgroup\":\"Glen Park\",\"marker\":{\"color\":\"#FF97FF\",\"sizemode\":\"area\",\"sizeref\":9.8975},\"mode\":\"markers\",\"name\":\"Glen Park\",\"showlegend\":true,\"subplot\":\"mapbox\",\"type\":\"scattermapbox\"},{\"hovertemplate\":\"index=Golden Gate Heights<br>gross_rent=%{marker.size}<br>Lat=%{lat}<br>Lon=%{lon}<extra></extra>\",\"legendgroup\":\"Golden Gate Heights\",\"marker\":{\"color\":\"#FECB52\",\"sizemode\":\"area\",\"sizeref\":9.8975},\"mode\":\"markers\",\"name\":\"Golden Gate Heights\",\"showlegend\":true,\"subplot\":\"mapbox\",\"type\":\"scattermapbox\"},{\"hovertemplate\":\"index=Haight Ashbury<br>gross_rent=%{marker.size}<br>Lat=%{lat}<br>Lon=%{lon}<extra></extra>\",\"legendgroup\":\"Haight Ashbury\",\"marker\":{\"color\":\"#636efa\",\"sizemode\":\"area\",\"sizeref\":9.8975},\"mode\":\"markers\",\"name\":\"Haight Ashbury\",\"showlegend\":true,\"subplot\":\"mapbox\",\"type\":\"scattermapbox\"},{\"hovertemplate\":\"index=Hayes Valley<br>gross_rent=%{marker.size}<br>Lat=%{lat}<br>Lon=%{lon}<extra></extra>\",\"legendgroup\":\"Hayes Valley\",\"marker\":{\"color\":\"#EF553B\",\"sizemode\":\"area\",\"sizeref\":9.8975},\"mode\":\"markers\",\"name\":\"Hayes Valley\",\"showlegend\":true,\"subplot\":\"mapbox\",\"type\":\"scattermapbox\"},{\"hovertemplate\":\"index=Hunters Point<br>gross_rent=%{marker.size}<br>Lat=%{lat}<br>Lon=%{lon}<extra></extra>\",\"legendgroup\":\"Hunters Point\",\"marker\":{\"color\":\"#00cc96\",\"sizemode\":\"area\",\"sizeref\":9.8975},\"mode\":\"markers\",\"name\":\"Hunters Point\",\"showlegend\":true,\"subplot\":\"mapbox\",\"type\":\"scattermapbox\"},{\"hovertemplate\":\"index=Ingleside Heights<br>gross_rent=%{marker.size}<br>Lat=%{lat}<br>Lon=%{lon}<extra></extra>\",\"legendgroup\":\"Ingleside Heights\",\"marker\":{\"color\":\"#ab63fa\",\"sizemode\":\"area\",\"sizeref\":9.8975},\"mode\":\"markers\",\"name\":\"Ingleside Heights\",\"showlegend\":true,\"subplot\":\"mapbox\",\"type\":\"scattermapbox\"},{\"hovertemplate\":\"index=Inner Mission<br>gross_rent=%{marker.size}<br>Lat=%{lat}<br>Lon=%{lon}<extra></extra>\",\"legendgroup\":\"Inner Mission\",\"marker\":{\"color\":\"#FFA15A\",\"sizemode\":\"area\",\"sizeref\":9.8975},\"mode\":\"markers\",\"name\":\"Inner Mission\",\"showlegend\":true,\"subplot\":\"mapbox\",\"type\":\"scattermapbox\"},{\"hovertemplate\":\"index=Inner Parkside<br>gross_rent=%{marker.size}<br>Lat=%{lat}<br>Lon=%{lon}<extra></extra>\",\"legendgroup\":\"Inner Parkside\",\"marker\":{\"color\":\"#19d3f3\",\"sizemode\":\"area\",\"sizeref\":9.8975},\"mode\":\"markers\",\"name\":\"Inner Parkside\",\"showlegend\":true,\"subplot\":\"mapbox\",\"type\":\"scattermapbox\"},{\"hovertemplate\":\"index=Inner Richmond<br>gross_rent=%{marker.size}<br>Lat=%{lat}<br>Lon=%{lon}<extra></extra>\",\"legendgroup\":\"Inner Richmond\",\"marker\":{\"color\":\"#FF6692\",\"sizemode\":\"area\",\"sizeref\":9.8975},\"mode\":\"markers\",\"name\":\"Inner Richmond\",\"showlegend\":true,\"subplot\":\"mapbox\",\"type\":\"scattermapbox\"},{\"hovertemplate\":\"index=Inner Sunset<br>gross_rent=%{marker.size}<br>Lat=%{lat}<br>Lon=%{lon}<extra></extra>\",\"legendgroup\":\"Inner Sunset\",\"marker\":{\"color\":\"#B6E880\",\"sizemode\":\"area\",\"sizeref\":9.8975},\"mode\":\"markers\",\"name\":\"Inner Sunset\",\"showlegend\":true,\"subplot\":\"mapbox\",\"type\":\"scattermapbox\"},{\"hovertemplate\":\"index=Jordan Park/Laurel Heights<br>gross_rent=%{marker.size}<br>Lat=%{lat}<br>Lon=%{lon}<extra></extra>\",\"legendgroup\":\"Jordan Park/Laurel Heights\",\"marker\":{\"color\":\"#FF97FF\",\"sizemode\":\"area\",\"sizeref\":9.8975},\"mode\":\"markers\",\"name\":\"Jordan Park/Laurel Heights\",\"showlegend\":true,\"subplot\":\"mapbox\",\"type\":\"scattermapbox\"},{\"hovertemplate\":\"index=Lake --The Presidio<br>gross_rent=%{marker.size}<br>Lat=%{lat}<br>Lon=%{lon}<extra></extra>\",\"legendgroup\":\"Lake --The Presidio\",\"marker\":{\"color\":\"#FECB52\",\"sizemode\":\"area\",\"sizeref\":9.8975},\"mode\":\"markers\",\"name\":\"Lake --The Presidio\",\"showlegend\":true,\"subplot\":\"mapbox\",\"type\":\"scattermapbox\"},{\"hovertemplate\":\"index=Lone Mountain<br>gross_rent=%{marker.size}<br>Lat=%{lat}<br>Lon=%{lon}<extra></extra>\",\"legendgroup\":\"Lone Mountain\",\"marker\":{\"color\":\"#636efa\",\"sizemode\":\"area\",\"sizeref\":9.8975},\"mode\":\"markers\",\"name\":\"Lone Mountain\",\"showlegend\":true,\"subplot\":\"mapbox\",\"type\":\"scattermapbox\"},{\"hovertemplate\":\"index=Lower Pacific Heights<br>gross_rent=%{marker.size}<br>Lat=%{lat}<br>Lon=%{lon}<extra></extra>\",\"legendgroup\":\"Lower Pacific Heights\",\"marker\":{\"color\":\"#EF553B\",\"sizemode\":\"area\",\"sizeref\":9.8975},\"mode\":\"markers\",\"name\":\"Lower Pacific Heights\",\"showlegend\":true,\"subplot\":\"mapbox\",\"type\":\"scattermapbox\"},{\"hovertemplate\":\"index=Marina<br>gross_rent=%{marker.size}<br>Lat=%{lat}<br>Lon=%{lon}<extra></extra>\",\"legendgroup\":\"Marina\",\"marker\":{\"color\":\"#00cc96\",\"sizemode\":\"area\",\"sizeref\":9.8975},\"mode\":\"markers\",\"name\":\"Marina\",\"showlegend\":true,\"subplot\":\"mapbox\",\"type\":\"scattermapbox\"},{\"hovertemplate\":\"index=Merced Heights<br>gross_rent=%{marker.size}<br>Lat=%{lat}<br>Lon=%{lon}<extra></extra>\",\"legendgroup\":\"Merced Heights\",\"marker\":{\"color\":\"#ab63fa\",\"sizemode\":\"area\",\"sizeref\":9.8975},\"mode\":\"markers\",\"name\":\"Merced Heights\",\"showlegend\":true,\"subplot\":\"mapbox\",\"type\":\"scattermapbox\"},{\"hovertemplate\":\"index=Midtown Terrace<br>gross_rent=%{marker.size}<br>Lat=%{lat}<br>Lon=%{lon}<extra></extra>\",\"legendgroup\":\"Midtown Terrace\",\"marker\":{\"color\":\"#FFA15A\",\"sizemode\":\"area\",\"sizeref\":9.8975},\"mode\":\"markers\",\"name\":\"Midtown Terrace\",\"showlegend\":true,\"subplot\":\"mapbox\",\"type\":\"scattermapbox\"},{\"hovertemplate\":\"index=Miraloma Park<br>gross_rent=%{marker.size}<br>Lat=%{lat}<br>Lon=%{lon}<extra></extra>\",\"legendgroup\":\"Miraloma Park\",\"marker\":{\"color\":\"#19d3f3\",\"sizemode\":\"area\",\"sizeref\":9.8975},\"mode\":\"markers\",\"name\":\"Miraloma Park\",\"showlegend\":true,\"subplot\":\"mapbox\",\"type\":\"scattermapbox\"},{\"hovertemplate\":\"index=Mission Bay<br>gross_rent=%{marker.size}<br>Lat=%{lat}<br>Lon=%{lon}<extra></extra>\",\"legendgroup\":\"Mission Bay\",\"marker\":{\"color\":\"#FF6692\",\"sizemode\":\"area\",\"sizeref\":9.8975},\"mode\":\"markers\",\"name\":\"Mission Bay\",\"showlegend\":true,\"subplot\":\"mapbox\",\"type\":\"scattermapbox\"},{\"hovertemplate\":\"index=Mission Dolores<br>gross_rent=%{marker.size}<br>Lat=%{lat}<br>Lon=%{lon}<extra></extra>\",\"legendgroup\":\"Mission Dolores\",\"marker\":{\"color\":\"#B6E880\",\"sizemode\":\"area\",\"sizeref\":9.8975},\"mode\":\"markers\",\"name\":\"Mission Dolores\",\"showlegend\":true,\"subplot\":\"mapbox\",\"type\":\"scattermapbox\"},{\"hovertemplate\":\"index=Mission Terrace<br>gross_rent=%{marker.size}<br>Lat=%{lat}<br>Lon=%{lon}<extra></extra>\",\"legendgroup\":\"Mission Terrace\",\"marker\":{\"color\":\"#FF97FF\",\"sizemode\":\"area\",\"sizeref\":9.8975},\"mode\":\"markers\",\"name\":\"Mission Terrace\",\"showlegend\":true,\"subplot\":\"mapbox\",\"type\":\"scattermapbox\"},{\"hovertemplate\":\"index=Nob Hill<br>gross_rent=%{marker.size}<br>Lat=%{lat}<br>Lon=%{lon}<extra></extra>\",\"legendgroup\":\"Nob Hill\",\"marker\":{\"color\":\"#FECB52\",\"sizemode\":\"area\",\"sizeref\":9.8975},\"mode\":\"markers\",\"name\":\"Nob Hill\",\"showlegend\":true,\"subplot\":\"mapbox\",\"type\":\"scattermapbox\"},{\"hovertemplate\":\"index=Noe Valley<br>gross_rent=%{marker.size}<br>Lat=%{lat}<br>Lon=%{lon}<extra></extra>\",\"legendgroup\":\"Noe Valley\",\"marker\":{\"color\":\"#636efa\",\"sizemode\":\"area\",\"sizeref\":9.8975},\"mode\":\"markers\",\"name\":\"Noe Valley\",\"showlegend\":true,\"subplot\":\"mapbox\",\"type\":\"scattermapbox\"},{\"hovertemplate\":\"index=North Beach<br>gross_rent=%{marker.size}<br>Lat=%{lat}<br>Lon=%{lon}<extra></extra>\",\"legendgroup\":\"North Beach\",\"marker\":{\"color\":\"#EF553B\",\"sizemode\":\"area\",\"sizeref\":9.8975},\"mode\":\"markers\",\"name\":\"North Beach\",\"showlegend\":true,\"subplot\":\"mapbox\",\"type\":\"scattermapbox\"},{\"hovertemplate\":\"index=North Waterfront<br>gross_rent=%{marker.size}<br>Lat=%{lat}<br>Lon=%{lon}<extra></extra>\",\"legendgroup\":\"North Waterfront\",\"marker\":{\"color\":\"#00cc96\",\"sizemode\":\"area\",\"sizeref\":9.8975},\"mode\":\"markers\",\"name\":\"North Waterfront\",\"showlegend\":true,\"subplot\":\"mapbox\",\"type\":\"scattermapbox\"},{\"hovertemplate\":\"index=Oceanview<br>gross_rent=%{marker.size}<br>Lat=%{lat}<br>Lon=%{lon}<extra></extra>\",\"legendgroup\":\"Oceanview\",\"marker\":{\"color\":\"#ab63fa\",\"sizemode\":\"area\",\"sizeref\":9.8975},\"mode\":\"markers\",\"name\":\"Oceanview\",\"showlegend\":true,\"subplot\":\"mapbox\",\"type\":\"scattermapbox\"},{\"hovertemplate\":\"index=Outer Mission<br>gross_rent=%{marker.size}<br>Lat=%{lat}<br>Lon=%{lon}<extra></extra>\",\"legendgroup\":\"Outer Mission\",\"marker\":{\"color\":\"#FFA15A\",\"sizemode\":\"area\",\"sizeref\":9.8975},\"mode\":\"markers\",\"name\":\"Outer Mission\",\"showlegend\":true,\"subplot\":\"mapbox\",\"type\":\"scattermapbox\"},{\"hovertemplate\":\"index=Outer Parkside<br>gross_rent=%{marker.size}<br>Lat=%{lat}<br>Lon=%{lon}<extra></extra>\",\"legendgroup\":\"Outer Parkside\",\"marker\":{\"color\":\"#19d3f3\",\"sizemode\":\"area\",\"sizeref\":9.8975},\"mode\":\"markers\",\"name\":\"Outer Parkside\",\"showlegend\":true,\"subplot\":\"mapbox\",\"type\":\"scattermapbox\"},{\"hovertemplate\":\"index=Outer Sunset<br>gross_rent=%{marker.size}<br>Lat=%{lat}<br>Lon=%{lon}<extra></extra>\",\"legendgroup\":\"Outer Sunset\",\"marker\":{\"color\":\"#FF6692\",\"sizemode\":\"area\",\"sizeref\":9.8975},\"mode\":\"markers\",\"name\":\"Outer Sunset\",\"showlegend\":true,\"subplot\":\"mapbox\",\"type\":\"scattermapbox\"},{\"hovertemplate\":\"index=Pacific Heights<br>gross_rent=%{marker.size}<br>Lat=%{lat}<br>Lon=%{lon}<extra></extra>\",\"legendgroup\":\"Pacific Heights\",\"marker\":{\"color\":\"#B6E880\",\"sizemode\":\"area\",\"sizeref\":9.8975},\"mode\":\"markers\",\"name\":\"Pacific Heights\",\"showlegend\":true,\"subplot\":\"mapbox\",\"type\":\"scattermapbox\"},{\"hovertemplate\":\"index=Park North<br>gross_rent=%{marker.size}<br>Lat=%{lat}<br>Lon=%{lon}<extra></extra>\",\"legendgroup\":\"Park North\",\"marker\":{\"color\":\"#FF97FF\",\"sizemode\":\"area\",\"sizeref\":9.8975},\"mode\":\"markers\",\"name\":\"Park North\",\"showlegend\":true,\"subplot\":\"mapbox\",\"type\":\"scattermapbox\"},{\"hovertemplate\":\"index=Parkside<br>gross_rent=%{marker.size}<br>Lat=%{lat}<br>Lon=%{lon}<extra></extra>\",\"legendgroup\":\"Parkside\",\"marker\":{\"color\":\"#FECB52\",\"sizemode\":\"area\",\"sizeref\":9.8975},\"mode\":\"markers\",\"name\":\"Parkside\",\"showlegend\":true,\"subplot\":\"mapbox\",\"type\":\"scattermapbox\"},{\"hovertemplate\":\"index=Parnassus/Ashbury Heights<br>gross_rent=%{marker.size}<br>Lat=%{lat}<br>Lon=%{lon}<extra></extra>\",\"legendgroup\":\"Parnassus/Ashbury Heights\",\"marker\":{\"color\":\"#636efa\",\"sizemode\":\"area\",\"sizeref\":9.8975},\"mode\":\"markers\",\"name\":\"Parnassus/Ashbury Heights\",\"showlegend\":true,\"subplot\":\"mapbox\",\"type\":\"scattermapbox\"},{\"hovertemplate\":\"index=Portola<br>gross_rent=%{marker.size}<br>Lat=%{lat}<br>Lon=%{lon}<extra></extra>\",\"legendgroup\":\"Portola\",\"marker\":{\"color\":\"#EF553B\",\"sizemode\":\"area\",\"sizeref\":9.8975},\"mode\":\"markers\",\"name\":\"Portola\",\"showlegend\":true,\"subplot\":\"mapbox\",\"type\":\"scattermapbox\"},{\"hovertemplate\":\"index=Potrero Hill<br>gross_rent=%{marker.size}<br>Lat=%{lat}<br>Lon=%{lon}<extra></extra>\",\"legendgroup\":\"Potrero Hill\",\"marker\":{\"color\":\"#00cc96\",\"sizemode\":\"area\",\"sizeref\":9.8975},\"mode\":\"markers\",\"name\":\"Potrero Hill\",\"showlegend\":true,\"subplot\":\"mapbox\",\"type\":\"scattermapbox\"},{\"hovertemplate\":\"index=Presidio Heights<br>gross_rent=%{marker.size}<br>Lat=%{lat}<br>Lon=%{lon}<extra></extra>\",\"legendgroup\":\"Presidio Heights\",\"marker\":{\"color\":\"#ab63fa\",\"sizemode\":\"area\",\"sizeref\":9.8975},\"mode\":\"markers\",\"name\":\"Presidio Heights\",\"showlegend\":true,\"subplot\":\"mapbox\",\"type\":\"scattermapbox\"},{\"hovertemplate\":\"index=Russian Hill<br>gross_rent=%{marker.size}<br>Lat=%{lat}<br>Lon=%{lon}<extra></extra>\",\"legendgroup\":\"Russian Hill\",\"marker\":{\"color\":\"#FFA15A\",\"sizemode\":\"area\",\"sizeref\":9.8975},\"mode\":\"markers\",\"name\":\"Russian Hill\",\"showlegend\":true,\"subplot\":\"mapbox\",\"type\":\"scattermapbox\"},{\"hovertemplate\":\"index=Silver Terrace<br>gross_rent=%{marker.size}<br>Lat=%{lat}<br>Lon=%{lon}<extra></extra>\",\"legendgroup\":\"Silver Terrace\",\"marker\":{\"color\":\"#19d3f3\",\"sizemode\":\"area\",\"sizeref\":9.8975},\"mode\":\"markers\",\"name\":\"Silver Terrace\",\"showlegend\":true,\"subplot\":\"mapbox\",\"type\":\"scattermapbox\"},{\"hovertemplate\":\"index=South Beach<br>gross_rent=%{marker.size}<br>Lat=%{lat}<br>Lon=%{lon}<extra></extra>\",\"legendgroup\":\"South Beach\",\"marker\":{\"color\":\"#FF6692\",\"sizemode\":\"area\",\"sizeref\":9.8975},\"mode\":\"markers\",\"name\":\"South Beach\",\"showlegend\":true,\"subplot\":\"mapbox\",\"type\":\"scattermapbox\"},{\"hovertemplate\":\"index=South of Market<br>gross_rent=%{marker.size}<br>Lat=%{lat}<br>Lon=%{lon}<extra></extra>\",\"legendgroup\":\"South of Market\",\"marker\":{\"color\":\"#B6E880\",\"sizemode\":\"area\",\"sizeref\":9.8975},\"mode\":\"markers\",\"name\":\"South of Market\",\"showlegend\":true,\"subplot\":\"mapbox\",\"type\":\"scattermapbox\"},{\"hovertemplate\":\"index=Sunnyside<br>gross_rent=%{marker.size}<br>Lat=%{lat}<br>Lon=%{lon}<extra></extra>\",\"legendgroup\":\"Sunnyside\",\"marker\":{\"color\":\"#FF97FF\",\"sizemode\":\"area\",\"sizeref\":9.8975},\"mode\":\"markers\",\"name\":\"Sunnyside\",\"showlegend\":true,\"subplot\":\"mapbox\",\"type\":\"scattermapbox\"},{\"hovertemplate\":\"index=Telegraph Hill<br>gross_rent=%{marker.size}<br>Lat=%{lat}<br>Lon=%{lon}<extra></extra>\",\"legendgroup\":\"Telegraph Hill\",\"marker\":{\"color\":\"#FECB52\",\"sizemode\":\"area\",\"sizeref\":9.8975},\"mode\":\"markers\",\"name\":\"Telegraph Hill\",\"showlegend\":true,\"subplot\":\"mapbox\",\"type\":\"scattermapbox\"},{\"hovertemplate\":\"index=Twin Peaks<br>gross_rent=%{marker.size}<br>Lat=%{lat}<br>Lon=%{lon}<extra></extra>\",\"legendgroup\":\"Twin Peaks\",\"marker\":{\"color\":\"#636efa\",\"sizemode\":\"area\",\"sizeref\":9.8975},\"mode\":\"markers\",\"name\":\"Twin Peaks\",\"showlegend\":true,\"subplot\":\"mapbox\",\"type\":\"scattermapbox\"},{\"hovertemplate\":\"index=Union Square District<br>gross_rent=%{marker.size}<br>Lat=%{lat}<br>Lon=%{lon}<extra></extra>\",\"legendgroup\":\"Union Square District\",\"marker\":{\"color\":\"#EF553B\",\"sizemode\":\"area\",\"sizeref\":9.8975},\"mode\":\"markers\",\"name\":\"Union Square District\",\"showlegend\":true,\"subplot\":\"mapbox\",\"type\":\"scattermapbox\"},{\"hovertemplate\":\"index=Van Ness/ Civic Center<br>gross_rent=%{marker.size}<br>Lat=%{lat}<br>Lon=%{lon}<extra></extra>\",\"legendgroup\":\"Van Ness/ Civic Center\",\"marker\":{\"color\":\"#00cc96\",\"sizemode\":\"area\",\"sizeref\":9.8975},\"mode\":\"markers\",\"name\":\"Van Ness/ Civic Center\",\"showlegend\":true,\"subplot\":\"mapbox\",\"type\":\"scattermapbox\"},{\"hovertemplate\":\"index=Visitacion Valley<br>gross_rent=%{marker.size}<br>Lat=%{lat}<br>Lon=%{lon}<extra></extra>\",\"legendgroup\":\"Visitacion Valley\",\"marker\":{\"color\":\"#ab63fa\",\"sizemode\":\"area\",\"sizeref\":9.8975},\"mode\":\"markers\",\"name\":\"Visitacion Valley\",\"showlegend\":true,\"subplot\":\"mapbox\",\"type\":\"scattermapbox\"},{\"hovertemplate\":\"index=West Portal<br>gross_rent=%{marker.size}<br>Lat=%{lat}<br>Lon=%{lon}<extra></extra>\",\"legendgroup\":\"West Portal\",\"marker\":{\"color\":\"#FFA15A\",\"sizemode\":\"area\",\"sizeref\":9.8975},\"mode\":\"markers\",\"name\":\"West Portal\",\"showlegend\":true,\"subplot\":\"mapbox\",\"type\":\"scattermapbox\"},{\"hovertemplate\":\"index=Western Addition<br>gross_rent=%{marker.size}<br>Lat=%{lat}<br>Lon=%{lon}<extra></extra>\",\"legendgroup\":\"Western Addition\",\"marker\":{\"color\":\"#19d3f3\",\"sizemode\":\"area\",\"sizeref\":9.8975},\"mode\":\"markers\",\"name\":\"Western Addition\",\"showlegend\":true,\"subplot\":\"mapbox\",\"type\":\"scattermapbox\"},{\"hovertemplate\":\"index=Westwood Highlands<br>gross_rent=%{marker.size}<br>Lat=%{lat}<br>Lon=%{lon}<extra></extra>\",\"legendgroup\":\"Westwood Highlands\",\"marker\":{\"color\":\"#FF6692\",\"sizemode\":\"area\",\"sizeref\":9.8975},\"mode\":\"markers\",\"name\":\"Westwood Highlands\",\"showlegend\":true,\"subplot\":\"mapbox\",\"type\":\"scattermapbox\"},{\"hovertemplate\":\"index=Westwood Park<br>gross_rent=%{marker.size}<br>Lat=%{lat}<br>Lon=%{lon}<extra></extra>\",\"legendgroup\":\"Westwood Park\",\"marker\":{\"color\":\"#B6E880\",\"sizemode\":\"area\",\"sizeref\":9.8975},\"mode\":\"markers\",\"name\":\"Westwood Park\",\"showlegend\":true,\"subplot\":\"mapbox\",\"type\":\"scattermapbox\"},{\"hovertemplate\":\"index=Yerba Buena<br>gross_rent=%{marker.size}<br>Lat=%{lat}<br>Lon=%{lon}<extra></extra>\",\"legendgroup\":\"Yerba Buena\",\"marker\":{\"color\":\"#FF97FF\",\"sizemode\":\"area\",\"sizeref\":9.8975},\"mode\":\"markers\",\"name\":\"Yerba Buena\",\"showlegend\":true,\"subplot\":\"mapbox\",\"type\":\"scattermapbox\"}],\"data_sources\":[{\"id\":\"8526\"},{\"id\":\"8527\"},{\"id\":\"8528\"},{\"id\":\"8529\"},{\"id\":\"8530\"},{\"id\":\"8531\"},{\"id\":\"8532\"},{\"id\":\"8533\"},{\"id\":\"8534\"},{\"id\":\"8535\"},{\"id\":\"8536\"},{\"id\":\"8537\"},{\"id\":\"8538\"},{\"id\":\"8539\"},{\"id\":\"8540\"},{\"id\":\"8541\"},{\"id\":\"8542\"},{\"id\":\"8543\"},{\"id\":\"8544\"},{\"id\":\"8545\"},{\"id\":\"8546\"},{\"id\":\"8547\"},{\"id\":\"8548\"},{\"id\":\"8549\"},{\"id\":\"8550\"},{\"id\":\"8551\"},{\"id\":\"8552\"},{\"id\":\"8553\"},{\"id\":\"8554\"},{\"id\":\"8555\"},{\"id\":\"8556\"},{\"id\":\"8557\"},{\"id\":\"8558\"},{\"id\":\"8559\"},{\"id\":\"8560\"},{\"id\":\"8561\"},{\"id\":\"8562\"},{\"id\":\"8563\"},{\"id\":\"8564\"},{\"id\":\"8565\"},{\"id\":\"8566\"},{\"id\":\"8567\"},{\"id\":\"8568\"},{\"id\":\"8569\"},{\"id\":\"8570\"},{\"id\":\"8571\"},{\"id\":\"8572\"},{\"id\":\"8573\"},{\"id\":\"8574\"},{\"id\":\"8575\"},{\"id\":\"8576\"},{\"id\":\"8577\"},{\"id\":\"8578\"},{\"id\":\"8579\"},{\"id\":\"8580\"},{\"id\":\"8581\"},{\"id\":\"8582\"},{\"id\":\"8583\"},{\"id\":\"8584\"},{\"id\":\"8585\"},{\"id\":\"8586\"},{\"id\":\"8587\"},{\"id\":\"8588\"},{\"id\":\"8589\"},{\"id\":\"8590\"},{\"id\":\"8591\"},{\"id\":\"8592\"},{\"id\":\"8593\"},{\"id\":\"8594\"}],\"layout\":{\"legend\":{\"itemsizing\":\"constant\",\"title\":{\"text\":\"index\"},\"tracegroupgap\":0},\"mapbox\":{\"accesstoken\":\"pk.eyJ1IjoidGF5bG9ydHVja2VyIiwiYSI6ImNrazl2Ym1kazA5eHYybnIxMGRndXRzc3oifQ.nirqSsckN78uVb7rH8aXjg\",\"center\":{\"lat\":37.76064079710145,\"lon\":-122.43826449275363},\"domain\":{\"x\":[0.0,1.0],\"y\":[0.0,1.0]},\"style\":\"streets\",\"zoom\":12},\"margin\":{\"t\":60},\"template\":{\"data\":{\"bar\":[{\"error_x\":{\"color\":\"#2a3f5f\"},\"error_y\":{\"color\":\"#2a3f5f\"},\"marker\":{\"line\":{\"color\":\"#E5ECF6\",\"width\":0.5}},\"type\":\"bar\"}],\"barpolar\":[{\"marker\":{\"line\":{\"color\":\"#E5ECF6\",\"width\":0.5}},\"type\":\"barpolar\"}],\"carpet\":[{\"aaxis\":{\"endlinecolor\":\"#2a3f5f\",\"gridcolor\":\"white\",\"linecolor\":\"white\",\"minorgridcolor\":\"white\",\"startlinecolor\":\"#2a3f5f\"},\"baxis\":{\"endlinecolor\":\"#2a3f5f\",\"gridcolor\":\"white\",\"linecolor\":\"white\",\"minorgridcolor\":\"white\",\"startlinecolor\":\"#2a3f5f\"},\"type\":\"carpet\"}],\"choropleth\":[{\"colorbar\":{\"outlinewidth\":0,\"ticks\":\"\"},\"type\":\"choropleth\"}],\"contour\":[{\"colorbar\":{\"outlinewidth\":0,\"ticks\":\"\"},\"colorscale\":[[0.0,\"#0d0887\"],[0.1111111111111111,\"#46039f\"],[0.2222222222222222,\"#7201a8\"],[0.3333333333333333,\"#9c179e\"],[0.4444444444444444,\"#bd3786\"],[0.5555555555555556,\"#d8576b\"],[0.6666666666666666,\"#ed7953\"],[0.7777777777777778,\"#fb9f3a\"],[0.8888888888888888,\"#fdca26\"],[1.0,\"#f0f921\"]],\"type\":\"contour\"}],\"contourcarpet\":[{\"colorbar\":{\"outlinewidth\":0,\"ticks\":\"\"},\"type\":\"contourcarpet\"}],\"heatmap\":[{\"colorbar\":{\"outlinewidth\":0,\"ticks\":\"\"},\"colorscale\":[[0.0,\"#0d0887\"],[0.1111111111111111,\"#46039f\"],[0.2222222222222222,\"#7201a8\"],[0.3333333333333333,\"#9c179e\"],[0.4444444444444444,\"#bd3786\"],[0.5555555555555556,\"#d8576b\"],[0.6666666666666666,\"#ed7953\"],[0.7777777777777778,\"#fb9f3a\"],[0.8888888888888888,\"#fdca26\"],[1.0,\"#f0f921\"]],\"type\":\"heatmap\"}],\"heatmapgl\":[{\"colorbar\":{\"outlinewidth\":0,\"ticks\":\"\"},\"colorscale\":[[0.0,\"#0d0887\"],[0.1111111111111111,\"#46039f\"],[0.2222222222222222,\"#7201a8\"],[0.3333333333333333,\"#9c179e\"],[0.4444444444444444,\"#bd3786\"],[0.5555555555555556,\"#d8576b\"],[0.6666666666666666,\"#ed7953\"],[0.7777777777777778,\"#fb9f3a\"],[0.8888888888888888,\"#fdca26\"],[1.0,\"#f0f921\"]],\"type\":\"heatmapgl\"}],\"histogram\":[{\"marker\":{\"colorbar\":{\"outlinewidth\":0,\"ticks\":\"\"}},\"type\":\"histogram\"}],\"histogram2d\":[{\"colorbar\":{\"outlinewidth\":0,\"ticks\":\"\"},\"colorscale\":[[0.0,\"#0d0887\"],[0.1111111111111111,\"#46039f\"],[0.2222222222222222,\"#7201a8\"],[0.3333333333333333,\"#9c179e\"],[0.4444444444444444,\"#bd3786\"],[0.5555555555555556,\"#d8576b\"],[0.6666666666666666,\"#ed7953\"],[0.7777777777777778,\"#fb9f3a\"],[0.8888888888888888,\"#fdca26\"],[1.0,\"#f0f921\"]],\"type\":\"histogram2d\"}],\"histogram2dcontour\":[{\"colorbar\":{\"outlinewidth\":0,\"ticks\":\"\"},\"colorscale\":[[0.0,\"#0d0887\"],[0.1111111111111111,\"#46039f\"],[0.2222222222222222,\"#7201a8\"],[0.3333333333333333,\"#9c179e\"],[0.4444444444444444,\"#bd3786\"],[0.5555555555555556,\"#d8576b\"],[0.6666666666666666,\"#ed7953\"],[0.7777777777777778,\"#fb9f3a\"],[0.8888888888888888,\"#fdca26\"],[1.0,\"#f0f921\"]],\"type\":\"histogram2dcontour\"}],\"mesh3d\":[{\"colorbar\":{\"outlinewidth\":0,\"ticks\":\"\"},\"type\":\"mesh3d\"}],\"parcoords\":[{\"line\":{\"colorbar\":{\"outlinewidth\":0,\"ticks\":\"\"}},\"type\":\"parcoords\"}],\"pie\":[{\"automargin\":true,\"type\":\"pie\"}],\"scatter\":[{\"marker\":{\"colorbar\":{\"outlinewidth\":0,\"ticks\":\"\"}},\"type\":\"scatter\"}],\"scatter3d\":[{\"line\":{\"colorbar\":{\"outlinewidth\":0,\"ticks\":\"\"}},\"marker\":{\"colorbar\":{\"outlinewidth\":0,\"ticks\":\"\"}},\"type\":\"scatter3d\"}],\"scattercarpet\":[{\"marker\":{\"colorbar\":{\"outlinewidth\":0,\"ticks\":\"\"}},\"type\":\"scattercarpet\"}],\"scattergeo\":[{\"marker\":{\"colorbar\":{\"outlinewidth\":0,\"ticks\":\"\"}},\"type\":\"scattergeo\"}],\"scattergl\":[{\"marker\":{\"colorbar\":{\"outlinewidth\":0,\"ticks\":\"\"}},\"type\":\"scattergl\"}],\"scattermapbox\":[{\"marker\":{\"colorbar\":{\"outlinewidth\":0,\"ticks\":\"\"}},\"type\":\"scattermapbox\"}],\"scatterpolar\":[{\"marker\":{\"colorbar\":{\"outlinewidth\":0,\"ticks\":\"\"}},\"type\":\"scatterpolar\"}],\"scatterpolargl\":[{\"marker\":{\"colorbar\":{\"outlinewidth\":0,\"ticks\":\"\"}},\"type\":\"scatterpolargl\"}],\"scatterternary\":[{\"marker\":{\"colorbar\":{\"outlinewidth\":0,\"ticks\":\"\"}},\"type\":\"scatterternary\"}],\"surface\":[{\"colorbar\":{\"outlinewidth\":0,\"ticks\":\"\"},\"colorscale\":[[0.0,\"#0d0887\"],[0.1111111111111111,\"#46039f\"],[0.2222222222222222,\"#7201a8\"],[0.3333333333333333,\"#9c179e\"],[0.4444444444444444,\"#bd3786\"],[0.5555555555555556,\"#d8576b\"],[0.6666666666666666,\"#ed7953\"],[0.7777777777777778,\"#fb9f3a\"],[0.8888888888888888,\"#fdca26\"],[1.0,\"#f0f921\"]],\"type\":\"surface\"}],\"table\":[{\"cells\":{\"fill\":{\"color\":\"#EBF0F8\"},\"line\":{\"color\":\"white\"}},\"header\":{\"fill\":{\"color\":\"#C8D4E3\"},\"line\":{\"color\":\"white\"}},\"type\":\"table\"}]},\"layout\":{\"annotationdefaults\":{\"arrowcolor\":\"#2a3f5f\",\"arrowhead\":0,\"arrowwidth\":1},\"autotypenumbers\":\"strict\",\"coloraxis\":{\"colorbar\":{\"outlinewidth\":0,\"ticks\":\"\"}},\"colorscale\":{\"diverging\":[[0,\"#8e0152\"],[0.1,\"#c51b7d\"],[0.2,\"#de77ae\"],[0.3,\"#f1b6da\"],[0.4,\"#fde0ef\"],[0.5,\"#f7f7f7\"],[0.6,\"#e6f5d0\"],[0.7,\"#b8e186\"],[0.8,\"#7fbc41\"],[0.9,\"#4d9221\"],[1,\"#276419\"]],\"sequential\":[[0.0,\"#0d0887\"],[0.1111111111111111,\"#46039f\"],[0.2222222222222222,\"#7201a8\"],[0.3333333333333333,\"#9c179e\"],[0.4444444444444444,\"#bd3786\"],[0.5555555555555556,\"#d8576b\"],[0.6666666666666666,\"#ed7953\"],[0.7777777777777778,\"#fb9f3a\"],[0.8888888888888888,\"#fdca26\"],[1.0,\"#f0f921\"]],\"sequentialminus\":[[0.0,\"#0d0887\"],[0.1111111111111111,\"#46039f\"],[0.2222222222222222,\"#7201a8\"],[0.3333333333333333,\"#9c179e\"],[0.4444444444444444,\"#bd3786\"],[0.5555555555555556,\"#d8576b\"],[0.6666666666666666,\"#ed7953\"],[0.7777777777777778,\"#fb9f3a\"],[0.8888888888888888,\"#fdca26\"],[1.0,\"#f0f921\"]]},\"colorway\":[\"#636efa\",\"#EF553B\",\"#00cc96\",\"#ab63fa\",\"#FFA15A\",\"#19d3f3\",\"#FF6692\",\"#B6E880\",\"#FF97FF\",\"#FECB52\"],\"font\":{\"color\":\"#2a3f5f\"},\"geo\":{\"bgcolor\":\"white\",\"lakecolor\":\"white\",\"landcolor\":\"#E5ECF6\",\"showlakes\":true,\"showland\":true,\"subunitcolor\":\"white\"},\"hoverlabel\":{\"align\":\"left\"},\"hovermode\":\"closest\",\"mapbox\":{\"style\":\"light\"},\"paper_bgcolor\":\"white\",\"plot_bgcolor\":\"#E5ECF6\",\"polar\":{\"angularaxis\":{\"gridcolor\":\"white\",\"linecolor\":\"white\",\"ticks\":\"\"},\"bgcolor\":\"#E5ECF6\",\"radialaxis\":{\"gridcolor\":\"white\",\"linecolor\":\"white\",\"ticks\":\"\"}},\"scene\":{\"xaxis\":{\"backgroundcolor\":\"#E5ECF6\",\"gridcolor\":\"white\",\"gridwidth\":2,\"linecolor\":\"white\",\"showbackground\":true,\"ticks\":\"\",\"zerolinecolor\":\"white\"},\"yaxis\":{\"backgroundcolor\":\"#E5ECF6\",\"gridcolor\":\"white\",\"gridwidth\":2,\"linecolor\":\"white\",\"showbackground\":true,\"ticks\":\"\",\"zerolinecolor\":\"white\"},\"zaxis\":{\"backgroundcolor\":\"#E5ECF6\",\"gridcolor\":\"white\",\"gridwidth\":2,\"linecolor\":\"white\",\"showbackground\":true,\"ticks\":\"\",\"zerolinecolor\":\"white\"}},\"shapedefaults\":{\"line\":{\"color\":\"#2a3f5f\"}},\"ternary\":{\"aaxis\":{\"gridcolor\":\"white\",\"linecolor\":\"white\",\"ticks\":\"\"},\"baxis\":{\"gridcolor\":\"white\",\"linecolor\":\"white\",\"ticks\":\"\"},\"bgcolor\":\"#E5ECF6\",\"caxis\":{\"gridcolor\":\"white\",\"linecolor\":\"white\",\"ticks\":\"\"}},\"title\":{\"x\":0.05},\"xaxis\":{\"automargin\":true,\"gridcolor\":\"white\",\"linecolor\":\"white\",\"ticks\":\"\",\"title\":{\"standoff\":15},\"zerolinecolor\":\"white\",\"zerolinewidth\":2},\"yaxis\":{\"automargin\":true,\"gridcolor\":\"white\",\"linecolor\":\"white\",\"ticks\":\"\",\"title\":{\"standoff\":15},\"zerolinecolor\":\"white\",\"zerolinewidth\":2}}}},\"margin\":[5,5,5,5],\"name\":\"Plotly247401\",\"viewport_update_throttle\":200},\"id\":\"8595\",\"type\":\"panel.models.plotly.PlotlyPlot\"},{\"attributes\":{\"data\":{\"lat\":[{\"__ndarray__\":\"P8bctYTcQkA=\",\"dtype\":\"float64\",\"order\":\"little\",\"shape\":[1]}],\"lon\":[{\"__ndarray__\":\"Q8U4fxOcXsA=\",\"dtype\":\"float64\",\"order\":\"little\",\"shape\":[1]}],\"marker.size\":[{\"__ndarray__\":\"q6qqqqoVpUA=\",\"dtype\":\"float64\",\"order\":\"little\",\"shape\":[1]}]},\"selected\":{\"id\":\"8633\"},\"selection_policy\":{\"id\":\"8634\"}},\"id\":\"8536\",\"type\":\"ColumnDataSource\"},{\"attributes\":{\"data\":{\"lat\":[{\"__ndarray__\":\"6DBfXoDlQkA=\",\"dtype\":\"float64\",\"order\":\"little\",\"shape\":[1]}],\"lon\":[{\"__ndarray__\":\"IHu9++ObXsA=\",\"dtype\":\"float64\",\"order\":\"little\",\"shape\":[1]}],\"marker.size\":[{\"__ndarray__\":\"SZIkSZICpkA=\",\"dtype\":\"float64\",\"order\":\"little\",\"shape\":[1]}]},\"selected\":{\"id\":\"8675\"},\"selection_policy\":{\"id\":\"8676\"}},\"id\":\"8557\",\"type\":\"ColumnDataSource\"},{\"attributes\":{},\"id\":\"8132\",\"type\":\"PanTool\"},{\"attributes\":{\"data\":{\"lat\":[{\"__ndarray__\":\"dv2C3bDdQkA=\",\"dtype\":\"float64\",\"order\":\"little\",\"shape\":[1]}],\"lon\":[{\"__ndarray__\":\"N6EQAYeYXsA=\",\"dtype\":\"float64\",\"order\":\"little\",\"shape\":[1]}],\"marker.size\":[{\"__ndarray__\":\"SZIkSZICpkA=\",\"dtype\":\"float64\",\"order\":\"little\",\"shape\":[1]}]},\"selected\":{\"id\":\"8717\"},\"selection_policy\":{\"id\":\"8718\"}},\"id\":\"8578\",\"type\":\"ColumnDataSource\"},{\"attributes\":{\"data\":{\"lat\":[{\"__ndarray__\":\"LV+X4T/lQkA=\",\"dtype\":\"float64\",\"order\":\"little\",\"shape\":[1]}],\"lon\":[{\"__ndarray__\":\"L26jAbyZXsA=\",\"dtype\":\"float64\",\"order\":\"little\",\"shape\":[1]}],\"marker.size\":[{\"__ndarray__\":\"SZIkSZICpkA=\",\"dtype\":\"float64\",\"order\":\"little\",\"shape\":[1]}]},\"selected\":{\"id\":\"8613\"},\"selection_policy\":{\"id\":\"8614\"}},\"id\":\"8526\",\"type\":\"ColumnDataSource\"},{\"attributes\":{\"data\":{\"lat\":[{\"__ndarray__\":\"y6FFtvPhQkA=\",\"dtype\":\"float64\",\"order\":\"little\",\"shape\":[1]}],\"lon\":[{\"__ndarray__\":\"T5fFxOabXsA=\",\"dtype\":\"float64\",\"order\":\"little\",\"shape\":[1]}],\"marker.size\":[{\"__ndarray__\":\"SZIkSZICpkA=\",\"dtype\":\"float64\",\"order\":\"little\",\"shape\":[1]}]},\"selected\":{\"id\":\"8655\"},\"selection_policy\":{\"id\":\"8656\"}},\"id\":\"8547\",\"type\":\"ColumnDataSource\"},{\"attributes\":{},\"id\":\"8440\",\"type\":\"UnionRenderers\"},{\"attributes\":{},\"id\":\"8493\",\"type\":\"BasicTickFormatter\"},{\"attributes\":{\"factors\":[\"sale_price_sqr_foot\",\"gross_rent\"],\"palette\":[\"#1f77b3\",\"#ff7e0e\"]},\"id\":\"8482\",\"type\":\"CategoricalColorMapper\"},{\"attributes\":{\"data\":{\"lat\":[{\"__ndarray__\":\"NnFyv0PdQkA=\",\"dtype\":\"float64\",\"order\":\"little\",\"shape\":[1]}],\"lon\":[{\"__ndarray__\":\"ih9j7lqcXsA=\",\"dtype\":\"float64\",\"order\":\"little\",\"shape\":[1]}],\"marker.size\":[{\"__ndarray__\":\"AAAAAACAn0A=\",\"dtype\":\"float64\",\"order\":\"little\",\"shape\":[1]}]},\"selected\":{\"id\":\"8635\"},\"selection_policy\":{\"id\":\"8636\"}},\"id\":\"8537\",\"type\":\"ColumnDataSource\"},{\"attributes\":{\"data\":{\"lat\":[{\"__ndarray__\":\"g/qWOV3mQkA=\",\"dtype\":\"float64\",\"order\":\"little\",\"shape\":[1]}],\"lon\":[{\"__ndarray__\":\"FTWYhuGdXsA=\",\"dtype\":\"float64\",\"order\":\"little\",\"shape\":[1]}],\"marker.size\":[{\"__ndarray__\":\"SZIkSZICpkA=\",\"dtype\":\"float64\",\"order\":\"little\",\"shape\":[1]}]},\"selected\":{\"id\":\"8677\"},\"selection_policy\":{\"id\":\"8678\"}},\"id\":\"8558\",\"type\":\"ColumnDataSource\"},{\"attributes\":{\"data\":{\"lat\":[{\"__ndarray__\":\"cQM+P4zkQkA=\",\"dtype\":\"float64\",\"order\":\"little\",\"shape\":[1]}],\"lon\":[{\"__ndarray__\":\"d76fGi+dXsA=\",\"dtype\":\"float64\",\"order\":\"little\",\"shape\":[1]}],\"marker.size\":[{\"__ndarray__\":\"SZIkSZICpkA=\",\"dtype\":\"float64\",\"order\":\"little\",\"shape\":[1]}]},\"selected\":{\"id\":\"8719\"},\"selection_policy\":{\"id\":\"8720\"}},\"id\":\"8579\",\"type\":\"ColumnDataSource\"},{\"attributes\":{},\"id\":\"8473\",\"type\":\"ResetTool\"},{\"attributes\":{\"data\":{\"Variable\":[\"sale_price_sqr_foot\",\"sale_price_sqr_foot\",\"sale_price_sqr_foot\",\"sale_price_sqr_foot\",\"sale_price_sqr_foot\",\"sale_price_sqr_foot\",\"sale_price_sqr_foot\",\"gross_rent\",\"gross_rent\",\"gross_rent\",\"gross_rent\",\"gross_rent\",\"gross_rent\",\"gross_rent\"],\"value\":{\"__ndarray__\":\"LMKfLArLgUAbTXjLh2l4QAnYXuSLJoRAMODd8zgbhkCYJdtc7J6FQJ+1dd72tIJAlnINLUOMkEAAAAAAAFyTQAAAAAAA6JdAAAAAAAAookAAAAAAADanQAAAAAAAkKtAAAAAAAA2rUAAAAAAACaxQA==\",\"dtype\":\"float64\",\"order\":\"little\",\"shape\":[14]},\"xoffsets\":[[\"2010\",\"sale_price_sqr_foot\"],[\"2011\",\"sale_price_sqr_foot\"],[\"2012\",\"sale_price_sqr_foot\"],[\"2013\",\"sale_price_sqr_foot\"],[\"2014\",\"sale_price_sqr_foot\"],[\"2015\",\"sale_price_sqr_foot\"],[\"2016\",\"sale_price_sqr_foot\"],[\"2010\",\"gross_rent\"],[\"2011\",\"gross_rent\"],[\"2012\",\"gross_rent\"],[\"2013\",\"gross_rent\"],[\"2014\",\"gross_rent\"],[\"2015\",\"gross_rent\"],[\"2016\",\"gross_rent\"]],\"year\":[\"2010\",\"2011\",\"2012\",\"2013\",\"2014\",\"2015\",\"2016\",\"2010\",\"2011\",\"2012\",\"2013\",\"2014\",\"2015\",\"2016\"]},\"selected\":{\"id\":\"8484\"},\"selection_policy\":{\"id\":\"8506\"}},\"id\":\"8483\",\"type\":\"ColumnDataSource\"},{\"attributes\":{\"style\":{\"white-space\":\"nowrap\"},\"text\":\"<span style=\\\"color:black;font-family:Arial;font-style:bold;font-weight:bold;font-size:12pt\\\">neighborhood: Alamo Square</span>\",\"width\":450},\"id\":\"8222\",\"type\":\"Div\"},{\"attributes\":{\"data\":{\"lat\":[{\"__ndarray__\":\"4nX9gt3cQkA=\",\"dtype\":\"float64\",\"order\":\"little\",\"shape\":[1]}],\"lon\":[{\"__ndarray__\":\"pFNXPsuXXsA=\",\"dtype\":\"float64\",\"order\":\"little\",\"shape\":[1]}],\"marker.size\":[{\"__ndarray__\":\"AAAAAAByo0A=\",\"dtype\":\"float64\",\"order\":\"little\",\"shape\":[1]}]},\"selected\":{\"id\":\"8657\"},\"selection_policy\":{\"id\":\"8658\"}},\"id\":\"8548\",\"type\":\"ColumnDataSource\"},{\"attributes\":{\"data\":{\"lat\":[{\"__ndarray__\":\"dQMF3snjQkA=\",\"dtype\":\"float64\",\"order\":\"little\",\"shape\":[1]}],\"lon\":[{\"__ndarray__\":\"OZhNgGGcXsA=\",\"dtype\":\"float64\",\"order\":\"little\",\"shape\":[1]}],\"marker.size\":[{\"__ndarray__\":\"q6qqqqqvp0A=\",\"dtype\":\"float64\",\"order\":\"little\",\"shape\":[1]}]},\"selected\":{\"id\":\"8615\"},\"selection_policy\":{\"id\":\"8616\"}},\"id\":\"8527\",\"type\":\"ColumnDataSource\"},{\"attributes\":{\"end\":2016.0,\"reset_end\":2016.0,\"reset_start\":2010.0,\"start\":2010.0,\"tags\":[[[\"year\",\"year\",null]]]},\"id\":\"8111\",\"type\":\"Range1d\"},{\"attributes\":{},\"id\":\"8422\",\"type\":\"Selection\"},{\"attributes\":{\"data\":{\"lat\":[{\"__ndarray__\":\"w9hCkIPiQkA=\",\"dtype\":\"float64\",\"order\":\"little\",\"shape\":[1]}],\"lon\":[{\"__ndarray__\":\"6Z/gYkWbXsA=\",\"dtype\":\"float64\",\"order\":\"little\",\"shape\":[1]}],\"marker.size\":[{\"__ndarray__\":\"AAAAAIC4pUA=\",\"dtype\":\"float64\",\"order\":\"little\",\"shape\":[1]}]},\"selected\":{\"id\":\"8637\"},\"selection_policy\":{\"id\":\"8638\"}},\"id\":\"8538\",\"type\":\"ColumnDataSource\"},{\"attributes\":{\"data\":{\"lat\":[{\"__ndarray__\":\"Y7SOqibcQkA=\",\"dtype\":\"float64\",\"order\":\"little\",\"shape\":[1]}],\"lon\":[{\"__ndarray__\":\"j+TyH9KdXsA=\",\"dtype\":\"float64\",\"order\":\"little\",\"shape\":[1]}],\"marker.size\":[{\"__ndarray__\":\"AAAAAACsqkA=\",\"dtype\":\"float64\",\"order\":\"little\",\"shape\":[1]}]},\"selected\":{\"id\":\"8679\"},\"selection_policy\":{\"id\":\"8680\"}},\"id\":\"8559\",\"type\":\"ColumnDataSource\"},{\"attributes\":{\"data\":{\"lat\":[{\"__ndarray__\":\"6DBfXoDlQkA=\",\"dtype\":\"float64\",\"order\":\"little\",\"shape\":[1]}],\"lon\":[{\"__ndarray__\":\"IHu9++ObXsA=\",\"dtype\":\"float64\",\"order\":\"little\",\"shape\":[1]}],\"marker.size\":[{\"__ndarray__\":\"SZIkSZICpkA=\",\"dtype\":\"float64\",\"order\":\"little\",\"shape\":[1]}]},\"selected\":{\"id\":\"8721\"},\"selection_policy\":{\"id\":\"8722\"}},\"id\":\"8580\",\"type\":\"ColumnDataSource\"},{\"attributes\":{\"data\":{\"lat\":[{\"__ndarray__\":\"eJeL+E7cQkA=\",\"dtype\":\"float64\",\"order\":\"little\",\"shape\":[1]}],\"lon\":[{\"__ndarray__\":\"NjemJyyfXsA=\",\"dtype\":\"float64\",\"order\":\"little\",\"shape\":[1]}],\"marker.size\":[{\"__ndarray__\":\"AAAAAAAgp0A=\",\"dtype\":\"float64\",\"order\":\"little\",\"shape\":[1]}]},\"selected\":{\"id\":\"8659\"},\"selection_policy\":{\"id\":\"8660\"}},\"id\":\"8549\",\"type\":\"ColumnDataSource\"},{\"attributes\":{\"data\":{\"lat\":[{\"__ndarray__\":\"Ga2jqgneQkA=\",\"dtype\":\"float64\",\"order\":\"little\",\"shape\":[1]}],\"lon\":[{\"__ndarray__\":\"9+6P96qZXsA=\",\"dtype\":\"float64\",\"order\":\"little\",\"shape\":[1]}],\"marker.size\":[{\"__ndarray__\":\"zczMzMwcokA=\",\"dtype\":\"float64\",\"order\":\"little\",\"shape\":[1]}]},\"selected\":{\"id\":\"8617\"},\"selection_policy\":{\"id\":\"8618\"}},\"id\":\"8528\",\"type\":\"ColumnDataSource\"},{\"attributes\":{\"overlay\":{\"id\":\"8474\"}},\"id\":\"8472\",\"type\":\"BoxZoomTool\"},{\"attributes\":{\"data\":{\"lat\":[{\"__ndarray__\":\"8WjjiLXgQkA=\",\"dtype\":\"float64\",\"order\":\"little\",\"shape\":[1]}],\"lon\":[{\"__ndarray__\":\"AyFZwAScXsA=\",\"dtype\":\"float64\",\"order\":\"little\",\"shape\":[1]}],\"marker.size\":[{\"__ndarray__\":\"SZIkSZICpkA=\",\"dtype\":\"float64\",\"order\":\"little\",\"shape\":[1]}]},\"selected\":{\"id\":\"8639\"},\"selection_policy\":{\"id\":\"8640\"}},\"id\":\"8539\",\"type\":\"ColumnDataSource\"},{\"attributes\":{\"data\":{\"lat\":[{\"__ndarray__\":\"+N9KdmzgQkA=\",\"dtype\":\"float64\",\"order\":\"little\",\"shape\":[1]}],\"lon\":[{\"__ndarray__\":\"LZW3I5ycXsA=\",\"dtype\":\"float64\",\"order\":\"little\",\"shape\":[1]}],\"marker.size\":[{\"__ndarray__\":\"AAAAAACvpEA=\",\"dtype\":\"float64\",\"order\":\"little\",\"shape\":[1]}]},\"selected\":{\"id\":\"8681\"},\"selection_policy\":{\"id\":\"8682\"}},\"id\":\"8560\",\"type\":\"ColumnDataSource\"},{\"attributes\":{\"data\":{\"lat\":[{\"__ndarray__\":\"Ga2jqgneQkA=\",\"dtype\":\"float64\",\"order\":\"little\",\"shape\":[1]}],\"lon\":[{\"__ndarray__\":\"9+6P96qZXsA=\",\"dtype\":\"float64\",\"order\":\"little\",\"shape\":[1]}],\"marker.size\":[{\"__ndarray__\":\"AAAAAACQq0A=\",\"dtype\":\"float64\",\"order\":\"little\",\"shape\":[1]}]},\"selected\":{\"id\":\"8723\"},\"selection_policy\":{\"id\":\"8724\"}},\"id\":\"8581\",\"type\":\"ColumnDataSource\"},{\"attributes\":{},\"id\":\"8172\",\"type\":\"BasicTicker\"},{\"attributes\":{\"data\":{\"lat\":[{\"__ndarray__\":\"xvmbUIjgQkA=\",\"dtype\":\"float64\",\"order\":\"little\",\"shape\":[1]}],\"lon\":[{\"__ndarray__\":\"zOmymNiaXsA=\",\"dtype\":\"float64\",\"order\":\"little\",\"shape\":[1]}],\"marker.size\":[{\"__ndarray__\":\"SZIkSZICpkA=\",\"dtype\":\"float64\",\"order\":\"little\",\"shape\":[1]}]},\"selected\":{\"id\":\"8661\"},\"selection_policy\":{\"id\":\"8662\"}},\"id\":\"8550\",\"type\":\"ColumnDataSource\"},{\"attributes\":{\"data\":{\"lat\":[{\"__ndarray__\":\"vqQxWkfdQkA=\",\"dtype\":\"float64\",\"order\":\"little\",\"shape\":[1]}],\"lon\":[{\"__ndarray__\":\"2dMOf02aXsA=\",\"dtype\":\"float64\",\"order\":\"little\",\"shape\":[1]}],\"marker.size\":[{\"__ndarray__\":\"AAAAAAA2rUA=\",\"dtype\":\"float64\",\"order\":\"little\",\"shape\":[1]}]},\"selected\":{\"id\":\"8619\"},\"selection_policy\":{\"id\":\"8620\"}},\"id\":\"8529\",\"type\":\"ColumnDataSource\"},{\"attributes\":{\"axis\":{\"id\":\"8060\"},\"grid_line_color\":null,\"ticker\":null},\"id\":\"8062\",\"type\":\"Grid\"},{\"attributes\":{\"data_source\":{\"id\":\"8188\"},\"glyph\":{\"id\":\"8191\"},\"hover_glyph\":null,\"muted_glyph\":{\"id\":\"8193\"},\"nonselection_glyph\":{\"id\":\"8192\"},\"selection_glyph\":null,\"view\":{\"id\":\"8195\"}},\"id\":\"8194\",\"type\":\"GlyphRenderer\"},{\"attributes\":{\"data\":{\"lat\":[{\"__ndarray__\":\"vqQxWkfdQkA=\",\"dtype\":\"float64\",\"order\":\"little\",\"shape\":[1]}],\"lon\":[{\"__ndarray__\":\"2dMOf02aXsA=\",\"dtype\":\"float64\",\"order\":\"little\",\"shape\":[1]}],\"marker.size\":[{\"__ndarray__\":\"q6qqqqqvp0A=\",\"dtype\":\"float64\",\"order\":\"little\",\"shape\":[1]}]},\"selected\":{\"id\":\"8641\"},\"selection_policy\":{\"id\":\"8642\"}},\"id\":\"8540\",\"type\":\"ColumnDataSource\"},{\"attributes\":{\"data\":{\"lat\":[{\"__ndarray__\":\"4C2QoPjdQkA=\",\"dtype\":\"float64\",\"order\":\"little\",\"shape\":[1]}],\"lon\":[{\"__ndarray__\":\"aZHtfD+dXsA=\",\"dtype\":\"float64\",\"order\":\"little\",\"shape\":[1]}],\"marker.size\":[{\"__ndarray__\":\"AAAAAIDWoEA=\",\"dtype\":\"float64\",\"order\":\"little\",\"shape\":[1]}]},\"selected\":{\"id\":\"8683\"},\"selection_policy\":{\"id\":\"8684\"}},\"id\":\"8561\",\"type\":\"ColumnDataSource\"},{\"attributes\":{\"data\":{\"lat\":[{\"__ndarray__\":\"f59x4UDkQkA=\",\"dtype\":\"float64\",\"order\":\"little\",\"shape\":[1]}],\"lon\":[{\"__ndarray__\":\"HcnlP6SZXsA=\",\"dtype\":\"float64\",\"order\":\"little\",\"shape\":[1]}],\"marker.size\":[{\"__ndarray__\":\"AAAAAABmoEA=\",\"dtype\":\"float64\",\"order\":\"little\",\"shape\":[1]}]},\"selected\":{\"id\":\"8725\"},\"selection_policy\":{\"id\":\"8726\"}},\"id\":\"8582\",\"type\":\"ColumnDataSource\"},{\"attributes\":{},\"id\":\"8409\",\"type\":\"PanTool\"},{\"attributes\":{\"data\":{\"lat\":[{\"__ndarray__\":\"lWBxOPPfQkA=\",\"dtype\":\"float64\",\"order\":\"little\",\"shape\":[1]}],\"lon\":[{\"__ndarray__\":\"fVcE/1ufXsA=\",\"dtype\":\"float64\",\"order\":\"little\",\"shape\":[1]}],\"marker.size\":[{\"__ndarray__\":\"AAAAAAAwqUA=\",\"dtype\":\"float64\",\"order\":\"little\",\"shape\":[1]}]},\"selected\":{\"id\":\"8663\"},\"selection_policy\":{\"id\":\"8664\"}},\"id\":\"8551\",\"type\":\"ColumnDataSource\"},{\"attributes\":{\"line_color\":\"#1f77b3\",\"line_width\":2,\"x\":{\"field\":\"year\"},\"y\":{\"field\":\"gross_rent\"}},\"id\":\"8191\",\"type\":\"Line\"},{\"attributes\":{\"data\":{\"lat\":[{\"__ndarray__\":\"NAwfEVPiQkA=\",\"dtype\":\"float64\",\"order\":\"little\",\"shape\":[1]}],\"lon\":[{\"__ndarray__\":\"tYmT+x2cXsA=\",\"dtype\":\"float64\",\"order\":\"little\",\"shape\":[1]}],\"marker.size\":[{\"__ndarray__\":\"q6qqqqoVpUA=\",\"dtype\":\"float64\",\"order\":\"little\",\"shape\":[1]}]},\"selected\":{\"id\":\"8621\"},\"selection_policy\":{\"id\":\"8622\"}},\"id\":\"8530\",\"type\":\"ColumnDataSource\"},{\"attributes\":{},\"id\":\"8071\",\"type\":\"ResetTool\"},{\"attributes\":{},\"id\":\"8179\",\"type\":\"ResetTool\"},{\"attributes\":{},\"id\":\"8168\",\"type\":\"BasicTicker\"},{\"attributes\":{\"data\":{\"lat\":[{\"__ndarray__\":\"f59x4UDkQkA=\",\"dtype\":\"float64\",\"order\":\"little\",\"shape\":[1]}],\"lon\":[{\"__ndarray__\":\"HcnlP6SZXsA=\",\"dtype\":\"float64\",\"order\":\"little\",\"shape\":[1]}],\"marker.size\":[{\"__ndarray__\":\"VVVVVVXPpEA=\",\"dtype\":\"float64\",\"order\":\"little\",\"shape\":[1]}]},\"selected\":{\"id\":\"8685\"},\"selection_policy\":{\"id\":\"8686\"}},\"id\":\"8562\",\"type\":\"ColumnDataSource\"},{\"attributes\":{\"data\":{\"lat\":[{\"__ndarray__\":\"jGfQ0D/lQkA=\",\"dtype\":\"float64\",\"order\":\"little\",\"shape\":[1]}],\"lon\":[{\"__ndarray__\":\"L26jAbyZXsA=\",\"dtype\":\"float64\",\"order\":\"little\",\"shape\":[1]}],\"marker.size\":[{\"__ndarray__\":\"SZIkSZICpkA=\",\"dtype\":\"float64\",\"order\":\"little\",\"shape\":[1]}]},\"selected\":{\"id\":\"8643\"},\"selection_policy\":{\"id\":\"8644\"}},\"id\":\"8541\",\"type\":\"ColumnDataSource\"},{\"attributes\":{\"data\":{\"lat\":[{\"__ndarray__\":\"jGfQ0D/lQkA=\",\"dtype\":\"float64\",\"order\":\"little\",\"shape\":[1]}],\"lon\":[{\"__ndarray__\":\"L26jAbyZXsA=\",\"dtype\":\"float64\",\"order\":\"little\",\"shape\":[1]}],\"marker.size\":[{\"__ndarray__\":\"SZIkSZICpkA=\",\"dtype\":\"float64\",\"order\":\"little\",\"shape\":[1]}]},\"selected\":{\"id\":\"8727\"},\"selection_policy\":{\"id\":\"8728\"}},\"id\":\"8583\",\"type\":\"ColumnDataSource\"},{\"attributes\":{\"data\":{\"housing_units\":[372560,372560,372560,372560,372560,372560,372560,372560,372560,372560,372560,372560,372560,372560,372560,372560,372560,372560,372560,372560,372560,372560,372560,372560,372560,372560,372560,372560,372560,372560,372560,372560,372560,372560,372560,372560,372560,372560,372560,372560,372560,372560,372560,372560,372560,372560,372560,372560,372560,372560,372560,372560,372560,372560,372560,372560,372560,372560,372560,374507,374507,374507,374507,374507,374507,374507,374507,374507,374507,374507,374507,374507,374507,374507,374507,374507,374507,374507,374507,374507,374507,374507,374507,374507,374507,374507,374507,374507,374507,374507,374507,374507,374507,374507,374507,374507,374507,374507,374507,374507,374507,374507,374507,374507,374507,374507,374507,374507,374507,374507,374507,374507,374507,374507,374507,374507,374507,374507,376454,376454,376454,376454,376454,376454,376454,376454,376454,376454,376454,376454,376454,376454,376454,376454,376454,376454,376454,376454,376454,376454,376454,376454,376454,376454,376454,376454,376454,376454,376454,376454,376454,376454,376454,376454,376454,376454,376454,376454,376454,376454,376454,376454,376454,376454,376454,376454,376454,376454,376454,376454,376454,376454,376454,376454,376454,376454,378401,378401,378401,378401,378401,378401,378401,378401,378401,378401,378401,378401,378401,378401,378401,378401,378401,378401,378401,378401,378401,378401,378401,378401,378401,378401,378401,378401,378401,378401,378401,378401,378401,378401,378401,378401,378401,378401,378401,378401,378401,378401,378401,378401,378401,378401,378401,378401,378401,378401,378401,378401,378401,378401,378401,378401,378401,380348,380348,380348,380348,380348,380348,380348,380348,380348,380348,380348,380348,380348,380348,380348,380348,380348,380348,380348,380348,380348,380348,380348,380348,380348,380348,380348,380348,380348,380348,380348,380348,380348,380348,380348,380348,380348,380348,380348,380348,380348,380348,380348,380348,380348,380348,380348,380348,380348,380348,380348,380348,380348,380348,380348,380348,380348,380348,380348,380348,382295,382295,382295,382295,382295,382295,382295,382295,382295,382295,382295,382295,382295,382295,382295,382295,382295,382295,382295,382295,382295,382295,382295,382295,382295,382295,382295,382295,382295,382295,382295,382295,382295,382295,382295,382295,382295,382295,382295,382295,382295,382295,382295,382295,382295,382295,382295,382295,382295,382295,382295,382295,382295,382295,382295,382295,382295,382295,384242,384242,384242,384242,384242,384242,384242,384242,384242,384242,384242,384242,384242,384242,384242,384242,384242,384242,384242,384242,384242,384242,384242,384242,384242,384242,384242,384242,384242,384242,384242,384242,384242,384242,384242,384242,384242,384242,384242,384242,384242,384242,384242,384242,384242,384242],\"year\":[\"2010\",\"2010\",\"2010\",\"2010\",\"2010\",\"2010\",\"2010\",\"2010\",\"2010\",\"2010\",\"2010\",\"2010\",\"2010\",\"2010\",\"2010\",\"2010\",\"2010\",\"2010\",\"2010\",\"2010\",\"2010\",\"2010\",\"2010\",\"2010\",\"2010\",\"2010\",\"2010\",\"2010\",\"2010\",\"2010\",\"2010\",\"2010\",\"2010\",\"2010\",\"2010\",\"2010\",\"2010\",\"2010\",\"2010\",\"2010\",\"2010\",\"2010\",\"2010\",\"2010\",\"2010\",\"2010\",\"2010\",\"2010\",\"2010\",\"2010\",\"2010\",\"2010\",\"2010\",\"2010\",\"2010\",\"2010\",\"2010\",\"2010\",\"2010\",\"2011\",\"2011\",\"2011\",\"2011\",\"2011\",\"2011\",\"2011\",\"2011\",\"2011\",\"2011\",\"2011\",\"2011\",\"2011\",\"2011\",\"2011\",\"2011\",\"2011\",\"2011\",\"2011\",\"2011\",\"2011\",\"2011\",\"2011\",\"2011\",\"2011\",\"2011\",\"2011\",\"2011\",\"2011\",\"2011\",\"2011\",\"2011\",\"2011\",\"2011\",\"2011\",\"2011\",\"2011\",\"2011\",\"2011\",\"2011\",\"2011\",\"2011\",\"2011\",\"2011\",\"2011\",\"2011\",\"2011\",\"2011\",\"2011\",\"2011\",\"2011\",\"2011\",\"2011\",\"2011\",\"2011\",\"2011\",\"2011\",\"2011\",\"2011\",\"2012\",\"2012\",\"2012\",\"2012\",\"2012\",\"2012\",\"2012\",\"2012\",\"2012\",\"2012\",\"2012\",\"2012\",\"2012\",\"2012\",\"2012\",\"2012\",\"2012\",\"2012\",\"2012\",\"2012\",\"2012\",\"2012\",\"2012\",\"2012\",\"2012\",\"2012\",\"2012\",\"2012\",\"2012\",\"2012\",\"2012\",\"2012\",\"2012\",\"2012\",\"2012\",\"2012\",\"2012\",\"2012\",\"2012\",\"2012\",\"2012\",\"2012\",\"2012\",\"2012\",\"2012\",\"2012\",\"2012\",\"2012\",\"2012\",\"2012\",\"2012\",\"2012\",\"2012\",\"2012\",\"2012\",\"2012\",\"2012\",\"2012\",\"2013\",\"2013\",\"2013\",\"2013\",\"2013\",\"2013\",\"2013\",\"2013\",\"2013\",\"2013\",\"2013\",\"2013\",\"2013\",\"2013\",\"2013\",\"2013\",\"2013\",\"2013\",\"2013\",\"2013\",\"2013\",\"2013\",\"2013\",\"2013\",\"2013\",\"2013\",\"2013\",\"2013\",\"2013\",\"2013\",\"2013\",\"2013\",\"2013\",\"2013\",\"2013\",\"2013\",\"2013\",\"2013\",\"2013\",\"2013\",\"2013\",\"2013\",\"2013\",\"2013\",\"2013\",\"2013\",\"2013\",\"2013\",\"2013\",\"2013\",\"2013\",\"2013\",\"2013\",\"2013\",\"2013\",\"2013\",\"2013\",\"2014\",\"2014\",\"2014\",\"2014\",\"2014\",\"2014\",\"2014\",\"2014\",\"2014\",\"2014\",\"2014\",\"2014\",\"2014\",\"2014\",\"2014\",\"2014\",\"2014\",\"2014\",\"2014\",\"2014\",\"2014\",\"2014\",\"2014\",\"2014\",\"2014\",\"2014\",\"2014\",\"2014\",\"2014\",\"2014\",\"2014\",\"2014\",\"2014\",\"2014\",\"2014\",\"2014\",\"2014\",\"2014\",\"2014\",\"2014\",\"2014\",\"2014\",\"2014\",\"2014\",\"2014\",\"2014\",\"2014\",\"2014\",\"2014\",\"2014\",\"2014\",\"2014\",\"2014\",\"2014\",\"2014\",\"2014\",\"2014\",\"2014\",\"2014\",\"2014\",\"2015\",\"2015\",\"2015\",\"2015\",\"2015\",\"2015\",\"2015\",\"2015\",\"2015\",\"2015\",\"2015\",\"2015\",\"2015\",\"2015\",\"2015\",\"2015\",\"2015\",\"2015\",\"2015\",\"2015\",\"2015\",\"2015\",\"2015\",\"2015\",\"2015\",\"2015\",\"2015\",\"2015\",\"2015\",\"2015\",\"2015\",\"2015\",\"2015\",\"2015\",\"2015\",\"2015\",\"2015\",\"2015\",\"2015\",\"2015\",\"2015\",\"2015\",\"2015\",\"2015\",\"2015\",\"2015\",\"2015\",\"2015\",\"2015\",\"2015\",\"2015\",\"2015\",\"2015\",\"2015\",\"2015\",\"2015\",\"2015\",\"2015\",\"2016\",\"2016\",\"2016\",\"2016\",\"2016\",\"2016\",\"2016\",\"2016\",\"2016\",\"2016\",\"2016\",\"2016\",\"2016\",\"2016\",\"2016\",\"2016\",\"2016\",\"2016\",\"2016\",\"2016\",\"2016\",\"2016\",\"2016\",\"2016\",\"2016\",\"2016\",\"2016\",\"2016\",\"2016\",\"2016\",\"2016\",\"2016\",\"2016\",\"2016\",\"2016\",\"2016\",\"2016\",\"2016\",\"2016\",\"2016\",\"2016\",\"2016\",\"2016\",\"2016\",\"2016\",\"2016\"]},\"selected\":{\"id\":\"8081\"},\"selection_policy\":{\"id\":\"8101\"}},\"id\":\"8080\",\"type\":\"ColumnDataSource\"},{\"attributes\":{},\"id\":\"8484\",\"type\":\"Selection\"},{\"attributes\":{},\"id\":\"8613\",\"type\":\"Selection\"},{\"attributes\":{},\"id\":\"8726\",\"type\":\"UnionRenderers\"},{\"attributes\":{},\"id\":\"8727\",\"type\":\"Selection\"},{\"attributes\":{},\"id\":\"8725\",\"type\":\"Selection\"},{\"attributes\":{},\"id\":\"8728\",\"type\":\"UnionRenderers\"},{\"attributes\":{\"child\":{\"id\":\"8046\"},\"name\":\"Column247394\",\"title\":\"Cost\"},\"id\":\"8519\",\"type\":\"Panel\"},{\"attributes\":{},\"id\":\"8729\",\"type\":\"Selection\"},{\"attributes\":{},\"id\":\"8730\",\"type\":\"UnionRenderers\"},{\"attributes\":{\"text\":\"Average Monthly Rent\",\"text_color\":{\"value\":\"black\"},\"text_font_size\":{\"value\":\"12pt\"}},\"id\":\"8159\",\"type\":\"Title\"},{\"attributes\":{\"end\":4789.940434697159,\"reset_end\":4789.940434697159,\"reset_start\":0.0,\"tags\":[[[\"value\",\"value\",null]]]},\"id\":\"8451\",\"type\":\"Range1d\"},{\"attributes\":{\"children\":[{\"id\":\"8385\"},{\"id\":\"8387\"}],\"margin\":[0,0,0,0],\"name\":\"Column247377\"},\"id\":\"8384\",\"type\":\"Column\"},{\"attributes\":{},\"id\":\"8731\",\"type\":\"Selection\"},{\"attributes\":{},\"id\":\"8216\",\"type\":\"UnionRenderers\"},{\"attributes\":{},\"id\":\"8732\",\"type\":\"UnionRenderers\"},{\"attributes\":{},\"id\":\"8733\",\"type\":\"Selection\"},{\"attributes\":{},\"id\":\"8734\",\"type\":\"UnionRenderers\"},{\"attributes\":{\"axis\":{\"id\":\"8167\"},\"grid_line_color\":null,\"ticker\":null},\"id\":\"8170\",\"type\":\"Grid\"},{\"attributes\":{},\"id\":\"8735\",\"type\":\"Selection\"},{\"attributes\":{},\"id\":\"8736\",\"type\":\"UnionRenderers\"},{\"attributes\":{},\"id\":\"8431\",\"type\":\"BasicTickFormatter\"},{\"attributes\":{},\"id\":\"8737\",\"type\":\"Selection\"},{\"attributes\":{\"client_comm_id\":\"c0404e73582e490987ca78863a3e8e0a\",\"comm_id\":\"28c11cd402e242fa873a9b504f5fc3ae\",\"plot_id\":\"8045\"},\"id\":\"9148\",\"type\":\"panel.models.comm_manager.CommManager\"},{\"attributes\":{},\"id\":\"8189\",\"type\":\"Selection\"},{\"attributes\":{},\"id\":\"8609\",\"type\":\"Selection\"},{\"attributes\":{},\"id\":\"8612\",\"type\":\"UnionRenderers\"},{\"attributes\":{},\"id\":\"8738\",\"type\":\"UnionRenderers\"},{\"attributes\":{\"line_alpha\":0.1,\"line_color\":\"#1f77b3\",\"line_width\":2,\"x\":{\"field\":\"year\"},\"y\":{\"field\":\"sale_price_sqr_foot\"}},\"id\":\"8148\",\"type\":\"Line\"},{\"attributes\":{},\"id\":\"8610\",\"type\":\"UnionRenderers\"},{\"attributes\":{\"active_drag\":\"auto\",\"active_inspect\":\"auto\",\"active_multi\":null,\"active_scroll\":\"auto\",\"active_tap\":\"auto\",\"tools\":[{\"id\":\"8050\"},{\"id\":\"8067\"},{\"id\":\"8068\"},{\"id\":\"8069\"},{\"id\":\"8070\"},{\"id\":\"8071\"}]},\"id\":\"8073\",\"type\":\"Toolbar\"},{\"attributes\":{},\"id\":\"8611\",\"type\":\"Selection\"},{\"attributes\":{},\"id\":\"8739\",\"type\":\"Selection\"},{\"attributes\":{},\"id\":\"8614\",\"type\":\"UnionRenderers\"},{\"attributes\":{},\"id\":\"8740\",\"type\":\"UnionRenderers\"},{\"attributes\":{\"children\":[{\"id\":\"8047\"},{\"id\":\"8051\"},{\"id\":\"8109\"},{\"id\":\"8110\"},{\"id\":\"8388\"},{\"id\":\"8392\"},{\"id\":\"8449\"}],\"margin\":[0,0,0,0],\"name\":\"Column247394\"},\"id\":\"8046\",\"type\":\"Column\"},{\"attributes\":{},\"id\":\"8410\",\"type\":\"WheelZoomTool\"},{\"attributes\":{\"overlay\":{\"id\":\"8413\"}},\"id\":\"8411\",\"type\":\"BoxZoomTool\"},{\"attributes\":{},\"id\":\"8615\",\"type\":\"Selection\"},{\"attributes\":{},\"id\":\"8741\",\"type\":\"Selection\"},{\"attributes\":{\"data\":{\"dimensions.0.values\":[[\"Cow Hollow\",\"Merced Heights\",\"Miraloma Park\",\"Pacific Heights\",\"Potrero Hill\",\"Presidio Heights\",\"South Beach\",\"Telegraph Hill\",\"Union Square District\",\"Westwood Park\"]],\"dimensions.1.values\":[{\"__ndarray__\":\"DVduW7bPhEB9IrkvwqaIQFx/3pp8XohAFpsVUHKMhUCazArhG7CEQMvN+TvNGoVAya3y7v5QhEC9CoV4DSSFQCUQFDHyP4xAbNBEWrN4hUA=\",\"dtype\":\"float64\",\"order\":\"little\",\"shape\":[10]}],\"dimensions.2.values\":[{\"__ndarray__\":\"AAAAAIQYF0EAAAAA8DYXQQAAAAB98hZBAAAAAIQYF0EAAAAAhBgXQQAAAACEGBdBAAAAAPTvFkEAAAAAhBgXQQAAAABOCRdBAAAAAFxVF0E=\",\"dtype\":\"float64\",\"order\":\"little\",\"shape\":[10]}],\"dimensions.3.values\":[{\"__ndarray__\":\"SZIkSZICpkAAAAAAAKyqQAAAAACA1qBASZIkSZICpkBJkiRJkgKmQEmSJEmSAqZAAAAAAABmoEBJkiRJkgKmQFVVVVVV9qNAAAAAAADurkA=\",\"dtype\":\"float64\",\"order\":\"little\",\"shape\":[10]}],\"line.color\":[{\"__ndarray__\":\"DVduW7bPhEB9IrkvwqaIQFx/3pp8XohAFpsVUHKMhUCazArhG7CEQMvN+TvNGoVAya3y7v5QhEC9CoV4DSSFQCUQFDHyP4xAbNBEWrN4hUA=\",\"dtype\":\"float64\",\"order\":\"little\",\"shape\":[10]}]},\"selected\":{\"id\":\"8609\"},\"selection_policy\":{\"id\":\"8610\"}},\"id\":\"8522\",\"type\":\"ColumnDataSource\"},{\"attributes\":{},\"id\":\"8616\",\"type\":\"UnionRenderers\"},{\"attributes\":{},\"id\":\"8742\",\"type\":\"UnionRenderers\"},{\"attributes\":{},\"id\":\"8617\",\"type\":\"Selection\"},{\"attributes\":{},\"id\":\"8743\",\"type\":\"Selection\"},{\"attributes\":{},\"id\":\"8618\",\"type\":\"UnionRenderers\"},{\"attributes\":{},\"id\":\"8744\",\"type\":\"UnionRenderers\"},{\"attributes\":{},\"id\":\"8412\",\"type\":\"ResetTool\"},{\"attributes\":{},\"id\":\"8619\",\"type\":\"Selection\"},{\"attributes\":{},\"id\":\"8745\",\"type\":\"Selection\"},{\"attributes\":{\"factors\":[[\"2010\",\"gross_rent\"],[\"2010\",\"sale_price_sqr_foot\"],[\"2011\",\"gross_rent\"],[\"2011\",\"sale_price_sqr_foot\"],[\"2012\",\"gross_rent\"],[\"2012\",\"sale_price_sqr_foot\"],[\"2013\",\"gross_rent\"],[\"2013\",\"sale_price_sqr_foot\"],[\"2014\",\"gross_rent\"],[\"2014\",\"sale_price_sqr_foot\"],[\"2015\",\"gross_rent\"],[\"2015\",\"sale_price_sqr_foot\"],[\"2016\",\"gross_rent\"],[\"2016\",\"sale_price_sqr_foot\"]],\"tags\":[[[\"year\",\"year\",null],[\"Variable\",\"Variable\",null]]]},\"id\":\"8450\",\"type\":\"FactorRange\"},{\"attributes\":{},\"id\":\"8620\",\"type\":\"UnionRenderers\"},{\"attributes\":{},\"id\":\"8746\",\"type\":\"UnionRenderers\"},{\"attributes\":{\"text\":\"Average Price/sqft\",\"text_color\":{\"value\":\"black\"},\"text_font_size\":{\"value\":\"12pt\"}},\"id\":\"8115\",\"type\":\"Title\"},{\"attributes\":{\"_render_count\":0,\"config\":null,\"data\":[{\"branchvalues\":\"total\",\"domain\":{\"x\":[0.0,1.0],\"y\":[0.0,1.0]},\"hovertemplate\":\"labels=%{label}<br>sale_price_sqr_foot=%{value}<br>parent=%{parent}<br>id=%{id}<br>gross_rent=%{color}<extra></extra>\",\"marker\":{\"coloraxis\":\"coloraxis\"},\"name\":\"\",\"type\":\"sunburst\"}],\"data_sources\":[{\"id\":\"8596\"}],\"layout\":{\"coloraxis\":{\"colorbar\":{\"title\":{\"text\":\"gross_rent\"}},\"colorscale\":[[0.0,\"rgb(103,0,31)\"],[0.1,\"rgb(178,24,43)\"],[0.2,\"rgb(214,96,77)\"],[0.3,\"rgb(244,165,130)\"],[0.4,\"rgb(253,219,199)\"],[0.5,\"rgb(247,247,247)\"],[0.6,\"rgb(209,229,240)\"],[0.7,\"rgb(146,197,222)\"],[0.8,\"rgb(67,147,195)\"],[0.9,\"rgb(33,102,172)\"],[1.0,\"rgb(5,48,97)\"]]},\"legend\":{\"tracegroupgap\":0},\"margin\":{\"t\":60},\"template\":{\"data\":{\"bar\":[{\"error_x\":{\"color\":\"#2a3f5f\"},\"error_y\":{\"color\":\"#2a3f5f\"},\"marker\":{\"line\":{\"color\":\"#E5ECF6\",\"width\":0.5}},\"type\":\"bar\"}],\"barpolar\":[{\"marker\":{\"line\":{\"color\":\"#E5ECF6\",\"width\":0.5}},\"type\":\"barpolar\"}],\"carpet\":[{\"aaxis\":{\"endlinecolor\":\"#2a3f5f\",\"gridcolor\":\"white\",\"linecolor\":\"white\",\"minorgridcolor\":\"white\",\"startlinecolor\":\"#2a3f5f\"},\"baxis\":{\"endlinecolor\":\"#2a3f5f\",\"gridcolor\":\"white\",\"linecolor\":\"white\",\"minorgridcolor\":\"white\",\"startlinecolor\":\"#2a3f5f\"},\"type\":\"carpet\"}],\"choropleth\":[{\"colorbar\":{\"outlinewidth\":0,\"ticks\":\"\"},\"type\":\"choropleth\"}],\"contour\":[{\"colorbar\":{\"outlinewidth\":0,\"ticks\":\"\"},\"colorscale\":[[0.0,\"#0d0887\"],[0.1111111111111111,\"#46039f\"],[0.2222222222222222,\"#7201a8\"],[0.3333333333333333,\"#9c179e\"],[0.4444444444444444,\"#bd3786\"],[0.5555555555555556,\"#d8576b\"],[0.6666666666666666,\"#ed7953\"],[0.7777777777777778,\"#fb9f3a\"],[0.8888888888888888,\"#fdca26\"],[1.0,\"#f0f921\"]],\"type\":\"contour\"}],\"contourcarpet\":[{\"colorbar\":{\"outlinewidth\":0,\"ticks\":\"\"},\"type\":\"contourcarpet\"}],\"heatmap\":[{\"colorbar\":{\"outlinewidth\":0,\"ticks\":\"\"},\"colorscale\":[[0.0,\"#0d0887\"],[0.1111111111111111,\"#46039f\"],[0.2222222222222222,\"#7201a8\"],[0.3333333333333333,\"#9c179e\"],[0.4444444444444444,\"#bd3786\"],[0.5555555555555556,\"#d8576b\"],[0.6666666666666666,\"#ed7953\"],[0.7777777777777778,\"#fb9f3a\"],[0.8888888888888888,\"#fdca26\"],[1.0,\"#f0f921\"]],\"type\":\"heatmap\"}],\"heatmapgl\":[{\"colorbar\":{\"outlinewidth\":0,\"ticks\":\"\"},\"colorscale\":[[0.0,\"#0d0887\"],[0.1111111111111111,\"#46039f\"],[0.2222222222222222,\"#7201a8\"],[0.3333333333333333,\"#9c179e\"],[0.4444444444444444,\"#bd3786\"],[0.5555555555555556,\"#d8576b\"],[0.6666666666666666,\"#ed7953\"],[0.7777777777777778,\"#fb9f3a\"],[0.8888888888888888,\"#fdca26\"],[1.0,\"#f0f921\"]],\"type\":\"heatmapgl\"}],\"histogram\":[{\"marker\":{\"colorbar\":{\"outlinewidth\":0,\"ticks\":\"\"}},\"type\":\"histogram\"}],\"histogram2d\":[{\"colorbar\":{\"outlinewidth\":0,\"ticks\":\"\"},\"colorscale\":[[0.0,\"#0d0887\"],[0.1111111111111111,\"#46039f\"],[0.2222222222222222,\"#7201a8\"],[0.3333333333333333,\"#9c179e\"],[0.4444444444444444,\"#bd3786\"],[0.5555555555555556,\"#d8576b\"],[0.6666666666666666,\"#ed7953\"],[0.7777777777777778,\"#fb9f3a\"],[0.8888888888888888,\"#fdca26\"],[1.0,\"#f0f921\"]],\"type\":\"histogram2d\"}],\"histogram2dcontour\":[{\"colorbar\":{\"outlinewidth\":0,\"ticks\":\"\"},\"colorscale\":[[0.0,\"#0d0887\"],[0.1111111111111111,\"#46039f\"],[0.2222222222222222,\"#7201a8\"],[0.3333333333333333,\"#9c179e\"],[0.4444444444444444,\"#bd3786\"],[0.5555555555555556,\"#d8576b\"],[0.6666666666666666,\"#ed7953\"],[0.7777777777777778,\"#fb9f3a\"],[0.8888888888888888,\"#fdca26\"],[1.0,\"#f0f921\"]],\"type\":\"histogram2dcontour\"}],\"mesh3d\":[{\"colorbar\":{\"outlinewidth\":0,\"ticks\":\"\"},\"type\":\"mesh3d\"}],\"parcoords\":[{\"line\":{\"colorbar\":{\"outlinewidth\":0,\"ticks\":\"\"}},\"type\":\"parcoords\"}],\"pie\":[{\"automargin\":true,\"type\":\"pie\"}],\"scatter\":[{\"marker\":{\"colorbar\":{\"outlinewidth\":0,\"ticks\":\"\"}},\"type\":\"scatter\"}],\"scatter3d\":[{\"line\":{\"colorbar\":{\"outlinewidth\":0,\"ticks\":\"\"}},\"marker\":{\"colorbar\":{\"outlinewidth\":0,\"ticks\":\"\"}},\"type\":\"scatter3d\"}],\"scattercarpet\":[{\"marker\":{\"colorbar\":{\"outlinewidth\":0,\"ticks\":\"\"}},\"type\":\"scattercarpet\"}],\"scattergeo\":[{\"marker\":{\"colorbar\":{\"outlinewidth\":0,\"ticks\":\"\"}},\"type\":\"scattergeo\"}],\"scattergl\":[{\"marker\":{\"colorbar\":{\"outlinewidth\":0,\"ticks\":\"\"}},\"type\":\"scattergl\"}],\"scattermapbox\":[{\"marker\":{\"colorbar\":{\"outlinewidth\":0,\"ticks\":\"\"}},\"type\":\"scattermapbox\"}],\"scatterpolar\":[{\"marker\":{\"colorbar\":{\"outlinewidth\":0,\"ticks\":\"\"}},\"type\":\"scatterpolar\"}],\"scatterpolargl\":[{\"marker\":{\"colorbar\":{\"outlinewidth\":0,\"ticks\":\"\"}},\"type\":\"scatterpolargl\"}],\"scatterternary\":[{\"marker\":{\"colorbar\":{\"outlinewidth\":0,\"ticks\":\"\"}},\"type\":\"scatterternary\"}],\"surface\":[{\"colorbar\":{\"outlinewidth\":0,\"ticks\":\"\"},\"colorscale\":[[0.0,\"#0d0887\"],[0.1111111111111111,\"#46039f\"],[0.2222222222222222,\"#7201a8\"],[0.3333333333333333,\"#9c179e\"],[0.4444444444444444,\"#bd3786\"],[0.5555555555555556,\"#d8576b\"],[0.6666666666666666,\"#ed7953\"],[0.7777777777777778,\"#fb9f3a\"],[0.8888888888888888,\"#fdca26\"],[1.0,\"#f0f921\"]],\"type\":\"surface\"}],\"table\":[{\"cells\":{\"fill\":{\"color\":\"#EBF0F8\"},\"line\":{\"color\":\"white\"}},\"header\":{\"fill\":{\"color\":\"#C8D4E3\"},\"line\":{\"color\":\"white\"}},\"type\":\"table\"}]},\"layout\":{\"annotationdefaults\":{\"arrowcolor\":\"#2a3f5f\",\"arrowhead\":0,\"arrowwidth\":1},\"autotypenumbers\":\"strict\",\"coloraxis\":{\"colorbar\":{\"outlinewidth\":0,\"ticks\":\"\"}},\"colorscale\":{\"diverging\":[[0,\"#8e0152\"],[0.1,\"#c51b7d\"],[0.2,\"#de77ae\"],[0.3,\"#f1b6da\"],[0.4,\"#fde0ef\"],[0.5,\"#f7f7f7\"],[0.6,\"#e6f5d0\"],[0.7,\"#b8e186\"],[0.8,\"#7fbc41\"],[0.9,\"#4d9221\"],[1,\"#276419\"]],\"sequential\":[[0.0,\"#0d0887\"],[0.1111111111111111,\"#46039f\"],[0.2222222222222222,\"#7201a8\"],[0.3333333333333333,\"#9c179e\"],[0.4444444444444444,\"#bd3786\"],[0.5555555555555556,\"#d8576b\"],[0.6666666666666666,\"#ed7953\"],[0.7777777777777778,\"#fb9f3a\"],[0.8888888888888888,\"#fdca26\"],[1.0,\"#f0f921\"]],\"sequentialminus\":[[0.0,\"#0d0887\"],[0.1111111111111111,\"#46039f\"],[0.2222222222222222,\"#7201a8\"],[0.3333333333333333,\"#9c179e\"],[0.4444444444444444,\"#bd3786\"],[0.5555555555555556,\"#d8576b\"],[0.6666666666666666,\"#ed7953\"],[0.7777777777777778,\"#fb9f3a\"],[0.8888888888888888,\"#fdca26\"],[1.0,\"#f0f921\"]]},\"colorway\":[\"#636efa\",\"#EF553B\",\"#00cc96\",\"#ab63fa\",\"#FFA15A\",\"#19d3f3\",\"#FF6692\",\"#B6E880\",\"#FF97FF\",\"#FECB52\"],\"font\":{\"color\":\"#2a3f5f\"},\"geo\":{\"bgcolor\":\"white\",\"lakecolor\":\"white\",\"landcolor\":\"#E5ECF6\",\"showlakes\":true,\"showland\":true,\"subunitcolor\":\"white\"},\"hoverlabel\":{\"align\":\"left\"},\"hovermode\":\"closest\",\"mapbox\":{\"style\":\"light\"},\"paper_bgcolor\":\"white\",\"plot_bgcolor\":\"#E5ECF6\",\"polar\":{\"angularaxis\":{\"gridcolor\":\"white\",\"linecolor\":\"white\",\"ticks\":\"\"},\"bgcolor\":\"#E5ECF6\",\"radialaxis\":{\"gridcolor\":\"white\",\"linecolor\":\"white\",\"ticks\":\"\"}},\"scene\":{\"xaxis\":{\"backgroundcolor\":\"#E5ECF6\",\"gridcolor\":\"white\",\"gridwidth\":2,\"linecolor\":\"white\",\"showbackground\":true,\"ticks\":\"\",\"zerolinecolor\":\"white\"},\"yaxis\":{\"backgroundcolor\":\"#E5ECF6\",\"gridcolor\":\"white\",\"gridwidth\":2,\"linecolor\":\"white\",\"showbackground\":true,\"ticks\":\"\",\"zerolinecolor\":\"white\"},\"zaxis\":{\"backgroundcolor\":\"#E5ECF6\",\"gridcolor\":\"white\",\"gridwidth\":2,\"linecolor\":\"white\",\"showbackground\":true,\"ticks\":\"\",\"zerolinecolor\":\"white\"}},\"shapedefaults\":{\"line\":{\"color\":\"#2a3f5f\"}},\"ternary\":{\"aaxis\":{\"gridcolor\":\"white\",\"linecolor\":\"white\",\"ticks\":\"\"},\"baxis\":{\"gridcolor\":\"white\",\"linecolor\":\"white\",\"ticks\":\"\"},\"bgcolor\":\"#E5ECF6\",\"caxis\":{\"gridcolor\":\"white\",\"linecolor\":\"white\",\"ticks\":\"\"}},\"title\":{\"x\":0.05},\"xaxis\":{\"automargin\":true,\"gridcolor\":\"white\",\"linecolor\":\"white\",\"ticks\":\"\",\"title\":{\"standoff\":15},\"zerolinecolor\":\"white\",\"zerolinewidth\":2},\"yaxis\":{\"automargin\":true,\"gridcolor\":\"white\",\"linecolor\":\"white\",\"ticks\":\"\",\"title\":{\"standoff\":15},\"zerolinecolor\":\"white\",\"zerolinewidth\":2}}}},\"margin\":[5,5,5,5],\"name\":\"Plotly247403\",\"viewport_update_throttle\":200},\"id\":\"8597\",\"type\":\"panel.models.plotly.PlotlyPlot\"},{\"attributes\":{},\"id\":\"8621\",\"type\":\"Selection\"},{\"attributes\":{},\"id\":\"8747\",\"type\":\"Selection\"},{\"attributes\":{\"data\":{\"neighborhood\":[\"Union Square District\",\"Merced Heights\",\"Miraloma Park\",\"Pacific Heights\",\"Westwood Park\",\"Telegraph Hill\",\"Presidio Heights\",\"Cow Hollow\",\"Potrero Hill\",\"South Beach\"],\"sale_price_sqr_foot\":{\"__ndarray__\":\"JRAUMfI/jEB9IrkvwqaIQFx/3pp8XohAFpsVUHKMhUBs0ERas3iFQL0KhXgNJIVAy835O80ahUANV25bts+EQJrMCuEbsIRAya3y7v5QhEA=\",\"dtype\":\"float64\",\"order\":\"little\",\"shape\":[10]}},\"selected\":{\"id\":\"8422\"},\"selection_policy\":{\"id\":\"8440\"}},\"id\":\"8421\",\"type\":\"ColumnDataSource\"},{\"attributes\":{\"bottom_units\":\"screen\",\"fill_alpha\":0.5,\"fill_color\":\"lightgrey\",\"left_units\":\"screen\",\"level\":\"overlay\",\"line_alpha\":1.0,\"line_color\":\"black\",\"line_dash\":[4,4],\"line_width\":2,\"right_units\":\"screen\",\"top_units\":\"screen\"},\"id\":\"8072\",\"type\":\"BoxAnnotation\"},{\"attributes\":{},\"id\":\"8622\",\"type\":\"UnionRenderers\"},{\"attributes\":{},\"id\":\"8748\",\"type\":\"UnionRenderers\"},{\"attributes\":{\"data\":{\"customdata\":[{\"__ndarray__\":\"AAAAAABck0D//////+eXQAAAAAAAKKJAAAAAAAA2p0D//////4+rQAEAAAAANq1AAAAAAAAmsUAAAAAAACiiQAAAAAAAkKtAAAAAAAAmsUAAAAAAAFyTQAAAAAAA6JdAAAAAAAAookAAAAAAAJCrQAAAAAAAXJNAAAAAAADol0AAAAAAACiiQAAAAAAANqdAAAAAAACQq0AAAAAAADatQAAAAAAAJrFAAAAAAABck0AAAAAAAOiXQAAAAAAAKKJAAAAAAAA2p0AAAAAAAJCrQAAAAAAANq1AAAAAAAAmsUAAAAAAAFyTQAAAAAAA6JdAAAAAAAAookAAAAAAADanQAAAAAAAkKtAAAAAAAAA+H8AAAAAACaxQAAAAAAAXJNAAAAAAADol0AAAAAAAJCrQAAAAAAAXJNAAAAAAADol0ABAAAAACiiQAAAAAAANqdA//////+Pq0AAAAAAADatQAAAAAAAJrFAAAAAAABck0AAAAAAAOiXQAAAAAAAKKJAAAAAAAA2p0AAAAAAAJCrQAEAAAAANq1A//////+Pq0AAAAAAACaxQP//////W5NAAAAAAADol0ABAAAAACiiQP//////NadAAQAAAACQq0AAAAAAAAD4fwAAAAAAJrFA\",\"dtype\":\"float64\",\"order\":\"little\",\"shape\":[60,1]}],\"ids\":[[\"2010/Cow Hollow\",\"2011/Cow Hollow\",\"2012/Cow Hollow\",\"2013/Cow Hollow\",\"2014/Cow Hollow\",\"2015/Cow Hollow\",\"2016/Cow Hollow\",\"2012/Merced Heights\",\"2014/Merced Heights\",\"2016/Merced Heights\",\"2010/Miraloma Park\",\"2011/Miraloma Park\",\"2012/Miraloma Park\",\"2014/Miraloma Park\",\"2010/Pacific Heights\",\"2011/Pacific Heights\",\"2012/Pacific Heights\",\"2013/Pacific Heights\",\"2014/Pacific Heights\",\"2015/Pacific Heights\",\"2016/Pacific Heights\",\"2010/Potrero Hill\",\"2011/Potrero Hill\",\"2012/Potrero Hill\",\"2013/Potrero Hill\",\"2014/Potrero Hill\",\"2015/Potrero Hill\",\"2016/Potrero Hill\",\"2010/Presidio Heights\",\"2011/Presidio Heights\",\"2012/Presidio Heights\",\"2013/Presidio Heights\",\"2014/Presidio Heights\",\"2015/Presidio Heights\",\"2016/Presidio Heights\",\"2010/South Beach\",\"2011/South Beach\",\"2014/South Beach\",\"2010/Telegraph Hill\",\"2011/Telegraph Hill\",\"2012/Telegraph Hill\",\"2013/Telegraph Hill\",\"2014/Telegraph Hill\",\"2015/Telegraph Hill\",\"2016/Telegraph Hill\",\"2010/Union Square District\",\"2011/Union Square District\",\"2012/Union Square District\",\"2013/Union Square District\",\"2014/Union Square District\",\"2015/Union Square District\",\"2014/Westwood Park\",\"2016/Westwood Park\",\"2010\",\"2011\",\"2012\",\"2013\",\"2014\",\"2015\",\"2016\"]],\"labels\":[[\"Cow Hollow\",\"Cow Hollow\",\"Cow Hollow\",\"Cow Hollow\",\"Cow Hollow\",\"Cow Hollow\",\"Cow Hollow\",\"Merced Heights\",\"Merced Heights\",\"Merced Heights\",\"Miraloma Park\",\"Miraloma Park\",\"Miraloma Park\",\"Miraloma Park\",\"Pacific Heights\",\"Pacific Heights\",\"Pacific Heights\",\"Pacific Heights\",\"Pacific Heights\",\"Pacific Heights\",\"Pacific Heights\",\"Potrero Hill\",\"Potrero Hill\",\"Potrero Hill\",\"Potrero Hill\",\"Potrero Hill\",\"Potrero Hill\",\"Potrero Hill\",\"Presidio Heights\",\"Presidio Heights\",\"Presidio Heights\",\"Presidio Heights\",\"Presidio Heights\",\"Presidio Heights\",\"Presidio Heights\",\"South Beach\",\"South Beach\",\"South Beach\",\"Telegraph Hill\",\"Telegraph Hill\",\"Telegraph Hill\",\"Telegraph Hill\",\"Telegraph Hill\",\"Telegraph Hill\",\"Telegraph Hill\",\"Union Square District\",\"Union Square District\",\"Union Square District\",\"Union Square District\",\"Union Square District\",\"Union Square District\",\"Westwood Park\",\"Westwood Park\",\"2010\",\"2011\",\"2012\",\"2013\",\"2014\",\"2015\",\"2016\"]],\"marker.colors\":[{\"__ndarray__\":\"AAAAAABck0D//////+eXQAAAAAAAKKJAAAAAAAA2p0D//////4+rQAEAAAAANq1AAAAAAAAmsUAAAAAAACiiQAAAAAAAkKtAAAAAAAAmsUAAAAAAAFyTQAAAAAAA6JdAAAAAAAAookAAAAAAAJCrQAAAAAAAXJNAAAAAAADol0AAAAAAACiiQAAAAAAANqdAAAAAAACQq0AAAAAAADatQAAAAAAAJrFAAAAAAABck0AAAAAAAOiXQAAAAAAAKKJAAAAAAAA2p0AAAAAAAJCrQAAAAAAANq1AAAAAAAAmsUAAAAAAAFyTQAAAAAAA6JdAAAAAAAAookAAAAAAADanQAAAAAAAkKtAAAAAAAAA+H8AAAAAACaxQAAAAAAAXJNAAAAAAADol0AAAAAAAJCrQAAAAAAAXJNAAAAAAADol0ABAAAAACiiQAAAAAAANqdA//////+Pq0AAAAAAADatQAAAAAAAJrFAAAAAAABck0AAAAAAAOiXQAAAAAAAKKJAAAAAAAA2p0AAAAAAAJCrQAEAAAAANq1A//////+Pq0AAAAAAACaxQP//////W5NAAAAAAADol0ABAAAAACiiQP//////NadAAQAAAACQq0AAAAAAAAD4fwAAAAAAJrFA\",\"dtype\":\"float64\",\"order\":\"little\",\"shape\":[60]}],\"parents\":[[\"2010\",\"2011\",\"2012\",\"2013\",\"2014\",\"2015\",\"2016\",\"2012\",\"2014\",\"2016\",\"2010\",\"2011\",\"2012\",\"2014\",\"2010\",\"2011\",\"2012\",\"2013\",\"2014\",\"2015\",\"2016\",\"2010\",\"2011\",\"2012\",\"2013\",\"2014\",\"2015\",\"2016\",\"2010\",\"2011\",\"2012\",\"2013\",\"2014\",\"2015\",\"2016\",\"2010\",\"2011\",\"2014\",\"2010\",\"2011\",\"2012\",\"2013\",\"2014\",\"2015\",\"2016\",\"2010\",\"2011\",\"2012\",\"2013\",\"2014\",\"2015\",\"2014\",\"2016\",\"\",\"\",\"\",\"\",\"\",\"\",\"\"]],\"values\":[{\"__ndarray__\":\"LMKfLArLgUAbTXjLh2l4QAnYXuSLJoRAMODd8zgbhkCYJdtc7J6FQJ+1dd72tIJAlnINLUOMkEAwHc+JQlJ6QIqD7vTPhYBArKqqqqoilkCe/mGt3kSFQPFwTCnR6nlAojOZ+omhh0BcSWyXEM+TQMTWDJhBCH9ARk9x+1fQf0C1+2fnvlGCQDUy2V9jfn9A2iErAUXFiUBYm7NjgHGMQJLYpGodI49Ah38+NzO3fkC1zY5QN3J/QFj9s41dKn1AlMC7a6O1gkAa4w1izlSQQF3nsW1oqolAxoQBfzYdhkDWpFbsVyuBQKJctOYJ3X5A0EkKy7ypekD6AizUuAaAQKeMQKSb24JAAAAAAAAAAACHJRzV3+eWQJe7/y5mNJBAFsUVNE9KeECjr83UCGWAQAjqSxtZZoBAEtlSC342fkAe/n191Rx9QDNB5DB+aoRAsS4yVIshhkD31Lf46yePQKqwIO5lOIxA4Ic3LozJgUA7LPDX+OFyQDQwzQom03tAML7sb+MplEBCsqZAK3KBQAl/mNlnpaFAhgoZedY3h0BRlnA7kLmDQDwfsJp1NrNAQUDaB9c6q0AXinkfoHSwQE7/jX6hqrBAdCmdGb5HvUAuod5hzdG1QD0FnK38C7xA\",\"dtype\":\"float64\",\"order\":\"little\",\"shape\":[60]}]},\"selected\":{\"id\":\"8751\"},\"selection_policy\":{\"id\":\"8752\"}},\"id\":\"8596\",\"type\":\"ColumnDataSource\"},{\"attributes\":{\"callback\":null,\"renderers\":[{\"id\":\"8150\"}],\"tags\":[\"hv_created\"],\"tooltips\":[[\"year\",\"@{year}\"],[\"sale_price_sqr_foot\",\"@{sale_price_sqr_foot}\"]]},\"id\":\"8113\",\"type\":\"HoverTool\"},{\"attributes\":{},\"id\":\"8623\",\"type\":\"Selection\"},{\"attributes\":{},\"id\":\"8749\",\"type\":\"Selection\"},{\"attributes\":{},\"id\":\"8624\",\"type\":\"UnionRenderers\"},{\"attributes\":{},\"id\":\"8750\",\"type\":\"UnionRenderers\"},{\"attributes\":{},\"id\":\"8145\",\"type\":\"Selection\"},{\"attributes\":{},\"id\":\"8625\",\"type\":\"Selection\"},{\"attributes\":{},\"id\":\"8751\",\"type\":\"Selection\"},{\"attributes\":{\"child\":{\"id\":\"8520\"},\"name\":\"Column247405\",\"title\":\"Interactive Info Graphics\"},\"id\":\"8598\",\"type\":\"Panel\"},{\"attributes\":{\"fill_color\":{\"field\":\"Variable\",\"transform\":{\"id\":\"8482\"}},\"top\":{\"field\":\"value\"},\"width\":{\"value\":0.8},\"x\":{\"field\":\"xoffsets\"}},\"id\":\"8486\",\"type\":\"VBar\"},{\"attributes\":{\"margin\":[5,5,5,5],\"name\":\"VSpacer247376\",\"sizing_mode\":\"stretch_height\"},\"id\":\"8387\",\"type\":\"Spacer\"},{\"attributes\":{},\"id\":\"8626\",\"type\":\"UnionRenderers\"},{\"attributes\":{},\"id\":\"8752\",\"type\":\"UnionRenderers\"},{\"attributes\":{\"margin\":[0,0,0,0],\"tabs\":[{\"id\":\"8519\"},{\"id\":\"8598\"}]},\"id\":\"8045\",\"type\":\"Tabs\"},{\"attributes\":{\"margin\":[20,20,20,20],\"min_width\":250,\"options\":[\"Cow Hollow\",\"Miraloma Park\",\"Pacific Heights\",\"Potrero Hill\",\"Presidio Heights\",\"South Beach\",\"Telegraph Hill\",\"Union Square District\",\"Merced Heights\",\"Westwood Park\"],\"title\":\"neighborhood\",\"value\":\"Cow Hollow\",\"width\":250},\"id\":\"8517\",\"type\":\"Select\"},{\"attributes\":{},\"id\":\"8128\",\"type\":\"BasicTicker\"},{\"attributes\":{},\"id\":\"8627\",\"type\":\"Selection\"},{\"attributes\":{\"children\":[{\"id\":\"8222\"},{\"id\":\"8221\"}]},\"id\":\"8223\",\"type\":\"Column\"},{\"attributes\":{\"line_alpha\":0.2,\"line_color\":\"#1f77b3\",\"line_width\":2,\"x\":{\"field\":\"year\"},\"y\":{\"field\":\"gross_rent\"}},\"id\":\"8193\",\"type\":\"Line\"},{\"attributes\":{\"fill_alpha\":{\"value\":0.2},\"fill_color\":{\"field\":\"Variable\",\"transform\":{\"id\":\"8482\"}},\"line_alpha\":{\"value\":0.2},\"top\":{\"field\":\"value\"},\"width\":{\"value\":0.8},\"x\":{\"field\":\"xoffsets\"}},\"id\":\"8488\",\"type\":\"VBar\"},{\"attributes\":{},\"id\":\"8628\",\"type\":\"UnionRenderers\"},{\"attributes\":{\"children\":[[{\"id\":\"8114\"},0,0],[{\"id\":\"8158\"},0,1]]},\"id\":\"8218\",\"type\":\"GridBox\"},{\"attributes\":{\"callback\":null,\"renderers\":[{\"id\":\"8489\"}],\"tags\":[\"hv_created\"],\"tooltips\":[[\"year\",\"@{year}\"],[\"Variable\",\"@{Variable}\"],[\"value\",\"@{value}\"]]},\"id\":\"8452\",\"type\":\"HoverTool\"},{\"attributes\":{\"below\":[{\"id\":\"8167\"}],\"center\":[{\"id\":\"8170\"},{\"id\":\"8174\"}],\"left\":[{\"id\":\"8171\"}],\"margin\":null,\"min_border_bottom\":10,\"min_border_left\":10,\"min_border_right\":10,\"min_border_top\":10,\"plot_height\":300,\"plot_width\":700,\"renderers\":[{\"id\":\"8194\"}],\"sizing_mode\":\"fixed\",\"title\":{\"id\":\"8159\"},\"toolbar\":{\"id\":\"8181\"},\"toolbar_location\":null,\"x_range\":{\"id\":\"8111\"},\"x_scale\":{\"id\":\"8163\"},\"y_range\":{\"id\":\"8156\"},\"y_scale\":{\"id\":\"8165\"}},\"id\":\"8158\",\"subtype\":\"Figure\",\"type\":\"Plot\"},{\"attributes\":{},\"id\":\"8629\",\"type\":\"Selection\"},{\"attributes\":{\"source\":{\"id\":\"8080\"}},\"id\":\"8087\",\"type\":\"CDSView\"},{\"attributes\":{\"margin\":[20,20,20,20],\"min_width\":250,\"options\":[\"Alamo Square\",\"Anza Vista\",\"Bayview\",\"Bayview Heights\",\"Bernal Heights \",\"Buena Vista Park\",\"Central Richmond\",\"Central Sunset\",\"Clarendon Heights\",\"Corona Heights\",\"Cow Hollow\",\"Croker Amazon\",\"Diamond Heights\",\"Downtown \",\"Duboce Triangle\",\"Eureka Valley/Dolores Heights\",\"Excelsior\",\"Financial District North\",\"Financial District South\",\"Forest Knolls\",\"Glen Park\",\"Golden Gate Heights\",\"Haight Ashbury\",\"Hayes Valley\",\"Hunters Point\",\"Ingleside \",\"Ingleside Heights\",\"Inner Mission\",\"Inner Parkside\",\"Inner Richmond\",\"Inner Sunset\",\"Jordan Park/Laurel Heights\",\"Lake --The Presidio\",\"Lone Mountain\",\"Lower Pacific Heights\",\"Marina\",\"Merced Heights\",\"Midtown Terrace\",\"Miraloma Park\",\"Mission Bay\",\"Mission Dolores\",\"Mission Terrace\",\"Nob Hill\",\"Noe Valley\",\"North Beach\",\"North Waterfront\",\"Oceanview\",\"Outer Mission\",\"Outer Parkside\",\"Outer Richmond \",\"Outer Sunset\",\"Pacific Heights\",\"Park North\",\"Parkside\",\"Parnassus/Ashbury Heights\",\"Portola\",\"Potrero Hill\",\"Presidio Heights\",\"Russian Hill\",\"Silver Terrace\",\"South Beach\",\"South of Market\",\"Sunnyside\",\"Telegraph Hill\",\"Twin Peaks\",\"Union Square District\",\"Van Ness/ Civic Center\",\"Visitacion Valley\",\"West Portal\",\"Western Addition\",\"Westwood Highlands\",\"Westwood Park\",\"Yerba Buena\"],\"title\":\"neighborhood\",\"value\":\"Alamo Square\",\"width\":250},\"id\":\"8386\",\"type\":\"Select\"},{\"attributes\":{\"format\":\"%.0f\"},\"id\":\"8088\",\"type\":\"PrintfTickFormatter\"},{\"attributes\":{},\"id\":\"8196\",\"type\":\"BasicTickFormatter\"},{\"attributes\":{},\"id\":\"8630\",\"type\":\"UnionRenderers\"},{\"attributes\":{\"_render_count\":0,\"config\":null,\"data\":[{\"dimensions\":[{\"label\":\"sale_price_sqr_foot\"},{\"label\":\"housing_units\"},{\"label\":\"gross_rent\"},{\"label\":\"index\"}],\"domain\":{\"x\":[0.0,1.0],\"y\":[0.0,1.0]},\"line\":{\"coloraxis\":\"coloraxis\"},\"name\":\"\",\"type\":\"parcoords\"}],\"data_sources\":[{\"id\":\"8524\"}],\"layout\":{\"coloraxis\":{\"colorbar\":{\"title\":{\"text\":\"index\"}},\"colorscale\":[[0.0,\"#0d0887\"],[0.1111111111111111,\"#46039f\"],[0.2222222222222222,\"#7201a8\"],[0.3333333333333333,\"#9c179e\"],[0.4444444444444444,\"#bd3786\"],[0.5555555555555556,\"#d8576b\"],[0.6666666666666666,\"#ed7953\"],[0.7777777777777778,\"#fb9f3a\"],[0.8888888888888888,\"#fdca26\"],[1.0,\"#f0f921\"]]},\"height\":500,\"legend\":{\"tracegroupgap\":0},\"margin\":{\"t\":60},\"template\":{\"data\":{\"bar\":[{\"error_x\":{\"color\":\"#2a3f5f\"},\"error_y\":{\"color\":\"#2a3f5f\"},\"marker\":{\"line\":{\"color\":\"#E5ECF6\",\"width\":0.5}},\"type\":\"bar\"}],\"barpolar\":[{\"marker\":{\"line\":{\"color\":\"#E5ECF6\",\"width\":0.5}},\"type\":\"barpolar\"}],\"carpet\":[{\"aaxis\":{\"endlinecolor\":\"#2a3f5f\",\"gridcolor\":\"white\",\"linecolor\":\"white\",\"minorgridcolor\":\"white\",\"startlinecolor\":\"#2a3f5f\"},\"baxis\":{\"endlinecolor\":\"#2a3f5f\",\"gridcolor\":\"white\",\"linecolor\":\"white\",\"minorgridcolor\":\"white\",\"startlinecolor\":\"#2a3f5f\"},\"type\":\"carpet\"}],\"choropleth\":[{\"colorbar\":{\"outlinewidth\":0,\"ticks\":\"\"},\"type\":\"choropleth\"}],\"contour\":[{\"colorbar\":{\"outlinewidth\":0,\"ticks\":\"\"},\"colorscale\":[[0.0,\"#0d0887\"],[0.1111111111111111,\"#46039f\"],[0.2222222222222222,\"#7201a8\"],[0.3333333333333333,\"#9c179e\"],[0.4444444444444444,\"#bd3786\"],[0.5555555555555556,\"#d8576b\"],[0.6666666666666666,\"#ed7953\"],[0.7777777777777778,\"#fb9f3a\"],[0.8888888888888888,\"#fdca26\"],[1.0,\"#f0f921\"]],\"type\":\"contour\"}],\"contourcarpet\":[{\"colorbar\":{\"outlinewidth\":0,\"ticks\":\"\"},\"type\":\"contourcarpet\"}],\"heatmap\":[{\"colorbar\":{\"outlinewidth\":0,\"ticks\":\"\"},\"colorscale\":[[0.0,\"#0d0887\"],[0.1111111111111111,\"#46039f\"],[0.2222222222222222,\"#7201a8\"],[0.3333333333333333,\"#9c179e\"],[0.4444444444444444,\"#bd3786\"],[0.5555555555555556,\"#d8576b\"],[0.6666666666666666,\"#ed7953\"],[0.7777777777777778,\"#fb9f3a\"],[0.8888888888888888,\"#fdca26\"],[1.0,\"#f0f921\"]],\"type\":\"heatmap\"}],\"heatmapgl\":[{\"colorbar\":{\"outlinewidth\":0,\"ticks\":\"\"},\"colorscale\":[[0.0,\"#0d0887\"],[0.1111111111111111,\"#46039f\"],[0.2222222222222222,\"#7201a8\"],[0.3333333333333333,\"#9c179e\"],[0.4444444444444444,\"#bd3786\"],[0.5555555555555556,\"#d8576b\"],[0.6666666666666666,\"#ed7953\"],[0.7777777777777778,\"#fb9f3a\"],[0.8888888888888888,\"#fdca26\"],[1.0,\"#f0f921\"]],\"type\":\"heatmapgl\"}],\"histogram\":[{\"marker\":{\"colorbar\":{\"outlinewidth\":0,\"ticks\":\"\"}},\"type\":\"histogram\"}],\"histogram2d\":[{\"colorbar\":{\"outlinewidth\":0,\"ticks\":\"\"},\"colorscale\":[[0.0,\"#0d0887\"],[0.1111111111111111,\"#46039f\"],[0.2222222222222222,\"#7201a8\"],[0.3333333333333333,\"#9c179e\"],[0.4444444444444444,\"#bd3786\"],[0.5555555555555556,\"#d8576b\"],[0.6666666666666666,\"#ed7953\"],[0.7777777777777778,\"#fb9f3a\"],[0.8888888888888888,\"#fdca26\"],[1.0,\"#f0f921\"]],\"type\":\"histogram2d\"}],\"histogram2dcontour\":[{\"colorbar\":{\"outlinewidth\":0,\"ticks\":\"\"},\"colorscale\":[[0.0,\"#0d0887\"],[0.1111111111111111,\"#46039f\"],[0.2222222222222222,\"#7201a8\"],[0.3333333333333333,\"#9c179e\"],[0.4444444444444444,\"#bd3786\"],[0.5555555555555556,\"#d8576b\"],[0.6666666666666666,\"#ed7953\"],[0.7777777777777778,\"#fb9f3a\"],[0.8888888888888888,\"#fdca26\"],[1.0,\"#f0f921\"]],\"type\":\"histogram2dcontour\"}],\"mesh3d\":[{\"colorbar\":{\"outlinewidth\":0,\"ticks\":\"\"},\"type\":\"mesh3d\"}],\"parcoords\":[{\"line\":{\"colorbar\":{\"outlinewidth\":0,\"ticks\":\"\"}},\"type\":\"parcoords\"}],\"pie\":[{\"automargin\":true,\"type\":\"pie\"}],\"scatter\":[{\"marker\":{\"colorbar\":{\"outlinewidth\":0,\"ticks\":\"\"}},\"type\":\"scatter\"}],\"scatter3d\":[{\"line\":{\"colorbar\":{\"outlinewidth\":0,\"ticks\":\"\"}},\"marker\":{\"colorbar\":{\"outlinewidth\":0,\"ticks\":\"\"}},\"type\":\"scatter3d\"}],\"scattercarpet\":[{\"marker\":{\"colorbar\":{\"outlinewidth\":0,\"ticks\":\"\"}},\"type\":\"scattercarpet\"}],\"scattergeo\":[{\"marker\":{\"colorbar\":{\"outlinewidth\":0,\"ticks\":\"\"}},\"type\":\"scattergeo\"}],\"scattergl\":[{\"marker\":{\"colorbar\":{\"outlinewidth\":0,\"ticks\":\"\"}},\"type\":\"scattergl\"}],\"scattermapbox\":[{\"marker\":{\"colorbar\":{\"outlinewidth\":0,\"ticks\":\"\"}},\"type\":\"scattermapbox\"}],\"scatterpolar\":[{\"marker\":{\"colorbar\":{\"outlinewidth\":0,\"ticks\":\"\"}},\"type\":\"scatterpolar\"}],\"scatterpolargl\":[{\"marker\":{\"colorbar\":{\"outlinewidth\":0,\"ticks\":\"\"}},\"type\":\"scatterpolargl\"}],\"scatterternary\":[{\"marker\":{\"colorbar\":{\"outlinewidth\":0,\"ticks\":\"\"}},\"type\":\"scatterternary\"}],\"surface\":[{\"colorbar\":{\"outlinewidth\":0,\"ticks\":\"\"},\"colorscale\":[[0.0,\"#0d0887\"],[0.1111111111111111,\"#46039f\"],[0.2222222222222222,\"#7201a8\"],[0.3333333333333333,\"#9c179e\"],[0.4444444444444444,\"#bd3786\"],[0.5555555555555556,\"#d8576b\"],[0.6666666666666666,\"#ed7953\"],[0.7777777777777778,\"#fb9f3a\"],[0.8888888888888888,\"#fdca26\"],[1.0,\"#f0f921\"]],\"type\":\"surface\"}],\"table\":[{\"cells\":{\"fill\":{\"color\":\"#EBF0F8\"},\"line\":{\"color\":\"white\"}},\"header\":{\"fill\":{\"color\":\"#C8D4E3\"},\"line\":{\"color\":\"white\"}},\"type\":\"table\"}]},\"layout\":{\"annotationdefaults\":{\"arrowcolor\":\"#2a3f5f\",\"arrowhead\":0,\"arrowwidth\":1},\"autotypenumbers\":\"strict\",\"coloraxis\":{\"colorbar\":{\"outlinewidth\":0,\"ticks\":\"\"}},\"colorscale\":{\"diverging\":[[0,\"#8e0152\"],[0.1,\"#c51b7d\"],[0.2,\"#de77ae\"],[0.3,\"#f1b6da\"],[0.4,\"#fde0ef\"],[0.5,\"#f7f7f7\"],[0.6,\"#e6f5d0\"],[0.7,\"#b8e186\"],[0.8,\"#7fbc41\"],[0.9,\"#4d9221\"],[1,\"#276419\"]],\"sequential\":[[0.0,\"#0d0887\"],[0.1111111111111111,\"#46039f\"],[0.2222222222222222,\"#7201a8\"],[0.3333333333333333,\"#9c179e\"],[0.4444444444444444,\"#bd3786\"],[0.5555555555555556,\"#d8576b\"],[0.6666666666666666,\"#ed7953\"],[0.7777777777777778,\"#fb9f3a\"],[0.8888888888888888,\"#fdca26\"],[1.0,\"#f0f921\"]],\"sequentialminus\":[[0.0,\"#0d0887\"],[0.1111111111111111,\"#46039f\"],[0.2222222222222222,\"#7201a8\"],[0.3333333333333333,\"#9c179e\"],[0.4444444444444444,\"#bd3786\"],[0.5555555555555556,\"#d8576b\"],[0.6666666666666666,\"#ed7953\"],[0.7777777777777778,\"#fb9f3a\"],[0.8888888888888888,\"#fdca26\"],[1.0,\"#f0f921\"]]},\"colorway\":[\"#636efa\",\"#EF553B\",\"#00cc96\",\"#ab63fa\",\"#FFA15A\",\"#19d3f3\",\"#FF6692\",\"#B6E880\",\"#FF97FF\",\"#FECB52\"],\"font\":{\"color\":\"#2a3f5f\"},\"geo\":{\"bgcolor\":\"white\",\"lakecolor\":\"white\",\"landcolor\":\"#E5ECF6\",\"showlakes\":true,\"showland\":true,\"subunitcolor\":\"white\"},\"hoverlabel\":{\"align\":\"left\"},\"hovermode\":\"closest\",\"mapbox\":{\"style\":\"light\"},\"paper_bgcolor\":\"white\",\"plot_bgcolor\":\"#E5ECF6\",\"polar\":{\"angularaxis\":{\"gridcolor\":\"white\",\"linecolor\":\"white\",\"ticks\":\"\"},\"bgcolor\":\"#E5ECF6\",\"radialaxis\":{\"gridcolor\":\"white\",\"linecolor\":\"white\",\"ticks\":\"\"}},\"scene\":{\"xaxis\":{\"backgroundcolor\":\"#E5ECF6\",\"gridcolor\":\"white\",\"gridwidth\":2,\"linecolor\":\"white\",\"showbackground\":true,\"ticks\":\"\",\"zerolinecolor\":\"white\"},\"yaxis\":{\"backgroundcolor\":\"#E5ECF6\",\"gridcolor\":\"white\",\"gridwidth\":2,\"linecolor\":\"white\",\"showbackground\":true,\"ticks\":\"\",\"zerolinecolor\":\"white\"},\"zaxis\":{\"backgroundcolor\":\"#E5ECF6\",\"gridcolor\":\"white\",\"gridwidth\":2,\"linecolor\":\"white\",\"showbackground\":true,\"ticks\":\"\",\"zerolinecolor\":\"white\"}},\"shapedefaults\":{\"line\":{\"color\":\"#2a3f5f\"}},\"ternary\":{\"aaxis\":{\"gridcolor\":\"white\",\"linecolor\":\"white\",\"ticks\":\"\"},\"baxis\":{\"gridcolor\":\"white\",\"linecolor\":\"white\",\"ticks\":\"\"},\"bgcolor\":\"#E5ECF6\",\"caxis\":{\"gridcolor\":\"white\",\"linecolor\":\"white\",\"ticks\":\"\"}},\"title\":{\"x\":0.05},\"xaxis\":{\"automargin\":true,\"gridcolor\":\"white\",\"linecolor\":\"white\",\"ticks\":\"\",\"title\":{\"standoff\":15},\"zerolinecolor\":\"white\",\"zerolinewidth\":2},\"yaxis\":{\"automargin\":true,\"gridcolor\":\"white\",\"linecolor\":\"white\",\"ticks\":\"\",\"title\":{\"standoff\":15},\"zerolinecolor\":\"white\",\"zerolinewidth\":2}}},\"width\":1000},\"margin\":[5,5,5,5],\"name\":\"Plotly247399\",\"viewport_update_throttle\":200},\"id\":\"8525\",\"type\":\"panel.models.plotly.PlotlyPlot\"},{\"attributes\":{},\"id\":\"8632\",\"type\":\"UnionRenderers\"},{\"attributes\":{},\"id\":\"8663\",\"type\":\"Selection\"},{\"attributes\":{},\"id\":\"8695\",\"type\":\"Selection\"},{\"attributes\":{},\"id\":\"8631\",\"type\":\"Selection\"},{\"attributes\":{},\"id\":\"8662\",\"type\":\"UnionRenderers\"},{\"attributes\":{},\"id\":\"8694\",\"type\":\"UnionRenderers\"},{\"attributes\":{\"data\":{\"lat\":[{\"__ndarray__\":\"6DBfXoDlQkA=\",\"dtype\":\"float64\",\"order\":\"little\",\"shape\":[1]}],\"lon\":[{\"__ndarray__\":\"VFxV9l2ZXsA=\",\"dtype\":\"float64\",\"order\":\"little\",\"shape\":[1]}],\"marker.size\":[{\"__ndarray__\":\"VVVVVVX2o0A=\",\"dtype\":\"float64\",\"order\":\"little\",\"shape\":[1]}]},\"selected\":{\"id\":\"8749\"},\"selection_policy\":{\"id\":\"8750\"}},\"id\":\"8594\",\"type\":\"ColumnDataSource\"},{\"attributes\":{},\"id\":\"8633\",\"type\":\"Selection\"},{\"attributes\":{},\"id\":\"8664\",\"type\":\"UnionRenderers\"},{\"attributes\":{},\"id\":\"8696\",\"type\":\"UnionRenderers\"},{\"attributes\":{\"text\":\"High cost of living   neighborhood: Cow Hollow\",\"text_color\":{\"value\":\"black\"},\"text_font_size\":{\"value\":\"12pt\"}},\"id\":\"8454\",\"type\":\"Title\"},{\"attributes\":{},\"id\":\"8665\",\"type\":\"Selection\"},{\"attributes\":{\"axis_label\":\"year\",\"bounds\":\"auto\",\"formatter\":{\"id\":\"8196\"},\"major_label_orientation\":\"horizontal\",\"ticker\":{\"id\":\"8168\"}},\"id\":\"8167\",\"type\":\"LinearAxis\"},{\"attributes\":{},\"id\":\"8069\",\"type\":\"WheelZoomTool\"},{\"attributes\":{},\"id\":\"8634\",\"type\":\"UnionRenderers\"},{\"attributes\":{},\"id\":\"8697\",\"type\":\"Selection\"},{\"attributes\":{},\"id\":\"8177\",\"type\":\"WheelZoomTool\"},{\"attributes\":{\"below\":[{\"id\":\"8462\"}],\"center\":[{\"id\":\"8464\"},{\"id\":\"8468\"}],\"left\":[{\"id\":\"8465\"}],\"margin\":[5,5,5,5],\"min_border_bottom\":10,\"min_border_left\":10,\"min_border_right\":10,\"min_border_top\":10,\"plot_height\":300,\"plot_width\":700,\"renderers\":[{\"id\":\"8489\"}],\"sizing_mode\":\"fixed\",\"title\":{\"id\":\"8454\"},\"toolbar\":{\"id\":\"8475\"},\"x_range\":{\"id\":\"8450\"},\"x_scale\":{\"id\":\"8458\"},\"y_range\":{\"id\":\"8451\"},\"y_scale\":{\"id\":\"8460\"}},\"id\":\"8453\",\"subtype\":\"Figure\",\"type\":\"Plot\"},{\"attributes\":{\"data\":{\"lat\":[{\"__ndarray__\":\"4C2QoPjdQkA=\",\"dtype\":\"float64\",\"order\":\"little\",\"shape\":[1]}],\"lon\":[{\"__ndarray__\":\"aZHtfD+dXsA=\",\"dtype\":\"float64\",\"order\":\"little\",\"shape\":[1]}],\"marker.size\":[{\"__ndarray__\":\"AAAAAACnpkA=\",\"dtype\":\"float64\",\"order\":\"little\",\"shape\":[1]}]},\"selected\":{\"id\":\"8729\"},\"selection_policy\":{\"id\":\"8730\"}},\"id\":\"8584\",\"type\":\"ColumnDataSource\"},{\"attributes\":{},\"id\":\"8666\",\"type\":\"UnionRenderers\"},{\"attributes\":{\"toolbars\":[{\"id\":\"8137\"},{\"id\":\"8181\"}],\"tools\":[{\"id\":\"8113\"},{\"id\":\"8131\"},{\"id\":\"8132\"},{\"id\":\"8133\"},{\"id\":\"8134\"},{\"id\":\"8135\"},{\"id\":\"8157\"},{\"id\":\"8175\"},{\"id\":\"8176\"},{\"id\":\"8177\"},{\"id\":\"8178\"},{\"id\":\"8179\"}]},\"id\":\"8219\",\"type\":\"ProxyToolbar\"},{\"attributes\":{},\"id\":\"8635\",\"type\":\"Selection\"},{\"attributes\":{},\"id\":\"8698\",\"type\":\"UnionRenderers\"},{\"attributes\":{\"bottom_units\":\"screen\",\"fill_alpha\":0.5,\"fill_color\":\"lightgrey\",\"left_units\":\"screen\",\"level\":\"overlay\",\"line_alpha\":1.0,\"line_color\":\"black\",\"line_dash\":[4,4],\"line_width\":2,\"right_units\":\"screen\",\"top_units\":\"screen\"},\"id\":\"8136\",\"type\":\"BoxAnnotation\"},{\"attributes\":{},\"id\":\"8068\",\"type\":\"PanTool\"},{\"attributes\":{\"data\":{\"dimensions.0.values\":[{\"__ndarray__\":\"DVduW7bPhEB9IrkvwqaIQFx/3pp8XohAFpsVUHKMhUCazArhG7CEQMvN+TvNGoVAya3y7v5QhEC9CoV4DSSFQCUQFDHyP4xAbNBEWrN4hUA=\",\"dtype\":\"float64\",\"order\":\"little\",\"shape\":[10]}],\"dimensions.1.values\":[{\"__ndarray__\":\"AAAAAIQYF0EAAAAA8DYXQQAAAAB98hZBAAAAAIQYF0EAAAAAhBgXQQAAAACEGBdBAAAAAPTvFkEAAAAAhBgXQQAAAABOCRdBAAAAAFxVF0E=\",\"dtype\":\"float64\",\"order\":\"little\",\"shape\":[10]}],\"dimensions.2.values\":[{\"__ndarray__\":\"SZIkSZICpkAAAAAAAKyqQAAAAACA1qBASZIkSZICpkBJkiRJkgKmQEmSJEmSAqZAAAAAAABmoEBJkiRJkgKmQFVVVVVV9qNAAAAAAADurkA=\",\"dtype\":\"float64\",\"order\":\"little\",\"shape\":[10]}],\"dimensions.3.values\":[[0,1,2,3,4,5,6,7,8,9]],\"line.color\":[[0,1,2,3,4,5,6,7,8,9]]},\"selected\":{\"id\":\"8611\"},\"selection_policy\":{\"id\":\"8612\"}},\"id\":\"8524\",\"type\":\"ColumnDataSource\"},{\"attributes\":{},\"id\":\"8667\",\"type\":\"Selection\"},{\"attributes\":{},\"id\":\"8067\",\"type\":\"SaveTool\"},{\"attributes\":{},\"id\":\"8699\",\"type\":\"Selection\"},{\"attributes\":{},\"id\":\"8636\",\"type\":\"UnionRenderers\"},{\"attributes\":{\"children\":[{\"id\":\"8516\"},{\"id\":\"8518\"}],\"margin\":[0,0,0,0],\"name\":\"Column247393\"},\"id\":\"8515\",\"type\":\"Column\"},{\"attributes\":{\"data\":{\"gross_rent\":[1239,1530,2324,2971,3528,3739,4390],\"year\":[2010,2011,2012,2013,2014,2015,2016]},\"selected\":{\"id\":\"8189\"},\"selection_policy\":{\"id\":\"8216\"}},\"id\":\"8188\",\"type\":\"ColumnDataSource\"},{\"attributes\":{},\"id\":\"8668\",\"type\":\"UnionRenderers\"},{\"attributes\":{\"fill_alpha\":{\"value\":0.2},\"fill_color\":{\"value\":\"#1f77b3\"},\"line_alpha\":{\"value\":0.2},\"top\":{\"field\":\"housing_units\"},\"width\":{\"value\":0.8},\"x\":{\"field\":\"year\"}},\"id\":\"8085\",\"type\":\"VBar\"},{\"attributes\":{},\"id\":\"8637\",\"type\":\"Selection\"},{\"attributes\":{},\"id\":\"8700\",\"type\":\"UnionRenderers\"},{\"attributes\":{},\"id\":\"8124\",\"type\":\"BasicTicker\"},{\"attributes\":{\"css_classes\":[\"markdown\"],\"margin\":[5,5,5,5],\"name\":\"Markdown247358\",\"text\":\"&lt;h2&gt;San Francisco Average Housing Cost&lt;/h2&gt;\"},\"id\":\"8047\",\"type\":\"panel.models.markup.HTML\"},{\"attributes\":{\"data\":{\"lat\":[{\"__ndarray__\":\"CmgibHjmQkA=\",\"dtype\":\"float64\",\"order\":\"little\",\"shape\":[1]}],\"lon\":[{\"__ndarray__\":\"q7LviuCZXsA=\",\"dtype\":\"float64\",\"order\":\"little\",\"shape\":[1]}],\"marker.size\":[{\"__ndarray__\":\"SZIkSZICpkA=\",\"dtype\":\"float64\",\"order\":\"little\",\"shape\":[1]}]},\"selected\":{\"id\":\"8731\"},\"selection_policy\":{\"id\":\"8732\"}},\"id\":\"8585\",\"type\":\"ColumnDataSource\"},{\"attributes\":{},\"id\":\"8669\",\"type\":\"Selection\"},{\"attributes\":{\"factors\":[\"Union Square District\",\"Merced Heights\",\"Miraloma Park\",\"Pacific Heights\",\"Westwood Park\",\"Telegraph Hill\",\"Presidio Heights\",\"Cow Hollow\",\"Potrero Hill\",\"South Beach\"],\"tags\":[[[\"neighborhood\",\"neighborhood\",null]]]},\"id\":\"8389\",\"type\":\"FactorRange\"},{\"attributes\":{},\"id\":\"8458\",\"type\":\"CategoricalScale\"},{\"attributes\":{},\"id\":\"8638\",\"type\":\"UnionRenderers\"},{\"attributes\":{},\"id\":\"8701\",\"type\":\"Selection\"},{\"attributes\":{},\"id\":\"8165\",\"type\":\"LinearScale\"},{\"attributes\":{},\"id\":\"8670\",\"type\":\"UnionRenderers\"},{\"attributes\":{\"fill_alpha\":{\"value\":0.1},\"fill_color\":{\"value\":\"#1f77b3\"},\"line_alpha\":{\"value\":0.1},\"top\":{\"field\":\"housing_units\"},\"width\":{\"value\":0.8},\"x\":{\"field\":\"year\"}},\"id\":\"8084\",\"type\":\"VBar\"},{\"attributes\":{\"end\":1000.0,\"reset_end\":644.0175329447045,\"reset_start\":141.1976609302527,\"start\":141.1976609302527,\"tags\":[[[\"sale_price_sqr_foot\",\"sale_price_sqr_foot\",null]]]},\"id\":\"8112\",\"type\":\"Range1d\"},{\"attributes\":{\"line_color\":\"#1f77b3\",\"line_width\":2,\"x\":{\"field\":\"year\"},\"y\":{\"field\":\"sale_price_sqr_foot\"}},\"id\":\"8147\",\"type\":\"Line\"},{\"attributes\":{},\"id\":\"8702\",\"type\":\"UnionRenderers\"},{\"attributes\":{\"axis\":{\"id\":\"8462\"},\"grid_line_color\":null,\"ticker\":null},\"id\":\"8464\",\"type\":\"Grid\"},{\"attributes\":{},\"id\":\"8639\",\"type\":\"Selection\"},{\"attributes\":{},\"id\":\"8671\",\"type\":\"Selection\"},{\"attributes\":{},\"id\":\"8463\",\"type\":\"CategoricalTicker\"},{\"attributes\":{\"overlay\":{\"id\":\"8072\"}},\"id\":\"8070\",\"type\":\"BoxZoomTool\"},{\"attributes\":{},\"id\":\"8460\",\"type\":\"LinearScale\"},{\"attributes\":{},\"id\":\"8640\",\"type\":\"UnionRenderers\"},{\"attributes\":{},\"id\":\"8703\",\"type\":\"Selection\"},{\"attributes\":{\"data\":{\"lat\":[{\"__ndarray__\":\"yFuufmzgQkA=\",\"dtype\":\"float64\",\"order\":\"little\",\"shape\":[1]}],\"lon\":[{\"__ndarray__\":\"RdeFH5ycXsA=\",\"dtype\":\"float64\",\"order\":\"little\",\"shape\":[1]}],\"marker.size\":[{\"__ndarray__\":\"SZIkSZICpkA=\",\"dtype\":\"float64\",\"order\":\"little\",\"shape\":[1]}]},\"selected\":{\"id\":\"8733\"},\"selection_policy\":{\"id\":\"8734\"}},\"id\":\"8586\",\"type\":\"ColumnDataSource\"},{\"attributes\":{},\"id\":\"8672\",\"type\":\"UnionRenderers\"},{\"attributes\":{},\"id\":\"8089\",\"type\":\"CategoricalTickFormatter\"},{\"attributes\":{\"axis_label\":\"Yearly Rent vs Price/sqft\",\"bounds\":\"auto\",\"formatter\":{\"id\":\"8491\"},\"major_label_orientation\":1.5707963267948966,\"ticker\":{\"id\":\"8463\"}},\"id\":\"8462\",\"type\":\"CategoricalAxis\"},{\"attributes\":{},\"id\":\"8641\",\"type\":\"Selection\"},{\"attributes\":{},\"id\":\"8704\",\"type\":\"UnionRenderers\"},{\"attributes\":{},\"id\":\"8673\",\"type\":\"Selection\"},{\"attributes\":{\"source\":{\"id\":\"8483\"}},\"id\":\"8490\",\"type\":\"CDSView\"},{\"attributes\":{},\"id\":\"8642\",\"type\":\"UnionRenderers\"},{\"attributes\":{},\"id\":\"8705\",\"type\":\"Selection\"},{\"attributes\":{},\"id\":\"8121\",\"type\":\"LinearScale\"},{\"attributes\":{\"data_source\":{\"id\":\"8080\"},\"glyph\":{\"id\":\"8083\"},\"hover_glyph\":null,\"muted_glyph\":{\"id\":\"8085\"},\"nonselection_glyph\":{\"id\":\"8084\"},\"selection_glyph\":null,\"view\":{\"id\":\"8087\"}},\"id\":\"8086\",\"type\":\"GlyphRenderer\"},{\"attributes\":{},\"id\":\"8674\",\"type\":\"UnionRenderers\"},{\"attributes\":{\"data_source\":{\"id\":\"8483\"},\"glyph\":{\"id\":\"8486\"},\"hover_glyph\":null,\"muted_glyph\":{\"id\":\"8488\"},\"nonselection_glyph\":{\"id\":\"8487\"},\"selection_glyph\":null,\"view\":{\"id\":\"8490\"}},\"id\":\"8489\",\"type\":\"GlyphRenderer\"},{\"attributes\":{\"axis_label\":\"Average Price\",\"bounds\":\"auto\",\"formatter\":{\"id\":\"8493\"},\"major_label_orientation\":\"horizontal\",\"ticker\":{\"id\":\"8466\"}},\"id\":\"8465\",\"type\":\"LinearAxis\"},{\"attributes\":{},\"id\":\"8643\",\"type\":\"Selection\"},{\"attributes\":{},\"id\":\"8706\",\"type\":\"UnionRenderers\"},{\"attributes\":{\"data\":{\"lat\":[{\"__ndarray__\":\"jGfQ0D/lQkA=\",\"dtype\":\"float64\",\"order\":\"little\",\"shape\":[1]}],\"lon\":[{\"__ndarray__\":\"L26jAbyZXsA=\",\"dtype\":\"float64\",\"order\":\"little\",\"shape\":[1]}],\"marker.size\":[{\"__ndarray__\":\"VVVVVVX2o0A=\",\"dtype\":\"float64\",\"order\":\"little\",\"shape\":[1]}]},\"selected\":{\"id\":\"8735\"},\"selection_policy\":{\"id\":\"8736\"}},\"id\":\"8587\",\"type\":\"ColumnDataSource\"},{\"attributes\":{},\"id\":\"8675\",\"type\":\"Selection\"},{\"attributes\":{},\"id\":\"8644\",\"type\":\"UnionRenderers\"},{\"attributes\":{},\"id\":\"8707\",\"type\":\"Selection\"},{\"attributes\":{},\"id\":\"8466\",\"type\":\"BasicTicker\"},{\"attributes\":{\"axis\":{\"id\":\"8465\"},\"dimension\":1,\"grid_line_color\":null,\"ticker\":null},\"id\":\"8468\",\"type\":\"Grid\"},{\"attributes\":{},\"id\":\"8676\",\"type\":\"UnionRenderers\"},{\"attributes\":{},\"id\":\"8645\",\"type\":\"Selection\"},{\"attributes\":{},\"id\":\"8708\",\"type\":\"UnionRenderers\"},{\"attributes\":{},\"id\":\"8677\",\"type\":\"Selection\"},{\"attributes\":{},\"id\":\"8646\",\"type\":\"UnionRenderers\"},{\"attributes\":{},\"id\":\"8709\",\"type\":\"Selection\"},{\"attributes\":{\"data\":{\"lat\":[{\"__ndarray__\":\"1XPS+8bjQkA=\",\"dtype\":\"float64\",\"order\":\"little\",\"shape\":[1]}],\"lon\":[{\"__ndarray__\":\"Akht4uSaXsA=\",\"dtype\":\"float64\",\"order\":\"little\",\"shape\":[1]}],\"marker.size\":[{\"__ndarray__\":\"SZIkSZICpkA=\",\"dtype\":\"float64\",\"order\":\"little\",\"shape\":[1]}]},\"selected\":{\"id\":\"8737\"},\"selection_policy\":{\"id\":\"8738\"}},\"id\":\"8588\",\"type\":\"ColumnDataSource\"},{\"attributes\":{},\"id\":\"8678\",\"type\":\"UnionRenderers\"},{\"attributes\":{},\"id\":\"8647\",\"type\":\"Selection\"},{\"attributes\":{},\"id\":\"8710\",\"type\":\"UnionRenderers\"},{\"attributes\":{},\"id\":\"8679\",\"type\":\"Selection\"},{\"attributes\":{},\"id\":\"8648\",\"type\":\"UnionRenderers\"},{\"attributes\":{},\"id\":\"8711\",\"type\":\"Selection\"},{\"attributes\":{\"children\":[{\"id\":\"8386\"}],\"css_classes\":[\"panel-widget-box\"],\"margin\":[5,5,5,5],\"name\":\"WidgetBox247369\"},\"id\":\"8385\",\"type\":\"Column\"},{\"attributes\":{},\"id\":\"8680\",\"type\":\"UnionRenderers\"},{\"attributes\":{},\"id\":\"8649\",\"type\":\"Selection\"},{\"attributes\":{},\"id\":\"8712\",\"type\":\"UnionRenderers\"},{\"attributes\":{\"data\":{\"lat\":[{\"__ndarray__\":\"vqQxWkfdQkA=\",\"dtype\":\"float64\",\"order\":\"little\",\"shape\":[1]}],\"lon\":[{\"__ndarray__\":\"2dMOf02aXsA=\",\"dtype\":\"float64\",\"order\":\"little\",\"shape\":[1]}],\"marker.size\":[{\"__ndarray__\":\"AAAAAACSrEA=\",\"dtype\":\"float64\",\"order\":\"little\",\"shape\":[1]}]},\"selected\":{\"id\":\"8739\"},\"selection_policy\":{\"id\":\"8740\"}},\"id\":\"8589\",\"type\":\"ColumnDataSource\"},{\"attributes\":{},\"id\":\"8681\",\"type\":\"Selection\"},{\"attributes\":{},\"id\":\"8650\",\"type\":\"UnionRenderers\"},{\"attributes\":{},\"id\":\"8713\",\"type\":\"Selection\"},{\"attributes\":{\"bottom_units\":\"screen\",\"fill_alpha\":0.5,\"fill_color\":\"lightgrey\",\"left_units\":\"screen\",\"level\":\"overlay\",\"line_alpha\":1.0,\"line_color\":\"black\",\"line_dash\":[4,4],\"line_width\":2,\"right_units\":\"screen\",\"top_units\":\"screen\"},\"id\":\"8180\",\"type\":\"BoxAnnotation\"},{\"attributes\":{},\"id\":\"8682\",\"type\":\"UnionRenderers\"},{\"attributes\":{},\"id\":\"8469\",\"type\":\"SaveTool\"},{\"attributes\":{\"data\":{\"sale_price_sqr_foot\":{\"__ndarray__\":\"Dkc7WO0yckCafszcbwhxQIGRs5ot42ZAJzog0LQ8eEAWMinKGEd+QI0V5FDt0IJAVCHcmLVPdUA=\",\"dtype\":\"float64\",\"order\":\"little\",\"shape\":[7]},\"year\":[2010,2011,2012,2013,2014,2015,2016]},\"selected\":{\"id\":\"8145\"},\"selection_policy\":{\"id\":\"8207\"}},\"id\":\"8144\",\"type\":\"ColumnDataSource\"},{\"attributes\":{\"line_alpha\":0.1,\"line_color\":\"#1f77b3\",\"line_width\":2,\"x\":{\"field\":\"year\"},\"y\":{\"field\":\"gross_rent\"}},\"id\":\"8192\",\"type\":\"Line\"},{\"attributes\":{},\"id\":\"8651\",\"type\":\"Selection\"},{\"attributes\":{},\"id\":\"8714\",\"type\":\"UnionRenderers\"},{\"attributes\":{},\"id\":\"8470\",\"type\":\"PanTool\"},{\"attributes\":{},\"id\":\"8683\",\"type\":\"Selection\"},{\"attributes\":{\"callback\":null,\"renderers\":[{\"id\":\"8194\"}],\"tags\":[\"hv_created\"],\"tooltips\":[[\"year\",\"@{year}\"],[\"gross_rent\",\"@{gross_rent}\"]]},\"id\":\"8157\",\"type\":\"HoverTool\"},{\"attributes\":{},\"id\":\"8652\",\"type\":\"UnionRenderers\"},{\"attributes\":{},\"id\":\"8715\",\"type\":\"Selection\"},{\"attributes\":{\"data\":{\"lat\":[{\"__ndarray__\":\"u0T11sDeQkA=\",\"dtype\":\"float64\",\"order\":\"little\",\"shape\":[1]}],\"lon\":[{\"__ndarray__\":\"L1G9NbCdXsA=\",\"dtype\":\"float64\",\"order\":\"little\",\"shape\":[1]}],\"marker.size\":[{\"__ndarray__\":\"AAAAAACno0A=\",\"dtype\":\"float64\",\"order\":\"little\",\"shape\":[1]}]},\"selected\":{\"id\":\"8741\"},\"selection_policy\":{\"id\":\"8742\"}},\"id\":\"8590\",\"type\":\"ColumnDataSource\"},{\"attributes\":{},\"id\":\"8684\",\"type\":\"UnionRenderers\"},{\"attributes\":{},\"id\":\"8653\",\"type\":\"Selection\"},{\"attributes\":{},\"id\":\"8716\",\"type\":\"UnionRenderers\"},{\"attributes\":{},\"id\":\"8429\",\"type\":\"CategoricalTickFormatter\"},{\"attributes\":{\"active_drag\":\"auto\",\"active_inspect\":\"auto\",\"active_multi\":null,\"active_scroll\":\"auto\",\"active_tap\":\"auto\",\"tools\":[{\"id\":\"8452\"},{\"id\":\"8469\"},{\"id\":\"8470\"},{\"id\":\"8471\"},{\"id\":\"8472\"},{\"id\":\"8473\"}]},\"id\":\"8475\",\"type\":\"Toolbar\"},{\"attributes\":{},\"id\":\"8685\",\"type\":\"Selection\"},{\"attributes\":{},\"id\":\"8654\",\"type\":\"UnionRenderers\"},{\"attributes\":{},\"id\":\"8717\",\"type\":\"Selection\"},{\"attributes\":{\"source\":{\"id\":\"8144\"}},\"id\":\"8151\",\"type\":\"CDSView\"},{\"attributes\":{},\"id\":\"8686\",\"type\":\"UnionRenderers\"},{\"attributes\":{\"axis_label\":\"\",\"bounds\":\"auto\",\"formatter\":{\"id\":\"8088\"},\"major_label_orientation\":\"horizontal\",\"ticker\":{\"id\":\"8064\"}},\"id\":\"8063\",\"type\":\"LinearAxis\"},{\"attributes\":{},\"id\":\"8655\",\"type\":\"Selection\"},{\"attributes\":{},\"id\":\"8718\",\"type\":\"UnionRenderers\"},{\"attributes\":{\"data\":{\"lat\":[{\"__ndarray__\":\"6DBfXoDlQkA=\",\"dtype\":\"float64\",\"order\":\"little\",\"shape\":[1]}],\"lon\":[{\"__ndarray__\":\"IHu9++ObXsA=\",\"dtype\":\"float64\",\"order\":\"little\",\"shape\":[1]}],\"marker.size\":[{\"__ndarray__\":\"VVVVVVX2o0A=\",\"dtype\":\"float64\",\"order\":\"little\",\"shape\":[1]}]},\"selected\":{\"id\":\"8743\"},\"selection_policy\":{\"id\":\"8744\"}},\"id\":\"8591\",\"type\":\"ColumnDataSource\"},{\"attributes\":{\"callback\":null,\"renderers\":[{\"id\":\"8427\"}],\"tags\":[\"hv_created\"],\"tooltips\":[[\"neighborhood\",\"@{neighborhood}\"],[\"sale_price_sqr_foot\",\"@{sale_price_sqr_foot}\"]]},\"id\":\"8391\",\"type\":\"HoverTool\"},{\"attributes\":{},\"id\":\"8687\",\"type\":\"Selection\"},{\"attributes\":{\"toolbar\":{\"id\":\"8219\"},\"toolbar_location\":\"above\"},\"id\":\"8220\",\"type\":\"ToolbarBox\"},{\"attributes\":{},\"id\":\"8656\",\"type\":\"UnionRenderers\"},{\"attributes\":{},\"id\":\"8719\",\"type\":\"Selection\"},{\"attributes\":{\"bottom_units\":\"screen\",\"fill_alpha\":0.5,\"fill_color\":\"lightgrey\",\"left_units\":\"screen\",\"level\":\"overlay\",\"line_alpha\":1.0,\"line_color\":\"black\",\"line_dash\":[4,4],\"line_width\":2,\"right_units\":\"screen\",\"top_units\":\"screen\"},\"id\":\"8474\",\"type\":\"BoxAnnotation\"},{\"attributes\":{},\"id\":\"8688\",\"type\":\"UnionRenderers\"},{\"attributes\":{},\"id\":\"8657\",\"type\":\"Selection\"},{\"attributes\":{},\"id\":\"8720\",\"type\":\"UnionRenderers\"},{\"attributes\":{},\"id\":\"8689\",\"type\":\"Selection\"},{\"attributes\":{},\"id\":\"8658\",\"type\":\"UnionRenderers\"},{\"attributes\":{},\"id\":\"8721\",\"type\":\"Selection\"},{\"attributes\":{\"data\":{\"lat\":[{\"__ndarray__\":\"gy9MpgreQkA=\",\"dtype\":\"float64\",\"order\":\"little\",\"shape\":[1]}],\"lon\":[{\"__ndarray__\":\"/0KPGD2dXsA=\",\"dtype\":\"float64\",\"order\":\"little\",\"shape\":[1]}],\"marker.size\":[{\"__ndarray__\":\"AAAAAACVoUA=\",\"dtype\":\"float64\",\"order\":\"little\",\"shape\":[1]}]},\"selected\":{\"id\":\"8745\"},\"selection_policy\":{\"id\":\"8746\"}},\"id\":\"8592\",\"type\":\"ColumnDataSource\"},{\"attributes\":{},\"id\":\"8690\",\"type\":\"UnionRenderers\"},{\"attributes\":{},\"id\":\"8659\",\"type\":\"Selection\"},{\"attributes\":{},\"id\":\"8722\",\"type\":\"UnionRenderers\"},{\"attributes\":{},\"id\":\"8101\",\"type\":\"UnionRenderers\"},{\"attributes\":{},\"id\":\"8691\",\"type\":\"Selection\"},{\"attributes\":{\"axis_label\":\"gross_rent\",\"bounds\":\"auto\",\"formatter\":{\"id\":\"8198\"},\"major_label_orientation\":\"horizontal\",\"ticker\":{\"id\":\"8172\"}},\"id\":\"8171\",\"type\":\"LinearAxis\"},{\"attributes\":{},\"id\":\"8660\",\"type\":\"UnionRenderers\"},{\"attributes\":{},\"id\":\"8723\",\"type\":\"Selection\"},{\"attributes\":{\"active_drag\":\"auto\",\"active_inspect\":\"auto\",\"active_multi\":null,\"active_scroll\":\"auto\",\"active_tap\":\"auto\",\"tools\":[{\"id\":\"8157\"},{\"id\":\"8175\"},{\"id\":\"8176\"},{\"id\":\"8177\"},{\"id\":\"8178\"},{\"id\":\"8179\"}]},\"id\":\"8181\",\"type\":\"Toolbar\"},{\"attributes\":{},\"id\":\"8692\",\"type\":\"UnionRenderers\"},{\"attributes\":{\"data\":{\"lat\":[{\"__ndarray__\":\"4C2QoPjdQkA=\",\"dtype\":\"float64\",\"order\":\"little\",\"shape\":[1]}],\"lon\":[{\"__ndarray__\":\"aZHtfD+dXsA=\",\"dtype\":\"float64\",\"order\":\"little\",\"shape\":[1]}],\"marker.size\":[{\"__ndarray__\":\"AAAAAADurkA=\",\"dtype\":\"float64\",\"order\":\"little\",\"shape\":[1]}]},\"selected\":{\"id\":\"8747\"},\"selection_policy\":{\"id\":\"8748\"}},\"id\":\"8593\",\"type\":\"ColumnDataSource\"},{\"attributes\":{},\"id\":\"8661\",\"type\":\"Selection\"},{\"attributes\":{},\"id\":\"8724\",\"type\":\"UnionRenderers\"},{\"attributes\":{},\"id\":\"8693\",\"type\":\"Selection\"}],\"root_ids\":[\"8045\",\"9148\"]},\"title\":\"Bokeh Application\",\"version\":\"2.2.3\"}};\n    var render_items = [{\"docid\":\"22557de5-524c-46ab-8eb8-7f5b337df780\",\"root_ids\":[\"8045\"],\"roots\":{\"8045\":\"67ec6012-bd11-46fd-a346-8e3c17f6fdb9\"}}];\n    root.Bokeh.embed.embed_items_notebook(docs_json, render_items);\n  }\n  if (root.Bokeh !== undefined && root.Bokeh.Panel !== undefined && root['Plotly'] !== undefined ) {\n    embed_document(root);\n  } else {\n    var attempts = 0;\n    var timer = setInterval(function(root) {\n      if (root.Bokeh !== undefined && root.Bokeh.Panel !== undefined && root['Plotly'] !== undefined) {\n        clearInterval(timer);\n        embed_document(root);\n      } else if (document.readyState == \"complete\") {\n        attempts++;\n        if (attempts > 100) {\n          clearInterval(timer);\n          console.log(\"Bokeh: ERROR: Unable to run BokehJS code because BokehJS library is missing\");\n        }\n      }\n    }, 10, root)\n  }\n})(window);</script>",
      "application/vnd.holoviews_exec.v0+json": "",
      "text/plain": [
       "Tabs\n",
       "    [0] Column\n",
       "        [0] Markdown(str)\n",
       "        [1] HoloViews(Bars)\n",
       "        [2] Str(tuple)\n",
       "        [3] Row\n",
       "            [0] HoloViews(Layout)\n",
       "            [1] Column\n",
       "                [0] WidgetBox\n",
       "                    [0] Select(margin=(20, 20, 20, 20), name='neighborhood', options=['Alamo Square', ...], value='Alamo Square', width=250)\n",
       "                [1] VSpacer()\n",
       "        [4] Markdown(str)\n",
       "        [5] HoloViews(Bars)\n",
       "        [6] Row\n",
       "            [0] HoloViews(DynamicMap)\n",
       "            [1] Column\n",
       "                [0] WidgetBox\n",
       "                    [0] Select(margin=(20, 20, 20, 20), name='neighborhood', options=['Cow Hollow', ...], value='Cow Hollow', width=250)\n",
       "                [1] VSpacer()\n",
       "    [1] Column\n",
       "        [0] Markdown(str)\n",
       "        [1] Plotly(Figure)\n",
       "        [2] Plotly(Figure)\n",
       "        [3] Plotly(Figure)\n",
       "        [4] Plotly(Figure)"
      ]
     },
     "metadata": {
      "application/vnd.holoviews_exec.v0+json": {
       "id": "8045"
      }
     },
     "execution_count": 118
    }
   ],
   "source": [
    "# Serve the# dashboard\n",
    "# YOUR CODE HERE!\n",
    "sfo_dash.servable()"
   ]
  },
  {
   "cell_type": "markdown",
   "metadata": {},
   "source": [
    "# Debugging\n",
    "\n",
    "Note: Some of the Plotly express plots may not render in the notebook through the panel functions.\n",
    "\n",
    "However, you can test each plot by uncommenting the following code"
   ]
  },
  {
   "cell_type": "code",
   "execution_count": 80,
   "metadata": {},
   "outputs": [
    {
     "output_type": "display_data",
     "data": {},
     "metadata": {}
    },
    {
     "output_type": "execute_result",
     "data": {
      "text/html": "<div id='1729'>\n\n\n\n\n\n  <div class=\"bk-root\" id=\"e0ea0000-3f61-4bc6-99d1-7cb05345f1af\" data-root-id=\"1729\"></div>\n</div>\n<script type=\"application/javascript\">(function(root) {\n  function embed_document(root) {\n    var docs_json = {\"032ef2a2-c28f-4397-bfa9-047fadc72ace\":{\"roots\":{\"references\":[{\"attributes\":{\"text\":\"Housing Units in Sanfrancisco from 2010 to 2016\",\"text_color\":{\"value\":\"black\"},\"text_font_size\":{\"value\":\"12pt\"}},\"id\":\"1735\",\"type\":\"Title\"},{\"attributes\":{},\"id\":\"1772\",\"type\":\"CategoricalTickFormatter\"},{\"attributes\":{\"fill_color\":{\"value\":\"#1f77b3\"},\"top\":{\"field\":\"housing_units\"},\"width\":{\"value\":0.8},\"x\":{\"field\":\"year\"}},\"id\":\"1766\",\"type\":\"VBar\"},{\"attributes\":{\"fill_alpha\":{\"value\":0.1},\"fill_color\":{\"value\":\"#1f77b3\"},\"line_alpha\":{\"value\":0.1},\"top\":{\"field\":\"housing_units\"},\"width\":{\"value\":0.8},\"x\":{\"field\":\"year\"}},\"id\":\"1767\",\"type\":\"VBar\"},{\"attributes\":{\"factors\":[\"2010\",\"2011\",\"2012\",\"2013\",\"2014\",\"2015\",\"2016\"],\"tags\":[[[\"year\",\"year\",null]]]},\"id\":\"1731\",\"type\":\"FactorRange\"},{\"attributes\":{\"below\":[{\"id\":\"1743\"}],\"center\":[{\"id\":\"1745\"},{\"id\":\"1749\"}],\"left\":[{\"id\":\"1746\"}],\"margin\":[5,5,5,5],\"min_border_bottom\":10,\"min_border_left\":10,\"min_border_right\":10,\"min_border_top\":10,\"plot_height\":300,\"plot_width\":700,\"renderers\":[{\"id\":\"1769\"}],\"sizing_mode\":\"fixed\",\"title\":{\"id\":\"1735\"},\"toolbar\":{\"id\":\"1756\"},\"x_range\":{\"id\":\"1731\"},\"x_scale\":{\"id\":\"1739\"},\"y_range\":{\"id\":\"1732\"},\"y_scale\":{\"id\":\"1741\"}},\"id\":\"1734\",\"subtype\":\"Figure\",\"type\":\"Plot\"},{\"attributes\":{},\"id\":\"1750\",\"type\":\"SaveTool\"},{\"attributes\":{\"data_source\":{\"id\":\"1763\"},\"glyph\":{\"id\":\"1766\"},\"hover_glyph\":null,\"muted_glyph\":{\"id\":\"1768\"},\"nonselection_glyph\":{\"id\":\"1767\"},\"selection_glyph\":null,\"view\":{\"id\":\"1770\"}},\"id\":\"1769\",\"type\":\"GlyphRenderer\"},{\"attributes\":{},\"id\":\"1751\",\"type\":\"PanTool\"},{\"attributes\":{},\"id\":\"1754\",\"type\":\"ResetTool\"},{\"attributes\":{\"fill_alpha\":{\"value\":0.2},\"fill_color\":{\"value\":\"#1f77b3\"},\"line_alpha\":{\"value\":0.2},\"top\":{\"field\":\"housing_units\"},\"width\":{\"value\":0.8},\"x\":{\"field\":\"year\"}},\"id\":\"1768\",\"type\":\"VBar\"},{\"attributes\":{},\"id\":\"1752\",\"type\":\"WheelZoomTool\"},{\"attributes\":{\"source\":{\"id\":\"1763\"}},\"id\":\"1770\",\"type\":\"CDSView\"},{\"attributes\":{},\"id\":\"1764\",\"type\":\"Selection\"},{\"attributes\":{\"overlay\":{\"id\":\"1755\"}},\"id\":\"1753\",\"type\":\"BoxZoomTool\"},{\"attributes\":{},\"id\":\"1739\",\"type\":\"CategoricalScale\"},{\"attributes\":{\"format\":\"%.0f\"},\"id\":\"1771\",\"type\":\"PrintfTickFormatter\"},{\"attributes\":{\"axis\":{\"id\":\"1743\"},\"grid_line_color\":null,\"ticker\":null},\"id\":\"1745\",\"type\":\"Grid\"},{\"attributes\":{\"active_drag\":\"auto\",\"active_inspect\":\"auto\",\"active_multi\":null,\"active_scroll\":\"auto\",\"active_tap\":\"auto\",\"tools\":[{\"id\":\"1733\"},{\"id\":\"1750\"},{\"id\":\"1751\"},{\"id\":\"1752\"},{\"id\":\"1753\"},{\"id\":\"1754\"}]},\"id\":\"1756\",\"type\":\"Toolbar\"},{\"attributes\":{},\"id\":\"1744\",\"type\":\"CategoricalTicker\"},{\"attributes\":{\"children\":[{\"id\":\"1730\"},{\"id\":\"1734\"},{\"id\":\"1792\"}],\"margin\":[0,0,0,0],\"name\":\"Row02876\",\"tags\":[\"embedded\"]},\"id\":\"1729\",\"type\":\"Row\"},{\"attributes\":{},\"id\":\"1741\",\"type\":\"LinearScale\"},{\"attributes\":{\"axis_label\":\"year\",\"bounds\":\"auto\",\"formatter\":{\"id\":\"1772\"},\"major_label_orientation\":1.5707963267948966,\"ticker\":{\"id\":\"1744\"}},\"id\":\"1743\",\"type\":\"CategoricalAxis\"},{\"attributes\":{},\"id\":\"1784\",\"type\":\"UnionRenderers\"},{\"attributes\":{\"end\":385000,\"reset_end\":385000,\"reset_start\":370000,\"start\":370000,\"tags\":[[[\"housing_units\",\"housing_units\",null]]]},\"id\":\"1732\",\"type\":\"Range1d\"},{\"attributes\":{\"callback\":null,\"renderers\":[{\"id\":\"1769\"}],\"tags\":[\"hv_created\"],\"tooltips\":[[\"year\",\"@{year}\"],[\"housing_units\",\"@{housing_units}\"]]},\"id\":\"1733\",\"type\":\"HoverTool\"},{\"attributes\":{\"axis_label\":\"\",\"bounds\":\"auto\",\"formatter\":{\"id\":\"1771\"},\"major_label_orientation\":\"horizontal\",\"ticker\":{\"id\":\"1747\"}},\"id\":\"1746\",\"type\":\"LinearAxis\"},{\"attributes\":{\"margin\":[5,5,5,5],\"name\":\"HSpacer02880\",\"sizing_mode\":\"stretch_width\"},\"id\":\"1730\",\"type\":\"Spacer\"},{\"attributes\":{},\"id\":\"1747\",\"type\":\"BasicTicker\"},{\"attributes\":{\"margin\":[5,5,5,5],\"name\":\"HSpacer02881\",\"sizing_mode\":\"stretch_width\"},\"id\":\"1792\",\"type\":\"Spacer\"},{\"attributes\":{\"axis\":{\"id\":\"1746\"},\"dimension\":1,\"grid_line_color\":null,\"ticker\":null},\"id\":\"1749\",\"type\":\"Grid\"},{\"attributes\":{\"data\":{\"housing_units\":[372560,372560,372560,372560,372560,372560,372560,372560,372560,372560,372560,372560,372560,372560,372560,372560,372560,372560,372560,372560,372560,372560,372560,372560,372560,372560,372560,372560,372560,372560,372560,372560,372560,372560,372560,372560,372560,372560,372560,372560,372560,372560,372560,372560,372560,372560,372560,372560,372560,372560,372560,372560,372560,372560,372560,372560,372560,372560,372560,374507,374507,374507,374507,374507,374507,374507,374507,374507,374507,374507,374507,374507,374507,374507,374507,374507,374507,374507,374507,374507,374507,374507,374507,374507,374507,374507,374507,374507,374507,374507,374507,374507,374507,374507,374507,374507,374507,374507,374507,374507,374507,374507,374507,374507,374507,374507,374507,374507,374507,374507,374507,374507,374507,374507,374507,374507,374507,374507,376454,376454,376454,376454,376454,376454,376454,376454,376454,376454,376454,376454,376454,376454,376454,376454,376454,376454,376454,376454,376454,376454,376454,376454,376454,376454,376454,376454,376454,376454,376454,376454,376454,376454,376454,376454,376454,376454,376454,376454,376454,376454,376454,376454,376454,376454,376454,376454,376454,376454,376454,376454,376454,376454,376454,376454,376454,376454,378401,378401,378401,378401,378401,378401,378401,378401,378401,378401,378401,378401,378401,378401,378401,378401,378401,378401,378401,378401,378401,378401,378401,378401,378401,378401,378401,378401,378401,378401,378401,378401,378401,378401,378401,378401,378401,378401,378401,378401,378401,378401,378401,378401,378401,378401,378401,378401,378401,378401,378401,378401,378401,378401,378401,378401,378401,380348,380348,380348,380348,380348,380348,380348,380348,380348,380348,380348,380348,380348,380348,380348,380348,380348,380348,380348,380348,380348,380348,380348,380348,380348,380348,380348,380348,380348,380348,380348,380348,380348,380348,380348,380348,380348,380348,380348,380348,380348,380348,380348,380348,380348,380348,380348,380348,380348,380348,380348,380348,380348,380348,380348,380348,380348,380348,380348,380348,382295,382295,382295,382295,382295,382295,382295,382295,382295,382295,382295,382295,382295,382295,382295,382295,382295,382295,382295,382295,382295,382295,382295,382295,382295,382295,382295,382295,382295,382295,382295,382295,382295,382295,382295,382295,382295,382295,382295,382295,382295,382295,382295,382295,382295,382295,382295,382295,382295,382295,382295,382295,382295,382295,382295,382295,382295,382295,384242,384242,384242,384242,384242,384242,384242,384242,384242,384242,384242,384242,384242,384242,384242,384242,384242,384242,384242,384242,384242,384242,384242,384242,384242,384242,384242,384242,384242,384242,384242,384242,384242,384242,384242,384242,384242,384242,384242,384242,384242,384242,384242,384242,384242,384242],\"year\":[\"2010\",\"2010\",\"2010\",\"2010\",\"2010\",\"2010\",\"2010\",\"2010\",\"2010\",\"2010\",\"2010\",\"2010\",\"2010\",\"2010\",\"2010\",\"2010\",\"2010\",\"2010\",\"2010\",\"2010\",\"2010\",\"2010\",\"2010\",\"2010\",\"2010\",\"2010\",\"2010\",\"2010\",\"2010\",\"2010\",\"2010\",\"2010\",\"2010\",\"2010\",\"2010\",\"2010\",\"2010\",\"2010\",\"2010\",\"2010\",\"2010\",\"2010\",\"2010\",\"2010\",\"2010\",\"2010\",\"2010\",\"2010\",\"2010\",\"2010\",\"2010\",\"2010\",\"2010\",\"2010\",\"2010\",\"2010\",\"2010\",\"2010\",\"2010\",\"2011\",\"2011\",\"2011\",\"2011\",\"2011\",\"2011\",\"2011\",\"2011\",\"2011\",\"2011\",\"2011\",\"2011\",\"2011\",\"2011\",\"2011\",\"2011\",\"2011\",\"2011\",\"2011\",\"2011\",\"2011\",\"2011\",\"2011\",\"2011\",\"2011\",\"2011\",\"2011\",\"2011\",\"2011\",\"2011\",\"2011\",\"2011\",\"2011\",\"2011\",\"2011\",\"2011\",\"2011\",\"2011\",\"2011\",\"2011\",\"2011\",\"2011\",\"2011\",\"2011\",\"2011\",\"2011\",\"2011\",\"2011\",\"2011\",\"2011\",\"2011\",\"2011\",\"2011\",\"2011\",\"2011\",\"2011\",\"2011\",\"2011\",\"2011\",\"2012\",\"2012\",\"2012\",\"2012\",\"2012\",\"2012\",\"2012\",\"2012\",\"2012\",\"2012\",\"2012\",\"2012\",\"2012\",\"2012\",\"2012\",\"2012\",\"2012\",\"2012\",\"2012\",\"2012\",\"2012\",\"2012\",\"2012\",\"2012\",\"2012\",\"2012\",\"2012\",\"2012\",\"2012\",\"2012\",\"2012\",\"2012\",\"2012\",\"2012\",\"2012\",\"2012\",\"2012\",\"2012\",\"2012\",\"2012\",\"2012\",\"2012\",\"2012\",\"2012\",\"2012\",\"2012\",\"2012\",\"2012\",\"2012\",\"2012\",\"2012\",\"2012\",\"2012\",\"2012\",\"2012\",\"2012\",\"2012\",\"2012\",\"2013\",\"2013\",\"2013\",\"2013\",\"2013\",\"2013\",\"2013\",\"2013\",\"2013\",\"2013\",\"2013\",\"2013\",\"2013\",\"2013\",\"2013\",\"2013\",\"2013\",\"2013\",\"2013\",\"2013\",\"2013\",\"2013\",\"2013\",\"2013\",\"2013\",\"2013\",\"2013\",\"2013\",\"2013\",\"2013\",\"2013\",\"2013\",\"2013\",\"2013\",\"2013\",\"2013\",\"2013\",\"2013\",\"2013\",\"2013\",\"2013\",\"2013\",\"2013\",\"2013\",\"2013\",\"2013\",\"2013\",\"2013\",\"2013\",\"2013\",\"2013\",\"2013\",\"2013\",\"2013\",\"2013\",\"2013\",\"2013\",\"2014\",\"2014\",\"2014\",\"2014\",\"2014\",\"2014\",\"2014\",\"2014\",\"2014\",\"2014\",\"2014\",\"2014\",\"2014\",\"2014\",\"2014\",\"2014\",\"2014\",\"2014\",\"2014\",\"2014\",\"2014\",\"2014\",\"2014\",\"2014\",\"2014\",\"2014\",\"2014\",\"2014\",\"2014\",\"2014\",\"2014\",\"2014\",\"2014\",\"2014\",\"2014\",\"2014\",\"2014\",\"2014\",\"2014\",\"2014\",\"2014\",\"2014\",\"2014\",\"2014\",\"2014\",\"2014\",\"2014\",\"2014\",\"2014\",\"2014\",\"2014\",\"2014\",\"2014\",\"2014\",\"2014\",\"2014\",\"2014\",\"2014\",\"2014\",\"2014\",\"2015\",\"2015\",\"2015\",\"2015\",\"2015\",\"2015\",\"2015\",\"2015\",\"2015\",\"2015\",\"2015\",\"2015\",\"2015\",\"2015\",\"2015\",\"2015\",\"2015\",\"2015\",\"2015\",\"2015\",\"2015\",\"2015\",\"2015\",\"2015\",\"2015\",\"2015\",\"2015\",\"2015\",\"2015\",\"2015\",\"2015\",\"2015\",\"2015\",\"2015\",\"2015\",\"2015\",\"2015\",\"2015\",\"2015\",\"2015\",\"2015\",\"2015\",\"2015\",\"2015\",\"2015\",\"2015\",\"2015\",\"2015\",\"2015\",\"2015\",\"2015\",\"2015\",\"2015\",\"2015\",\"2015\",\"2015\",\"2015\",\"2015\",\"2016\",\"2016\",\"2016\",\"2016\",\"2016\",\"2016\",\"2016\",\"2016\",\"2016\",\"2016\",\"2016\",\"2016\",\"2016\",\"2016\",\"2016\",\"2016\",\"2016\",\"2016\",\"2016\",\"2016\",\"2016\",\"2016\",\"2016\",\"2016\",\"2016\",\"2016\",\"2016\",\"2016\",\"2016\",\"2016\",\"2016\",\"2016\",\"2016\",\"2016\",\"2016\",\"2016\",\"2016\",\"2016\",\"2016\",\"2016\",\"2016\",\"2016\",\"2016\",\"2016\",\"2016\",\"2016\"]},\"selected\":{\"id\":\"1764\"},\"selection_policy\":{\"id\":\"1784\"}},\"id\":\"1763\",\"type\":\"ColumnDataSource\"},{\"attributes\":{\"bottom_units\":\"screen\",\"fill_alpha\":0.5,\"fill_color\":\"lightgrey\",\"left_units\":\"screen\",\"level\":\"overlay\",\"line_alpha\":1.0,\"line_color\":\"black\",\"line_dash\":[4,4],\"line_width\":2,\"right_units\":\"screen\",\"top_units\":\"screen\"},\"id\":\"1755\",\"type\":\"BoxAnnotation\"}],\"root_ids\":[\"1729\"]},\"title\":\"Bokeh Application\",\"version\":\"2.2.3\"}};\n    var render_items = [{\"docid\":\"032ef2a2-c28f-4397-bfa9-047fadc72ace\",\"root_ids\":[\"1729\"],\"roots\":{\"1729\":\"e0ea0000-3f61-4bc6-99d1-7cb05345f1af\"}}];\n    root.Bokeh.embed.embed_items_notebook(docs_json, render_items);\n  }\n  if (root.Bokeh !== undefined && root.Bokeh.Panel !== undefined && root['Plotly'] !== undefined ) {\n    embed_document(root);\n  } else {\n    var attempts = 0;\n    var timer = setInterval(function(root) {\n      if (root.Bokeh !== undefined && root.Bokeh.Panel !== undefined && root['Plotly'] !== undefined) {\n        clearInterval(timer);\n        embed_document(root);\n      } else if (document.readyState == \"complete\") {\n        attempts++;\n        if (attempts > 100) {\n          clearInterval(timer);\n          console.log(\"Bokeh: ERROR: Unable to run BokehJS code because BokehJS library is missing\");\n        }\n      }\n    }, 10, root)\n  }\n})(window);</script>",
      "application/vnd.holoviews_exec.v0+json": "",
      "text/plain": [
       ":Bars   [year]   (housing_units)"
      ]
     },
     "metadata": {
      "application/vnd.holoviews_exec.v0+json": {
       "id": "1729"
      }
     },
     "execution_count": 80
    }
   ],
   "source": [
    " housing_units_per_year()"
   ]
  },
  {
   "cell_type": "code",
   "execution_count": 81,
   "metadata": {},
   "outputs": [
    {
     "output_type": "display_data",
     "data": {},
     "metadata": {}
    },
    {
     "output_type": "execute_result",
     "data": {
      "text/html": "<div id='1829'>\n\n\n\n\n\n  <div class=\"bk-root\" id=\"a42b8f59-8224-4942-87e9-7e25289e3dd7\" data-root-id=\"1829\"></div>\n</div>\n<script type=\"application/javascript\">(function(root) {\n  function embed_document(root) {\n    var docs_json = {\"012ec846-f869-41fa-bede-eaa43369aa8a\":{\"roots\":{\"references\":[{\"attributes\":{\"children\":[{\"id\":\"1830\"},{\"id\":\"1834\"},{\"id\":\"1894\"}],\"margin\":[0,0,0,0],\"name\":\"Row03026\",\"tags\":[\"embedded\"]},\"id\":\"1829\",\"type\":\"Row\"},{\"attributes\":{\"axis_label\":\"year\",\"bounds\":\"auto\",\"formatter\":{\"id\":\"1872\"},\"major_label_orientation\":\"horizontal\",\"ticker\":{\"id\":\"1844\"}},\"id\":\"1843\",\"type\":\"LinearAxis\"},{\"attributes\":{\"line_alpha\":0.1,\"line_color\":\"red\",\"line_width\":2,\"x\":{\"field\":\"year\"},\"y\":{\"field\":\"gross_rent\"}},\"id\":\"1868\",\"type\":\"Line\"},{\"attributes\":{\"data\":{\"gross_rent\":[1239,1239,1239,1239,1239,1239,1239,1239,1239,1239,1239,1239,1239,1239,1239,1239,1239,1239,1239,1239,1239,1239,1239,1239,1239,1239,1239,1239,1239,1239,1239,1239,1239,1239,1239,1239,1239,1239,1239,1239,1239,1239,1239,1239,1239,1239,1239,1239,1239,1239,1239,1239,1239,1239,1239,1239,1239,1239,1239,1530,1530,1530,1530,1530,1530,1530,1530,1530,1530,1530,1530,1530,1530,1530,1530,1530,1530,1530,1530,1530,1530,1530,1530,1530,1530,1530,1530,1530,1530,1530,1530,1530,1530,1530,1530,1530,1530,1530,1530,1530,1530,1530,1530,1530,1530,1530,1530,1530,1530,1530,1530,1530,1530,1530,1530,1530,1530,1530,2324,2324,2324,2324,2324,2324,2324,2324,2324,2324,2324,2324,2324,2324,2324,2324,2324,2324,2324,2324,2324,2324,2324,2324,2324,2324,2324,2324,2324,2324,2324,2324,2324,2324,2324,2324,2324,2324,2324,2324,2324,2324,2324,2324,2324,2324,2324,2324,2324,2324,2324,2324,2324,2324,2324,2324,2324,2324,2971,2971,2971,2971,2971,2971,2971,2971,2971,2971,2971,2971,2971,2971,2971,2971,2971,2971,2971,2971,2971,2971,2971,2971,2971,2971,2971,2971,2971,2971,2971,2971,2971,2971,2971,2971,2971,2971,2971,2971,2971,2971,2971,2971,2971,2971,2971,2971,2971,2971,2971,2971,2971,2971,2971,2971,2971,3528,3528,3528,3528,3528,3528,3528,3528,3528,3528,3528,3528,3528,3528,3528,3528,3528,3528,3528,3528,3528,3528,3528,3528,3528,3528,3528,3528,3528,3528,3528,3528,3528,3528,3528,3528,3528,3528,3528,3528,3528,3528,3528,3528,3528,3528,3528,3528,3528,3528,3528,3528,3528,3528,3528,3528,3528,3528,3528,3528,3739,3739,3739,3739,3739,3739,3739,3739,3739,3739,3739,3739,3739,3739,3739,3739,3739,3739,3739,3739,3739,3739,3739,3739,3739,3739,3739,3739,3739,3739,3739,3739,3739,3739,3739,3739,3739,3739,3739,3739,3739,3739,3739,3739,3739,3739,3739,3739,3739,3739,3739,3739,3739,3739,3739,3739,3739,3739,4390,4390,4390,4390,4390,4390,4390,4390,4390,4390,4390,4390,4390,4390,4390,4390,4390,4390,4390,4390,4390,4390,4390,4390,4390,4390,4390,4390,4390,4390,4390,4390,4390,4390,4390,4390,4390,4390,4390,4390,4390,4390,4390,4390,4390,4390],\"year\":[2010,2010,2010,2010,2010,2010,2010,2010,2010,2010,2010,2010,2010,2010,2010,2010,2010,2010,2010,2010,2010,2010,2010,2010,2010,2010,2010,2010,2010,2010,2010,2010,2010,2010,2010,2010,2010,2010,2010,2010,2010,2010,2010,2010,2010,2010,2010,2010,2010,2010,2010,2010,2010,2010,2010,2010,2010,2010,2010,2011,2011,2011,2011,2011,2011,2011,2011,2011,2011,2011,2011,2011,2011,2011,2011,2011,2011,2011,2011,2011,2011,2011,2011,2011,2011,2011,2011,2011,2011,2011,2011,2011,2011,2011,2011,2011,2011,2011,2011,2011,2011,2011,2011,2011,2011,2011,2011,2011,2011,2011,2011,2011,2011,2011,2011,2011,2011,2011,2012,2012,2012,2012,2012,2012,2012,2012,2012,2012,2012,2012,2012,2012,2012,2012,2012,2012,2012,2012,2012,2012,2012,2012,2012,2012,2012,2012,2012,2012,2012,2012,2012,2012,2012,2012,2012,2012,2012,2012,2012,2012,2012,2012,2012,2012,2012,2012,2012,2012,2012,2012,2012,2012,2012,2012,2012,2012,2013,2013,2013,2013,2013,2013,2013,2013,2013,2013,2013,2013,2013,2013,2013,2013,2013,2013,2013,2013,2013,2013,2013,2013,2013,2013,2013,2013,2013,2013,2013,2013,2013,2013,2013,2013,2013,2013,2013,2013,2013,2013,2013,2013,2013,2013,2013,2013,2013,2013,2013,2013,2013,2013,2013,2013,2013,2014,2014,2014,2014,2014,2014,2014,2014,2014,2014,2014,2014,2014,2014,2014,2014,2014,2014,2014,2014,2014,2014,2014,2014,2014,2014,2014,2014,2014,2014,2014,2014,2014,2014,2014,2014,2014,2014,2014,2014,2014,2014,2014,2014,2014,2014,2014,2014,2014,2014,2014,2014,2014,2014,2014,2014,2014,2014,2014,2014,2015,2015,2015,2015,2015,2015,2015,2015,2015,2015,2015,2015,2015,2015,2015,2015,2015,2015,2015,2015,2015,2015,2015,2015,2015,2015,2015,2015,2015,2015,2015,2015,2015,2015,2015,2015,2015,2015,2015,2015,2015,2015,2015,2015,2015,2015,2015,2015,2015,2015,2015,2015,2015,2015,2015,2015,2015,2015,2016,2016,2016,2016,2016,2016,2016,2016,2016,2016,2016,2016,2016,2016,2016,2016,2016,2016,2016,2016,2016,2016,2016,2016,2016,2016,2016,2016,2016,2016,2016,2016,2016,2016,2016,2016,2016,2016,2016,2016,2016,2016,2016,2016,2016,2016]},\"selected\":{\"id\":\"1865\"},\"selection_policy\":{\"id\":\"1885\"}},\"id\":\"1864\",\"type\":\"ColumnDataSource\"},{\"attributes\":{},\"id\":\"1865\",\"type\":\"Selection\"},{\"attributes\":{\"end\":2016.0,\"reset_end\":2016.0,\"reset_start\":2010.0,\"start\":2010.0,\"tags\":[[[\"year\",\"year\",null]]]},\"id\":\"1831\",\"type\":\"Range1d\"},{\"attributes\":{},\"id\":\"1844\",\"type\":\"BasicTicker\"},{\"attributes\":{\"axis_label\":\"Average Gross Rent\",\"bounds\":\"auto\",\"formatter\":{\"id\":\"1874\"},\"major_label_orientation\":\"horizontal\",\"ticker\":{\"id\":\"1848\"}},\"id\":\"1847\",\"type\":\"LinearAxis\"},{\"attributes\":{\"end\":4705.1,\"reset_end\":4705.1,\"reset_start\":923.9,\"start\":923.9,\"tags\":[[[\"gross_rent\",\"gross_rent\",null]]]},\"id\":\"1832\",\"type\":\"Range1d\"},{\"attributes\":{\"axis\":{\"id\":\"1843\"},\"ticker\":{\"id\":\"1844\"}},\"id\":\"1846\",\"type\":\"Grid\"},{\"attributes\":{\"callback\":null,\"renderers\":[{\"id\":\"1870\"}],\"tags\":[\"hv_created\"],\"tooltips\":[[\"year\",\"@{year}\"],[\"gross_rent\",\"@{gross_rent}\"]]},\"id\":\"1833\",\"type\":\"HoverTool\"},{\"attributes\":{},\"id\":\"1848\",\"type\":\"BasicTicker\"},{\"attributes\":{\"axis\":{\"id\":\"1847\"},\"dimension\":1,\"ticker\":{\"id\":\"1848\"}},\"id\":\"1850\",\"type\":\"Grid\"},{\"attributes\":{\"active_drag\":\"auto\",\"active_inspect\":\"auto\",\"active_multi\":null,\"active_scroll\":\"auto\",\"active_tap\":\"auto\",\"tools\":[{\"id\":\"1833\"},{\"id\":\"1851\"},{\"id\":\"1852\"},{\"id\":\"1853\"},{\"id\":\"1854\"},{\"id\":\"1855\"}]},\"id\":\"1857\",\"type\":\"Toolbar\"},{\"attributes\":{},\"id\":\"1872\",\"type\":\"BasicTickFormatter\"},{\"attributes\":{\"below\":[{\"id\":\"1843\"}],\"center\":[{\"id\":\"1846\"},{\"id\":\"1850\"}],\"left\":[{\"id\":\"1847\"}],\"margin\":[5,5,5,5],\"min_border_bottom\":10,\"min_border_left\":10,\"min_border_right\":10,\"min_border_top\":10,\"plot_height\":300,\"plot_width\":700,\"renderers\":[{\"id\":\"1870\"}],\"sizing_mode\":\"fixed\",\"title\":{\"id\":\"1835\"},\"toolbar\":{\"id\":\"1857\"},\"x_range\":{\"id\":\"1831\"},\"x_scale\":{\"id\":\"1839\"},\"y_range\":{\"id\":\"1832\"},\"y_scale\":{\"id\":\"1841\"}},\"id\":\"1834\",\"subtype\":\"Figure\",\"type\":\"Plot\"},{\"attributes\":{\"bottom_units\":\"screen\",\"fill_alpha\":0.5,\"fill_color\":\"lightgrey\",\"left_units\":\"screen\",\"level\":\"overlay\",\"line_alpha\":1.0,\"line_color\":\"black\",\"line_dash\":[4,4],\"line_width\":2,\"right_units\":\"screen\",\"top_units\":\"screen\"},\"id\":\"1856\",\"type\":\"BoxAnnotation\"},{\"attributes\":{\"source\":{\"id\":\"1864\"}},\"id\":\"1871\",\"type\":\"CDSView\"},{\"attributes\":{\"data_source\":{\"id\":\"1864\"},\"glyph\":{\"id\":\"1867\"},\"hover_glyph\":null,\"muted_glyph\":{\"id\":\"1869\"},\"nonselection_glyph\":{\"id\":\"1868\"},\"selection_glyph\":null,\"view\":{\"id\":\"1871\"}},\"id\":\"1870\",\"type\":\"GlyphRenderer\"},{\"attributes\":{\"line_color\":\"red\",\"line_width\":2,\"x\":{\"field\":\"year\"},\"y\":{\"field\":\"gross_rent\"}},\"id\":\"1867\",\"type\":\"Line\"},{\"attributes\":{\"text\":\"Average Gross Rent by Year\",\"text_color\":{\"value\":\"black\"},\"text_font_size\":{\"value\":\"12pt\"}},\"id\":\"1835\",\"type\":\"Title\"},{\"attributes\":{\"line_alpha\":0.2,\"line_color\":\"red\",\"line_width\":2,\"x\":{\"field\":\"year\"},\"y\":{\"field\":\"gross_rent\"}},\"id\":\"1869\",\"type\":\"Line\"},{\"attributes\":{},\"id\":\"1851\",\"type\":\"SaveTool\"},{\"attributes\":{\"margin\":[5,5,5,5],\"name\":\"HSpacer03030\",\"sizing_mode\":\"stretch_width\"},\"id\":\"1830\",\"type\":\"Spacer\"},{\"attributes\":{\"overlay\":{\"id\":\"1856\"}},\"id\":\"1854\",\"type\":\"BoxZoomTool\"},{\"attributes\":{},\"id\":\"1852\",\"type\":\"PanTool\"},{\"attributes\":{},\"id\":\"1874\",\"type\":\"BasicTickFormatter\"},{\"attributes\":{},\"id\":\"1855\",\"type\":\"ResetTool\"},{\"attributes\":{},\"id\":\"1853\",\"type\":\"WheelZoomTool\"},{\"attributes\":{},\"id\":\"1885\",\"type\":\"UnionRenderers\"},{\"attributes\":{\"margin\":[5,5,5,5],\"name\":\"HSpacer03031\",\"sizing_mode\":\"stretch_width\"},\"id\":\"1894\",\"type\":\"Spacer\"},{\"attributes\":{},\"id\":\"1841\",\"type\":\"LinearScale\"},{\"attributes\":{},\"id\":\"1839\",\"type\":\"LinearScale\"}],\"root_ids\":[\"1829\"]},\"title\":\"Bokeh Application\",\"version\":\"2.2.3\"}};\n    var render_items = [{\"docid\":\"012ec846-f869-41fa-bede-eaa43369aa8a\",\"root_ids\":[\"1829\"],\"roots\":{\"1829\":\"a42b8f59-8224-4942-87e9-7e25289e3dd7\"}}];\n    root.Bokeh.embed.embed_items_notebook(docs_json, render_items);\n  }\n  if (root.Bokeh !== undefined && root.Bokeh.Panel !== undefined && root['Plotly'] !== undefined ) {\n    embed_document(root);\n  } else {\n    var attempts = 0;\n    var timer = setInterval(function(root) {\n      if (root.Bokeh !== undefined && root.Bokeh.Panel !== undefined && root['Plotly'] !== undefined) {\n        clearInterval(timer);\n        embed_document(root);\n      } else if (document.readyState == \"complete\") {\n        attempts++;\n        if (attempts > 100) {\n          clearInterval(timer);\n          console.log(\"Bokeh: ERROR: Unable to run BokehJS code because BokehJS library is missing\");\n        }\n      }\n    }, 10, root)\n  }\n})(window);</script>",
      "application/vnd.holoviews_exec.v0+json": "",
      "text/plain": [
       ":Curve   [year]   (gross_rent)"
      ]
     },
     "metadata": {
      "application/vnd.holoviews_exec.v0+json": {
       "id": "1829"
      }
     },
     "execution_count": 81
    }
   ],
   "source": [
    "average_gross_rent()"
   ]
  },
  {
   "cell_type": "code",
   "execution_count": 106,
   "metadata": {},
   "outputs": [
    {
     "output_type": "display_data",
     "data": {},
     "metadata": {}
    },
    {
     "output_type": "execute_result",
     "data": {
      "text/html": "<div id='3428'>\n\n\n\n\n\n  <div class=\"bk-root\" id=\"afc598a2-af8a-46f0-b40b-8128e0819501\" data-root-id=\"3428\"></div>\n</div>\n<script type=\"application/javascript\">(function(root) {\n  function embed_document(root) {\n    var docs_json = {\"32d96d58-16cd-4c50-9d41-11232e84cc57\":{\"roots\":{\"references\":[{\"attributes\":{\"active_drag\":\"auto\",\"active_inspect\":\"auto\",\"active_multi\":null,\"active_scroll\":\"auto\",\"active_tap\":\"auto\",\"tools\":[{\"id\":\"3432\"},{\"id\":\"3450\"},{\"id\":\"3451\"},{\"id\":\"3452\"},{\"id\":\"3453\"},{\"id\":\"3454\"}]},\"id\":\"3456\",\"type\":\"Toolbar\"},{\"attributes\":{\"below\":[{\"id\":\"3442\"}],\"center\":[{\"id\":\"3445\"},{\"id\":\"3449\"}],\"left\":[{\"id\":\"3446\"}],\"margin\":[5,5,5,5],\"min_border_bottom\":10,\"min_border_left\":10,\"min_border_right\":10,\"min_border_top\":10,\"plot_height\":300,\"plot_width\":700,\"renderers\":[{\"id\":\"3469\"}],\"sizing_mode\":\"fixed\",\"title\":{\"id\":\"3434\"},\"toolbar\":{\"id\":\"3456\"},\"x_range\":{\"id\":\"3430\"},\"x_scale\":{\"id\":\"3438\"},\"y_range\":{\"id\":\"3431\"},\"y_scale\":{\"id\":\"3440\"}},\"id\":\"3433\",\"subtype\":\"Figure\",\"type\":\"Plot\"},{\"attributes\":{},\"id\":\"3450\",\"type\":\"SaveTool\"},{\"attributes\":{\"text\":\"Average Price per sq ft by Year\",\"text_color\":{\"value\":\"black\"},\"text_font_size\":{\"value\":\"12pt\"}},\"id\":\"3434\",\"type\":\"Title\"},{\"attributes\":{},\"id\":\"3451\",\"type\":\"PanTool\"},{\"attributes\":{},\"id\":\"3454\",\"type\":\"ResetTool\"},{\"attributes\":{},\"id\":\"3452\",\"type\":\"WheelZoomTool\"},{\"attributes\":{\"line_color\":\"green\",\"line_width\":2,\"x\":{\"field\":\"year\"},\"y\":{\"field\":\"sale_price_sqr_foot\"}},\"id\":\"3466\",\"type\":\"Line\"},{\"attributes\":{},\"id\":\"3484\",\"type\":\"UnionRenderers\"},{\"attributes\":{\"overlay\":{\"id\":\"3455\"}},\"id\":\"3453\",\"type\":\"BoxZoomTool\"},{\"attributes\":{},\"id\":\"3438\",\"type\":\"LinearScale\"},{\"attributes\":{},\"id\":\"3464\",\"type\":\"Selection\"},{\"attributes\":{},\"id\":\"3471\",\"type\":\"BasicTickFormatter\"},{\"attributes\":{\"children\":[{\"id\":\"3429\"},{\"id\":\"3433\"},{\"id\":\"3493\"}],\"margin\":[0,0,0,0],\"name\":\"Row112353\",\"tags\":[\"embedded\"]},\"id\":\"3428\",\"type\":\"Row\"},{\"attributes\":{\"axis_label\":\"year\",\"bounds\":\"auto\",\"formatter\":{\"id\":\"3471\"},\"major_label_orientation\":\"horizontal\",\"ticker\":{\"id\":\"3443\"}},\"id\":\"3442\",\"type\":\"LinearAxis\"},{\"attributes\":{},\"id\":\"3440\",\"type\":\"LinearScale\"},{\"attributes\":{\"end\":2016.0,\"reset_end\":2016.0,\"reset_start\":2010.0,\"start\":2010.0,\"tags\":[[[\"year\",\"year\",null]]]},\"id\":\"3430\",\"type\":\"Range1d\"},{\"attributes\":{\"data\":{\"sale_price_sqr_foot\":{\"__ndarray__\":\"Dkc7WO0yckAb89Db675wQDz0Q0QoQ2VA8TcCl1G2dUD+oFgkcfBzQAb9tofCInpAof802b8Vd0Aswp8sCsuBQOHxGNKptGRACCbRpeSOfEDpzvjjvjluQE7pzZvkMXlArTyLdtrOdkDsA/jc/xt5QNBDS1pHWmRAtVpzFZQhakBoH3UGsVyGQF1Y/LBoPoFAQH/hMinPb0CPLLtGjwRxQAU/9Vf/U2VAa4srL+gwcUBJAf9dM8ttQNfGotB29mhArudfYSjdcUB0W/XPUDxxQLrmOXo0PnpA2VI3JcAMdEDDPVqOV+d4QO+rvBPsYHdAUx8MEkk2eECe/mGt3kSFQGCfz9PinH5Ajx2o184fcEDlSnYzBG5wQJ7H2vHWOnNAGS5CEjfSd0CMmJ0r6qFxQJ1Cn+ofA3tAB35J6gQidUC+wf0d/AR3QMTWDJhBCH9APTKCP0ZgdECM2zn5qiJxQIOIBH8UJHtASE2NcH/ickCHfz43M7d+QNakVuxXK4FAqeg8U5KldkCXu/8uZjSQQDb211G8FHlAf6R84kD0gEAI6ksbWWaAQFjhNlzluHRA4Ic3LozJgUD39D/L0wBbQF9HF+7PhHhAgK0qWTbyakDaEQJEB9J0QJp+zNxvCHFAED+VSUyRZUAeMSZqv359QHoEZhC3eGVAfWcb7Z5acEAzufO80nZ4QNlFns6+RYBAdT6rzyvSa0AbTXjLh2l4QPgGJ+ROO2JAk1x/3KLld0A52E4PA0ltQOhbTlV4fHJA6C1n2JrSeUDn1P+nAZVxQKN0CCCmKnZADiokRZ+WfEAWhCYN4M51QNEuNbynhXhA7bxTrLCLcUBltPYZWEt2QJt27weCwGhAJnAjmcyycUC/5PKqmIB2QBmsIv2r6XJAJyxLICIWg0CVIgEIvqF0QNGILVNqlXNAcfjCCrX4ckCye+dyGG14QPFwTCnR6nlAOH5UGzyvf0DnKsbKd1ZyQPDqxBNISnVAfULFs6hfd0A/fcuMvC5yQL8TU+lgr3VAVAHB6Y/EYUAqM2fRQj5uQGZlMDZx8XBA31kQzu2TckBGT3H7V9B/QKCUuYmwGXJAEz3zlOExa0DyEqbo4il9QNiEtzpgBWpAtc2OUDdyf0CiXLTmCd1+QLPnmCUfBXxAFsUVNE9KeEDj6aVLoB51QKAMgfigUntAEtlSC342fkC1UWNLEslxQDss8Nf44XJAuHXu8MkDeEDIEo9KaG1sQDBy23cwAXRAd23rysRte0CBkbOaLeNmQBPNmsjah3VAVQokuom5ZEAqyD7VQwR3QNMPoV2eKXVAH6z/c3twcUDpVWpTzud0QGuzdI63THZACdhe5IsmhEBlgXgIcvF5QEfnZUXt73ZAYAhJocDRcECp7K1zj0p8QBwUV+GBZoBATeYCw3swd0Bxw/K3oeVxQCLvSpm+LoNAdKRgFx4qe0A109Y7SS16QN/Eix0MJnNAymiKFzcNdUDh/ANGeFd3QMlvDkJDXXRATiy9BWjyd0B6u+3/V8h3QAfvLHLXD4FA995Y4LzCeECUBQYIcdN7QDAdz4lCUnpAu1cFrAbfeECiM5n6iaGHQDDJZL4vjIVAeLo/2FsPdEDTqfaihzxzQIDKIsFZwHpAvu1bUGMpgEByVgFHJGZ4QBUFROzho3tA0YXiSTK8a0B+nfz/V41zQKF06NAgKnVAYwS0g/DQeUC1+2fnvlGCQAQj45xBAXJABZhbzmGkd0CMC6FbXh+AQMhgbA2x8HVAWP2zjV0qfUDQSQrLvKl6QBozkYia4nlAW7SNWPX8fEAe/n191Rx9QAmC4vRkDnNANDDNCibTe0AlgSgiVJ91QC6BJQW6XHRAKn8VVWolcUAQ8A8oBr1+QCc6INC0PHhAHhRYrnJVfEAALpAtwThwQCfG9awtt4NAK46qSn1zfECPG8JA3nB1QNly5GvIq3RADrX7fVhcfEAw4N3zOBuGQDOFNOe042tAKTeB8IGtgECulRlrRpd2QFpV+kqPBYNAyEp4of4bckCvvbO8UydxQED5MZOKq3xA1GPpFHnhjUBsfJ0g7ud9QOi4Up1tuX5AuDqzykmYd0CDvlVgeu9yQIdGFw27OHtAEAzB95ZAgkBvQ3uNNcWBQHgs42pWgXdAyw2Bnl8ggUCs39SWlXmEQOm79Qyn+IVAAAAAAAAA+H+7la8GqbJ6QMIgelc3e4JANu2GfmwgfUAj2JPtgjiDQEOToDR6m3hAHDEia7MyfkBCp+Ms30N3QEWBaGmGxnRAduAUwFAhdEA1MtlfY35/QB3B+LcLBYBAiGIrlP7JdkAimIatRpp6QKyNJEfsf21AlMC7a6O1gkD6AizUuAaAQGK/Tu6jo39AwhgJqydNekD12zxjW51/QDNB5DB+aoRA+JW2mPjmeUAwvuxv4ymUQLlb1O8m0HFAbh3vIcZUckDrOQ4vmWCCQHWVIqfZImtAaQXgFatah0Bmq91fF4iHQBYyKcoYR35AICUpAIhjg0BWESlbrd5vQKolIBxgBIFAgi6ZXj5/ekAWLPo234N8QBMeqQd1wYtAmCXbXOyehUCJO7vgn8t6QIjRLwZ+soNAqnRDddbHhkBWof9B4mR2QCiA6vIZn3lAXi0AXVizhUD+uUCEgEyBQF9AZ1e4uoFAdq2l5tAIf0AXEdXax856QJi0BnMyPYRAUJN4QdACfUDC7XKumqmCQNsAF8AI73pAORPvDqhtfUAi628Elax6QDHJNFBnD3tAT35j+4zTc0A7DXIXA2OGQObLETS1FoRAioPu9M+FgEBcSWyXEM+TQOrsuQaOg2tA6mO9ucERhEAJ9u43/8JyQIPmAfgX531A3IjGeGl2hED5CxlIzr53QN8T3Ee1V4RAr13b2fUeeUCKxEQ80aV+QNohKwFFxYlAej5Ntck+d0C/o97y0+N7QPqFl8M/K4hAyPcBOaPRgEAa4w1izlSQQKeMQKSb24JAXjqazsZRhkDTKbSOXEllQKOvzdQIZYBAvKGnAlt/kUCe8VsoStd+QLEuMlSLIYZAyhPyNEqXgUBCsqZAK3KBQPZOQX5Ktn1AscRyUWigcUBjS0OCQ36FQHoz7iXQ13pAhgoZedY3h0Ae7tWsx/59QI0V5FDt0IJA+vr6+voafUD+bei7V3aCQH9SL5wRoHxAOjQwopA9gUBt8m/8npJ9QKwFse0RVnxAjW2sLiozkUCftXXe9rSCQH5hdvrl2XJAHPTtrjBefkA38pddKr2DQNdjWGVxsYhACFWOlrHleUDVlzFY3rKFQNGCpubtVnxARZR9aNkgg0B+N3fjsyWIQNj5jEQx8oFAdfjT8XTEgEAAAAAAAAD4f7xqdrZJBWhAQ4hyk2k+e0Bx4v7FN9SHQP4B9lLZ2X5Akm/D6iv5g0D8V2zMqQOCQKwhg5D1qnpAzWCPX06yjEAKZ36YTwCJQI2iC3VZs5FA+yjvsAvegUDs28oByj6CQN20QE/HjoBAoEEqV80EgUDSScY66A18QOOKydhG14tA/WfBkeCecEDDWanzf6WBQIwwtcJNYoRAvk+pDnxne0BYJNGoUF52QFibs2OAcYxAjHBTQJREg0AAAAAAAAD4f47cJCG/6oJAXeexbWiqiUAAAAAAAAD4f08CCI8YyohAIaNeC6lohkARQeSF/3t7QPfUt/jrJ49AHBNKtl0VekAJf5jZZ6WhQPqD47K0LoVADxdlyozjckCvpkgGghd+QOv8I0wuHI5AVCHcmLVPdUAzlfdashlWQGwor6G81o5AU/wBFDabikDzg6jxg6iEQOuYWY33KoJAlnINLUOMkECVPS4CnLWBQL1yg/I2doZAgjgXGCoLkECTLzpcz7GAQAAAAAAAAPh/X39xMoiMjUDN/mAlrp6AQPGqJT0d4mVAUs1OzqPcgUDGlTbgKT6EQMOMSbXmMIBAcgrFZfo0eUBHnSYAyN57QFAHrAaIBIZAVYW5N3Ljg0Dl8AIXHf96QKyqqqqqIpZABWqjjI3kjED7adXXIniLQObXNQcRSIhAOogEGPf7iEByKLVn2nh5QHIdNWPlYkRAKzIM9sPlhkCgv2rtlLKSQFspDwM76X9Aktikah0jj0Bun2fSpGlqQGKfoWz935JAxoQBfzYdhkCHJRzV3+eWQPmHwAhcAZBAeO0bSxeZgEDWmYDBY3mHQKqwIO5lOIxACq/wCq9QjkCZU7cO0kSBQFIpwaYahXRAUZZwO5C5g0A=\",\"dtype\":\"float64\",\"order\":\"little\",\"shape\":[397]},\"year\":[2010,2010,2010,2010,2010,2010,2010,2010,2010,2010,2010,2010,2010,2010,2010,2010,2010,2010,2010,2010,2010,2010,2010,2010,2010,2010,2010,2010,2010,2010,2010,2010,2010,2010,2010,2010,2010,2010,2010,2010,2010,2010,2010,2010,2010,2010,2010,2010,2010,2010,2010,2010,2010,2010,2010,2010,2010,2010,2010,2011,2011,2011,2011,2011,2011,2011,2011,2011,2011,2011,2011,2011,2011,2011,2011,2011,2011,2011,2011,2011,2011,2011,2011,2011,2011,2011,2011,2011,2011,2011,2011,2011,2011,2011,2011,2011,2011,2011,2011,2011,2011,2011,2011,2011,2011,2011,2011,2011,2011,2011,2011,2011,2011,2011,2011,2011,2011,2011,2012,2012,2012,2012,2012,2012,2012,2012,2012,2012,2012,2012,2012,2012,2012,2012,2012,2012,2012,2012,2012,2012,2012,2012,2012,2012,2012,2012,2012,2012,2012,2012,2012,2012,2012,2012,2012,2012,2012,2012,2012,2012,2012,2012,2012,2012,2012,2012,2012,2012,2012,2012,2012,2012,2012,2012,2012,2012,2013,2013,2013,2013,2013,2013,2013,2013,2013,2013,2013,2013,2013,2013,2013,2013,2013,2013,2013,2013,2013,2013,2013,2013,2013,2013,2013,2013,2013,2013,2013,2013,2013,2013,2013,2013,2013,2013,2013,2013,2013,2013,2013,2013,2013,2013,2013,2013,2013,2013,2013,2013,2013,2013,2013,2013,2013,2014,2014,2014,2014,2014,2014,2014,2014,2014,2014,2014,2014,2014,2014,2014,2014,2014,2014,2014,2014,2014,2014,2014,2014,2014,2014,2014,2014,2014,2014,2014,2014,2014,2014,2014,2014,2014,2014,2014,2014,2014,2014,2014,2014,2014,2014,2014,2014,2014,2014,2014,2014,2014,2014,2014,2014,2014,2014,2014,2014,2015,2015,2015,2015,2015,2015,2015,2015,2015,2015,2015,2015,2015,2015,2015,2015,2015,2015,2015,2015,2015,2015,2015,2015,2015,2015,2015,2015,2015,2015,2015,2015,2015,2015,2015,2015,2015,2015,2015,2015,2015,2015,2015,2015,2015,2015,2015,2015,2015,2015,2015,2015,2015,2015,2015,2015,2015,2015,2016,2016,2016,2016,2016,2016,2016,2016,2016,2016,2016,2016,2016,2016,2016,2016,2016,2016,2016,2016,2016,2016,2016,2016,2016,2016,2016,2016,2016,2016,2016,2016,2016,2016,2016,2016,2016,2016,2016,2016,2016,2016,2016,2016,2016,2016]},\"selected\":{\"id\":\"3464\"},\"selection_policy\":{\"id\":\"3484\"}},\"id\":\"3463\",\"type\":\"ColumnDataSource\"},{\"attributes\":{\"margin\":[5,5,5,5],\"name\":\"HSpacer112357\",\"sizing_mode\":\"stretch_width\"},\"id\":\"3429\",\"type\":\"Spacer\"},{\"attributes\":{},\"id\":\"3443\",\"type\":\"BasicTicker\"},{\"attributes\":{},\"id\":\"3473\",\"type\":\"BasicTickFormatter\"},{\"attributes\":{\"axis_label\":\"Price Per sqft\",\"bounds\":\"auto\",\"formatter\":{\"id\":\"3473\"},\"major_label_orientation\":\"horizontal\",\"ticker\":{\"id\":\"3447\"}},\"id\":\"3446\",\"type\":\"LinearAxis\"},{\"attributes\":{\"end\":2480.495852663006,\"reset_end\":2480.495852663006,\"reset_start\":-181.02039531280724,\"start\":-181.02039531280724,\"tags\":[[[\"sale_price_sqr_foot\",\"sale_price_sqr_foot\",null]]]},\"id\":\"3431\",\"type\":\"Range1d\"},{\"attributes\":{\"axis\":{\"id\":\"3442\"},\"ticker\":{\"id\":\"3443\"}},\"id\":\"3445\",\"type\":\"Grid\"},{\"attributes\":{\"source\":{\"id\":\"3463\"}},\"id\":\"3470\",\"type\":\"CDSView\"},{\"attributes\":{\"line_alpha\":0.1,\"line_color\":\"green\",\"line_width\":2,\"x\":{\"field\":\"year\"},\"y\":{\"field\":\"sale_price_sqr_foot\"}},\"id\":\"3467\",\"type\":\"Line\"},{\"attributes\":{},\"id\":\"3447\",\"type\":\"BasicTicker\"},{\"attributes\":{\"axis\":{\"id\":\"3446\"},\"dimension\":1,\"ticker\":{\"id\":\"3447\"}},\"id\":\"3449\",\"type\":\"Grid\"},{\"attributes\":{\"callback\":null,\"renderers\":[{\"id\":\"3469\"}],\"tags\":[\"hv_created\"],\"tooltips\":[[\"year\",\"@{year}\"],[\"sale_price_sqr_foot\",\"@{sale_price_sqr_foot}\"]]},\"id\":\"3432\",\"type\":\"HoverTool\"},{\"attributes\":{\"line_alpha\":0.2,\"line_color\":\"green\",\"line_width\":2,\"x\":{\"field\":\"year\"},\"y\":{\"field\":\"sale_price_sqr_foot\"}},\"id\":\"3468\",\"type\":\"Line\"},{\"attributes\":{\"bottom_units\":\"screen\",\"fill_alpha\":0.5,\"fill_color\":\"lightgrey\",\"left_units\":\"screen\",\"level\":\"overlay\",\"line_alpha\":1.0,\"line_color\":\"black\",\"line_dash\":[4,4],\"line_width\":2,\"right_units\":\"screen\",\"top_units\":\"screen\"},\"id\":\"3455\",\"type\":\"BoxAnnotation\"},{\"attributes\":{\"data_source\":{\"id\":\"3463\"},\"glyph\":{\"id\":\"3466\"},\"hover_glyph\":null,\"muted_glyph\":{\"id\":\"3468\"},\"nonselection_glyph\":{\"id\":\"3467\"},\"selection_glyph\":null,\"view\":{\"id\":\"3470\"}},\"id\":\"3469\",\"type\":\"GlyphRenderer\"},{\"attributes\":{\"margin\":[5,5,5,5],\"name\":\"HSpacer112358\",\"sizing_mode\":\"stretch_width\"},\"id\":\"3493\",\"type\":\"Spacer\"}],\"root_ids\":[\"3428\"]},\"title\":\"Bokeh Application\",\"version\":\"2.2.3\"}};\n    var render_items = [{\"docid\":\"32d96d58-16cd-4c50-9d41-11232e84cc57\",\"root_ids\":[\"3428\"],\"roots\":{\"3428\":\"afc598a2-af8a-46f0-b40b-8128e0819501\"}}];\n    root.Bokeh.embed.embed_items_notebook(docs_json, render_items);\n  }\n  if (root.Bokeh !== undefined && root.Bokeh.Panel !== undefined && root['Plotly'] !== undefined ) {\n    embed_document(root);\n  } else {\n    var attempts = 0;\n    var timer = setInterval(function(root) {\n      if (root.Bokeh !== undefined && root.Bokeh.Panel !== undefined && root['Plotly'] !== undefined) {\n        clearInterval(timer);\n        embed_document(root);\n      } else if (document.readyState == \"complete\") {\n        attempts++;\n        if (attempts > 100) {\n          clearInterval(timer);\n          console.log(\"Bokeh: ERROR: Unable to run BokehJS code because BokehJS library is missing\");\n        }\n      }\n    }, 10, root)\n  }\n})(window);</script>",
      "application/vnd.holoviews_exec.v0+json": "",
      "text/plain": [
       ":Curve   [year]   (sale_price_sqr_foot)"
      ]
     },
     "metadata": {
      "application/vnd.holoviews_exec.v0+json": {
       "id": "3428"
      }
     },
     "execution_count": 106
    }
   ],
   "source": [
    " average_sales_price()"
   ]
  },
  {
   "cell_type": "code",
   "execution_count": 85,
   "metadata": {},
   "outputs": [
    {
     "output_type": "display_data",
     "data": {},
     "metadata": {}
    },
    {
     "output_type": "execute_result",
     "data": {
      "text/html": "<div id='2150'>\n\n\n\n\n\n  <div class=\"bk-root\" id=\"6473587d-beb6-4367-8a98-b20c55848fc5\" data-root-id=\"2150\"></div>\n</div>\n<script type=\"application/javascript\">(function(root) {\n  function embed_document(root) {\n    var docs_json = {\"2415d9e5-9541-41d2-8b5d-3134285d20a7\":{\"roots\":{\"references\":[{\"attributes\":{},\"id\":\"2169\",\"type\":\"BasicTicker\"},{\"attributes\":{\"children\":[[{\"id\":\"2155\"},0,0],[{\"id\":\"2199\"},0,1]]},\"id\":\"2259\",\"type\":\"GridBox\"},{\"attributes\":{\"source\":{\"id\":\"2185\"}},\"id\":\"2192\",\"type\":\"CDSView\"},{\"attributes\":{},\"id\":\"2237\",\"type\":\"BasicTickFormatter\"},{\"attributes\":{\"state\":{\"Alamo Square\":{\"content\":\"{\\\"events\\\": [{\\\"attr\\\": \\\"start\\\", \\\"kind\\\": \\\"ModelChanged\\\", \\\"model\\\": {\\\"id\\\": \\\"2153\\\"}, \\\"new\\\": 141.1976609302527}, {\\\"attr\\\": \\\"reset_start\\\", \\\"kind\\\": \\\"ModelChanged\\\", \\\"model\\\": {\\\"id\\\": \\\"2153\\\"}, \\\"new\\\": 141.1976609302527}, {\\\"attr\\\": \\\"end\\\", \\\"kind\\\": \\\"ModelChanged\\\", \\\"model\\\": {\\\"id\\\": \\\"2153\\\"}, \\\"new\\\": 644.0175329447045}, {\\\"attr\\\": \\\"reset_end\\\", \\\"kind\\\": \\\"ModelChanged\\\", \\\"model\\\": {\\\"id\\\": \\\"2153\\\"}, \\\"new\\\": 644.0175329447045}, {\\\"cols\\\": null, \\\"column_source\\\": {\\\"id\\\": \\\"2185\\\"}, \\\"kind\\\": \\\"ColumnDataChanged\\\", \\\"new\\\": {\\\"sale_price_sqr_foot\\\": {\\\"__ndarray__\\\": \\\"Dkc7WO0yckCafszcbwhxQIGRs5ot42ZAJzog0LQ8eEAWMinKGEd+QI0V5FDt0IJAVCHcmLVPdUA=\\\", \\\"dtype\\\": \\\"float64\\\", \\\"order\\\": \\\"little\\\", \\\"shape\\\": [7]}, \\\"year\\\": [2010, 2011, 2012, 2013, 2014, 2015, 2016]}}, {\\\"cols\\\": null, \\\"column_source\\\": {\\\"id\\\": \\\"2229\\\"}, \\\"kind\\\": \\\"ColumnDataChanged\\\", \\\"new\\\": {\\\"gross_rent\\\": [1239, 1530, 2324, 2971, 3528, 3739, 4390], \\\"year\\\": [2010, 2011, 2012, 2013, 2014, 2015, 2016]}}, {\\\"attr\\\": \\\"text\\\", \\\"kind\\\": \\\"ModelChanged\\\", \\\"model\\\": {\\\"id\\\": \\\"2263\\\"}, \\\"new\\\": \\\"<span style=\\\\\\\"color:black;font-family:Arial;font-style:bold;font-weight:bold;font-size:12pt\\\\\\\">neighborhood: Alamo Square<\\\\/span>\\\"}], \\\"references\\\": []}\",\"header\":\"{\\\"msgid\\\": \\\"3137\\\", \\\"msgtype\\\": \\\"PATCH-DOC\\\"}\",\"metadata\":\"{}\"},\"Anza Vista\":{\"content\":\"{\\\"events\\\": [{\\\"attr\\\": \\\"end\\\", \\\"kind\\\": \\\"ModelChanged\\\", \\\"model\\\": {\\\"id\\\": \\\"2152\\\"}, \\\"new\\\": 2016.0}, {\\\"attr\\\": \\\"reset_end\\\", \\\"kind\\\": \\\"ModelChanged\\\", \\\"model\\\": {\\\"id\\\": \\\"2152\\\"}, \\\"new\\\": 2016.0}, {\\\"attr\\\": \\\"start\\\", \\\"kind\\\": \\\"ModelChanged\\\", \\\"model\\\": {\\\"id\\\": \\\"2153\\\"}, \\\"new\\\": 35.19752138501505}, {\\\"attr\\\": \\\"reset_start\\\", \\\"kind\\\": \\\"ModelChanged\\\", \\\"model\\\": {\\\"id\\\": \\\"2153\\\"}, \\\"new\\\": 35.19752138501505}, {\\\"attr\\\": \\\"end\\\", \\\"kind\\\": \\\"ModelChanged\\\", \\\"model\\\": {\\\"id\\\": \\\"2153\\\"}, \\\"new\\\": 673.6453961176034}, {\\\"attr\\\": \\\"reset_end\\\", \\\"kind\\\": \\\"ModelChanged\\\", \\\"model\\\": {\\\"id\\\": \\\"2153\\\"}, \\\"new\\\": 673.6453961176034}, {\\\"cols\\\": null, \\\"column_source\\\": {\\\"id\\\": \\\"2185\\\"}, \\\"kind\\\": \\\"ColumnDataChanged\\\", \\\"new\\\": {\\\"sale_price_sqr_foot\\\": {\\\"__ndarray__\\\": \\\"G/PQ2+u+cEATzZrI2od1QB4UWK5yVXxAICUpAIhjg0D6+vr6+hp9QDOV91qyGVZA\\\", \\\"dtype\\\": \\\"float64\\\", \\\"order\\\": \\\"little\\\", \\\"shape\\\": [6]}, \\\"year\\\": [2010, 2012, 2013, 2014, 2015, 2016]}}, {\\\"attr\\\": \\\"start\\\", \\\"kind\\\": \\\"ModelChanged\\\", \\\"model\\\": {\\\"id\\\": \\\"2197\\\"}, \\\"new\\\": 923.9}, {\\\"attr\\\": \\\"reset_start\\\", \\\"kind\\\": \\\"ModelChanged\\\", \\\"model\\\": {\\\"id\\\": \\\"2197\\\"}, \\\"new\\\": 923.9}, {\\\"attr\\\": \\\"end\\\", \\\"kind\\\": \\\"ModelChanged\\\", \\\"model\\\": {\\\"id\\\": \\\"2197\\\"}, \\\"new\\\": 4705.1}, {\\\"attr\\\": \\\"reset_end\\\", \\\"kind\\\": \\\"ModelChanged\\\", \\\"model\\\": {\\\"id\\\": \\\"2197\\\"}, \\\"new\\\": 4705.1}, {\\\"cols\\\": null, \\\"column_source\\\": {\\\"id\\\": \\\"2229\\\"}, \\\"kind\\\": \\\"ColumnDataChanged\\\", \\\"new\\\": {\\\"gross_rent\\\": [1239, 2324, 2971, 3528, 3739, 4390], \\\"year\\\": [2010, 2012, 2013, 2014, 2015, 2016]}}, {\\\"attr\\\": \\\"text\\\", \\\"kind\\\": \\\"ModelChanged\\\", \\\"model\\\": {\\\"id\\\": \\\"2263\\\"}, \\\"new\\\": \\\"<span style=\\\\\\\"color:black;font-family:Arial;font-style:bold;font-weight:bold;font-size:12pt\\\\\\\">neighborhood: Anza Vista<\\\\/span>\\\"}], \\\"references\\\": []}\",\"header\":\"{\\\"msgid\\\": \\\"3128\\\", \\\"msgtype\\\": \\\"PATCH-DOC\\\"}\",\"metadata\":\"{}\"},\"Bayview\":{\"content\":\"{\\\"events\\\": [{\\\"attr\\\": \\\"start\\\", \\\"kind\\\": \\\"ModelChanged\\\", \\\"model\\\": {\\\"id\\\": \\\"2152\\\"}, \\\"new\\\": 2010.0}, {\\\"attr\\\": \\\"reset_start\\\", \\\"kind\\\": \\\"ModelChanged\\\", \\\"model\\\": {\\\"id\\\": \\\"2152\\\"}, \\\"new\\\": 2010.0}, {\\\"attr\\\": \\\"end\\\", \\\"kind\\\": \\\"ModelChanged\\\", \\\"model\\\": {\\\"id\\\": \\\"2152\\\"}, \\\"new\\\": 2014.0}, {\\\"attr\\\": \\\"reset_end\\\", \\\"kind\\\": \\\"ModelChanged\\\", \\\"model\\\": {\\\"id\\\": \\\"2152\\\"}, \\\"new\\\": 2014.0}, {\\\"attr\\\": \\\"start\\\", \\\"kind\\\": \\\"ModelChanged\\\", \\\"model\\\": {\\\"id\\\": \\\"2153\\\"}, \\\"new\\\": 156.42315237151172}, {\\\"attr\\\": \\\"reset_start\\\", \\\"kind\\\": \\\"ModelChanged\\\", \\\"model\\\": {\\\"id\\\": \\\"2153\\\"}, \\\"new\\\": 156.42315237151172}, {\\\"attr\\\": \\\"end\\\", \\\"kind\\\": \\\"ModelChanged\\\", \\\"model\\\": {\\\"id\\\": \\\"2153\\\"}, \\\"new\\\": 268.92207261322307}, {\\\"attr\\\": \\\"reset_end\\\", \\\"kind\\\": \\\"ModelChanged\\\", \\\"model\\\": {\\\"id\\\": \\\"2153\\\"}, \\\"new\\\": 268.92207261322307}, {\\\"cols\\\": null, \\\"column_source\\\": {\\\"id\\\": \\\"2185\\\"}, \\\"kind\\\": \\\"ColumnDataChanged\\\", \\\"new\\\": {\\\"sale_price_sqr_foot\\\": {\\\"__ndarray__\\\": \\\"PPRDRChDZUAQP5VJTJFlQFUKJLqJuWRAAC6QLcE4cEBWESlbrd5vQA==\\\", \\\"dtype\\\": \\\"float64\\\", \\\"order\\\": \\\"little\\\", \\\"shape\\\": [5]}, \\\"year\\\": [2010, 2011, 2012, 2013, 2014]}}, {\\\"attr\\\": \\\"start\\\", \\\"kind\\\": \\\"ModelChanged\\\", \\\"model\\\": {\\\"id\\\": \\\"2197\\\"}, \\\"new\\\": 1010.1}, {\\\"attr\\\": \\\"reset_start\\\", \\\"kind\\\": \\\"ModelChanged\\\", \\\"model\\\": {\\\"id\\\": \\\"2197\\\"}, \\\"new\\\": 1010.1}, {\\\"attr\\\": \\\"end\\\", \\\"kind\\\": \\\"ModelChanged\\\", \\\"model\\\": {\\\"id\\\": \\\"2197\\\"}, \\\"new\\\": 3756.9}, {\\\"attr\\\": \\\"reset_end\\\", \\\"kind\\\": \\\"ModelChanged\\\", \\\"model\\\": {\\\"id\\\": \\\"2197\\\"}, \\\"new\\\": 3756.9}, {\\\"cols\\\": null, \\\"column_source\\\": {\\\"id\\\": \\\"2229\\\"}, \\\"kind\\\": \\\"ColumnDataChanged\\\", \\\"new\\\": {\\\"gross_rent\\\": [1239, 1530, 2324, 2971, 3528], \\\"year\\\": [2010, 2011, 2012, 2013, 2014]}}, {\\\"attr\\\": \\\"text\\\", \\\"kind\\\": \\\"ModelChanged\\\", \\\"model\\\": {\\\"id\\\": \\\"2263\\\"}, \\\"new\\\": \\\"<span style=\\\\\\\"color:black;font-family:Arial;font-style:bold;font-weight:bold;font-size:12pt\\\\\\\">neighborhood: Bayview<\\\\/span>\\\"}], \\\"references\\\": []}\",\"header\":\"{\\\"msgid\\\": \\\"3119\\\", \\\"msgtype\\\": \\\"PATCH-DOC\\\"}\",\"metadata\":\"{}\"},\"Bayview Heights\":{\"content\":\"{\\\"events\\\": [{\\\"attr\\\": \\\"start\\\", \\\"kind\\\": \\\"ModelChanged\\\", \\\"model\\\": {\\\"id\\\": \\\"2152\\\"}, \\\"new\\\": 2014.0}, {\\\"attr\\\": \\\"reset_start\\\", \\\"kind\\\": \\\"ModelChanged\\\", \\\"model\\\": {\\\"id\\\": \\\"2152\\\"}, \\\"new\\\": 2014.0}, {\\\"attr\\\": \\\"start\\\", \\\"kind\\\": \\\"ModelChanged\\\", \\\"model\\\": {\\\"id\\\": \\\"2153\\\"}, \\\"new\\\": 589.5928388746802}, {\\\"attr\\\": \\\"reset_start\\\", \\\"kind\\\": \\\"ModelChanged\\\", \\\"model\\\": {\\\"id\\\": \\\"2153\\\"}, \\\"new\\\": 589.5928388746802}, {\\\"attr\\\": \\\"end\\\", \\\"kind\\\": \\\"ModelChanged\\\", \\\"model\\\": {\\\"id\\\": \\\"2153\\\"}, \\\"new\\\": 591.9928388746803}, {\\\"attr\\\": \\\"reset_end\\\", \\\"kind\\\": \\\"ModelChanged\\\", \\\"model\\\": {\\\"id\\\": \\\"2153\\\"}, \\\"new\\\": 591.9928388746803}, {\\\"cols\\\": null, \\\"column_source\\\": {\\\"id\\\": \\\"2185\\\"}, \\\"kind\\\": \\\"ColumnDataChanged\\\", \\\"new\\\": {\\\"sale_price_sqr_foot\\\": {\\\"__ndarray__\\\": \\\"/m3ou1d2gkA=\\\", \\\"dtype\\\": \\\"float64\\\", \\\"order\\\": \\\"little\\\", \\\"shape\\\": [1]}, \\\"year\\\": [2015]}}, {\\\"attr\\\": \\\"start\\\", \\\"kind\\\": \\\"ModelChanged\\\", \\\"model\\\": {\\\"id\\\": \\\"2197\\\"}, \\\"new\\\": 3737.8}, {\\\"attr\\\": \\\"reset_start\\\", \\\"kind\\\": \\\"ModelChanged\\\", \\\"model\\\": {\\\"id\\\": \\\"2197\\\"}, \\\"new\\\": 3737.8}, {\\\"attr\\\": \\\"end\\\", \\\"kind\\\": \\\"ModelChanged\\\", \\\"model\\\": {\\\"id\\\": \\\"2197\\\"}, \\\"new\\\": 3740.2}, {\\\"attr\\\": \\\"reset_end\\\", \\\"kind\\\": \\\"ModelChanged\\\", \\\"model\\\": {\\\"id\\\": \\\"2197\\\"}, \\\"new\\\": 3740.2}, {\\\"cols\\\": null, \\\"column_source\\\": {\\\"id\\\": \\\"2229\\\"}, \\\"kind\\\": \\\"ColumnDataChanged\\\", \\\"new\\\": {\\\"gross_rent\\\": [3739], \\\"year\\\": [2015]}}, {\\\"attr\\\": \\\"text\\\", \\\"kind\\\": \\\"ModelChanged\\\", \\\"model\\\": {\\\"id\\\": \\\"2263\\\"}, \\\"new\\\": \\\"<span style=\\\\\\\"color:black;font-family:Arial;font-style:bold;font-weight:bold;font-size:12pt\\\\\\\">neighborhood: Bayview Heights<\\\\/span>\\\"}], \\\"references\\\": []}\",\"header\":\"{\\\"msgid\\\": \\\"3110\\\", \\\"msgtype\\\": \\\"PATCH-DOC\\\"}\",\"metadata\":\"{}\"},\"Bernal Heights \":{\"content\":\"{\\\"events\\\": [{\\\"attr\\\": \\\"start\\\", \\\"kind\\\": \\\"ModelChanged\\\", \\\"model\\\": {\\\"id\\\": \\\"2152\\\"}, \\\"new\\\": 2011.0}, {\\\"attr\\\": \\\"reset_start\\\", \\\"kind\\\": \\\"ModelChanged\\\", \\\"model\\\": {\\\"id\\\": \\\"2152\\\"}, \\\"new\\\": 2011.0}, {\\\"attr\\\": \\\"start\\\", \\\"kind\\\": \\\"ModelChanged\\\", \\\"model\\\": {\\\"id\\\": \\\"2153\\\"}, \\\"new\\\": 306.40900634090787}, {\\\"attr\\\": \\\"reset_start\\\", \\\"kind\\\": \\\"ModelChanged\\\", \\\"model\\\": {\\\"id\\\": \\\"2153\\\"}, \\\"new\\\": 306.40900634090787}, {\\\"attr\\\": \\\"end\\\", \\\"kind\\\": \\\"ModelChanged\\\", \\\"model\\\": {\\\"id\\\": \\\"2153\\\"}, \\\"new\\\": 1048.6996597106352}, {\\\"attr\\\": \\\"reset_end\\\", \\\"kind\\\": \\\"ModelChanged\\\", \\\"model\\\": {\\\"id\\\": \\\"2153\\\"}, \\\"new\\\": 1048.6996597106352}, {\\\"cols\\\": null, \\\"column_source\\\": {\\\"id\\\": \\\"2185\\\"}, \\\"kind\\\": \\\"ColumnDataChanged\\\", \\\"new\\\": {\\\"sale_price_sqr_foot\\\": {\\\"__ndarray__\\\": \\\"HjEmar9+fUAqyD7VQwR3QCfG9awtt4NAqiUgHGAEgUB/Ui+cEaB8QGwor6G81o5A\\\", \\\"dtype\\\": \\\"float64\\\", \\\"order\\\": \\\"little\\\", \\\"shape\\\": [6]}, \\\"year\\\": [2011, 2012, 2013, 2014, 2015, 2016]}}, {\\\"attr\\\": \\\"start\\\", \\\"kind\\\": \\\"ModelChanged\\\", \\\"model\\\": {\\\"id\\\": \\\"2197\\\"}, \\\"new\\\": 1244.0}, {\\\"attr\\\": \\\"reset_start\\\", \\\"kind\\\": \\\"ModelChanged\\\", \\\"model\\\": {\\\"id\\\": \\\"2197\\\"}, \\\"new\\\": 1244.0}, {\\\"attr\\\": \\\"end\\\", \\\"kind\\\": \\\"ModelChanged\\\", \\\"model\\\": {\\\"id\\\": \\\"2197\\\"}, \\\"new\\\": 4676.0}, {\\\"attr\\\": \\\"reset_end\\\", \\\"kind\\\": \\\"ModelChanged\\\", \\\"model\\\": {\\\"id\\\": \\\"2197\\\"}, \\\"new\\\": 4676.0}, {\\\"cols\\\": null, \\\"column_source\\\": {\\\"id\\\": \\\"2229\\\"}, \\\"kind\\\": \\\"ColumnDataChanged\\\", \\\"new\\\": {\\\"gross_rent\\\": [1530, 2324, 2971, 3528, 3739, 4390], \\\"year\\\": [2011, 2012, 2013, 2014, 2015, 2016]}}, {\\\"attr\\\": \\\"text\\\", \\\"kind\\\": \\\"ModelChanged\\\", \\\"model\\\": {\\\"id\\\": \\\"2263\\\"}, \\\"new\\\": \\\"<span style=\\\\\\\"color:black;font-family:Arial;font-style:bold;font-weight:bold;font-size:12pt\\\\\\\">neighborhood: Bernal Heights<\\\\/span>\\\"}], \\\"references\\\": []}\",\"header\":\"{\\\"msgid\\\": \\\"3101\\\", \\\"msgtype\\\": \\\"PATCH-DOC\\\"}\",\"metadata\":\"{}\"},\"Buena Vista Park\":{\"content\":\"{\\\"events\\\": [{\\\"attr\\\": \\\"start\\\", \\\"kind\\\": \\\"ModelChanged\\\", \\\"model\\\": {\\\"id\\\": \\\"2153\\\"}, \\\"new\\\": 103.80944082033817}, {\\\"attr\\\": \\\"reset_start\\\", \\\"kind\\\": \\\"ModelChanged\\\", \\\"model\\\": {\\\"id\\\": \\\"2153\\\"}, \\\"new\\\": 103.80944082033817}, {\\\"attr\\\": \\\"end\\\", \\\"kind\\\": \\\"ModelChanged\\\", \\\"model\\\": {\\\"id\\\": \\\"2153\\\"}, \\\"new\\\": 919.3643112155331}, {\\\"attr\\\": \\\"reset_end\\\", \\\"kind\\\": \\\"ModelChanged\\\", \\\"model\\\": {\\\"id\\\": \\\"2153\\\"}, \\\"new\\\": 919.3643112155331}, {\\\"cols\\\": null, \\\"column_source\\\": {\\\"id\\\": \\\"2185\\\"}, \\\"kind\\\": \\\"ColumnDataChanged\\\", \\\"new\\\": {\\\"sale_price_sqr_foot\\\": {\\\"__ndarray__\\\": \\\"8TcCl1G2dUB6BGYQt3hlQNMPoV2eKXVAK46qSn1zfEA6NDCikD2BQFP8ARQ2m4pA\\\", \\\"dtype\\\": \\\"float64\\\", \\\"order\\\": \\\"little\\\", \\\"shape\\\": [6]}, \\\"year\\\": [2010, 2011, 2012, 2013, 2015, 2016]}}, {\\\"cols\\\": null, \\\"column_source\\\": {\\\"id\\\": \\\"2229\\\"}, \\\"kind\\\": \\\"ColumnDataChanged\\\", \\\"new\\\": {\\\"gross_rent\\\": [1239, 1530, 2324, 2971, 3739, 4390], \\\"year\\\": [2010, 2011, 2012, 2013, 2015, 2016]}}, {\\\"attr\\\": \\\"text\\\", \\\"kind\\\": \\\"ModelChanged\\\", \\\"model\\\": {\\\"id\\\": \\\"2263\\\"}, \\\"new\\\": \\\"<span style=\\\\\\\"color:black;font-family:Arial;font-style:bold;font-weight:bold;font-size:12pt\\\\\\\">neighborhood: Buena Vista Park<\\\\/span>\\\"}], \\\"references\\\": []}\",\"header\":\"{\\\"msgid\\\": \\\"3092\\\", \\\"msgtype\\\": \\\"PATCH-DOC\\\"}\",\"metadata\":\"{}\"},\"Central Richmond\":{\"content\":\"{\\\"events\\\": [{\\\"attr\\\": \\\"start\\\", \\\"kind\\\": \\\"ModelChanged\\\", \\\"model\\\": {\\\"id\\\": \\\"2153\\\"}, \\\"new\\\": 221.72373779878612}, {\\\"attr\\\": \\\"reset_start\\\", \\\"kind\\\": \\\"ModelChanged\\\", \\\"model\\\": {\\\"id\\\": \\\"2153\\\"}, \\\"new\\\": 221.72373779878612}, {\\\"attr\\\": \\\"end\\\", \\\"kind\\\": \\\"ModelChanged\\\", \\\"model\\\": {\\\"id\\\": \\\"2153\\\"}, \\\"new\\\": 701.004488313174}, {\\\"attr\\\": \\\"reset_end\\\", \\\"kind\\\": \\\"ModelChanged\\\", \\\"model\\\": {\\\"id\\\": \\\"2153\\\"}, \\\"new\\\": 701.004488313174}, {\\\"cols\\\": null, \\\"column_source\\\": {\\\"id\\\": \\\"2185\\\"}, \\\"kind\\\": \\\"ColumnDataChanged\\\", \\\"new\\\": {\\\"sale_price_sqr_foot\\\": {\\\"__ndarray__\\\": \\\"/qBYJHHwc0B9ZxvtnlpwQB+s/3N7cHFAjxvCQN5wdUCCLplePn96QG3yb/yekn1A84Oo8YOohEA=\\\", \\\"dtype\\\": \\\"float64\\\", \\\"order\\\": \\\"little\\\", \\\"shape\\\": [7]}, \\\"year\\\": [2010, 2011, 2012, 2013, 2014, 2015, 2016]}}, {\\\"cols\\\": null, \\\"column_source\\\": {\\\"id\\\": \\\"2229\\\"}, \\\"kind\\\": \\\"ColumnDataChanged\\\", \\\"new\\\": {\\\"gross_rent\\\": [1239, 1530, 2324, 2971, 3528, 3739, 4390], \\\"year\\\": [2010, 2011, 2012, 2013, 2014, 2015, 2016]}}, {\\\"attr\\\": \\\"text\\\", \\\"kind\\\": \\\"ModelChanged\\\", \\\"model\\\": {\\\"id\\\": \\\"2263\\\"}, \\\"new\\\": \\\"<span style=\\\\\\\"color:black;font-family:Arial;font-style:bold;font-weight:bold;font-size:12pt\\\\\\\">neighborhood: Central Richmond<\\\\/span>\\\"}], \\\"references\\\": []}\",\"header\":\"{\\\"msgid\\\": \\\"3083\\\", \\\"msgtype\\\": \\\"PATCH-DOC\\\"}\",\"metadata\":\"{}\"},\"Central Sunset\":{\"content\":\"{\\\"events\\\": [{\\\"attr\\\": \\\"start\\\", \\\"kind\\\": \\\"ModelChanged\\\", \\\"model\\\": {\\\"id\\\": \\\"2152\\\"}, \\\"new\\\": 2010.0}, {\\\"attr\\\": \\\"reset_start\\\", \\\"kind\\\": \\\"ModelChanged\\\", \\\"model\\\": {\\\"id\\\": \\\"2152\\\"}, \\\"new\\\": 2010.0}, {\\\"attr\\\": \\\"end\\\", \\\"kind\\\": \\\"ModelChanged\\\", \\\"model\\\": {\\\"id\\\": \\\"2152\\\"}, \\\"new\\\": 2016.0}, {\\\"attr\\\": \\\"reset_end\\\", \\\"kind\\\": \\\"ModelChanged\\\", \\\"model\\\": {\\\"id\\\": \\\"2152\\\"}, \\\"new\\\": 2016.0}, {\\\"attr\\\": \\\"start\\\", \\\"kind\\\": \\\"ModelChanged\\\", \\\"model\\\": {\\\"id\\\": \\\"2153\\\"}, \\\"new\\\": 305.6729866138623}, {\\\"attr\\\": \\\"reset_start\\\", \\\"kind\\\": \\\"ModelChanged\\\", \\\"model\\\": {\\\"id\\\": \\\"2153\\\"}, \\\"new\\\": 305.6729866138623}, {\\\"attr\\\": \\\"end\\\", \\\"kind\\\": \\\"ModelChanged\\\", \\\"model\\\": {\\\"id\\\": \\\"2153\\\"}, \\\"new\\\": 606.4343194777864}, {\\\"attr\\\": \\\"reset_end\\\", \\\"kind\\\": \\\"ModelChanged\\\", \\\"model\\\": {\\\"id\\\": \\\"2153\\\"}, \\\"new\\\": 606.4343194777864}, {\\\"cols\\\": null, \\\"column_source\\\": {\\\"id\\\": \\\"2185\\\"}, \\\"kind\\\": \\\"ColumnDataChanged\\\", \\\"new\\\": {\\\"sale_price_sqr_foot\\\": {\\\"__ndarray__\\\": \\\"Bv22h8IiekAzufO80nZ4QOlValPO53RA2XLka8irdEAWLPo234N8QKwFse0RVnxA65hZjfcqgkA=\\\", \\\"dtype\\\": \\\"float64\\\", \\\"order\\\": \\\"little\\\", \\\"shape\\\": [7]}, \\\"year\\\": [2010, 2011, 2012, 2013, 2014, 2015, 2016]}}, {\\\"attr\\\": \\\"start\\\", \\\"kind\\\": \\\"ModelChanged\\\", \\\"model\\\": {\\\"id\\\": \\\"2197\\\"}, \\\"new\\\": 923.9}, {\\\"attr\\\": \\\"reset_start\\\", \\\"kind\\\": \\\"ModelChanged\\\", \\\"model\\\": {\\\"id\\\": \\\"2197\\\"}, \\\"new\\\": 923.9}, {\\\"attr\\\": \\\"end\\\", \\\"kind\\\": \\\"ModelChanged\\\", \\\"model\\\": {\\\"id\\\": \\\"2197\\\"}, \\\"new\\\": 4705.1}, {\\\"attr\\\": \\\"reset_end\\\", \\\"kind\\\": \\\"ModelChanged\\\", \\\"model\\\": {\\\"id\\\": \\\"2197\\\"}, \\\"new\\\": 4705.1}, {\\\"cols\\\": null, \\\"column_source\\\": {\\\"id\\\": \\\"2229\\\"}, \\\"kind\\\": \\\"ColumnDataChanged\\\", \\\"new\\\": {\\\"gross_rent\\\": [1239, 1530, 2324, 2971, 3528, 3739, 4390], \\\"year\\\": [2010, 2011, 2012, 2013, 2014, 2015, 2016]}}, {\\\"attr\\\": \\\"text\\\", \\\"kind\\\": \\\"ModelChanged\\\", \\\"model\\\": {\\\"id\\\": \\\"2263\\\"}, \\\"new\\\": \\\"<span style=\\\\\\\"color:black;font-family:Arial;font-style:bold;font-weight:bold;font-size:12pt\\\\\\\">neighborhood: Central Sunset<\\\\/span>\\\"}], \\\"references\\\": []}\",\"header\":\"{\\\"msgid\\\": \\\"3074\\\", \\\"msgtype\\\": \\\"PATCH-DOC\\\"}\",\"metadata\":\"{}\"},\"Clarendon Heights\":{\"content\":\"{\\\"events\\\": [{\\\"attr\\\": \\\"start\\\", \\\"kind\\\": \\\"ModelChanged\\\", \\\"model\\\": {\\\"id\\\": \\\"2152\\\"}, \\\"new\\\": 2011.0}, {\\\"attr\\\": \\\"reset_start\\\", \\\"kind\\\": \\\"ModelChanged\\\", \\\"model\\\": {\\\"id\\\": \\\"2152\\\"}, \\\"new\\\": 2011.0}, {\\\"attr\\\": \\\"end\\\", \\\"kind\\\": \\\"ModelChanged\\\", \\\"model\\\": {\\\"id\\\": \\\"2152\\\"}, \\\"new\\\": 2013.0}, {\\\"attr\\\": \\\"reset_end\\\", \\\"kind\\\": \\\"ModelChanged\\\", \\\"model\\\": {\\\"id\\\": \\\"2152\\\"}, \\\"new\\\": 2013.0}, {\\\"attr\\\": \\\"start\\\", \\\"kind\\\": \\\"ModelChanged\\\", \\\"model\\\": {\\\"id\\\": \\\"2153\\\"}, \\\"new\\\": 447.076948221115}, {\\\"attr\\\": \\\"reset_start\\\", \\\"kind\\\": \\\"ModelChanged\\\", \\\"model\\\": {\\\"id\\\": \\\"2153\\\"}, \\\"new\\\": 447.076948221115}, {\\\"attr\\\": \\\"end\\\", \\\"kind\\\": \\\"ModelChanged\\\", \\\"model\\\": {\\\"id\\\": \\\"2153\\\"}, \\\"new\\\": 527.4128238314}, {\\\"attr\\\": \\\"reset_end\\\", \\\"kind\\\": \\\"ModelChanged\\\", \\\"model\\\": {\\\"id\\\": \\\"2153\\\"}, \\\"new\\\": 527.4128238314}, {\\\"cols\\\": null, \\\"column_source\\\": {\\\"id\\\": \\\"2185\\\"}, \\\"kind\\\": \\\"ColumnDataChanged\\\", \\\"new\\\": {\\\"sale_price_sqr_foot\\\": {\\\"__ndarray__\\\": \\\"2UWezr5FgEAOtft9WFx8QA==\\\", \\\"dtype\\\": \\\"float64\\\", \\\"order\\\": \\\"little\\\", \\\"shape\\\": [2]}, \\\"year\\\": [2011, 2013]}}, {\\\"attr\\\": \\\"start\\\", \\\"kind\\\": \\\"ModelChanged\\\", \\\"model\\\": {\\\"id\\\": \\\"2197\\\"}, \\\"new\\\": 1385.9}, {\\\"attr\\\": \\\"reset_start\\\", \\\"kind\\\": \\\"ModelChanged\\\", \\\"model\\\": {\\\"id\\\": \\\"2197\\\"}, \\\"new\\\": 1385.9}, {\\\"attr\\\": \\\"end\\\", \\\"kind\\\": \\\"ModelChanged\\\", \\\"model\\\": {\\\"id\\\": \\\"2197\\\"}, \\\"new\\\": 3115.1}, {\\\"attr\\\": \\\"reset_end\\\", \\\"kind\\\": \\\"ModelChanged\\\", \\\"model\\\": {\\\"id\\\": \\\"2197\\\"}, \\\"new\\\": 3115.1}, {\\\"cols\\\": null, \\\"column_source\\\": {\\\"id\\\": \\\"2229\\\"}, \\\"kind\\\": \\\"ColumnDataChanged\\\", \\\"new\\\": {\\\"gross_rent\\\": [1530, 2971], \\\"year\\\": [2011, 2013]}}, {\\\"attr\\\": \\\"text\\\", \\\"kind\\\": \\\"ModelChanged\\\", \\\"model\\\": {\\\"id\\\": \\\"2263\\\"}, \\\"new\\\": \\\"<span style=\\\\\\\"color:black;font-family:Arial;font-style:bold;font-weight:bold;font-size:12pt\\\\\\\">neighborhood: Clarendon Heights<\\\\/span>\\\"}], \\\"references\\\": []}\",\"header\":\"{\\\"msgid\\\": \\\"3065\\\", \\\"msgtype\\\": \\\"PATCH-DOC\\\"}\",\"metadata\":\"{}\"},\"Corona Heights\":{\"content\":\"{\\\"events\\\": [{\\\"attr\\\": \\\"end\\\", \\\"kind\\\": \\\"ModelChanged\\\", \\\"model\\\": {\\\"id\\\": \\\"2152\\\"}, \\\"new\\\": 2015.0}, {\\\"attr\\\": \\\"reset_end\\\", \\\"kind\\\": \\\"ModelChanged\\\", \\\"model\\\": {\\\"id\\\": \\\"2152\\\"}, \\\"new\\\": 2015.0}, {\\\"attr\\\": \\\"start\\\", \\\"kind\\\": \\\"ModelChanged\\\", \\\"model\\\": {\\\"id\\\": \\\"2153\\\"}, \\\"new\\\": 134.74551348542053}, {\\\"attr\\\": \\\"reset_start\\\", \\\"kind\\\": \\\"ModelChanged\\\", \\\"model\\\": {\\\"id\\\": \\\"2153\\\"}, \\\"new\\\": 134.74551348542053}, {\\\"attr\\\": \\\"end\\\", \\\"kind\\\": \\\"ModelChanged\\\", \\\"model\\\": {\\\"id\\\": \\\"2153\\\"}, \\\"new\\\": 1188.6135282327261}, {\\\"attr\\\": \\\"reset_end\\\", \\\"kind\\\": \\\"ModelChanged\\\", \\\"model\\\": {\\\"id\\\": \\\"2153\\\"}, \\\"new\\\": 1188.6135282327261}, {\\\"cols\\\": null, \\\"column_source\\\": {\\\"id\\\": \\\"2185\\\"}, \\\"kind\\\": \\\"ColumnDataChanged\\\", \\\"new\\\": {\\\"sale_price_sqr_foot\\\": {\\\"__ndarray__\\\": \\\"of802b8Vd0B1PqvPK9JrQGuzdI63THZAEx6pB3XBi0CNbawuKjORQA==\\\", \\\"dtype\\\": \\\"float64\\\", \\\"order\\\": \\\"little\\\", \\\"shape\\\": [5]}, \\\"year\\\": [2010, 2011, 2012, 2014, 2015]}}, {\\\"attr\\\": \\\"start\\\", \\\"kind\\\": \\\"ModelChanged\\\", \\\"model\\\": {\\\"id\\\": \\\"2197\\\"}, \\\"new\\\": 989.0}, {\\\"attr\\\": \\\"reset_start\\\", \\\"kind\\\": \\\"ModelChanged\\\", \\\"model\\\": {\\\"id\\\": \\\"2197\\\"}, \\\"new\\\": 989.0}, {\\\"attr\\\": \\\"end\\\", \\\"kind\\\": \\\"ModelChanged\\\", \\\"model\\\": {\\\"id\\\": \\\"2197\\\"}, \\\"new\\\": 3989.0}, {\\\"attr\\\": \\\"reset_end\\\", \\\"kind\\\": \\\"ModelChanged\\\", \\\"model\\\": {\\\"id\\\": \\\"2197\\\"}, \\\"new\\\": 3989.0}, {\\\"cols\\\": null, \\\"column_source\\\": {\\\"id\\\": \\\"2229\\\"}, \\\"kind\\\": \\\"ColumnDataChanged\\\", \\\"new\\\": {\\\"gross_rent\\\": [1239, 1530, 2324, 3528, 3739], \\\"year\\\": [2010, 2011, 2012, 2014, 2015]}}, {\\\"attr\\\": \\\"text\\\", \\\"kind\\\": \\\"ModelChanged\\\", \\\"model\\\": {\\\"id\\\": \\\"2263\\\"}, \\\"new\\\": \\\"<span style=\\\\\\\"color:black;font-family:Arial;font-style:bold;font-weight:bold;font-size:12pt\\\\\\\">neighborhood: Corona Heights<\\\\/span>\\\"}], \\\"references\\\": []}\",\"header\":\"{\\\"msgid\\\": \\\"3056\\\", \\\"msgtype\\\": \\\"PATCH-DOC\\\"}\",\"metadata\":\"{}\"},\"Cow Hollow\":{\"content\":\"{\\\"events\\\": [{\\\"attr\\\": \\\"start\\\", \\\"kind\\\": \\\"ModelChanged\\\", \\\"model\\\": {\\\"id\\\": \\\"2153\\\"}, \\\"new\\\": 323.7486581763337}, {\\\"attr\\\": \\\"reset_start\\\", \\\"kind\\\": \\\"ModelChanged\\\", \\\"model\\\": {\\\"id\\\": \\\"2153\\\"}, \\\"new\\\": 323.7486581763337}, {\\\"attr\\\": \\\"end\\\", \\\"kind\\\": \\\"ModelChanged\\\", \\\"model\\\": {\\\"id\\\": \\\"2153\\\"}, \\\"new\\\": 1125.9125964013463}, {\\\"attr\\\": \\\"reset_end\\\", \\\"kind\\\": \\\"ModelChanged\\\", \\\"model\\\": {\\\"id\\\": \\\"2153\\\"}, \\\"new\\\": 1125.9125964013463}, {\\\"cols\\\": null, \\\"column_source\\\": {\\\"id\\\": \\\"2185\\\"}, \\\"kind\\\": \\\"ColumnDataChanged\\\", \\\"new\\\": {\\\"sale_price_sqr_foot\\\": {\\\"__ndarray__\\\": \\\"LMKfLArLgUAbTXjLh2l4QAnYXuSLJoRAMODd8zgbhkCYJdtc7J6FQJ+1dd72tIJAlnINLUOMkEA=\\\", \\\"dtype\\\": \\\"float64\\\", \\\"order\\\": \\\"little\\\", \\\"shape\\\": [7]}, \\\"year\\\": [2010, 2011, 2012, 2013, 2014, 2015, 2016]}}, {\\\"cols\\\": null, \\\"column_source\\\": {\\\"id\\\": \\\"2229\\\"}, \\\"kind\\\": \\\"ColumnDataChanged\\\", \\\"new\\\": {\\\"gross_rent\\\": [1239, 1530, 2324, 2971, 3528, 3739, 4390], \\\"year\\\": [2010, 2011, 2012, 2013, 2014, 2015, 2016]}}, {\\\"attr\\\": \\\"text\\\", \\\"kind\\\": \\\"ModelChanged\\\", \\\"model\\\": {\\\"id\\\": \\\"2263\\\"}, \\\"new\\\": \\\"<span style=\\\\\\\"color:black;font-family:Arial;font-style:bold;font-weight:bold;font-size:12pt\\\\\\\">neighborhood: Cow Hollow<\\\\/span>\\\"}], \\\"references\\\": []}\",\"header\":\"{\\\"msgid\\\": \\\"3047\\\", \\\"msgtype\\\": \\\"PATCH-DOC\\\"}\",\"metadata\":\"{}\"},\"Croker Amazon\":{\"content\":\"{\\\"events\\\": [{\\\"attr\\\": \\\"end\\\", \\\"kind\\\": \\\"ModelChanged\\\", \\\"model\\\": {\\\"id\\\": \\\"2152\\\"}, \\\"new\\\": 2016.0}, {\\\"attr\\\": \\\"reset_end\\\", \\\"kind\\\": \\\"ModelChanged\\\", \\\"model\\\": {\\\"id\\\": \\\"2152\\\"}, \\\"new\\\": 2016.0}, {\\\"attr\\\": \\\"start\\\", \\\"kind\\\": \\\"ModelChanged\\\", \\\"model\\\": {\\\"id\\\": \\\"2153\\\"}, \\\"new\\\": 103.76860070011341}, {\\\"attr\\\": \\\"reset_start\\\", \\\"kind\\\": \\\"ModelChanged\\\", \\\"model\\\": {\\\"id\\\": \\\"2153\\\"}, \\\"new\\\": 103.76860070011341}, {\\\"attr\\\": \\\"end\\\", \\\"kind\\\": \\\"ModelChanged\\\", \\\"model\\\": {\\\"id\\\": \\\"2153\\\"}, \\\"new\\\": 608.7859556100437}, {\\\"attr\\\": \\\"reset_end\\\", \\\"kind\\\": \\\"ModelChanged\\\", \\\"model\\\": {\\\"id\\\": \\\"2153\\\"}, \\\"new\\\": 608.7859556100437}, {\\\"cols\\\": null, \\\"column_source\\\": {\\\"id\\\": \\\"2185\\\"}, \\\"kind\\\": \\\"ColumnDataChanged\\\", \\\"new\\\": {\\\"sale_price_sqr_foot\\\": {\\\"__ndarray__\\\": \\\"4fEY0qm0ZED4BifkTjtiQGWBeAhy8XlAM4U057Tja0B+YXb65dlyQJU9LgKctYFA\\\", \\\"dtype\\\": \\\"float64\\\", \\\"order\\\": \\\"little\\\", \\\"shape\\\": [6]}, \\\"year\\\": [2010, 2011, 2012, 2013, 2015, 2016]}}, {\\\"attr\\\": \\\"start\\\", \\\"kind\\\": \\\"ModelChanged\\\", \\\"model\\\": {\\\"id\\\": \\\"2197\\\"}, \\\"new\\\": 923.9}, {\\\"attr\\\": \\\"reset_start\\\", \\\"kind\\\": \\\"ModelChanged\\\", \\\"model\\\": {\\\"id\\\": \\\"2197\\\"}, \\\"new\\\": 923.9}, {\\\"attr\\\": \\\"end\\\", \\\"kind\\\": \\\"ModelChanged\\\", \\\"model\\\": {\\\"id\\\": \\\"2197\\\"}, \\\"new\\\": 4705.1}, {\\\"attr\\\": \\\"reset_end\\\", \\\"kind\\\": \\\"ModelChanged\\\", \\\"model\\\": {\\\"id\\\": \\\"2197\\\"}, \\\"new\\\": 4705.1}, {\\\"cols\\\": null, \\\"column_source\\\": {\\\"id\\\": \\\"2229\\\"}, \\\"kind\\\": \\\"ColumnDataChanged\\\", \\\"new\\\": {\\\"gross_rent\\\": [1239, 1530, 2324, 2971, 3739, 4390], \\\"year\\\": [2010, 2011, 2012, 2013, 2015, 2016]}}, {\\\"attr\\\": \\\"text\\\", \\\"kind\\\": \\\"ModelChanged\\\", \\\"model\\\": {\\\"id\\\": \\\"2263\\\"}, \\\"new\\\": \\\"<span style=\\\\\\\"color:black;font-family:Arial;font-style:bold;font-weight:bold;font-size:12pt\\\\\\\">neighborhood: Croker Amazon<\\\\/span>\\\"}], \\\"references\\\": []}\",\"header\":\"{\\\"msgid\\\": \\\"3038\\\", \\\"msgtype\\\": \\\"PATCH-DOC\\\"}\",\"metadata\":\"{}\"},\"Diamond Heights\":{\"content\":\"{\\\"events\\\": [{\\\"attr\\\": \\\"end\\\", \\\"kind\\\": \\\"ModelChanged\\\", \\\"model\\\": {\\\"id\\\": \\\"2152\\\"}, \\\"new\\\": 2013.0}, {\\\"attr\\\": \\\"reset_end\\\", \\\"kind\\\": \\\"ModelChanged\\\", \\\"model\\\": {\\\"id\\\": \\\"2152\\\"}, \\\"new\\\": 2013.0}, {\\\"attr\\\": \\\"start\\\", \\\"kind\\\": \\\"ModelChanged\\\", \\\"model\\\": {\\\"id\\\": \\\"2153\\\"}, \\\"new\\\": 350.32612556163474}, {\\\"attr\\\": \\\"reset_start\\\", \\\"kind\\\": \\\"ModelChanged\\\", \\\"model\\\": {\\\"id\\\": \\\"2153\\\"}, \\\"new\\\": 350.32612556163474}, {\\\"attr\\\": \\\"end\\\", \\\"kind\\\": \\\"ModelChanged\\\", \\\"model\\\": {\\\"id\\\": \\\"2153\\\"}, \\\"new\\\": 550.3577489572901}, {\\\"attr\\\": \\\"reset_end\\\", \\\"kind\\\": \\\"ModelChanged\\\", \\\"model\\\": {\\\"id\\\": \\\"2153\\\"}, \\\"new\\\": 550.3577489572901}, {\\\"cols\\\": null, \\\"column_source\\\": {\\\"id\\\": \\\"2185\\\"}, \\\"kind\\\": \\\"ColumnDataChanged\\\", \\\"new\\\": {\\\"sale_price_sqr_foot\\\": {\\\"__ndarray__\\\": \\\"CCbRpeSOfECTXH/couV3QEfnZUXt73ZAKTeB8IGtgEA=\\\", \\\"dtype\\\": \\\"float64\\\", \\\"order\\\": \\\"little\\\", \\\"shape\\\": [4]}, \\\"year\\\": [2010, 2011, 2012, 2013]}}, {\\\"attr\\\": \\\"start\\\", \\\"kind\\\": \\\"ModelChanged\\\", \\\"model\\\": {\\\"id\\\": \\\"2197\\\"}, \\\"new\\\": 1065.8}, {\\\"attr\\\": \\\"reset_start\\\", \\\"kind\\\": \\\"ModelChanged\\\", \\\"model\\\": {\\\"id\\\": \\\"2197\\\"}, \\\"new\\\": 1065.8}, {\\\"attr\\\": \\\"end\\\", \\\"kind\\\": \\\"ModelChanged\\\", \\\"model\\\": {\\\"id\\\": \\\"2197\\\"}, \\\"new\\\": 3144.2}, {\\\"attr\\\": \\\"reset_end\\\", \\\"kind\\\": \\\"ModelChanged\\\", \\\"model\\\": {\\\"id\\\": \\\"2197\\\"}, \\\"new\\\": 3144.2}, {\\\"cols\\\": null, \\\"column_source\\\": {\\\"id\\\": \\\"2229\\\"}, \\\"kind\\\": \\\"ColumnDataChanged\\\", \\\"new\\\": {\\\"gross_rent\\\": [1239, 1530, 2324, 2971], \\\"year\\\": [2010, 2011, 2012, 2013]}}, {\\\"attr\\\": \\\"text\\\", \\\"kind\\\": \\\"ModelChanged\\\", \\\"model\\\": {\\\"id\\\": \\\"2263\\\"}, \\\"new\\\": \\\"<span style=\\\\\\\"color:black;font-family:Arial;font-style:bold;font-weight:bold;font-size:12pt\\\\\\\">neighborhood: Diamond Heights<\\\\/span>\\\"}], \\\"references\\\": []}\",\"header\":\"{\\\"msgid\\\": \\\"3029\\\", \\\"msgtype\\\": \\\"PATCH-DOC\\\"}\",\"metadata\":\"{}\"},\"Downtown \":{\"content\":\"{\\\"events\\\": [{\\\"attr\\\": \\\"start\\\", \\\"kind\\\": \\\"ModelChanged\\\", \\\"model\\\": {\\\"id\\\": \\\"2152\\\"}, \\\"new\\\": 2010.0}, {\\\"attr\\\": \\\"reset_start\\\", \\\"kind\\\": \\\"ModelChanged\\\", \\\"model\\\": {\\\"id\\\": \\\"2152\\\"}, \\\"new\\\": 2010.0}, {\\\"attr\\\": \\\"end\\\", \\\"kind\\\": \\\"ModelChanged\\\", \\\"model\\\": {\\\"id\\\": \\\"2152\\\"}, \\\"new\\\": 2016.0}, {\\\"attr\\\": \\\"reset_end\\\", \\\"kind\\\": \\\"ModelChanged\\\", \\\"model\\\": {\\\"id\\\": \\\"2152\\\"}, \\\"new\\\": 2016.0}, {\\\"attr\\\": \\\"start\\\", \\\"kind\\\": \\\"ModelChanged\\\", \\\"model\\\": {\\\"id\\\": \\\"2153\\\"}, \\\"new\\\": 185.8321028868664}, {\\\"attr\\\": \\\"reset_start\\\", \\\"kind\\\": \\\"ModelChanged\\\", \\\"model\\\": {\\\"id\\\": \\\"2153\\\"}, \\\"new\\\": 185.8321028868664}, {\\\"attr\\\": \\\"end\\\", \\\"kind\\\": \\\"ModelChanged\\\", \\\"model\\\": {\\\"id\\\": \\\"2153\\\"}, \\\"new\\\": 767.2263503687225}, {\\\"attr\\\": \\\"reset_end\\\", \\\"kind\\\": \\\"ModelChanged\\\", \\\"model\\\": {\\\"id\\\": \\\"2153\\\"}, \\\"new\\\": 767.2263503687225}, {\\\"cols\\\": null, \\\"column_source\\\": {\\\"id\\\": \\\"2185\\\"}, \\\"kind\\\": \\\"ColumnDataChanged\\\", \\\"new\\\": {\\\"sale_price_sqr_foot\\\": {\\\"__ndarray__\\\": \\\"6c744745bkA52E4PA0ltQGAISaHA0XBArpUZa0aXdkCJO7vgn8t6QBz07a4wXn5AvXKD8jZ2hkA=\\\", \\\"dtype\\\": \\\"float64\\\", \\\"order\\\": \\\"little\\\", \\\"shape\\\": [7]}, \\\"year\\\": [2010, 2011, 2012, 2013, 2014, 2015, 2016]}}, {\\\"attr\\\": \\\"start\\\", \\\"kind\\\": \\\"ModelChanged\\\", \\\"model\\\": {\\\"id\\\": \\\"2197\\\"}, \\\"new\\\": 923.9}, {\\\"attr\\\": \\\"reset_start\\\", \\\"kind\\\": \\\"ModelChanged\\\", \\\"model\\\": {\\\"id\\\": \\\"2197\\\"}, \\\"new\\\": 923.9}, {\\\"attr\\\": \\\"end\\\", \\\"kind\\\": \\\"ModelChanged\\\", \\\"model\\\": {\\\"id\\\": \\\"2197\\\"}, \\\"new\\\": 4705.1}, {\\\"attr\\\": \\\"reset_end\\\", \\\"kind\\\": \\\"ModelChanged\\\", \\\"model\\\": {\\\"id\\\": \\\"2197\\\"}, \\\"new\\\": 4705.1}, {\\\"cols\\\": null, \\\"column_source\\\": {\\\"id\\\": \\\"2229\\\"}, \\\"kind\\\": \\\"ColumnDataChanged\\\", \\\"new\\\": {\\\"gross_rent\\\": [1239, 1530, 2324, 2971, 3528, 3739, 4390], \\\"year\\\": [2010, 2011, 2012, 2013, 2014, 2015, 2016]}}, {\\\"attr\\\": \\\"text\\\", \\\"kind\\\": \\\"ModelChanged\\\", \\\"model\\\": {\\\"id\\\": \\\"2263\\\"}, \\\"new\\\": \\\"<span style=\\\\\\\"color:black;font-family:Arial;font-style:bold;font-weight:bold;font-size:12pt\\\\\\\">neighborhood: Downtown<\\\\/span>\\\"}], \\\"references\\\": []}\",\"header\":\"{\\\"msgid\\\": \\\"3020\\\", \\\"msgtype\\\": \\\"PATCH-DOC\\\"}\",\"metadata\":\"{}\"},\"Duboce Triangle\":{\"content\":\"{\\\"events\\\": [{\\\"attr\\\": \\\"start\\\", \\\"kind\\\": \\\"ModelChanged\\\", \\\"model\\\": {\\\"id\\\": \\\"2152\\\"}, \\\"new\\\": 2011.0}, {\\\"attr\\\": \\\"reset_start\\\", \\\"kind\\\": \\\"ModelChanged\\\", \\\"model\\\": {\\\"id\\\": \\\"2152\\\"}, \\\"new\\\": 2011.0}, {\\\"attr\\\": \\\"end\\\", \\\"kind\\\": \\\"ModelChanged\\\", \\\"model\\\": {\\\"id\\\": \\\"2152\\\"}, \\\"new\\\": 2015.0}, {\\\"attr\\\": \\\"reset_end\\\", \\\"kind\\\": \\\"ModelChanged\\\", \\\"model\\\": {\\\"id\\\": \\\"2152\\\"}, \\\"new\\\": 2015.0}, {\\\"attr\\\": \\\"start\\\", \\\"kind\\\": \\\"ModelChanged\\\", \\\"model\\\": {\\\"id\\\": \\\"2153\\\"}, \\\"new\\\": 262.1927474193487}, {\\\"attr\\\": \\\"reset_start\\\", \\\"kind\\\": \\\"ModelChanged\\\", \\\"model\\\": {\\\"id\\\": \\\"2153\\\"}, \\\"new\\\": 262.1927474193487}, {\\\"attr\\\": \\\"end\\\", \\\"kind\\\": \\\"ModelChanged\\\", \\\"model\\\": {\\\"id\\\": \\\"2153\\\"}, \\\"new\\\": 665.2323171378882}, {\\\"attr\\\": \\\"reset_end\\\", \\\"kind\\\": \\\"ModelChanged\\\", \\\"model\\\": {\\\"id\\\": \\\"2153\\\"}, \\\"new\\\": 665.2323171378882}, {\\\"cols\\\": null, \\\"column_source\\\": {\\\"id\\\": \\\"2185\\\"}, \\\"kind\\\": \\\"ColumnDataChanged\\\", \\\"new\\\": {\\\"sale_price_sqr_foot\\\": {\\\"__ndarray__\\\": \\\"6FtOVXh8ckCp7K1zj0p8QIjRLwZ+soNAN/KXXSq9g0A=\\\", \\\"dtype\\\": \\\"float64\\\", \\\"order\\\": \\\"little\\\", \\\"shape\\\": [4]}, \\\"year\\\": [2011, 2012, 2014, 2015]}}, {\\\"attr\\\": \\\"start\\\", \\\"kind\\\": \\\"ModelChanged\\\", \\\"model\\\": {\\\"id\\\": \\\"2197\\\"}, \\\"new\\\": 1309.1}, {\\\"attr\\\": \\\"reset_start\\\", \\\"kind\\\": \\\"ModelChanged\\\", \\\"model\\\": {\\\"id\\\": \\\"2197\\\"}, \\\"new\\\": 1309.1}, {\\\"attr\\\": \\\"end\\\", \\\"kind\\\": \\\"ModelChanged\\\", \\\"model\\\": {\\\"id\\\": \\\"2197\\\"}, \\\"new\\\": 3959.9}, {\\\"attr\\\": \\\"reset_end\\\", \\\"kind\\\": \\\"ModelChanged\\\", \\\"model\\\": {\\\"id\\\": \\\"2197\\\"}, \\\"new\\\": 3959.9}, {\\\"cols\\\": null, \\\"column_source\\\": {\\\"id\\\": \\\"2229\\\"}, \\\"kind\\\": \\\"ColumnDataChanged\\\", \\\"new\\\": {\\\"gross_rent\\\": [1530, 2324, 3528, 3739], \\\"year\\\": [2011, 2012, 2014, 2015]}}, {\\\"attr\\\": \\\"text\\\", \\\"kind\\\": \\\"ModelChanged\\\", \\\"model\\\": {\\\"id\\\": \\\"2263\\\"}, \\\"new\\\": \\\"<span style=\\\\\\\"color:black;font-family:Arial;font-style:bold;font-weight:bold;font-size:12pt\\\\\\\">neighborhood: Duboce Triangle<\\\\/span>\\\"}], \\\"references\\\": []}\",\"header\":\"{\\\"msgid\\\": \\\"3011\\\", \\\"msgtype\\\": \\\"PATCH-DOC\\\"}\",\"metadata\":\"{}\"},\"Eureka Valley/Dolores Heights\":{\"content\":\"{\\\"events\\\": [{\\\"attr\\\": \\\"start\\\", \\\"kind\\\": \\\"ModelChanged\\\", \\\"model\\\": {\\\"id\\\": \\\"2153\\\"}, \\\"new\\\": 340.7510331616334}, {\\\"attr\\\": \\\"reset_start\\\", \\\"kind\\\": \\\"ModelChanged\\\", \\\"model\\\": {\\\"id\\\": \\\"2153\\\"}, \\\"new\\\": 340.7510331616334}, {\\\"attr\\\": \\\"end\\\", \\\"kind\\\": \\\"ModelChanged\\\", \\\"model\\\": {\\\"id\\\": \\\"2153\\\"}, \\\"new\\\": 1089.1583870112154}, {\\\"attr\\\": \\\"reset_end\\\", \\\"kind\\\": \\\"ModelChanged\\\", \\\"model\\\": {\\\"id\\\": \\\"2153\\\"}, \\\"new\\\": 1089.1583870112154}, {\\\"cols\\\": null, \\\"column_source\\\": {\\\"id\\\": \\\"2185\\\"}, \\\"kind\\\": \\\"ColumnDataChanged\\\", \\\"new\\\": {\\\"sale_price_sqr_foot\\\": {\\\"__ndarray__\\\": \\\"TunNm+QxeUDoLWfYmtJ5QBwUV+GBZoBAWlX6So8Fg0CqdEN11seGQNdjWGVxsYhAgjgXGCoLkEA=\\\", \\\"dtype\\\": \\\"float64\\\", \\\"order\\\": \\\"little\\\", \\\"shape\\\": [7]}, \\\"year\\\": [2010, 2011, 2012, 2013, 2014, 2015, 2016]}}, {\\\"cols\\\": null, \\\"column_source\\\": {\\\"id\\\": \\\"2229\\\"}, \\\"kind\\\": \\\"ColumnDataChanged\\\", \\\"new\\\": {\\\"gross_rent\\\": [1239, 1530, 2324, 2971, 3528, 3739, 4390], \\\"year\\\": [2010, 2011, 2012, 2013, 2014, 2015, 2016]}}, {\\\"attr\\\": \\\"text\\\", \\\"kind\\\": \\\"ModelChanged\\\", \\\"model\\\": {\\\"id\\\": \\\"2263\\\"}, \\\"new\\\": \\\"<span style=\\\\\\\"color:black;font-family:Arial;font-style:bold;font-weight:bold;font-size:12pt\\\\\\\">neighborhood: Eureka Valley/Dolores Heights<\\\\/span>\\\"}], \\\"references\\\": []}\",\"header\":\"{\\\"msgid\\\": \\\"3002\\\", \\\"msgtype\\\": \\\"PATCH-DOC\\\"}\",\"metadata\":\"{}\"},\"Excelsior\":{\"content\":\"{\\\"events\\\": [{\\\"attr\\\": \\\"start\\\", \\\"kind\\\": \\\"ModelChanged\\\", \\\"model\\\": {\\\"id\\\": \\\"2153\\\"}, \\\"new\\\": 265.30200726644756}, {\\\"attr\\\": \\\"reset_start\\\", \\\"kind\\\": \\\"ModelChanged\\\", \\\"model\\\": {\\\"id\\\": \\\"2153\\\"}, \\\"new\\\": 265.30200726644756}, {\\\"attr\\\": \\\"end\\\", \\\"kind\\\": \\\"ModelChanged\\\", \\\"model\\\": {\\\"id\\\": \\\"2153\\\"}, \\\"new\\\": 558.673908570333}, {\\\"attr\\\": \\\"reset_end\\\", \\\"kind\\\": \\\"ModelChanged\\\", \\\"model\\\": {\\\"id\\\": \\\"2153\\\"}, \\\"new\\\": 558.673908570333}, {\\\"cols\\\": null, \\\"column_source\\\": {\\\"id\\\": \\\"2185\\\"}, \\\"kind\\\": \\\"ColumnDataChanged\\\", \\\"new\\\": {\\\"sale_price_sqr_foot\\\": {\\\"__ndarray__\\\": \\\"rTyLdtrOdkBN5gLDezB3QMhKeKH+G3JAVqH/QeJkdkAIVY6WseV5QJMvOlzPsYBA\\\", \\\"dtype\\\": \\\"float64\\\", \\\"order\\\": \\\"little\\\", \\\"shape\\\": [6]}, \\\"year\\\": [2010, 2012, 2013, 2014, 2015, 2016]}}, {\\\"cols\\\": null, \\\"column_source\\\": {\\\"id\\\": \\\"2229\\\"}, \\\"kind\\\": \\\"ColumnDataChanged\\\", \\\"new\\\": {\\\"gross_rent\\\": [1239, 2324, 2971, 3528, 3739, 4390], \\\"year\\\": [2010, 2012, 2013, 2014, 2015, 2016]}}, {\\\"attr\\\": \\\"text\\\", \\\"kind\\\": \\\"ModelChanged\\\", \\\"model\\\": {\\\"id\\\": \\\"2263\\\"}, \\\"new\\\": \\\"<span style=\\\\\\\"color:black;font-family:Arial;font-style:bold;font-weight:bold;font-size:12pt\\\\\\\">neighborhood: Excelsior<\\\\/span>\\\"}], \\\"references\\\": []}\",\"header\":\"{\\\"msgid\\\": \\\"2993\\\", \\\"msgtype\\\": \\\"PATCH-DOC\\\"}\",\"metadata\":\"{}\"},\"Financial District North\":{\"content\":\"{\\\"events\\\": [{\\\"attr\\\": \\\"end\\\", \\\"kind\\\": \\\"ModelChanged\\\", \\\"model\\\": {\\\"id\\\": \\\"2152\\\"}, \\\"new\\\": 2016.0}, {\\\"attr\\\": \\\"reset_end\\\", \\\"kind\\\": \\\"ModelChanged\\\", \\\"model\\\": {\\\"id\\\": \\\"2152\\\"}, \\\"new\\\": 2016.0}, {\\\"attr\\\": \\\"start\\\", \\\"kind\\\": \\\"ModelChanged\\\", \\\"model\\\": {\\\"id\\\": \\\"2153\\\"}, \\\"new\\\": 232.46788133008937}, {\\\"attr\\\": \\\"reset_start\\\", \\\"kind\\\": \\\"ModelChanged\\\", \\\"model\\\": {\\\"id\\\": \\\"2153\\\"}, \\\"new\\\": 232.46788133008937}, {\\\"attr\\\": \\\"end\\\", \\\"kind\\\": \\\"ModelChanged\\\", \\\"model\\\": {\\\"id\\\": \\\"2153\\\"}, \\\"new\\\": 736.3486289558214}, {\\\"attr\\\": \\\"reset_end\\\", \\\"kind\\\": \\\"ModelChanged\\\", \\\"model\\\": {\\\"id\\\": \\\"2153\\\"}, \\\"new\\\": 736.3486289558214}, {\\\"cols\\\": null, \\\"column_source\\\": {\\\"id\\\": \\\"2185\\\"}, \\\"kind\\\": \\\"ColumnDataChanged\\\", \\\"new\\\": {\\\"sale_price_sqr_foot\\\": {\\\"__ndarray__\\\": \\\"7AP43P8beUDn1P+nAZVxQHHD8reh5XFAr72zvFMncUAogOryGZ95QNWXMVjesoVAAAAAAAAA+H8=\\\", \\\"dtype\\\": \\\"float64\\\", \\\"order\\\": \\\"little\\\", \\\"shape\\\": [7]}, \\\"year\\\": [2010, 2011, 2012, 2013, 2014, 2015, 2016]}}, {\\\"attr\\\": \\\"start\\\", \\\"kind\\\": \\\"ModelChanged\\\", \\\"model\\\": {\\\"id\\\": \\\"2197\\\"}, \\\"new\\\": 923.9}, {\\\"attr\\\": \\\"reset_start\\\", \\\"kind\\\": \\\"ModelChanged\\\", \\\"model\\\": {\\\"id\\\": \\\"2197\\\"}, \\\"new\\\": 923.9}, {\\\"attr\\\": \\\"end\\\", \\\"kind\\\": \\\"ModelChanged\\\", \\\"model\\\": {\\\"id\\\": \\\"2197\\\"}, \\\"new\\\": 4705.1}, {\\\"attr\\\": \\\"reset_end\\\", \\\"kind\\\": \\\"ModelChanged\\\", \\\"model\\\": {\\\"id\\\": \\\"2197\\\"}, \\\"new\\\": 4705.1}, {\\\"cols\\\": null, \\\"column_source\\\": {\\\"id\\\": \\\"2229\\\"}, \\\"kind\\\": \\\"ColumnDataChanged\\\", \\\"new\\\": {\\\"gross_rent\\\": [1239, 1530, 2324, 2971, 3528, 3739, 4390], \\\"year\\\": [2010, 2011, 2012, 2013, 2014, 2015, 2016]}}, {\\\"attr\\\": \\\"text\\\", \\\"kind\\\": \\\"ModelChanged\\\", \\\"model\\\": {\\\"id\\\": \\\"2263\\\"}, \\\"new\\\": \\\"<span style=\\\\\\\"color:black;font-family:Arial;font-style:bold;font-weight:bold;font-size:12pt\\\\\\\">neighborhood: Financial District North<\\\\/span>\\\"}], \\\"references\\\": []}\",\"header\":\"{\\\"msgid\\\": \\\"2984\\\", \\\"msgtype\\\": \\\"PATCH-DOC\\\"}\",\"metadata\":\"{}\"},\"Financial District South\":{\"content\":\"{\\\"events\\\": [{\\\"attr\\\": \\\"end\\\", \\\"kind\\\": \\\"ModelChanged\\\", \\\"model\\\": {\\\"id\\\": \\\"2152\\\"}, \\\"new\\\": 2015.0}, {\\\"attr\\\": \\\"reset_end\\\", \\\"kind\\\": \\\"ModelChanged\\\", \\\"model\\\": {\\\"id\\\": \\\"2152\\\"}, \\\"new\\\": 2015.0}, {\\\"attr\\\": \\\"start\\\", \\\"kind\\\": \\\"ModelChanged\\\", \\\"model\\\": {\\\"id\\\": \\\"2153\\\"}, \\\"new\\\": 109.66151643902155}, {\\\"attr\\\": \\\"reset_start\\\", \\\"kind\\\": \\\"ModelChanged\\\", \\\"model\\\": {\\\"id\\\": \\\"2153\\\"}, \\\"new\\\": 109.66151643902155}, {\\\"attr\\\": \\\"end\\\", \\\"kind\\\": \\\"ModelChanged\\\", \\\"model\\\": {\\\"id\\\": \\\"2153\\\"}, \\\"new\\\": 747.5778397434452}, {\\\"attr\\\": \\\"reset_end\\\", \\\"kind\\\": \\\"ModelChanged\\\", \\\"model\\\": {\\\"id\\\": \\\"2153\\\"}, \\\"new\\\": 747.5778397434452}, {\\\"cols\\\": null, \\\"column_source\\\": {\\\"id\\\": \\\"2185\\\"}, \\\"kind\\\": \\\"ColumnDataChanged\\\", \\\"new\\\": {\\\"sale_price_sqr_foot\\\": {\\\"__ndarray__\\\": \\\"0ENLWkdaZECjdAggpip2QCLvSpm+LoNAXi0AXVizhUDRgqbm7VZ8QA==\\\", \\\"dtype\\\": \\\"float64\\\", \\\"order\\\": \\\"little\\\", \\\"shape\\\": [5]}, \\\"year\\\": [2010, 2011, 2012, 2014, 2015]}}, {\\\"attr\\\": \\\"start\\\", \\\"kind\\\": \\\"ModelChanged\\\", \\\"model\\\": {\\\"id\\\": \\\"2197\\\"}, \\\"new\\\": 989.0}, {\\\"attr\\\": \\\"reset_start\\\", \\\"kind\\\": \\\"ModelChanged\\\", \\\"model\\\": {\\\"id\\\": \\\"2197\\\"}, \\\"new\\\": 989.0}, {\\\"attr\\\": \\\"end\\\", \\\"kind\\\": \\\"ModelChanged\\\", \\\"model\\\": {\\\"id\\\": \\\"2197\\\"}, \\\"new\\\": 3989.0}, {\\\"attr\\\": \\\"reset_end\\\", \\\"kind\\\": \\\"ModelChanged\\\", \\\"model\\\": {\\\"id\\\": \\\"2197\\\"}, \\\"new\\\": 3989.0}, {\\\"cols\\\": null, \\\"column_source\\\": {\\\"id\\\": \\\"2229\\\"}, \\\"kind\\\": \\\"ColumnDataChanged\\\", \\\"new\\\": {\\\"gross_rent\\\": [1239, 1530, 2324, 3528, 3739], \\\"year\\\": [2010, 2011, 2012, 2014, 2015]}}, {\\\"attr\\\": \\\"text\\\", \\\"kind\\\": \\\"ModelChanged\\\", \\\"model\\\": {\\\"id\\\": \\\"2263\\\"}, \\\"new\\\": \\\"<span style=\\\\\\\"color:black;font-family:Arial;font-style:bold;font-weight:bold;font-size:12pt\\\\\\\">neighborhood: Financial District South<\\\\/span>\\\"}], \\\"references\\\": []}\",\"header\":\"{\\\"msgid\\\": \\\"2975\\\", \\\"msgtype\\\": \\\"PATCH-DOC\\\"}\",\"metadata\":\"{}\"},\"Forest Knolls\":{\"content\":\"{\\\"events\\\": [{\\\"attr\\\": \\\"end\\\", \\\"kind\\\": \\\"ModelChanged\\\", \\\"model\\\": {\\\"id\\\": \\\"2152\\\"}, \\\"new\\\": 2012.0}, {\\\"attr\\\": \\\"reset_end\\\", \\\"kind\\\": \\\"ModelChanged\\\", \\\"model\\\": {\\\"id\\\": \\\"2152\\\"}, \\\"new\\\": 2012.0}, {\\\"attr\\\": \\\"start\\\", \\\"kind\\\": \\\"ModelChanged\\\", \\\"model\\\": {\\\"id\\\": \\\"2153\\\"}, \\\"new\\\": 186.4910246468359}, {\\\"attr\\\": \\\"reset_start\\\", \\\"kind\\\": \\\"ModelChanged\\\", \\\"model\\\": {\\\"id\\\": \\\"2153\\\"}, \\\"new\\\": 186.4910246468359}, {\\\"attr\\\": \\\"end\\\", \\\"kind\\\": \\\"ModelChanged\\\", \\\"model\\\": {\\\"id\\\": \\\"2153\\\"}, \\\"new\\\": 457.1906485011388}, {\\\"attr\\\": \\\"reset_end\\\", \\\"kind\\\": \\\"ModelChanged\\\", \\\"model\\\": {\\\"id\\\": \\\"2153\\\"}, \\\"new\\\": 457.1906485011388}, {\\\"cols\\\": null, \\\"column_source\\\": {\\\"id\\\": \\\"2185\\\"}, \\\"kind\\\": \\\"ColumnDataChanged\\\", \\\"new\\\": {\\\"sale_price_sqr_foot\\\": {\\\"__ndarray__\\\": \\\"tVpzFZQhakB0pGAXHip7QA==\\\", \\\"dtype\\\": \\\"float64\\\", \\\"order\\\": \\\"little\\\", \\\"shape\\\": [2]}, \\\"year\\\": [2010, 2012]}}, {\\\"attr\\\": \\\"start\\\", \\\"kind\\\": \\\"ModelChanged\\\", \\\"model\\\": {\\\"id\\\": \\\"2197\\\"}, \\\"new\\\": 1130.5}, {\\\"attr\\\": \\\"reset_start\\\", \\\"kind\\\": \\\"ModelChanged\\\", \\\"model\\\": {\\\"id\\\": \\\"2197\\\"}, \\\"new\\\": 1130.5}, {\\\"attr\\\": \\\"end\\\", \\\"kind\\\": \\\"ModelChanged\\\", \\\"model\\\": {\\\"id\\\": \\\"2197\\\"}, \\\"new\\\": 2432.5}, {\\\"attr\\\": \\\"reset_end\\\", \\\"kind\\\": \\\"ModelChanged\\\", \\\"model\\\": {\\\"id\\\": \\\"2197\\\"}, \\\"new\\\": 2432.5}, {\\\"cols\\\": null, \\\"column_source\\\": {\\\"id\\\": \\\"2229\\\"}, \\\"kind\\\": \\\"ColumnDataChanged\\\", \\\"new\\\": {\\\"gross_rent\\\": [1239, 2324], \\\"year\\\": [2010, 2012]}}, {\\\"attr\\\": \\\"text\\\", \\\"kind\\\": \\\"ModelChanged\\\", \\\"model\\\": {\\\"id\\\": \\\"2263\\\"}, \\\"new\\\": \\\"<span style=\\\\\\\"color:black;font-family:Arial;font-style:bold;font-weight:bold;font-size:12pt\\\\\\\">neighborhood: Forest Knolls<\\\\/span>\\\"}], \\\"references\\\": []}\",\"header\":\"{\\\"msgid\\\": \\\"2966\\\", \\\"msgtype\\\": \\\"PATCH-DOC\\\"}\",\"metadata\":\"{}\"},\"Glen Park\":{\"content\":\"{\\\"events\\\": [{\\\"attr\\\": \\\"end\\\", \\\"kind\\\": \\\"ModelChanged\\\", \\\"model\\\": {\\\"id\\\": \\\"2152\\\"}, \\\"new\\\": 2016.0}, {\\\"attr\\\": \\\"reset_end\\\", \\\"kind\\\": \\\"ModelChanged\\\", \\\"model\\\": {\\\"id\\\": \\\"2152\\\"}, \\\"new\\\": 2016.0}, {\\\"attr\\\": \\\"start\\\", \\\"kind\\\": \\\"ModelChanged\\\", \\\"model\\\": {\\\"id\\\": \\\"2153\\\"}, \\\"new\\\": 408.5986224810824}, {\\\"attr\\\": \\\"reset_start\\\", \\\"kind\\\": \\\"ModelChanged\\\", \\\"model\\\": {\\\"id\\\": \\\"2153\\\"}, \\\"new\\\": 408.5986224810824}, {\\\"attr\\\": \\\"end\\\", \\\"kind\\\": \\\"ModelChanged\\\", \\\"model\\\": {\\\"id\\\": \\\"2153\\\"}, \\\"new\\\": 994.3817642795972}, {\\\"attr\\\": \\\"reset_end\\\", \\\"kind\\\": \\\"ModelChanged\\\", \\\"model\\\": {\\\"id\\\": \\\"2153\\\"}, \\\"new\\\": 994.3817642795972}, {\\\"cols\\\": null, \\\"column_source\\\": {\\\"id\\\": \\\"2185\\\"}, \\\"kind\\\": \\\"ColumnDataChanged\\\", \\\"new\\\": {\\\"sale_price_sqr_foot\\\": {\\\"__ndarray__\\\": \\\"aB91BrFchkAOKiRFn5Z8QED5MZOKq3xA/rlAhIBMgUBFlH1o2SCDQF9/cTKIjI1A\\\", \\\"dtype\\\": \\\"float64\\\", \\\"order\\\": \\\"little\\\", \\\"shape\\\": [6]}, \\\"year\\\": [2010, 2011, 2013, 2014, 2015, 2016]}}, {\\\"attr\\\": \\\"start\\\", \\\"kind\\\": \\\"ModelChanged\\\", \\\"model\\\": {\\\"id\\\": \\\"2197\\\"}, \\\"new\\\": 923.9}, {\\\"attr\\\": \\\"reset_start\\\", \\\"kind\\\": \\\"ModelChanged\\\", \\\"model\\\": {\\\"id\\\": \\\"2197\\\"}, \\\"new\\\": 923.9}, {\\\"attr\\\": \\\"end\\\", \\\"kind\\\": \\\"ModelChanged\\\", \\\"model\\\": {\\\"id\\\": \\\"2197\\\"}, \\\"new\\\": 4705.1}, {\\\"attr\\\": \\\"reset_end\\\", \\\"kind\\\": \\\"ModelChanged\\\", \\\"model\\\": {\\\"id\\\": \\\"2197\\\"}, \\\"new\\\": 4705.1}, {\\\"cols\\\": null, \\\"column_source\\\": {\\\"id\\\": \\\"2229\\\"}, \\\"kind\\\": \\\"ColumnDataChanged\\\", \\\"new\\\": {\\\"gross_rent\\\": [1239, 1530, 2971, 3528, 3739, 4390], \\\"year\\\": [2010, 2011, 2013, 2014, 2015, 2016]}}, {\\\"attr\\\": \\\"text\\\", \\\"kind\\\": \\\"ModelChanged\\\", \\\"model\\\": {\\\"id\\\": \\\"2263\\\"}, \\\"new\\\": \\\"<span style=\\\\\\\"color:black;font-family:Arial;font-style:bold;font-weight:bold;font-size:12pt\\\\\\\">neighborhood: Glen Park<\\\\/span>\\\"}], \\\"references\\\": []}\",\"header\":\"{\\\"msgid\\\": \\\"2957\\\", \\\"msgtype\\\": \\\"PATCH-DOC\\\"}\",\"metadata\":\"{}\"},\"Golden Gate Heights\":{\"content\":\"{\\\"events\\\": [{\\\"attr\\\": \\\"end\\\", \\\"kind\\\": \\\"ModelChanged\\\", \\\"model\\\": {\\\"id\\\": \\\"2152\\\"}, \\\"new\\\": 2015.0}, {\\\"attr\\\": \\\"reset_end\\\", \\\"kind\\\": \\\"ModelChanged\\\", \\\"model\\\": {\\\"id\\\": \\\"2152\\\"}, \\\"new\\\": 2015.0}, {\\\"attr\\\": \\\"start\\\", \\\"kind\\\": \\\"ModelChanged\\\", \\\"model\\\": {\\\"id\\\": \\\"2153\\\"}, \\\"new\\\": 288.20425785366285}, {\\\"attr\\\": \\\"reset_start\\\", \\\"kind\\\": \\\"ModelChanged\\\", \\\"model\\\": {\\\"id\\\": \\\"2153\\\"}, \\\"new\\\": 288.20425785366285}, {\\\"attr\\\": \\\"end\\\", \\\"kind\\\": \\\"ModelChanged\\\", \\\"model\\\": {\\\"id\\\": \\\"2153\\\"}, \\\"new\\\": 1016.9095641046997}, {\\\"attr\\\": \\\"reset_end\\\", \\\"kind\\\": \\\"ModelChanged\\\", \\\"model\\\": {\\\"id\\\": \\\"2153\\\"}, \\\"new\\\": 1016.9095641046997}, {\\\"cols\\\": null, \\\"column_source\\\": {\\\"id\\\": \\\"2185\\\"}, \\\"kind\\\": \\\"ColumnDataChanged\\\", \\\"new\\\": {\\\"sale_price_sqr_foot\\\": {\\\"__ndarray__\\\": \\\"XVj8sGg+gUAWhCYN4M51QNRj6RR54Y1AX0BnV7i6gUB+N3fjsyWIQA==\\\", \\\"dtype\\\": \\\"float64\\\", \\\"order\\\": \\\"little\\\", \\\"shape\\\": [5]}, \\\"year\\\": [2010, 2011, 2013, 2014, 2015]}}, {\\\"attr\\\": \\\"start\\\", \\\"kind\\\": \\\"ModelChanged\\\", \\\"model\\\": {\\\"id\\\": \\\"2197\\\"}, \\\"new\\\": 989.0}, {\\\"attr\\\": \\\"reset_start\\\", \\\"kind\\\": \\\"ModelChanged\\\", \\\"model\\\": {\\\"id\\\": \\\"2197\\\"}, \\\"new\\\": 989.0}, {\\\"attr\\\": \\\"end\\\", \\\"kind\\\": \\\"ModelChanged\\\", \\\"model\\\": {\\\"id\\\": \\\"2197\\\"}, \\\"new\\\": 3989.0}, {\\\"attr\\\": \\\"reset_end\\\", \\\"kind\\\": \\\"ModelChanged\\\", \\\"model\\\": {\\\"id\\\": \\\"2197\\\"}, \\\"new\\\": 3989.0}, {\\\"cols\\\": null, \\\"column_source\\\": {\\\"id\\\": \\\"2229\\\"}, \\\"kind\\\": \\\"ColumnDataChanged\\\", \\\"new\\\": {\\\"gross_rent\\\": [1239, 1530, 2971, 3528, 3739], \\\"year\\\": [2010, 2011, 2013, 2014, 2015]}}, {\\\"attr\\\": \\\"text\\\", \\\"kind\\\": \\\"ModelChanged\\\", \\\"model\\\": {\\\"id\\\": \\\"2263\\\"}, \\\"new\\\": \\\"<span style=\\\\\\\"color:black;font-family:Arial;font-style:bold;font-weight:bold;font-size:12pt\\\\\\\">neighborhood: Golden Gate Heights<\\\\/span>\\\"}], \\\"references\\\": []}\",\"header\":\"{\\\"msgid\\\": \\\"2948\\\", \\\"msgtype\\\": \\\"PATCH-DOC\\\"}\",\"metadata\":\"{}\"},\"Haight Ashbury\":{\"content\":\"{\\\"events\\\": [{\\\"attr\\\": \\\"start\\\", \\\"kind\\\": \\\"ModelChanged\\\", \\\"model\\\": {\\\"id\\\": \\\"2153\\\"}, \\\"new\\\": 222.49375140602962}, {\\\"attr\\\": \\\"reset_start\\\", \\\"kind\\\": \\\"ModelChanged\\\", \\\"model\\\": {\\\"id\\\": \\\"2153\\\"}, \\\"new\\\": 222.49375140602962}, {\\\"attr\\\": \\\"end\\\", \\\"kind\\\": \\\"ModelChanged\\\", \\\"model\\\": {\\\"id\\\": \\\"2153\\\"}, \\\"new\\\": 606.2540842699716}, {\\\"attr\\\": \\\"reset_end\\\", \\\"kind\\\": \\\"ModelChanged\\\", \\\"model\\\": {\\\"id\\\": \\\"2153\\\"}, \\\"new\\\": 606.2540842699716}, {\\\"cols\\\": null, \\\"column_source\\\": {\\\"id\\\": \\\"2185\\\"}, \\\"kind\\\": \\\"ColumnDataChanged\\\", \\\"new\\\": {\\\"sale_price_sqr_foot\\\": {\\\"__ndarray__\\\": \\\"QH/hMinPb0DRLjW8p4V4QDXT1jtJLXpAbHydIO7nfUB2raXm0Ah/QNj5jEQx8oFAzf5gJa6egEA=\\\", \\\"dtype\\\": \\\"float64\\\", \\\"order\\\": \\\"little\\\", \\\"shape\\\": [7]}, \\\"year\\\": [2010, 2011, 2012, 2013, 2014, 2015, 2016]}}, {\\\"cols\\\": null, \\\"column_source\\\": {\\\"id\\\": \\\"2229\\\"}, \\\"kind\\\": \\\"ColumnDataChanged\\\", \\\"new\\\": {\\\"gross_rent\\\": [1239, 1530, 2324, 2971, 3528, 3739, 4390], \\\"year\\\": [2010, 2011, 2012, 2013, 2014, 2015, 2016]}}, {\\\"attr\\\": \\\"text\\\", \\\"kind\\\": \\\"ModelChanged\\\", \\\"model\\\": {\\\"id\\\": \\\"2263\\\"}, \\\"new\\\": \\\"<span style=\\\\\\\"color:black;font-family:Arial;font-style:bold;font-weight:bold;font-size:12pt\\\\\\\">neighborhood: Haight Ashbury<\\\\/span>\\\"}], \\\"references\\\": []}\",\"header\":\"{\\\"msgid\\\": \\\"2939\\\", \\\"msgtype\\\": \\\"PATCH-DOC\\\"}\",\"metadata\":\"{}\"},\"Hayes Valley\":{\"content\":\"{\\\"events\\\": [{\\\"attr\\\": \\\"end\\\", \\\"kind\\\": \\\"ModelChanged\\\", \\\"model\\\": {\\\"id\\\": \\\"2152\\\"}, \\\"new\\\": 2016.0}, {\\\"attr\\\": \\\"reset_end\\\", \\\"kind\\\": \\\"ModelChanged\\\", \\\"model\\\": {\\\"id\\\": \\\"2152\\\"}, \\\"new\\\": 2016.0}, {\\\"attr\\\": \\\"start\\\", \\\"kind\\\": \\\"ModelChanged\\\", \\\"model\\\": {\\\"id\\\": \\\"2153\\\"}, \\\"new\\\": 138.91696592838744}, {\\\"attr\\\": \\\"reset_start\\\", \\\"kind\\\": \\\"ModelChanged\\\", \\\"model\\\": {\\\"id\\\": \\\"2153\\\"}, \\\"new\\\": 138.91696592838744}, {\\\"attr\\\": \\\"end\\\", \\\"kind\\\": \\\"ModelChanged\\\", \\\"model\\\": {\\\"id\\\": \\\"2153\\\"}, \\\"new\\\": 572.7062051432274}, {\\\"attr\\\": \\\"reset_end\\\", \\\"kind\\\": \\\"ModelChanged\\\", \\\"model\\\": {\\\"id\\\": \\\"2153\\\"}, \\\"new\\\": 572.7062051432274}, {\\\"cols\\\": null, \\\"column_source\\\": {\\\"id\\\": \\\"2185\\\"}, \\\"kind\\\": \\\"ColumnDataChanged\\\", \\\"new\\\": {\\\"sale_price_sqr_foot\\\": {\\\"__ndarray__\\\": \\\"jyy7Ro8EcUDtvFOssItxQN/Eix0MJnNA6LhSnW25fkAXEdXax856QHX40/F0xIBA8aolPR3iZUA=\\\", \\\"dtype\\\": \\\"float64\\\", \\\"order\\\": \\\"little\\\", \\\"shape\\\": [7]}, \\\"year\\\": [2010, 2011, 2012, 2013, 2014, 2015, 2016]}}, {\\\"attr\\\": \\\"start\\\", \\\"kind\\\": \\\"ModelChanged\\\", \\\"model\\\": {\\\"id\\\": \\\"2197\\\"}, \\\"new\\\": 923.9}, {\\\"attr\\\": \\\"reset_start\\\", \\\"kind\\\": \\\"ModelChanged\\\", \\\"model\\\": {\\\"id\\\": \\\"2197\\\"}, \\\"new\\\": 923.9}, {\\\"attr\\\": \\\"end\\\", \\\"kind\\\": \\\"ModelChanged\\\", \\\"model\\\": {\\\"id\\\": \\\"2197\\\"}, \\\"new\\\": 4705.1}, {\\\"attr\\\": \\\"reset_end\\\", \\\"kind\\\": \\\"ModelChanged\\\", \\\"model\\\": {\\\"id\\\": \\\"2197\\\"}, \\\"new\\\": 4705.1}, {\\\"cols\\\": null, \\\"column_source\\\": {\\\"id\\\": \\\"2229\\\"}, \\\"kind\\\": \\\"ColumnDataChanged\\\", \\\"new\\\": {\\\"gross_rent\\\": [1239, 1530, 2324, 2971, 3528, 3739, 4390], \\\"year\\\": [2010, 2011, 2012, 2013, 2014, 2015, 2016]}}, {\\\"attr\\\": \\\"text\\\", \\\"kind\\\": \\\"ModelChanged\\\", \\\"model\\\": {\\\"id\\\": \\\"2263\\\"}, \\\"new\\\": \\\"<span style=\\\\\\\"color:black;font-family:Arial;font-style:bold;font-weight:bold;font-size:12pt\\\\\\\">neighborhood: Hayes Valley<\\\\/span>\\\"}], \\\"references\\\": []}\",\"header\":\"{\\\"msgid\\\": \\\"2930\\\", \\\"msgtype\\\": \\\"PATCH-DOC\\\"}\",\"metadata\":\"{}\"},\"Hunters Point\":{\"content\":\"{\\\"events\\\": [{\\\"attr\\\": \\\"start\\\", \\\"kind\\\": \\\"ModelChanged\\\", \\\"model\\\": {\\\"id\\\": \\\"2153\\\"}, \\\"new\\\": 169.42491987132686}, {\\\"attr\\\": \\\"reset_start\\\", \\\"kind\\\": \\\"ModelChanged\\\", \\\"model\\\": {\\\"id\\\": \\\"2153\\\"}, \\\"new\\\": 169.42491987132686}, {\\\"attr\\\": \\\"end\\\", \\\"kind\\\": \\\"ModelChanged\\\", \\\"model\\\": {\\\"id\\\": \\\"2153\\\"}, \\\"new\\\": 171.82491987132684}, {\\\"attr\\\": \\\"reset_end\\\", \\\"kind\\\": \\\"ModelChanged\\\", \\\"model\\\": {\\\"id\\\": \\\"2153\\\"}, \\\"new\\\": 171.82491987132684}, {\\\"cols\\\": null, \\\"column_source\\\": {\\\"id\\\": \\\"2185\\\"}, \\\"kind\\\": \\\"ColumnDataChanged\\\", \\\"new\\\": {\\\"sale_price_sqr_foot\\\": {\\\"__ndarray__\\\": \\\"BT/1V/9TZUAAAAAAAAD4fw==\\\", \\\"dtype\\\": \\\"float64\\\", \\\"order\\\": \\\"little\\\", \\\"shape\\\": [2]}, \\\"year\\\": [2010, 2015]}}, {\\\"cols\\\": null, \\\"column_source\\\": {\\\"id\\\": \\\"2229\\\"}, \\\"kind\\\": \\\"ColumnDataChanged\\\", \\\"new\\\": {\\\"gross_rent\\\": [1239, 3739], \\\"year\\\": [2010, 2015]}}, {\\\"attr\\\": \\\"text\\\", \\\"kind\\\": \\\"ModelChanged\\\", \\\"model\\\": {\\\"id\\\": \\\"2263\\\"}, \\\"new\\\": \\\"<span style=\\\\\\\"color:black;font-family:Arial;font-style:bold;font-weight:bold;font-size:12pt\\\\\\\">neighborhood: Hunters Point<\\\\/span>\\\"}], \\\"references\\\": []}\",\"header\":\"{\\\"msgid\\\": \\\"2921\\\", \\\"msgtype\\\": \\\"PATCH-DOC\\\"}\",\"metadata\":\"{}\"},\"Ingleside \":{\"content\":\"{\\\"events\\\": [{\\\"attr\\\": \\\"start\\\", \\\"kind\\\": \\\"ModelChanged\\\", \\\"model\\\": {\\\"id\\\": \\\"2152\\\"}, \\\"new\\\": 2010.0}, {\\\"attr\\\": \\\"reset_start\\\", \\\"kind\\\": \\\"ModelChanged\\\", \\\"model\\\": {\\\"id\\\": \\\"2152\\\"}, \\\"new\\\": 2010.0}, {\\\"attr\\\": \\\"end\\\", \\\"kind\\\": \\\"ModelChanged\\\", \\\"model\\\": {\\\"id\\\": \\\"2152\\\"}, \\\"new\\\": 2015.0}, {\\\"attr\\\": \\\"reset_end\\\", \\\"kind\\\": \\\"ModelChanged\\\", \\\"model\\\": {\\\"id\\\": \\\"2152\\\"}, \\\"new\\\": 2015.0}, {\\\"attr\\\": \\\"start\\\", \\\"kind\\\": \\\"ModelChanged\\\", \\\"model\\\": {\\\"id\\\": \\\"2153\\\"}, \\\"new\\\": 146.6168096057632}, {\\\"attr\\\": \\\"reset_start\\\", \\\"kind\\\": \\\"ModelChanged\\\", \\\"model\\\": {\\\"id\\\": \\\"2153\\\"}, \\\"new\\\": 146.6168096057632}, {\\\"attr\\\": \\\"end\\\", \\\"kind\\\": \\\"ModelChanged\\\", \\\"model\\\": {\\\"id\\\": \\\"2153\\\"}, \\\"new\\\": 693.198071989533}, {\\\"attr\\\": \\\"reset_end\\\", \\\"kind\\\": \\\"ModelChanged\\\", \\\"model\\\": {\\\"id\\\": \\\"2153\\\"}, \\\"new\\\": 693.198071989533}, {\\\"cols\\\": null, \\\"column_source\\\": {\\\"id\\\": \\\"2185\\\"}, \\\"kind\\\": \\\"ColumnDataChanged\\\", \\\"new\\\": {\\\"sale_price_sqr_foot\\\": {\\\"__ndarray__\\\": \\\"a4srL+gwcUBltPYZWEt2QJi0BnMyPYRAvGp2tkkFaEA=\\\", \\\"dtype\\\": \\\"float64\\\", \\\"order\\\": \\\"little\\\", \\\"shape\\\": [4]}, \\\"year\\\": [2010, 2011, 2014, 2015]}}, {\\\"attr\\\": \\\"start\\\", \\\"kind\\\": \\\"ModelChanged\\\", \\\"model\\\": {\\\"id\\\": \\\"2197\\\"}, \\\"new\\\": 989.0}, {\\\"attr\\\": \\\"reset_start\\\", \\\"kind\\\": \\\"ModelChanged\\\", \\\"model\\\": {\\\"id\\\": \\\"2197\\\"}, \\\"new\\\": 989.0}, {\\\"attr\\\": \\\"end\\\", \\\"kind\\\": \\\"ModelChanged\\\", \\\"model\\\": {\\\"id\\\": \\\"2197\\\"}, \\\"new\\\": 3989.0}, {\\\"attr\\\": \\\"reset_end\\\", \\\"kind\\\": \\\"ModelChanged\\\", \\\"model\\\": {\\\"id\\\": \\\"2197\\\"}, \\\"new\\\": 3989.0}, {\\\"cols\\\": null, \\\"column_source\\\": {\\\"id\\\": \\\"2229\\\"}, \\\"kind\\\": \\\"ColumnDataChanged\\\", \\\"new\\\": {\\\"gross_rent\\\": [1239, 1530, 3528, 3739], \\\"year\\\": [2010, 2011, 2014, 2015]}}, {\\\"attr\\\": \\\"text\\\", \\\"kind\\\": \\\"ModelChanged\\\", \\\"model\\\": {\\\"id\\\": \\\"2263\\\"}, \\\"new\\\": \\\"<span style=\\\\\\\"color:black;font-family:Arial;font-style:bold;font-weight:bold;font-size:12pt\\\\\\\">neighborhood: Ingleside<\\\\/span>\\\"}], \\\"references\\\": []}\",\"header\":\"{\\\"msgid\\\": \\\"2912\\\", \\\"msgtype\\\": \\\"PATCH-DOC\\\"}\",\"metadata\":\"{}\"},\"Ingleside Heights\":{\"content\":\"{\\\"events\\\": [{\\\"attr\\\": \\\"start\\\", \\\"kind\\\": \\\"ModelChanged\\\", \\\"model\\\": {\\\"id\\\": \\\"2152\\\"}, \\\"new\\\": 2011.0}, {\\\"attr\\\": \\\"reset_start\\\", \\\"kind\\\": \\\"ModelChanged\\\", \\\"model\\\": {\\\"id\\\": \\\"2152\\\"}, \\\"new\\\": 2011.0}, {\\\"attr\\\": \\\"start\\\", \\\"kind\\\": \\\"ModelChanged\\\", \\\"model\\\": {\\\"id\\\": \\\"2153\\\"}, \\\"new\\\": 160.65946188250336}, {\\\"attr\\\": \\\"reset_start\\\", \\\"kind\\\": \\\"ModelChanged\\\", \\\"model\\\": {\\\"id\\\": \\\"2153\\\"}, \\\"new\\\": 160.65946188250336}, {\\\"attr\\\": \\\"end\\\", \\\"kind\\\": \\\"ModelChanged\\\", \\\"model\\\": {\\\"id\\\": \\\"2153\\\"}, \\\"new\\\": 608.9363943867062}, {\\\"attr\\\": \\\"reset_end\\\", \\\"kind\\\": \\\"ModelChanged\\\", \\\"model\\\": {\\\"id\\\": \\\"2153\\\"}, \\\"new\\\": 608.9363943867062}, {\\\"cols\\\": null, \\\"column_source\\\": {\\\"id\\\": \\\"2185\\\"}, \\\"kind\\\": \\\"ColumnDataChanged\\\", \\\"new\\\": {\\\"sale_price_sqr_foot\\\": {\\\"__ndarray__\\\": \\\"m3bvB4LAaEBSzU7Oo9yBQA==\\\", \\\"dtype\\\": \\\"float64\\\", \\\"order\\\": \\\"little\\\", \\\"shape\\\": [2]}, \\\"year\\\": [2011, 2016]}}, {\\\"attr\\\": \\\"start\\\", \\\"kind\\\": \\\"ModelChanged\\\", \\\"model\\\": {\\\"id\\\": \\\"2197\\\"}, \\\"new\\\": 1244.0}, {\\\"attr\\\": \\\"reset_start\\\", \\\"kind\\\": \\\"ModelChanged\\\", \\\"model\\\": {\\\"id\\\": \\\"2197\\\"}, \\\"new\\\": 1244.0}, {\\\"attr\\\": \\\"end\\\", \\\"kind\\\": \\\"ModelChanged\\\", \\\"model\\\": {\\\"id\\\": \\\"2197\\\"}, \\\"new\\\": 4676.0}, {\\\"attr\\\": \\\"reset_end\\\", \\\"kind\\\": \\\"ModelChanged\\\", \\\"model\\\": {\\\"id\\\": \\\"2197\\\"}, \\\"new\\\": 4676.0}, {\\\"cols\\\": null, \\\"column_source\\\": {\\\"id\\\": \\\"2229\\\"}, \\\"kind\\\": \\\"ColumnDataChanged\\\", \\\"new\\\": {\\\"gross_rent\\\": [1530, 4390], \\\"year\\\": [2011, 2016]}}, {\\\"attr\\\": \\\"text\\\", \\\"kind\\\": \\\"ModelChanged\\\", \\\"model\\\": {\\\"id\\\": \\\"2263\\\"}, \\\"new\\\": \\\"<span style=\\\\\\\"color:black;font-family:Arial;font-style:bold;font-weight:bold;font-size:12pt\\\\\\\">neighborhood: Ingleside Heights<\\\\/span>\\\"}], \\\"references\\\": []}\",\"header\":\"{\\\"msgid\\\": \\\"2903\\\", \\\"msgtype\\\": \\\"PATCH-DOC\\\"}\",\"metadata\":\"{}\"},\"Inner Mission\":{\"content\":\"{\\\"events\\\": [{\\\"attr\\\": \\\"start\\\", \\\"kind\\\": \\\"ModelChanged\\\", \\\"model\\\": {\\\"id\\\": \\\"2153\\\"}, \\\"new\\\": 197.40797772905137}, {\\\"attr\\\": \\\"reset_start\\\", \\\"kind\\\": \\\"ModelChanged\\\", \\\"model\\\": {\\\"id\\\": \\\"2153\\\"}, \\\"new\\\": 197.40797772905137}, {\\\"attr\\\": \\\"end\\\", \\\"kind\\\": \\\"ModelChanged\\\", \\\"model\\\": {\\\"id\\\": \\\"2153\\\"}, \\\"new\\\": 688.7124898617598}, {\\\"attr\\\": \\\"reset_end\\\", \\\"kind\\\": \\\"ModelChanged\\\", \\\"model\\\": {\\\"id\\\": \\\"2153\\\"}, \\\"new\\\": 688.7124898617598}, {\\\"cols\\\": null, \\\"column_source\\\": {\\\"id\\\": \\\"2185\\\"}, \\\"kind\\\": \\\"ColumnDataChanged\\\", \\\"new\\\": {\\\"sale_price_sqr_foot\\\": {\\\"__ndarray__\\\": \\\"SQH/XTPLbUAmcCOZzLJxQMpoihc3DXVAuDqzykmYd0BQk3hB0AJ9QEOIcpNpPntAxpU24Ck+hEA=\\\", \\\"dtype\\\": \\\"float64\\\", \\\"order\\\": \\\"little\\\", \\\"shape\\\": [7]}, \\\"year\\\": [2010, 2011, 2012, 2013, 2014, 2015, 2016]}}, {\\\"cols\\\": null, \\\"column_source\\\": {\\\"id\\\": \\\"2229\\\"}, \\\"kind\\\": \\\"ColumnDataChanged\\\", \\\"new\\\": {\\\"gross_rent\\\": [1239, 1530, 2324, 2971, 3528, 3739, 4390], \\\"year\\\": [2010, 2011, 2012, 2013, 2014, 2015, 2016]}}, {\\\"attr\\\": \\\"text\\\", \\\"kind\\\": \\\"ModelChanged\\\", \\\"model\\\": {\\\"id\\\": \\\"2263\\\"}, \\\"new\\\": \\\"<span style=\\\\\\\"color:black;font-family:Arial;font-style:bold;font-weight:bold;font-size:12pt\\\\\\\">neighborhood: Inner Mission<\\\\/span>\\\"}], \\\"references\\\": []}\",\"header\":\"{\\\"msgid\\\": \\\"2894\\\", \\\"msgtype\\\": \\\"PATCH-DOC\\\"}\",\"metadata\":\"{}\"},\"Inner Parkside\":{\"content\":\"{\\\"events\\\": [{\\\"attr\\\": \\\"start\\\", \\\"kind\\\": \\\"ModelChanged\\\", \\\"model\\\": {\\\"id\\\": \\\"2153\\\"}, \\\"new\\\": 143.41948084887224}, {\\\"attr\\\": \\\"reset_start\\\", \\\"kind\\\": \\\"ModelChanged\\\", \\\"model\\\": {\\\"id\\\": \\\"2153\\\"}, \\\"new\\\": 143.41948084887224}, {\\\"attr\\\": \\\"end\\\", \\\"kind\\\": \\\"ModelChanged\\\", \\\"model\\\": {\\\"id\\\": \\\"2153\\\"}, \\\"new\\\": 818.8097560487954}, {\\\"attr\\\": \\\"reset_end\\\", \\\"kind\\\": \\\"ModelChanged\\\", \\\"model\\\": {\\\"id\\\": \\\"2153\\\"}, \\\"new\\\": 818.8097560487954}, {\\\"cols\\\": null, \\\"column_source\\\": {\\\"id\\\": \\\"2185\\\"}, \\\"kind\\\": \\\"ColumnDataChanged\\\", \\\"new\\\": {\\\"sale_price_sqr_foot\\\": {\\\"__ndarray__\\\": \\\"18ai0Hb2aEDC7XKumqmCQHHi/sU31IdAw4xJteYwgEA=\\\", \\\"dtype\\\": \\\"float64\\\", \\\"order\\\": \\\"little\\\", \\\"shape\\\": [4]}, \\\"year\\\": [2010, 2014, 2015, 2016]}}, {\\\"cols\\\": null, \\\"column_source\\\": {\\\"id\\\": \\\"2229\\\"}, \\\"kind\\\": \\\"ColumnDataChanged\\\", \\\"new\\\": {\\\"gross_rent\\\": [1239, 3528, 3739, 4390], \\\"year\\\": [2010, 2014, 2015, 2016]}}, {\\\"attr\\\": \\\"text\\\", \\\"kind\\\": \\\"ModelChanged\\\", \\\"model\\\": {\\\"id\\\": \\\"2263\\\"}, \\\"new\\\": \\\"<span style=\\\\\\\"color:black;font-family:Arial;font-style:bold;font-weight:bold;font-size:12pt\\\\\\\">neighborhood: Inner Parkside<\\\\/span>\\\"}], \\\"references\\\": []}\",\"header\":\"{\\\"msgid\\\": \\\"2885\\\", \\\"msgtype\\\": \\\"PATCH-DOC\\\"}\",\"metadata\":\"{}\"},\"Inner Richmond\":{\"content\":\"{\\\"events\\\": [{\\\"attr\\\": \\\"start\\\", \\\"kind\\\": \\\"ModelChanged\\\", \\\"model\\\": {\\\"id\\\": \\\"2153\\\"}, \\\"new\\\": 265.043038574214}, {\\\"attr\\\": \\\"reset_start\\\", \\\"kind\\\": \\\"ModelChanged\\\", \\\"model\\\": {\\\"id\\\": \\\"2153\\\"}, \\\"new\\\": 265.043038574214}, {\\\"attr\\\": \\\"end\\\", \\\"kind\\\": \\\"ModelChanged\\\", \\\"model\\\": {\\\"id\\\": \\\"2153\\\"}, \\\"new\\\": 514.3948775478381}, {\\\"attr\\\": \\\"reset_end\\\", \\\"kind\\\": \\\"ModelChanged\\\", \\\"model\\\": {\\\"id\\\": \\\"2153\\\"}, \\\"new\\\": 514.3948775478381}, {\\\"cols\\\": null, \\\"column_source\\\": {\\\"id\\\": \\\"2185\\\"}, \\\"kind\\\": \\\"ColumnDataChanged\\\", \\\"new\\\": {\\\"sale_price_sqr_foot\\\": {\\\"__ndarray__\\\": \\\"rudfYSjdcUC/5PKqmIB2QOH8A0Z4V3dAg75VYHrvckDbABfACO96QP4B9lLZ2X5AcgrFZfo0eUA=\\\", \\\"dtype\\\": \\\"float64\\\", \\\"order\\\": \\\"little\\\", \\\"shape\\\": [7]}, \\\"year\\\": [2010, 2011, 2012, 2013, 2014, 2015, 2016]}}, {\\\"cols\\\": null, \\\"column_source\\\": {\\\"id\\\": \\\"2229\\\"}, \\\"kind\\\": \\\"ColumnDataChanged\\\", \\\"new\\\": {\\\"gross_rent\\\": [1239, 1530, 2324, 2971, 3528, 3739, 4390], \\\"year\\\": [2010, 2011, 2012, 2013, 2014, 2015, 2016]}}, {\\\"attr\\\": \\\"text\\\", \\\"kind\\\": \\\"ModelChanged\\\", \\\"model\\\": {\\\"id\\\": \\\"2263\\\"}, \\\"new\\\": \\\"<span style=\\\\\\\"color:black;font-family:Arial;font-style:bold;font-weight:bold;font-size:12pt\\\\\\\">neighborhood: Inner Richmond<\\\\/span>\\\"}], \\\"references\\\": []}\",\"header\":\"{\\\"msgid\\\": \\\"2876\\\", \\\"msgtype\\\": \\\"PATCH-DOC\\\"}\",\"metadata\":\"{}\"},\"Inner Sunset\":{\"content\":\"{\\\"events\\\": [{\\\"attr\\\": \\\"start\\\", \\\"kind\\\": \\\"ModelChanged\\\", \\\"model\\\": {\\\"id\\\": \\\"2153\\\"}, \\\"new\\\": 239.43205814512743}, {\\\"attr\\\": \\\"reset_start\\\", \\\"kind\\\": \\\"ModelChanged\\\", \\\"model\\\": {\\\"id\\\": \\\"2153\\\"}, \\\"new\\\": 239.43205814512743}, {\\\"attr\\\": \\\"end\\\", \\\"kind\\\": \\\"ModelChanged\\\", \\\"model\\\": {\\\"id\\\": \\\"2153\\\"}, \\\"new\\\": 675.4841152989234}, {\\\"attr\\\": \\\"reset_end\\\", \\\"kind\\\": \\\"ModelChanged\\\", \\\"model\\\": {\\\"id\\\": \\\"2153\\\"}, \\\"new\\\": 675.4841152989234}, {\\\"cols\\\": null, \\\"column_source\\\": {\\\"id\\\": \\\"2185\\\"}, \\\"kind\\\": \\\"ColumnDataChanged\\\", \\\"new\\\": {\\\"sale_price_sqr_foot\\\": {\\\"__ndarray__\\\": \\\"dFv1z1A8cUAZrCL9q+lyQMlvDkJDXXRAh0YXDbs4e0A5E+8OqG19QJJvw+or+YNAR50mAMjee0A=\\\", \\\"dtype\\\": \\\"float64\\\", \\\"order\\\": \\\"little\\\", \\\"shape\\\": [7]}, \\\"year\\\": [2010, 2011, 2012, 2013, 2014, 2015, 2016]}}, {\\\"cols\\\": null, \\\"column_source\\\": {\\\"id\\\": \\\"2229\\\"}, \\\"kind\\\": \\\"ColumnDataChanged\\\", \\\"new\\\": {\\\"gross_rent\\\": [1239, 1530, 2324, 2971, 3528, 3739, 4390], \\\"year\\\": [2010, 2011, 2012, 2013, 2014, 2015, 2016]}}, {\\\"attr\\\": \\\"text\\\", \\\"kind\\\": \\\"ModelChanged\\\", \\\"model\\\": {\\\"id\\\": \\\"2263\\\"}, \\\"new\\\": \\\"<span style=\\\\\\\"color:black;font-family:Arial;font-style:bold;font-weight:bold;font-size:12pt\\\\\\\">neighborhood: Inner Sunset<\\\\/span>\\\"}], \\\"references\\\": []}\",\"header\":\"{\\\"msgid\\\": \\\"2867\\\", \\\"msgtype\\\": \\\"PATCH-DOC\\\"}\",\"metadata\":\"{}\"},\"Jordan Park/Laurel Heights\":{\"content\":\"{\\\"events\\\": [{\\\"attr\\\": \\\"end\\\", \\\"kind\\\": \\\"ModelChanged\\\", \\\"model\\\": {\\\"id\\\": \\\"2152\\\"}, \\\"new\\\": 2016.0}, {\\\"attr\\\": \\\"reset_end\\\", \\\"kind\\\": \\\"ModelChanged\\\", \\\"model\\\": {\\\"id\\\": \\\"2152\\\"}, \\\"new\\\": 2016.0}, {\\\"attr\\\": \\\"start\\\", \\\"kind\\\": \\\"ModelChanged\\\", \\\"model\\\": {\\\"id\\\": \\\"2153\\\"}, \\\"new\\\": 351.00879381032536}, {\\\"attr\\\": \\\"reset_start\\\", \\\"kind\\\": \\\"ModelChanged\\\", \\\"model\\\": {\\\"id\\\": \\\"2153\\\"}, \\\"new\\\": 351.00879381032536}, {\\\"attr\\\": \\\"end\\\", \\\"kind\\\": \\\"ModelChanged\\\", \\\"model\\\": {\\\"id\\\": \\\"2153\\\"}, \\\"new\\\": 736.7080212635753}, {\\\"attr\\\": \\\"reset_end\\\", \\\"kind\\\": \\\"ModelChanged\\\", \\\"model\\\": {\\\"id\\\": \\\"2153\\\"}, \\\"new\\\": 736.7080212635753}, {\\\"cols\\\": null, \\\"column_source\\\": {\\\"id\\\": \\\"2185\\\"}, \\\"kind\\\": \\\"ColumnDataChanged\\\", \\\"new\\\": {\\\"sale_price_sqr_foot\\\": {\\\"__ndarray__\\\": \\\"uuY5ejQ+ekAnLEsgIhaDQE4svQVo8ndAEAzB95ZAgkAi628Elax6QPxXbMypA4JAUAesBogEhkA=\\\", \\\"dtype\\\": \\\"float64\\\", \\\"order\\\": \\\"little\\\", \\\"shape\\\": [7]}, \\\"year\\\": [2010, 2011, 2012, 2013, 2014, 2015, 2016]}}, {\\\"attr\\\": \\\"start\\\", \\\"kind\\\": \\\"ModelChanged\\\", \\\"model\\\": {\\\"id\\\": \\\"2197\\\"}, \\\"new\\\": 923.9}, {\\\"attr\\\": \\\"reset_start\\\", \\\"kind\\\": \\\"ModelChanged\\\", \\\"model\\\": {\\\"id\\\": \\\"2197\\\"}, \\\"new\\\": 923.9}, {\\\"attr\\\": \\\"end\\\", \\\"kind\\\": \\\"ModelChanged\\\", \\\"model\\\": {\\\"id\\\": \\\"2197\\\"}, \\\"new\\\": 4705.1}, {\\\"attr\\\": \\\"reset_end\\\", \\\"kind\\\": \\\"ModelChanged\\\", \\\"model\\\": {\\\"id\\\": \\\"2197\\\"}, \\\"new\\\": 4705.1}, {\\\"cols\\\": null, \\\"column_source\\\": {\\\"id\\\": \\\"2229\\\"}, \\\"kind\\\": \\\"ColumnDataChanged\\\", \\\"new\\\": {\\\"gross_rent\\\": [1239, 1530, 2324, 2971, 3528, 3739, 4390], \\\"year\\\": [2010, 2011, 2012, 2013, 2014, 2015, 2016]}}, {\\\"attr\\\": \\\"text\\\", \\\"kind\\\": \\\"ModelChanged\\\", \\\"model\\\": {\\\"id\\\": \\\"2263\\\"}, \\\"new\\\": \\\"<span style=\\\\\\\"color:black;font-family:Arial;font-style:bold;font-weight:bold;font-size:12pt\\\\\\\">neighborhood: Jordan Park/Laurel Heights<\\\\/span>\\\"}], \\\"references\\\": []}\",\"header\":\"{\\\"msgid\\\": \\\"2858\\\", \\\"msgtype\\\": \\\"PATCH-DOC\\\"}\",\"metadata\":\"{}\"},\"Lake --The Presidio\":{\"content\":\"{\\\"events\\\": [{\\\"attr\\\": \\\"start\\\", \\\"kind\\\": \\\"ModelChanged\\\", \\\"model\\\": {\\\"id\\\": \\\"2153\\\"}, \\\"new\\\": 296.0114866651718}, {\\\"attr\\\": \\\"reset_start\\\", \\\"kind\\\": \\\"ModelChanged\\\", \\\"model\\\": {\\\"id\\\": \\\"2153\\\"}, \\\"new\\\": 296.0114866651718}, {\\\"attr\\\": \\\"end\\\", \\\"kind\\\": \\\"ModelChanged\\\", \\\"model\\\": {\\\"id\\\": \\\"2153\\\"}, \\\"new\\\": 593.4365725876658}, {\\\"attr\\\": \\\"reset_end\\\", \\\"kind\\\": \\\"ModelChanged\\\", \\\"model\\\": {\\\"id\\\": \\\"2153\\\"}, \\\"new\\\": 593.4365725876658}, {\\\"cols\\\": null, \\\"column_source\\\": {\\\"id\\\": \\\"2185\\\"}, \\\"kind\\\": \\\"ColumnDataChanged\\\", \\\"new\\\": {\\\"sale_price_sqr_foot\\\": {\\\"__ndarray__\\\": \\\"2VI3JcAMdECVIgEIvqF0QHq77f9XyHdAb0N7jTXFgUAxyTRQZw97QKwhg5D1qnpA\\\", \\\"dtype\\\": \\\"float64\\\", \\\"order\\\": \\\"little\\\", \\\"shape\\\": [6]}, \\\"year\\\": [2010, 2011, 2012, 2013, 2014, 2015]}}, {\\\"cols\\\": null, \\\"column_source\\\": {\\\"id\\\": \\\"2229\\\"}, \\\"kind\\\": \\\"ColumnDataChanged\\\", \\\"new\\\": {\\\"gross_rent\\\": [1239, 1530, 2324, 2971, 3528, 3739], \\\"year\\\": [2010, 2011, 2012, 2013, 2014, 2015]}}, {\\\"attr\\\": \\\"text\\\", \\\"kind\\\": \\\"ModelChanged\\\", \\\"model\\\": {\\\"id\\\": \\\"2263\\\"}, \\\"new\\\": \\\"<span style=\\\\\\\"color:black;font-family:Arial;font-style:bold;font-weight:bold;font-size:12pt\\\\\\\">neighborhood: Lake --The Presidio<\\\\/span>\\\"}], \\\"references\\\": []}\",\"header\":\"{\\\"msgid\\\": \\\"2849\\\", \\\"msgtype\\\": \\\"PATCH-DOC\\\"}\",\"metadata\":\"{}\"},\"Lone Mountain\":{\"content\":\"{\\\"events\\\": [{\\\"attr\\\": \\\"end\\\", \\\"kind\\\": \\\"ModelChanged\\\", \\\"model\\\": {\\\"id\\\": \\\"2152\\\"}, \\\"new\\\": 2015.0}, {\\\"attr\\\": \\\"reset_end\\\", \\\"kind\\\": \\\"ModelChanged\\\", \\\"model\\\": {\\\"id\\\": \\\"2152\\\"}, \\\"new\\\": 2015.0}, {\\\"attr\\\": \\\"start\\\", \\\"kind\\\": \\\"ModelChanged\\\", \\\"model\\\": {\\\"id\\\": \\\"2153\\\"}, \\\"new\\\": 252.84347723354495}, {\\\"attr\\\": \\\"reset_start\\\", \\\"kind\\\": \\\"ModelChanged\\\", \\\"model\\\": {\\\"id\\\": \\\"2153\\\"}, \\\"new\\\": 252.84347723354495}, {\\\"attr\\\": \\\"end\\\", \\\"kind\\\": \\\"ModelChanged\\\", \\\"model\\\": {\\\"id\\\": \\\"2153\\\"}, \\\"new\\\": 978.7832492011727}, {\\\"attr\\\": \\\"reset_end\\\", \\\"kind\\\": \\\"ModelChanged\\\", \\\"model\\\": {\\\"id\\\": \\\"2153\\\"}, \\\"new\\\": 978.7832492011727}, {\\\"cols\\\": null, \\\"column_source\\\": {\\\"id\\\": \\\"2185\\\"}, \\\"kind\\\": \\\"ColumnDataChanged\\\", \\\"new\\\": {\\\"sale_price_sqr_foot\\\": {\\\"__ndarray__\\\": \\\"wz1ajlfneEDRiC1TapVzQAfvLHLXD4FAeCzjalaBd0BPfmP7jNNzQM1gj19OsoxA\\\", \\\"dtype\\\": \\\"float64\\\", \\\"order\\\": \\\"little\\\", \\\"shape\\\": [6]}, \\\"year\\\": [2010, 2011, 2012, 2013, 2014, 2015]}}, {\\\"attr\\\": \\\"start\\\", \\\"kind\\\": \\\"ModelChanged\\\", \\\"model\\\": {\\\"id\\\": \\\"2197\\\"}, \\\"new\\\": 989.0}, {\\\"attr\\\": \\\"reset_start\\\", \\\"kind\\\": \\\"ModelChanged\\\", \\\"model\\\": {\\\"id\\\": \\\"2197\\\"}, \\\"new\\\": 989.0}, {\\\"attr\\\": \\\"end\\\", \\\"kind\\\": \\\"ModelChanged\\\", \\\"model\\\": {\\\"id\\\": \\\"2197\\\"}, \\\"new\\\": 3989.0}, {\\\"attr\\\": \\\"reset_end\\\", \\\"kind\\\": \\\"ModelChanged\\\", \\\"model\\\": {\\\"id\\\": \\\"2197\\\"}, \\\"new\\\": 3989.0}, {\\\"cols\\\": null, \\\"column_source\\\": {\\\"id\\\": \\\"2229\\\"}, \\\"kind\\\": \\\"ColumnDataChanged\\\", \\\"new\\\": {\\\"gross_rent\\\": [1239, 1530, 2324, 2971, 3528, 3739], \\\"year\\\": [2010, 2011, 2012, 2013, 2014, 2015]}}, {\\\"attr\\\": \\\"text\\\", \\\"kind\\\": \\\"ModelChanged\\\", \\\"model\\\": {\\\"id\\\": \\\"2263\\\"}, \\\"new\\\": \\\"<span style=\\\\\\\"color:black;font-family:Arial;font-style:bold;font-weight:bold;font-size:12pt\\\\\\\">neighborhood: Lone Mountain<\\\\/span>\\\"}], \\\"references\\\": []}\",\"header\":\"{\\\"msgid\\\": \\\"2840\\\", \\\"msgtype\\\": \\\"PATCH-DOC\\\"}\",\"metadata\":\"{}\"},\"Lower Pacific Heights\":{\"content\":\"{\\\"events\\\": [{\\\"attr\\\": \\\"start\\\", \\\"kind\\\": \\\"ModelChanged\\\", \\\"model\\\": {\\\"id\\\": \\\"2153\\\"}, \\\"new\\\": 253.89473318005733}, {\\\"attr\\\": \\\"reset_start\\\", \\\"kind\\\": \\\"ModelChanged\\\", \\\"model\\\": {\\\"id\\\": \\\"2153\\\"}, \\\"new\\\": 253.89473318005733}, {\\\"attr\\\": \\\"end\\\", \\\"kind\\\": \\\"ModelChanged\\\", \\\"model\\\": {\\\"id\\\": \\\"2153\\\"}, \\\"new\\\": 849.6883316136466}, {\\\"attr\\\": \\\"reset_end\\\", \\\"kind\\\": \\\"ModelChanged\\\", \\\"model\\\": {\\\"id\\\": \\\"2153\\\"}, \\\"new\\\": 849.6883316136466}, {\\\"cols\\\": null, \\\"column_source\\\": {\\\"id\\\": \\\"2185\\\"}, \\\"kind\\\": \\\"ColumnDataChanged\\\", \\\"new\\\": {\\\"sale_price_sqr_foot\\\": {\\\"__ndarray__\\\": \\\"76u8E+xgd0Bx+MIKtfhyQPfeWOC8wnhAyw2Bnl8ggUA7DXIXA2OGQApnfphPAIlAVYW5N3Ljg0A=\\\", \\\"dtype\\\": \\\"float64\\\", \\\"order\\\": \\\"little\\\", \\\"shape\\\": [7]}, \\\"year\\\": [2010, 2011, 2012, 2013, 2014, 2015, 2016]}}, {\\\"cols\\\": null, \\\"column_source\\\": {\\\"id\\\": \\\"2229\\\"}, \\\"kind\\\": \\\"ColumnDataChanged\\\", \\\"new\\\": {\\\"gross_rent\\\": [1239, 1530, 2324, 2971, 3528, 3739, 4390], \\\"year\\\": [2010, 2011, 2012, 2013, 2014, 2015, 2016]}}, {\\\"attr\\\": \\\"text\\\", \\\"kind\\\": \\\"ModelChanged\\\", \\\"model\\\": {\\\"id\\\": \\\"2263\\\"}, \\\"new\\\": \\\"<span style=\\\\\\\"color:black;font-family:Arial;font-style:bold;font-weight:bold;font-size:12pt\\\\\\\">neighborhood: Lower Pacific Heights<\\\\/span>\\\"}], \\\"references\\\": []}\",\"header\":\"{\\\"msgid\\\": \\\"2831\\\", \\\"msgtype\\\": \\\"PATCH-DOC\\\"}\",\"metadata\":\"{}\"},\"Marina\":{\"content\":\"{\\\"events\\\": [{\\\"attr\\\": \\\"start\\\", \\\"kind\\\": \\\"ModelChanged\\\", \\\"model\\\": {\\\"id\\\": \\\"2152\\\"}, \\\"new\\\": 2010.0}, {\\\"attr\\\": \\\"reset_start\\\", \\\"kind\\\": \\\"ModelChanged\\\", \\\"model\\\": {\\\"id\\\": \\\"2152\\\"}, \\\"new\\\": 2010.0}, {\\\"attr\\\": \\\"start\\\", \\\"kind\\\": \\\"ModelChanged\\\", \\\"model\\\": {\\\"id\\\": \\\"2153\\\"}, \\\"new\\\": 312.84838736906875}, {\\\"attr\\\": \\\"reset_start\\\", \\\"kind\\\": \\\"ModelChanged\\\", \\\"model\\\": {\\\"id\\\": \\\"2153\\\"}, \\\"new\\\": 312.84838736906875}, {\\\"attr\\\": \\\"end\\\", \\\"kind\\\": \\\"ModelChanged\\\", \\\"model\\\": {\\\"id\\\": \\\"2153\\\"}, \\\"new\\\": 1207.3818126633078}, {\\\"attr\\\": \\\"reset_end\\\", \\\"kind\\\": \\\"ModelChanged\\\", \\\"model\\\": {\\\"id\\\": \\\"2153\\\"}, \\\"new\\\": 1207.3818126633078}, {\\\"cols\\\": null, \\\"column_source\\\": {\\\"id\\\": \\\"2185\\\"}, \\\"kind\\\": \\\"ColumnDataChanged\\\", \\\"new\\\": {\\\"sale_price_sqr_foot\\\": {\\\"__ndarray__\\\": \\\"Ux8MEkk2eECye+dyGG14QJQFBghx03tArN/UlpV5hEDmyxE0tRaEQI2iC3VZs5FA5fACFx3/ekA=\\\", \\\"dtype\\\": \\\"float64\\\", \\\"order\\\": \\\"little\\\", \\\"shape\\\": [7]}, \\\"year\\\": [2010, 2011, 2012, 2013, 2014, 2015, 2016]}}, {\\\"attr\\\": \\\"start\\\", \\\"kind\\\": \\\"ModelChanged\\\", \\\"model\\\": {\\\"id\\\": \\\"2197\\\"}, \\\"new\\\": 923.9}, {\\\"attr\\\": \\\"reset_start\\\", \\\"kind\\\": \\\"ModelChanged\\\", \\\"model\\\": {\\\"id\\\": \\\"2197\\\"}, \\\"new\\\": 923.9}, {\\\"attr\\\": \\\"end\\\", \\\"kind\\\": \\\"ModelChanged\\\", \\\"model\\\": {\\\"id\\\": \\\"2197\\\"}, \\\"new\\\": 4705.1}, {\\\"attr\\\": \\\"reset_end\\\", \\\"kind\\\": \\\"ModelChanged\\\", \\\"model\\\": {\\\"id\\\": \\\"2197\\\"}, \\\"new\\\": 4705.1}, {\\\"cols\\\": null, \\\"column_source\\\": {\\\"id\\\": \\\"2229\\\"}, \\\"kind\\\": \\\"ColumnDataChanged\\\", \\\"new\\\": {\\\"gross_rent\\\": [1239, 1530, 2324, 2971, 3528, 3739, 4390], \\\"year\\\": [2010, 2011, 2012, 2013, 2014, 2015, 2016]}}, {\\\"attr\\\": \\\"text\\\", \\\"kind\\\": \\\"ModelChanged\\\", \\\"model\\\": {\\\"id\\\": \\\"2263\\\"}, \\\"new\\\": \\\"<span style=\\\\\\\"color:black;font-family:Arial;font-style:bold;font-weight:bold;font-size:12pt\\\\\\\">neighborhood: Marina<\\\\/span>\\\"}], \\\"references\\\": []}\",\"header\":\"{\\\"msgid\\\": \\\"2822\\\", \\\"msgtype\\\": \\\"PATCH-DOC\\\"}\",\"metadata\":\"{}\"},\"Merced Heights\":{\"content\":\"{\\\"events\\\": [{\\\"attr\\\": \\\"end\\\", \\\"kind\\\": \\\"ModelChanged\\\", \\\"model\\\": {\\\"id\\\": \\\"2152\\\"}, \\\"new\\\": 2016.0}, {\\\"attr\\\": \\\"reset_end\\\", \\\"kind\\\": \\\"ModelChanged\\\", \\\"model\\\": {\\\"id\\\": \\\"2152\\\"}, \\\"new\\\": 2016.0}, {\\\"attr\\\": \\\"start\\\", \\\"kind\\\": \\\"ModelChanged\\\", \\\"model\\\": {\\\"id\\\": \\\"2153\\\"}, \\\"new\\\": 321.5887025101436}, {\\\"attr\\\": \\\"reset_start\\\", \\\"kind\\\": \\\"ModelChanged\\\", \\\"model\\\": {\\\"id\\\": \\\"2153\\\"}, \\\"new\\\": 321.5887025101436}, {\\\"attr\\\": \\\"end\\\", \\\"kind\\\": \\\"ModelChanged\\\", \\\"model\\\": {\\\"id\\\": \\\"2153\\\"}, \\\"new\\\": 1516.2192088627146}, {\\\"attr\\\": \\\"reset_end\\\", \\\"kind\\\": \\\"ModelChanged\\\", \\\"model\\\": {\\\"id\\\": \\\"2153\\\"}, \\\"new\\\": 1516.2192088627146}, {\\\"cols\\\": null, \\\"column_source\\\": {\\\"id\\\": \\\"2185\\\"}, \\\"kind\\\": \\\"ColumnDataChanged\\\", \\\"new\\\": {\\\"sale_price_sqr_foot\\\": {\\\"__ndarray__\\\": \\\"MB3PiUJSekCKg+70z4WAQKyqqqqqIpZA\\\", \\\"dtype\\\": \\\"float64\\\", \\\"order\\\": \\\"little\\\", \\\"shape\\\": [3]}, \\\"year\\\": [2012, 2014, 2016]}}, {\\\"attr\\\": \\\"start\\\", \\\"kind\\\": \\\"ModelChanged\\\", \\\"model\\\": {\\\"id\\\": \\\"2197\\\"}, \\\"new\\\": 2117.4}, {\\\"attr\\\": \\\"reset_start\\\", \\\"kind\\\": \\\"ModelChanged\\\", \\\"model\\\": {\\\"id\\\": \\\"2197\\\"}, \\\"new\\\": 2117.4}, {\\\"attr\\\": \\\"end\\\", \\\"kind\\\": \\\"ModelChanged\\\", \\\"model\\\": {\\\"id\\\": \\\"2197\\\"}, \\\"new\\\": 4596.6}, {\\\"attr\\\": \\\"reset_end\\\", \\\"kind\\\": \\\"ModelChanged\\\", \\\"model\\\": {\\\"id\\\": \\\"2197\\\"}, \\\"new\\\": 4596.6}, {\\\"cols\\\": null, \\\"column_source\\\": {\\\"id\\\": \\\"2229\\\"}, \\\"kind\\\": \\\"ColumnDataChanged\\\", \\\"new\\\": {\\\"gross_rent\\\": [2324, 3528, 4390], \\\"year\\\": [2012, 2014, 2016]}}, {\\\"attr\\\": \\\"text\\\", \\\"kind\\\": \\\"ModelChanged\\\", \\\"model\\\": {\\\"id\\\": \\\"2263\\\"}, \\\"new\\\": \\\"<span style=\\\\\\\"color:black;font-family:Arial;font-style:bold;font-weight:bold;font-size:12pt\\\\\\\">neighborhood: Merced Heights<\\\\/span>\\\"}], \\\"references\\\": []}\",\"header\":\"{\\\"msgid\\\": \\\"2813\\\", \\\"msgtype\\\": \\\"PATCH-DOC\\\"}\",\"metadata\":\"{}\"},\"Midtown Terrace\":{\"content\":\"{\\\"events\\\": [{\\\"attr\\\": \\\"start\\\", \\\"kind\\\": \\\"ModelChanged\\\", \\\"model\\\": {\\\"id\\\": \\\"2152\\\"}, \\\"new\\\": 2012.0}, {\\\"attr\\\": \\\"reset_start\\\", \\\"kind\\\": \\\"ModelChanged\\\", \\\"model\\\": {\\\"id\\\": \\\"2152\\\"}, \\\"new\\\": 2012.0}, {\\\"attr\\\": \\\"end\\\", \\\"kind\\\": \\\"ModelChanged\\\", \\\"model\\\": {\\\"id\\\": \\\"2152\\\"}, \\\"new\\\": 2013.0}, {\\\"attr\\\": \\\"reset_end\\\", \\\"kind\\\": \\\"ModelChanged\\\", \\\"model\\\": {\\\"id\\\": \\\"2152\\\"}, \\\"new\\\": 2013.0}, {\\\"attr\\\": \\\"start\\\", \\\"kind\\\": \\\"ModelChanged\\\", \\\"model\\\": {\\\"id\\\": \\\"2153\\\"}, \\\"new\\\": 367.4248850164196}, {\\\"attr\\\": \\\"reset_start\\\", \\\"kind\\\": \\\"ModelChanged\\\", \\\"model\\\": {\\\"id\\\": \\\"2153\\\"}, \\\"new\\\": 367.4248850164196}, {\\\"attr\\\": \\\"end\\\", \\\"kind\\\": \\\"ModelChanged\\\", \\\"model\\\": {\\\"id\\\": \\\"2153\\\"}, \\\"new\\\": 733.5958115670106}, {\\\"attr\\\": \\\"reset_end\\\", \\\"kind\\\": \\\"ModelChanged\\\", \\\"model\\\": {\\\"id\\\": \\\"2153\\\"}, \\\"new\\\": 733.5958115670106}, {\\\"cols\\\": null, \\\"column_source\\\": {\\\"id\\\": \\\"2185\\\"}, \\\"kind\\\": \\\"ColumnDataChanged\\\", \\\"new\\\": {\\\"sale_price_sqr_foot\\\": {\\\"__ndarray__\\\": \\\"u1cFrAbfeEDpu/UMp/iFQA==\\\", \\\"dtype\\\": \\\"float64\\\", \\\"order\\\": \\\"little\\\", \\\"shape\\\": [2]}, \\\"year\\\": [2012, 2013]}}, {\\\"attr\\\": \\\"start\\\", \\\"kind\\\": \\\"ModelChanged\\\", \\\"model\\\": {\\\"id\\\": \\\"2197\\\"}, \\\"new\\\": 2259.3}, {\\\"attr\\\": \\\"reset_start\\\", \\\"kind\\\": \\\"ModelChanged\\\", \\\"model\\\": {\\\"id\\\": \\\"2197\\\"}, \\\"new\\\": 2259.3}, {\\\"attr\\\": \\\"end\\\", \\\"kind\\\": \\\"ModelChanged\\\", \\\"model\\\": {\\\"id\\\": \\\"2197\\\"}, \\\"new\\\": 3035.7}, {\\\"attr\\\": \\\"reset_end\\\", \\\"kind\\\": \\\"ModelChanged\\\", \\\"model\\\": {\\\"id\\\": \\\"2197\\\"}, \\\"new\\\": 3035.7}, {\\\"cols\\\": null, \\\"column_source\\\": {\\\"id\\\": \\\"2229\\\"}, \\\"kind\\\": \\\"ColumnDataChanged\\\", \\\"new\\\": {\\\"gross_rent\\\": [2324, 2971], \\\"year\\\": [2012, 2013]}}, {\\\"attr\\\": \\\"text\\\", \\\"kind\\\": \\\"ModelChanged\\\", \\\"model\\\": {\\\"id\\\": \\\"2263\\\"}, \\\"new\\\": \\\"<span style=\\\\\\\"color:black;font-family:Arial;font-style:bold;font-weight:bold;font-size:12pt\\\\\\\">neighborhood: Midtown Terrace<\\\\/span>\\\"}], \\\"references\\\": []}\",\"header\":\"{\\\"msgid\\\": \\\"2804\\\", \\\"msgtype\\\": \\\"PATCH-DOC\\\"}\",\"metadata\":\"{}\"},\"Miraloma Park\":{\"content\":\"{\\\"events\\\": [{\\\"attr\\\": \\\"end\\\", \\\"kind\\\": \\\"ModelChanged\\\", \\\"model\\\": {\\\"id\\\": \\\"2152\\\"}, \\\"new\\\": 2014.0}, {\\\"attr\\\": \\\"reset_end\\\", \\\"kind\\\": \\\"ModelChanged\\\", \\\"model\\\": {\\\"id\\\": \\\"2152\\\"}, \\\"new\\\": 2014.0}, {\\\"attr\\\": \\\"start\\\", \\\"kind\\\": \\\"ModelChanged\\\", \\\"model\\\": {\\\"id\\\": \\\"2153\\\"}, \\\"new\\\": 329.36705099035305}, {\\\"attr\\\": \\\"reset_start\\\", \\\"kind\\\": \\\"ModelChanged\\\", \\\"model\\\": {\\\"id\\\": \\\"2153\\\"}, \\\"new\\\": 329.36705099035305}, {\\\"attr\\\": \\\"end\\\", \\\"kind\\\": \\\"ModelChanged\\\", \\\"model\\\": {\\\"id\\\": \\\"2153\\\"}, \\\"new\\\": 1353.0752164185672}, {\\\"attr\\\": \\\"reset_end\\\", \\\"kind\\\": \\\"ModelChanged\\\", \\\"model\\\": {\\\"id\\\": \\\"2153\\\"}, \\\"new\\\": 1353.0752164185672}, {\\\"cols\\\": null, \\\"column_source\\\": {\\\"id\\\": \\\"2185\\\"}, \\\"kind\\\": \\\"ColumnDataChanged\\\", \\\"new\\\": {\\\"sale_price_sqr_foot\\\": {\\\"__ndarray__\\\": \\\"nv5hrd5EhUDxcEwp0ep5QKIzmfqJoYdAXElslxDPk0A=\\\", \\\"dtype\\\": \\\"float64\\\", \\\"order\\\": \\\"little\\\", \\\"shape\\\": [4]}, \\\"year\\\": [2010, 2011, 2012, 2014]}}, {\\\"attr\\\": \\\"start\\\", \\\"kind\\\": \\\"ModelChanged\\\", \\\"model\\\": {\\\"id\\\": \\\"2197\\\"}, \\\"new\\\": 1010.1}, {\\\"attr\\\": \\\"reset_start\\\", \\\"kind\\\": \\\"ModelChanged\\\", \\\"model\\\": {\\\"id\\\": \\\"2197\\\"}, \\\"new\\\": 1010.1}, {\\\"attr\\\": \\\"end\\\", \\\"kind\\\": \\\"ModelChanged\\\", \\\"model\\\": {\\\"id\\\": \\\"2197\\\"}, \\\"new\\\": 3756.9}, {\\\"attr\\\": \\\"reset_end\\\", \\\"kind\\\": \\\"ModelChanged\\\", \\\"model\\\": {\\\"id\\\": \\\"2197\\\"}, \\\"new\\\": 3756.9}, {\\\"cols\\\": null, \\\"column_source\\\": {\\\"id\\\": \\\"2229\\\"}, \\\"kind\\\": \\\"ColumnDataChanged\\\", \\\"new\\\": {\\\"gross_rent\\\": [1239, 1530, 2324, 3528], \\\"year\\\": [2010, 2011, 2012, 2014]}}, {\\\"attr\\\": \\\"text\\\", \\\"kind\\\": \\\"ModelChanged\\\", \\\"model\\\": {\\\"id\\\": \\\"2263\\\"}, \\\"new\\\": \\\"<span style=\\\\\\\"color:black;font-family:Arial;font-style:bold;font-weight:bold;font-size:12pt\\\\\\\">neighborhood: Miraloma Park<\\\\/span>\\\"}], \\\"references\\\": []}\",\"header\":\"{\\\"msgid\\\": \\\"2795\\\", \\\"msgtype\\\": \\\"PATCH-DOC\\\"}\",\"metadata\":\"{}\"},\"Mission Bay\":{\"content\":\"{\\\"events\\\": [{\\\"attr\\\": \\\"end\\\", \\\"kind\\\": \\\"ModelChanged\\\", \\\"model\\\": {\\\"id\\\": \\\"2152\\\"}, \\\"new\\\": 2016.0}, {\\\"attr\\\": \\\"reset_end\\\", \\\"kind\\\": \\\"ModelChanged\\\", \\\"model\\\": {\\\"id\\\": \\\"2152\\\"}, \\\"new\\\": 2016.0}, {\\\"attr\\\": \\\"start\\\", \\\"kind\\\": \\\"ModelChanged\\\", \\\"model\\\": {\\\"id\\\": \\\"2153\\\"}, \\\"new\\\": 149.6652843206233}, {\\\"attr\\\": \\\"reset_start\\\", \\\"kind\\\": \\\"ModelChanged\\\", \\\"model\\\": {\\\"id\\\": \\\"2153\\\"}, \\\"new\\\": 149.6652843206233}, {\\\"attr\\\": \\\"end\\\", \\\"kind\\\": \\\"ModelChanged\\\", \\\"model\\\": {\\\"id\\\": \\\"2153\\\"}, \\\"new\\\": 995.0149187736765}, {\\\"attr\\\": \\\"reset_end\\\", \\\"kind\\\": \\\"ModelChanged\\\", \\\"model\\\": {\\\"id\\\": \\\"2153\\\"}, \\\"new\\\": 995.0149187736765}, {\\\"cols\\\": null, \\\"column_source\\\": {\\\"id\\\": \\\"2185\\\"}, \\\"kind\\\": \\\"ColumnDataChanged\\\", \\\"new\\\": {\\\"sale_price_sqr_foot\\\": {\\\"__ndarray__\\\": \\\"YJ/P0+KcfkA4flQbPK9/QDDJZL4vjIVAAAAAAAAA+H/q7LkGjoNrQAVqo4yN5IxA\\\", \\\"dtype\\\": \\\"float64\\\", \\\"order\\\": \\\"little\\\", \\\"shape\\\": [6]}, \\\"year\\\": [2010, 2011, 2012, 2013, 2014, 2016]}}, {\\\"attr\\\": \\\"start\\\", \\\"kind\\\": \\\"ModelChanged\\\", \\\"model\\\": {\\\"id\\\": \\\"2197\\\"}, \\\"new\\\": 923.9}, {\\\"attr\\\": \\\"reset_start\\\", \\\"kind\\\": \\\"ModelChanged\\\", \\\"model\\\": {\\\"id\\\": \\\"2197\\\"}, \\\"new\\\": 923.9}, {\\\"attr\\\": \\\"end\\\", \\\"kind\\\": \\\"ModelChanged\\\", \\\"model\\\": {\\\"id\\\": \\\"2197\\\"}, \\\"new\\\": 4705.1}, {\\\"attr\\\": \\\"reset_end\\\", \\\"kind\\\": \\\"ModelChanged\\\", \\\"model\\\": {\\\"id\\\": \\\"2197\\\"}, \\\"new\\\": 4705.1}, {\\\"cols\\\": null, \\\"column_source\\\": {\\\"id\\\": \\\"2229\\\"}, \\\"kind\\\": \\\"ColumnDataChanged\\\", \\\"new\\\": {\\\"gross_rent\\\": [1239, 1530, 2324, 2971, 3528, 4390], \\\"year\\\": [2010, 2011, 2012, 2013, 2014, 2016]}}, {\\\"attr\\\": \\\"text\\\", \\\"kind\\\": \\\"ModelChanged\\\", \\\"model\\\": {\\\"id\\\": \\\"2263\\\"}, \\\"new\\\": \\\"<span style=\\\\\\\"color:black;font-family:Arial;font-style:bold;font-weight:bold;font-size:12pt\\\\\\\">neighborhood: Mission Bay<\\\\/span>\\\"}], \\\"references\\\": []}\",\"header\":\"{\\\"msgid\\\": \\\"2786\\\", \\\"msgtype\\\": \\\"PATCH-DOC\\\"}\",\"metadata\":\"{}\"},\"Mission Dolores\":{\"content\":\"{\\\"events\\\": [{\\\"attr\\\": \\\"end\\\", \\\"kind\\\": \\\"ModelChanged\\\", \\\"model\\\": {\\\"id\\\": \\\"2152\\\"}, \\\"new\\\": 2015.0}, {\\\"attr\\\": \\\"reset_end\\\", \\\"kind\\\": \\\"ModelChanged\\\", \\\"model\\\": {\\\"id\\\": \\\"2152\\\"}, \\\"new\\\": 2015.0}, {\\\"attr\\\": \\\"start\\\", \\\"kind\\\": \\\"ModelChanged\\\", \\\"model\\\": {\\\"id\\\": \\\"2153\\\"}, \\\"new\\\": 219.56483924332616}, {\\\"attr\\\": \\\"reset_start\\\", \\\"kind\\\": \\\"ModelChanged\\\", \\\"model\\\": {\\\"id\\\": \\\"2153\\\"}, \\\"new\\\": 219.56483924332616}, {\\\"attr\\\": \\\"end\\\", \\\"kind\\\": \\\"ModelChanged\\\", \\\"model\\\": {\\\"id\\\": \\\"2153\\\"}, \\\"new\\\": 680.6427519434955}, {\\\"attr\\\": \\\"reset_end\\\", \\\"kind\\\": \\\"ModelChanged\\\", \\\"model\\\": {\\\"id\\\": \\\"2153\\\"}, \\\"new\\\": 680.6427519434955}, {\\\"cols\\\": null, \\\"column_source\\\": {\\\"id\\\": \\\"2185\\\"}, \\\"kind\\\": \\\"ColumnDataChanged\\\", \\\"new\\\": {\\\"sale_price_sqr_foot\\\": {\\\"__ndarray__\\\": \\\"jx2o184fcEDnKsbKd1ZyQHi6P9hbD3RAu5WvBqmyekDqY725wRGEQPso77AL3oFA\\\", \\\"dtype\\\": \\\"float64\\\", \\\"order\\\": \\\"little\\\", \\\"shape\\\": [6]}, \\\"year\\\": [2010, 2011, 2012, 2013, 2014, 2015]}}, {\\\"attr\\\": \\\"start\\\", \\\"kind\\\": \\\"ModelChanged\\\", \\\"model\\\": {\\\"id\\\": \\\"2197\\\"}, \\\"new\\\": 989.0}, {\\\"attr\\\": \\\"reset_start\\\", \\\"kind\\\": \\\"ModelChanged\\\", \\\"model\\\": {\\\"id\\\": \\\"2197\\\"}, \\\"new\\\": 989.0}, {\\\"attr\\\": \\\"end\\\", \\\"kind\\\": \\\"ModelChanged\\\", \\\"model\\\": {\\\"id\\\": \\\"2197\\\"}, \\\"new\\\": 3989.0}, {\\\"attr\\\": \\\"reset_end\\\", \\\"kind\\\": \\\"ModelChanged\\\", \\\"model\\\": {\\\"id\\\": \\\"2197\\\"}, \\\"new\\\": 3989.0}, {\\\"cols\\\": null, \\\"column_source\\\": {\\\"id\\\": \\\"2229\\\"}, \\\"kind\\\": \\\"ColumnDataChanged\\\", \\\"new\\\": {\\\"gross_rent\\\": [1239, 1530, 2324, 2971, 3528, 3739], \\\"year\\\": [2010, 2011, 2012, 2013, 2014, 2015]}}, {\\\"attr\\\": \\\"text\\\", \\\"kind\\\": \\\"ModelChanged\\\", \\\"model\\\": {\\\"id\\\": \\\"2263\\\"}, \\\"new\\\": \\\"<span style=\\\\\\\"color:black;font-family:Arial;font-style:bold;font-weight:bold;font-size:12pt\\\\\\\">neighborhood: Mission Dolores<\\\\/span>\\\"}], \\\"references\\\": []}\",\"header\":\"{\\\"msgid\\\": \\\"2777\\\", \\\"msgtype\\\": \\\"PATCH-DOC\\\"}\",\"metadata\":\"{}\"},\"Mission Terrace\":{\"content\":\"{\\\"events\\\": [{\\\"attr\\\": \\\"start\\\", \\\"kind\\\": \\\"ModelChanged\\\", \\\"model\\\": {\\\"id\\\": \\\"2153\\\"}, \\\"new\\\": 201.26192688136928}, {\\\"attr\\\": \\\"reset_start\\\", \\\"kind\\\": \\\"ModelChanged\\\", \\\"model\\\": {\\\"id\\\": \\\"2153\\\"}, \\\"new\\\": 201.26192688136928}, {\\\"attr\\\": \\\"end\\\", \\\"kind\\\": \\\"ModelChanged\\\", \\\"model\\\": {\\\"id\\\": \\\"2153\\\"}, \\\"new\\\": 940.6311119917092}, {\\\"attr\\\": \\\"reset_end\\\", \\\"kind\\\": \\\"ModelChanged\\\", \\\"model\\\": {\\\"id\\\": \\\"2153\\\"}, \\\"new\\\": 940.6311119917092}, {\\\"cols\\\": null, \\\"column_source\\\": {\\\"id\\\": \\\"2185\\\"}, \\\"kind\\\": \\\"ColumnDataChanged\\\", \\\"new\\\": {\\\"sale_price_sqr_foot\\\": {\\\"__ndarray__\\\": \\\"5Up2MwRucEDCIHpXN3uCQAn27jf/wnJA7NvKAco+gkD7adXXIniLQA==\\\", \\\"dtype\\\": \\\"float64\\\", \\\"order\\\": \\\"little\\\", \\\"shape\\\": [5]}, \\\"year\\\": [2010, 2013, 2014, 2015, 2016]}}, {\\\"cols\\\": null, \\\"column_source\\\": {\\\"id\\\": \\\"2229\\\"}, \\\"kind\\\": \\\"ColumnDataChanged\\\", \\\"new\\\": {\\\"gross_rent\\\": [1239, 2971, 3528, 3739, 4390], \\\"year\\\": [2010, 2013, 2014, 2015, 2016]}}, {\\\"attr\\\": \\\"text\\\", \\\"kind\\\": \\\"ModelChanged\\\", \\\"model\\\": {\\\"id\\\": \\\"2263\\\"}, \\\"new\\\": \\\"<span style=\\\\\\\"color:black;font-family:Arial;font-style:bold;font-weight:bold;font-size:12pt\\\\\\\">neighborhood: Mission Terrace<\\\\/span>\\\"}], \\\"references\\\": []}\",\"header\":\"{\\\"msgid\\\": \\\"2768\\\", \\\"msgtype\\\": \\\"PATCH-DOC\\\"}\",\"metadata\":\"{}\"},\"Nob Hill\":{\"content\":\"{\\\"events\\\": [{\\\"attr\\\": \\\"start\\\", \\\"kind\\\": \\\"ModelChanged\\\", \\\"model\\\": {\\\"id\\\": \\\"2153\\\"}, \\\"new\\\": 260.7443929653207}, {\\\"attr\\\": \\\"reset_start\\\", \\\"kind\\\": \\\"ModelChanged\\\", \\\"model\\\": {\\\"id\\\": \\\"2153\\\"}, \\\"new\\\": 260.7443929653207}, {\\\"attr\\\": \\\"end\\\", \\\"kind\\\": \\\"ModelChanged\\\", \\\"model\\\": {\\\"id\\\": \\\"2153\\\"}, \\\"new\\\": 823.9413983128123}, {\\\"attr\\\": \\\"reset_end\\\", \\\"kind\\\": \\\"ModelChanged\\\", \\\"model\\\": {\\\"id\\\": \\\"2153\\\"}, \\\"new\\\": 823.9413983128123}, {\\\"cols\\\": null, \\\"column_source\\\": {\\\"id\\\": \\\"2185\\\"}, \\\"kind\\\": \\\"ColumnDataChanged\\\", \\\"new\\\": {\\\"sale_price_sqr_foot\\\": {\\\"__ndarray__\\\": \\\"nsfa8dY6c0Dw6sQTSEp1QNOp9qKHPHNANu2GfmwgfUCD5gH4F+d9QN20QE/HjoBA5tc1BxFIiEA=\\\", \\\"dtype\\\": \\\"float64\\\", \\\"order\\\": \\\"little\\\", \\\"shape\\\": [7]}, \\\"year\\\": [2010, 2011, 2012, 2013, 2014, 2015, 2016]}}, {\\\"cols\\\": null, \\\"column_source\\\": {\\\"id\\\": \\\"2229\\\"}, \\\"kind\\\": \\\"ColumnDataChanged\\\", \\\"new\\\": {\\\"gross_rent\\\": [1239, 1530, 2324, 2971, 3528, 3739, 4390], \\\"year\\\": [2010, 2011, 2012, 2013, 2014, 2015, 2016]}}, {\\\"attr\\\": \\\"text\\\", \\\"kind\\\": \\\"ModelChanged\\\", \\\"model\\\": {\\\"id\\\": \\\"2263\\\"}, \\\"new\\\": \\\"<span style=\\\\\\\"color:black;font-family:Arial;font-style:bold;font-weight:bold;font-size:12pt\\\\\\\">neighborhood: Nob Hill<\\\\/span>\\\"}], \\\"references\\\": []}\",\"header\":\"{\\\"msgid\\\": \\\"2759\\\", \\\"msgtype\\\": \\\"PATCH-DOC\\\"}\",\"metadata\":\"{}\"},\"Noe Valley\":{\"content\":\"{\\\"events\\\": [{\\\"attr\\\": \\\"start\\\", \\\"kind\\\": \\\"ModelChanged\\\", \\\"model\\\": {\\\"id\\\": \\\"2152\\\"}, \\\"new\\\": 2010.0}, {\\\"attr\\\": \\\"reset_start\\\", \\\"kind\\\": \\\"ModelChanged\\\", \\\"model\\\": {\\\"id\\\": \\\"2152\\\"}, \\\"new\\\": 2010.0}, {\\\"attr\\\": \\\"start\\\", \\\"kind\\\": \\\"ModelChanged\\\", \\\"model\\\": {\\\"id\\\": \\\"2153\\\"}, \\\"new\\\": 331.4269906464192}, {\\\"attr\\\": \\\"reset_start\\\", \\\"kind\\\": \\\"ModelChanged\\\", \\\"model\\\": {\\\"id\\\": \\\"2153\\\"}, \\\"new\\\": 331.4269906464192}, {\\\"attr\\\": \\\"end\\\", \\\"kind\\\": \\\"ModelChanged\\\", \\\"model\\\": {\\\"id\\\": \\\"2153\\\"}, \\\"new\\\": 842.0473477000174}, {\\\"attr\\\": \\\"reset_end\\\", \\\"kind\\\": \\\"ModelChanged\\\", \\\"model\\\": {\\\"id\\\": \\\"2153\\\"}, \\\"new\\\": 842.0473477000174}, {\\\"cols\\\": null, \\\"column_source\\\": {\\\"id\\\": \\\"2185\\\"}, \\\"kind\\\": \\\"ColumnDataChanged\\\", \\\"new\\\": {\\\"sale_price_sqr_foot\\\": {\\\"__ndarray__\\\": \\\"GS5CEjfSd0B9QsWzqF93QIDKIsFZwHpAI9iT7YI4g0DciMZ4aXaEQKBBKlfNBIFAOogEGPf7iEA=\\\", \\\"dtype\\\": \\\"float64\\\", \\\"order\\\": \\\"little\\\", \\\"shape\\\": [7]}, \\\"year\\\": [2010, 2011, 2012, 2013, 2014, 2015, 2016]}}, {\\\"attr\\\": \\\"start\\\", \\\"kind\\\": \\\"ModelChanged\\\", \\\"model\\\": {\\\"id\\\": \\\"2197\\\"}, \\\"new\\\": 923.9}, {\\\"attr\\\": \\\"reset_start\\\", \\\"kind\\\": \\\"ModelChanged\\\", \\\"model\\\": {\\\"id\\\": \\\"2197\\\"}, \\\"new\\\": 923.9}, {\\\"attr\\\": \\\"end\\\", \\\"kind\\\": \\\"ModelChanged\\\", \\\"model\\\": {\\\"id\\\": \\\"2197\\\"}, \\\"new\\\": 4705.1}, {\\\"attr\\\": \\\"reset_end\\\", \\\"kind\\\": \\\"ModelChanged\\\", \\\"model\\\": {\\\"id\\\": \\\"2197\\\"}, \\\"new\\\": 4705.1}, {\\\"cols\\\": null, \\\"column_source\\\": {\\\"id\\\": \\\"2229\\\"}, \\\"kind\\\": \\\"ColumnDataChanged\\\", \\\"new\\\": {\\\"gross_rent\\\": [1239, 1530, 2324, 2971, 3528, 3739, 4390], \\\"year\\\": [2010, 2011, 2012, 2013, 2014, 2015, 2016]}}, {\\\"attr\\\": \\\"text\\\", \\\"kind\\\": \\\"ModelChanged\\\", \\\"model\\\": {\\\"id\\\": \\\"2263\\\"}, \\\"new\\\": \\\"<span style=\\\\\\\"color:black;font-family:Arial;font-style:bold;font-weight:bold;font-size:12pt\\\\\\\">neighborhood: Noe Valley<\\\\/span>\\\"}], \\\"references\\\": []}\",\"header\":\"{\\\"msgid\\\": \\\"2750\\\", \\\"msgtype\\\": \\\"PATCH-DOC\\\"}\",\"metadata\":\"{}\"},\"North Beach\":{\"content\":\"{\\\"events\\\": [{\\\"attr\\\": \\\"end\\\", \\\"kind\\\": \\\"ModelChanged\\\", \\\"model\\\": {\\\"id\\\": \\\"2152\\\"}, \\\"new\\\": 2016.0}, {\\\"attr\\\": \\\"reset_end\\\", \\\"kind\\\": \\\"ModelChanged\\\", \\\"model\\\": {\\\"id\\\": \\\"2152\\\"}, \\\"new\\\": 2016.0}, {\\\"attr\\\": \\\"start\\\", \\\"kind\\\": \\\"ModelChanged\\\", \\\"model\\\": {\\\"id\\\": \\\"2153\\\"}, \\\"new\\\": 268.2957866693006}, {\\\"attr\\\": \\\"reset_start\\\", \\\"kind\\\": \\\"ModelChanged\\\", \\\"model\\\": {\\\"id\\\": \\\"2153\\\"}, \\\"new\\\": 268.2957866693006}, {\\\"attr\\\": \\\"end\\\", \\\"kind\\\": \\\"ModelChanged\\\", \\\"model\\\": {\\\"id\\\": \\\"2153\\\"}, \\\"new\\\": 539.7987391572228}, {\\\"attr\\\": \\\"reset_end\\\", \\\"kind\\\": \\\"ModelChanged\\\", \\\"model\\\": {\\\"id\\\": \\\"2153\\\"}, \\\"new\\\": 539.7987391572228}, {\\\"cols\\\": null, \\\"column_source\\\": {\\\"id\\\": \\\"2185\\\"}, \\\"kind\\\": \\\"ColumnDataChanged\\\", \\\"new\\\": {\\\"sale_price_sqr_foot\\\": {\\\"__ndarray__\\\": \\\"P33LjLwuckC+7VtQYymAQEOToDR6m3hA0knGOugNfEByKLVn2nh5QA==\\\", \\\"dtype\\\": \\\"float64\\\", \\\"order\\\": \\\"little\\\", \\\"shape\\\": [5]}, \\\"year\\\": [2011, 2012, 2013, 2015, 2016]}}, {\\\"attr\\\": \\\"start\\\", \\\"kind\\\": \\\"ModelChanged\\\", \\\"model\\\": {\\\"id\\\": \\\"2197\\\"}, \\\"new\\\": 1244.0}, {\\\"attr\\\": \\\"reset_start\\\", \\\"kind\\\": \\\"ModelChanged\\\", \\\"model\\\": {\\\"id\\\": \\\"2197\\\"}, \\\"new\\\": 1244.0}, {\\\"attr\\\": \\\"end\\\", \\\"kind\\\": \\\"ModelChanged\\\", \\\"model\\\": {\\\"id\\\": \\\"2197\\\"}, \\\"new\\\": 4676.0}, {\\\"attr\\\": \\\"reset_end\\\", \\\"kind\\\": \\\"ModelChanged\\\", \\\"model\\\": {\\\"id\\\": \\\"2197\\\"}, \\\"new\\\": 4676.0}, {\\\"cols\\\": null, \\\"column_source\\\": {\\\"id\\\": \\\"2229\\\"}, \\\"kind\\\": \\\"ColumnDataChanged\\\", \\\"new\\\": {\\\"gross_rent\\\": [1530, 2324, 2971, 3739, 4390], \\\"year\\\": [2011, 2012, 2013, 2015, 2016]}}, {\\\"attr\\\": \\\"text\\\", \\\"kind\\\": \\\"ModelChanged\\\", \\\"model\\\": {\\\"id\\\": \\\"2263\\\"}, \\\"new\\\": \\\"<span style=\\\\\\\"color:black;font-family:Arial;font-style:bold;font-weight:bold;font-size:12pt\\\\\\\">neighborhood: North Beach<\\\\/span>\\\"}], \\\"references\\\": []}\",\"header\":\"{\\\"msgid\\\": \\\"2741\\\", \\\"msgtype\\\": \\\"PATCH-DOC\\\"}\",\"metadata\":\"{}\"},\"North Waterfront\":{\"content\":\"{\\\"events\\\": [{\\\"attr\\\": \\\"start\\\", \\\"kind\\\": \\\"ModelChanged\\\", \\\"model\\\": {\\\"id\\\": \\\"2152\\\"}, \\\"new\\\": 2011.0}, {\\\"attr\\\": \\\"reset_start\\\", \\\"kind\\\": \\\"ModelChanged\\\", \\\"model\\\": {\\\"id\\\": \\\"2152\\\"}, \\\"new\\\": 2011.0}, {\\\"attr\\\": \\\"start\\\", \\\"kind\\\": \\\"ModelChanged\\\", \\\"model\\\": {\\\"id\\\": \\\"2153\\\"}, \\\"new\\\": 292.566316699521}, {\\\"attr\\\": \\\"reset_start\\\", \\\"kind\\\": \\\"ModelChanged\\\", \\\"model\\\": {\\\"id\\\": \\\"2153\\\"}, \\\"new\\\": 292.566316699521}, {\\\"attr\\\": \\\"end\\\", \\\"kind\\\": \\\"ModelChanged\\\", \\\"model\\\": {\\\"id\\\": \\\"2153\\\"}, \\\"new\\\": 945.3044364924947}, {\\\"attr\\\": \\\"reset_end\\\", \\\"kind\\\": \\\"ModelChanged\\\", \\\"model\\\": {\\\"id\\\": \\\"2153\\\"}, \\\"new\\\": 945.3044364924947}, {\\\"cols\\\": null, \\\"column_source\\\": {\\\"id\\\": \\\"2185\\\"}, \\\"kind\\\": \\\"ColumnDataChanged\\\", \\\"new\\\": {\\\"sale_price_sqr_foot\\\": {\\\"__ndarray__\\\": \\\"vxNT6WCvdUByVgFHJGZ4QBwxImuzMn5A+QsZSM6+d0DjisnYRteLQA==\\\", \\\"dtype\\\": \\\"float64\\\", \\\"order\\\": \\\"little\\\", \\\"shape\\\": [5]}, \\\"year\\\": [2011, 2012, 2013, 2014, 2015]}}, {\\\"attr\\\": \\\"start\\\", \\\"kind\\\": \\\"ModelChanged\\\", \\\"model\\\": {\\\"id\\\": \\\"2197\\\"}, \\\"new\\\": 1309.1}, {\\\"attr\\\": \\\"reset_start\\\", \\\"kind\\\": \\\"ModelChanged\\\", \\\"model\\\": {\\\"id\\\": \\\"2197\\\"}, \\\"new\\\": 1309.1}, {\\\"attr\\\": \\\"end\\\", \\\"kind\\\": \\\"ModelChanged\\\", \\\"model\\\": {\\\"id\\\": \\\"2197\\\"}, \\\"new\\\": 3959.9}, {\\\"attr\\\": \\\"reset_end\\\", \\\"kind\\\": \\\"ModelChanged\\\", \\\"model\\\": {\\\"id\\\": \\\"2197\\\"}, \\\"new\\\": 3959.9}, {\\\"cols\\\": null, \\\"column_source\\\": {\\\"id\\\": \\\"2229\\\"}, \\\"kind\\\": \\\"ColumnDataChanged\\\", \\\"new\\\": {\\\"gross_rent\\\": [1530, 2324, 2971, 3528, 3739], \\\"year\\\": [2011, 2012, 2013, 2014, 2015]}}, {\\\"attr\\\": \\\"text\\\", \\\"kind\\\": \\\"ModelChanged\\\", \\\"model\\\": {\\\"id\\\": \\\"2263\\\"}, \\\"new\\\": \\\"<span style=\\\\\\\"color:black;font-family:Arial;font-style:bold;font-weight:bold;font-size:12pt\\\\\\\">neighborhood: North Waterfront<\\\\/span>\\\"}], \\\"references\\\": []}\",\"header\":\"{\\\"msgid\\\": \\\"2732\\\", \\\"msgtype\\\": \\\"PATCH-DOC\\\"}\",\"metadata\":\"{}\"},\"Oceanview\":{\"content\":\"{\\\"events\\\": [{\\\"attr\\\": \\\"start\\\", \\\"kind\\\": \\\"ModelChanged\\\", \\\"model\\\": {\\\"id\\\": \\\"2152\\\"}, \\\"new\\\": 2010.0}, {\\\"attr\\\": \\\"reset_start\\\", \\\"kind\\\": \\\"ModelChanged\\\", \\\"model\\\": {\\\"id\\\": \\\"2152\\\"}, \\\"new\\\": 2010.0}, {\\\"attr\\\": \\\"end\\\", \\\"kind\\\": \\\"ModelChanged\\\", \\\"model\\\": {\\\"id\\\": \\\"2152\\\"}, \\\"new\\\": 2015.0}, {\\\"attr\\\": \\\"reset_end\\\", \\\"kind\\\": \\\"ModelChanged\\\", \\\"model\\\": {\\\"id\\\": \\\"2152\\\"}, \\\"new\\\": 2015.0}, {\\\"attr\\\": \\\"start\\\", \\\"kind\\\": \\\"ModelChanged\\\", \\\"model\\\": {\\\"id\\\": \\\"2153\\\"}, \\\"new\\\": 248.2985434574814}, {\\\"attr\\\": \\\"reset_start\\\", \\\"kind\\\": \\\"ModelChanged\\\", \\\"model\\\": {\\\"id\\\": \\\"2153\\\"}, \\\"new\\\": 248.2985434574814}, {\\\"attr\\\": \\\"end\\\", \\\"kind\\\": \\\"ModelChanged\\\", \\\"model\\\": {\\\"id\\\": \\\"2153\\\"}, \\\"new\\\": 459.8739400069461}, {\\\"attr\\\": \\\"reset_end\\\", \\\"kind\\\": \\\"ModelChanged\\\", \\\"model\\\": {\\\"id\\\": \\\"2153\\\"}, \\\"new\\\": 459.8739400069461}, {\\\"cols\\\": null, \\\"column_source\\\": {\\\"id\\\": \\\"2185\\\"}, \\\"kind\\\": \\\"ColumnDataChanged\\\", \\\"new\\\": {\\\"sale_price_sqr_foot\\\": {\\\"__ndarray__\\\": \\\"jJidK+qhcUAVBUTs4aN7QP1nwZHgnnBA\\\", \\\"dtype\\\": \\\"float64\\\", \\\"order\\\": \\\"little\\\", \\\"shape\\\": [3]}, \\\"year\\\": [2010, 2012, 2015]}}, {\\\"attr\\\": \\\"start\\\", \\\"kind\\\": \\\"ModelChanged\\\", \\\"model\\\": {\\\"id\\\": \\\"2197\\\"}, \\\"new\\\": 989.0}, {\\\"attr\\\": \\\"reset_start\\\", \\\"kind\\\": \\\"ModelChanged\\\", \\\"model\\\": {\\\"id\\\": \\\"2197\\\"}, \\\"new\\\": 989.0}, {\\\"attr\\\": \\\"end\\\", \\\"kind\\\": \\\"ModelChanged\\\", \\\"model\\\": {\\\"id\\\": \\\"2197\\\"}, \\\"new\\\": 3989.0}, {\\\"attr\\\": \\\"reset_end\\\", \\\"kind\\\": \\\"ModelChanged\\\", \\\"model\\\": {\\\"id\\\": \\\"2197\\\"}, \\\"new\\\": 3989.0}, {\\\"cols\\\": null, \\\"column_source\\\": {\\\"id\\\": \\\"2229\\\"}, \\\"kind\\\": \\\"ColumnDataChanged\\\", \\\"new\\\": {\\\"gross_rent\\\": [1239, 2324, 3739], \\\"year\\\": [2010, 2012, 2015]}}, {\\\"attr\\\": \\\"text\\\", \\\"kind\\\": \\\"ModelChanged\\\", \\\"model\\\": {\\\"id\\\": \\\"2263\\\"}, \\\"new\\\": \\\"<span style=\\\\\\\"color:black;font-family:Arial;font-style:bold;font-weight:bold;font-size:12pt\\\\\\\">neighborhood: Oceanview<\\\\/span>\\\"}], \\\"references\\\": []}\",\"header\":\"{\\\"msgid\\\": \\\"2723\\\", \\\"msgtype\\\": \\\"PATCH-DOC\\\"}\",\"metadata\":\"{}\"},\"Outer Mission\":{\"content\":\"{\\\"events\\\": [{\\\"attr\\\": \\\"start\\\", \\\"kind\\\": \\\"ModelChanged\\\", \\\"model\\\": {\\\"id\\\": \\\"2152\\\"}, \\\"new\\\": 2011.0}, {\\\"attr\\\": \\\"reset_start\\\", \\\"kind\\\": \\\"ModelChanged\\\", \\\"model\\\": {\\\"id\\\": \\\"2152\\\"}, \\\"new\\\": 2011.0}, {\\\"attr\\\": \\\"start\\\", \\\"kind\\\": \\\"ModelChanged\\\", \\\"model\\\": {\\\"id\\\": \\\"2153\\\"}, \\\"new\\\": -11.618859759594542}, {\\\"attr\\\": \\\"reset_start\\\", \\\"kind\\\": \\\"ModelChanged\\\", \\\"model\\\": {\\\"id\\\": \\\"2153\\\"}, \\\"new\\\": -11.618859759594542}, {\\\"attr\\\": \\\"end\\\", \\\"kind\\\": \\\"ModelChanged\\\", \\\"model\\\": {\\\"id\\\": \\\"2153\\\"}, \\\"new\\\": 617.0789615776667}, {\\\"attr\\\": \\\"reset_end\\\", \\\"kind\\\": \\\"ModelChanged\\\", \\\"model\\\": {\\\"id\\\": \\\"2153\\\"}, \\\"new\\\": 617.0789615776667}, {\\\"cols\\\": null, \\\"column_source\\\": {\\\"id\\\": \\\"2185\\\"}, \\\"kind\\\": \\\"ColumnDataChanged\\\", \\\"new\\\": {\\\"sale_price_sqr_foot\\\": {\\\"__ndarray__\\\": \\\"VAHB6Y/EYUDRheJJMrxrQMNZqfN/pYFAch01Y+ViREA=\\\", \\\"dtype\\\": \\\"float64\\\", \\\"order\\\": \\\"little\\\", \\\"shape\\\": [4]}, \\\"year\\\": [2011, 2012, 2015, 2016]}}, {\\\"attr\\\": \\\"start\\\", \\\"kind\\\": \\\"ModelChanged\\\", \\\"model\\\": {\\\"id\\\": \\\"2197\\\"}, \\\"new\\\": 1244.0}, {\\\"attr\\\": \\\"reset_start\\\", \\\"kind\\\": \\\"ModelChanged\\\", \\\"model\\\": {\\\"id\\\": \\\"2197\\\"}, \\\"new\\\": 1244.0}, {\\\"attr\\\": \\\"end\\\", \\\"kind\\\": \\\"ModelChanged\\\", \\\"model\\\": {\\\"id\\\": \\\"2197\\\"}, \\\"new\\\": 4676.0}, {\\\"attr\\\": \\\"reset_end\\\", \\\"kind\\\": \\\"ModelChanged\\\", \\\"model\\\": {\\\"id\\\": \\\"2197\\\"}, \\\"new\\\": 4676.0}, {\\\"cols\\\": null, \\\"column_source\\\": {\\\"id\\\": \\\"2229\\\"}, \\\"kind\\\": \\\"ColumnDataChanged\\\", \\\"new\\\": {\\\"gross_rent\\\": [1530, 2324, 3739, 4390], \\\"year\\\": [2011, 2012, 2015, 2016]}}, {\\\"attr\\\": \\\"text\\\", \\\"kind\\\": \\\"ModelChanged\\\", \\\"model\\\": {\\\"id\\\": \\\"2263\\\"}, \\\"new\\\": \\\"<span style=\\\\\\\"color:black;font-family:Arial;font-style:bold;font-weight:bold;font-size:12pt\\\\\\\">neighborhood: Outer Mission<\\\\/span>\\\"}], \\\"references\\\": []}\",\"header\":\"{\\\"msgid\\\": \\\"2714\\\", \\\"msgtype\\\": \\\"PATCH-DOC\\\"}\",\"metadata\":\"{}\"},\"Outer Parkside\":{\"content\":\"{\\\"events\\\": [{\\\"attr\\\": \\\"start\\\", \\\"kind\\\": \\\"ModelChanged\\\", \\\"model\\\": {\\\"id\\\": \\\"2153\\\"}, \\\"new\\\": 192.8681537267593}, {\\\"attr\\\": \\\"reset_start\\\", \\\"kind\\\": \\\"ModelChanged\\\", \\\"model\\\": {\\\"id\\\": \\\"2153\\\"}, \\\"new\\\": 192.8681537267593}, {\\\"attr\\\": \\\"end\\\", \\\"kind\\\": \\\"ModelChanged\\\", \\\"model\\\": {\\\"id\\\": \\\"2153\\\"}, \\\"new\\\": 781.7981869074372}, {\\\"attr\\\": \\\"reset_end\\\", \\\"kind\\\": \\\"ModelChanged\\\", \\\"model\\\": {\\\"id\\\": \\\"2153\\\"}, \\\"new\\\": 781.7981869074372}, {\\\"cols\\\": null, \\\"column_source\\\": {\\\"id\\\": \\\"2185\\\"}, \\\"kind\\\": \\\"ColumnDataChanged\\\", \\\"new\\\": {\\\"sale_price_sqr_foot\\\": {\\\"__ndarray__\\\": \\\"nUKf6h8De0AqM2fRQj5uQH6d/P9XjXNAQqfjLN9Dd0DfE9xHtVeEQIwwtcJNYoRAKzIM9sPlhkA=\\\", \\\"dtype\\\": \\\"float64\\\", \\\"order\\\": \\\"little\\\", \\\"shape\\\": [7]}, \\\"year\\\": [2010, 2011, 2012, 2013, 2014, 2015, 2016]}}, {\\\"cols\\\": null, \\\"column_source\\\": {\\\"id\\\": \\\"2229\\\"}, \\\"kind\\\": \\\"ColumnDataChanged\\\", \\\"new\\\": {\\\"gross_rent\\\": [1239, 1530, 2324, 2971, 3528, 3739, 4390], \\\"year\\\": [2010, 2011, 2012, 2013, 2014, 2015, 2016]}}, {\\\"attr\\\": \\\"text\\\", \\\"kind\\\": \\\"ModelChanged\\\", \\\"model\\\": {\\\"id\\\": \\\"2263\\\"}, \\\"new\\\": \\\"<span style=\\\\\\\"color:black;font-family:Arial;font-style:bold;font-weight:bold;font-size:12pt\\\\\\\">neighborhood: Outer Parkside<\\\\/span>\\\"}], \\\"references\\\": []}\",\"header\":\"{\\\"msgid\\\": \\\"2705\\\", \\\"msgtype\\\": \\\"PATCH-DOC\\\"}\",\"metadata\":\"{}\"},\"Outer Richmond \":{\"content\":\"{\\\"events\\\": [{\\\"attr\\\": \\\"start\\\", \\\"kind\\\": \\\"ModelChanged\\\", \\\"model\\\": {\\\"id\\\": \\\"2153\\\"}, \\\"new\\\": 178.53460983386742}, {\\\"attr\\\": \\\"reset_start\\\", \\\"kind\\\": \\\"ModelChanged\\\", \\\"model\\\": {\\\"id\\\": \\\"2153\\\"}, \\\"new\\\": 178.53460983386742}, {\\\"attr\\\": \\\"end\\\", \\\"kind\\\": \\\"ModelChanged\\\", \\\"model\\\": {\\\"id\\\": \\\"2153\\\"}, \\\"new\\\": 1289.2009666593892}, {\\\"attr\\\": \\\"reset_end\\\", \\\"kind\\\": \\\"ModelChanged\\\", \\\"model\\\": {\\\"id\\\": \\\"2153\\\"}, \\\"new\\\": 1289.2009666593892}, {\\\"cols\\\": null, \\\"column_source\\\": {\\\"id\\\": \\\"2185\\\"}, \\\"kind\\\": \\\"ColumnDataChanged\\\", \\\"new\\\": {\\\"sale_price_sqr_foot\\\": {\\\"__ndarray__\\\": \\\"B35J6gQidUBmZTA2cfFwQKF06NAgKnVARYFoaYbGdECvXdvZ9R55QL5PqQ58Z3tAoL9q7ZSykkA=\\\", \\\"dtype\\\": \\\"float64\\\", \\\"order\\\": \\\"little\\\", \\\"shape\\\": [7]}, \\\"year\\\": [2010, 2011, 2012, 2013, 2014, 2015, 2016]}}, {\\\"cols\\\": null, \\\"column_source\\\": {\\\"id\\\": \\\"2229\\\"}, \\\"kind\\\": \\\"ColumnDataChanged\\\", \\\"new\\\": {\\\"gross_rent\\\": [1239, 1530, 2324, 2971, 3528, 3739, 4390], \\\"year\\\": [2010, 2011, 2012, 2013, 2014, 2015, 2016]}}, {\\\"attr\\\": \\\"text\\\", \\\"kind\\\": \\\"ModelChanged\\\", \\\"model\\\": {\\\"id\\\": \\\"2263\\\"}, \\\"new\\\": \\\"<span style=\\\\\\\"color:black;font-family:Arial;font-style:bold;font-weight:bold;font-size:12pt\\\\\\\">neighborhood: Outer Richmond<\\\\/span>\\\"}], \\\"references\\\": []}\",\"header\":\"{\\\"msgid\\\": \\\"2696\\\", \\\"msgtype\\\": \\\"PATCH-DOC\\\"}\",\"metadata\":\"{}\"},\"Outer Sunset\":{\"content\":\"{\\\"events\\\": [{\\\"attr\\\": \\\"start\\\", \\\"kind\\\": \\\"ModelChanged\\\", \\\"model\\\": {\\\"id\\\": \\\"2153\\\"}, \\\"new\\\": 275.9124229091034}, {\\\"attr\\\": \\\"reset_start\\\", \\\"kind\\\": \\\"ModelChanged\\\", \\\"model\\\": {\\\"id\\\": \\\"2153\\\"}, \\\"new\\\": 275.9124229091034}, {\\\"attr\\\": \\\"end\\\", \\\"kind\\\": \\\"ModelChanged\\\", \\\"model\\\": {\\\"id\\\": \\\"2153\\\"}, \\\"new\\\": 531.9100421512223}, {\\\"attr\\\": \\\"reset_end\\\", \\\"kind\\\": \\\"ModelChanged\\\", \\\"model\\\": {\\\"id\\\": \\\"2153\\\"}, \\\"new\\\": 531.9100421512223}, {\\\"cols\\\": null, \\\"column_source\\\": {\\\"id\\\": \\\"2185\\\"}, \\\"kind\\\": \\\"ColumnDataChanged\\\", \\\"new\\\": {\\\"sale_price_sqr_foot\\\": {\\\"__ndarray__\\\": \\\"vsH9HfwEd0DfWRDO7ZNyQGMEtIPw0HlAduAUwFAhdECKxEQ80aV+QFgk0ahQXnZAWykPAzvpf0A=\\\", \\\"dtype\\\": \\\"float64\\\", \\\"order\\\": \\\"little\\\", \\\"shape\\\": [7]}, \\\"year\\\": [2010, 2011, 2012, 2013, 2014, 2015, 2016]}}, {\\\"cols\\\": null, \\\"column_source\\\": {\\\"id\\\": \\\"2229\\\"}, \\\"kind\\\": \\\"ColumnDataChanged\\\", \\\"new\\\": {\\\"gross_rent\\\": [1239, 1530, 2324, 2971, 3528, 3739, 4390], \\\"year\\\": [2010, 2011, 2012, 2013, 2014, 2015, 2016]}}, {\\\"attr\\\": \\\"text\\\", \\\"kind\\\": \\\"ModelChanged\\\", \\\"model\\\": {\\\"id\\\": \\\"2263\\\"}, \\\"new\\\": \\\"<span style=\\\\\\\"color:black;font-family:Arial;font-style:bold;font-weight:bold;font-size:12pt\\\\\\\">neighborhood: Outer Sunset<\\\\/span>\\\"}], \\\"references\\\": []}\",\"header\":\"{\\\"msgid\\\": \\\"2687\\\", \\\"msgtype\\\": \\\"PATCH-DOC\\\"}\",\"metadata\":\"{}\"},\"Pacific Heights\":{\"content\":\"{\\\"events\\\": [{\\\"attr\\\": \\\"start\\\", \\\"kind\\\": \\\"ModelChanged\\\", \\\"model\\\": {\\\"id\\\": \\\"2153\\\"}, \\\"new\\\": 446.52867920530446}, {\\\"attr\\\": \\\"reset_start\\\", \\\"kind\\\": \\\"ModelChanged\\\", \\\"model\\\": {\\\"id\\\": \\\"2153\\\"}, \\\"new\\\": 446.52867920530446}, {\\\"attr\\\": \\\"end\\\", \\\"kind\\\": \\\"ModelChanged\\\", \\\"model\\\": {\\\"id\\\": \\\"2153\\\"}, \\\"new\\\": 1046.3766985050486}, {\\\"attr\\\": \\\"reset_end\\\", \\\"kind\\\": \\\"ModelChanged\\\", \\\"model\\\": {\\\"id\\\": \\\"2153\\\"}, \\\"new\\\": 1046.3766985050486}, {\\\"cols\\\": null, \\\"column_source\\\": {\\\"id\\\": \\\"2185\\\"}, \\\"kind\\\": \\\"ColumnDataChanged\\\", \\\"new\\\": {\\\"sale_price_sqr_foot\\\": {\\\"__ndarray__\\\": \\\"xNYMmEEIf0BGT3H7V9B/QLX7Z+e+UYJANTLZX2N+f0DaISsBRcWJQFibs2OAcYxAktikah0jj0A=\\\", \\\"dtype\\\": \\\"float64\\\", \\\"order\\\": \\\"little\\\", \\\"shape\\\": [7]}, \\\"year\\\": [2010, 2011, 2012, 2013, 2014, 2015, 2016]}}, {\\\"cols\\\": null, \\\"column_source\\\": {\\\"id\\\": \\\"2229\\\"}, \\\"kind\\\": \\\"ColumnDataChanged\\\", \\\"new\\\": {\\\"gross_rent\\\": [1239, 1530, 2324, 2971, 3528, 3739, 4390], \\\"year\\\": [2010, 2011, 2012, 2013, 2014, 2015, 2016]}}, {\\\"attr\\\": \\\"text\\\", \\\"kind\\\": \\\"ModelChanged\\\", \\\"model\\\": {\\\"id\\\": \\\"2263\\\"}, \\\"new\\\": \\\"<span style=\\\\\\\"color:black;font-family:Arial;font-style:bold;font-weight:bold;font-size:12pt\\\\\\\">neighborhood: Pacific Heights<\\\\/span>\\\"}], \\\"references\\\": []}\",\"header\":\"{\\\"msgid\\\": \\\"2678\\\", \\\"msgtype\\\": \\\"PATCH-DOC\\\"}\",\"metadata\":\"{}\"},\"Park North\":{\"content\":\"{\\\"events\\\": [{\\\"attr\\\": \\\"end\\\", \\\"kind\\\": \\\"ModelChanged\\\", \\\"model\\\": {\\\"id\\\": \\\"2152\\\"}, \\\"new\\\": 2016.0}, {\\\"attr\\\": \\\"reset_end\\\", \\\"kind\\\": \\\"ModelChanged\\\", \\\"model\\\": {\\\"id\\\": \\\"2152\\\"}, \\\"new\\\": 2016.0}, {\\\"attr\\\": \\\"start\\\", \\\"kind\\\": \\\"ModelChanged\\\", \\\"model\\\": {\\\"id\\\": \\\"2153\\\"}, \\\"new\\\": 170.7742680143736}, {\\\"attr\\\": \\\"reset_start\\\", \\\"kind\\\": \\\"ModelChanged\\\", \\\"model\\\": {\\\"id\\\": \\\"2153\\\"}, \\\"new\\\": 170.7742680143736}, {\\\"attr\\\": \\\"end\\\", \\\"kind\\\": \\\"ModelChanged\\\", \\\"model\\\": {\\\"id\\\": \\\"2153\\\"}, \\\"new\\\": 657.0994901626783}, {\\\"attr\\\": \\\"reset_end\\\", \\\"kind\\\": \\\"ModelChanged\\\", \\\"model\\\": {\\\"id\\\": \\\"2153\\\"}, \\\"new\\\": 657.0994901626783}, {\\\"cols\\\": null, \\\"column_source\\\": {\\\"id\\\": \\\"2185\\\"}, \\\"kind\\\": \\\"ColumnDataChanged\\\", \\\"new\\\": {\\\"sale_price_sqr_foot\\\": {\\\"__ndarray__\\\": \\\"PTKCP0ZgdECglLmJsBlyQAQj45xBAXJAHcH4twsFgEB6Pk21yT53QIxwU0CURINAbp9n0qRpakA=\\\", \\\"dtype\\\": \\\"float64\\\", \\\"order\\\": \\\"little\\\", \\\"shape\\\": [7]}, \\\"year\\\": [2010, 2011, 2012, 2013, 2014, 2015, 2016]}}, {\\\"attr\\\": \\\"start\\\", \\\"kind\\\": \\\"ModelChanged\\\", \\\"model\\\": {\\\"id\\\": \\\"2197\\\"}, \\\"new\\\": 923.9}, {\\\"attr\\\": \\\"reset_start\\\", \\\"kind\\\": \\\"ModelChanged\\\", \\\"model\\\": {\\\"id\\\": \\\"2197\\\"}, \\\"new\\\": 923.9}, {\\\"attr\\\": \\\"end\\\", \\\"kind\\\": \\\"ModelChanged\\\", \\\"model\\\": {\\\"id\\\": \\\"2197\\\"}, \\\"new\\\": 4705.1}, {\\\"attr\\\": \\\"reset_end\\\", \\\"kind\\\": \\\"ModelChanged\\\", \\\"model\\\": {\\\"id\\\": \\\"2197\\\"}, \\\"new\\\": 4705.1}, {\\\"cols\\\": null, \\\"column_source\\\": {\\\"id\\\": \\\"2229\\\"}, \\\"kind\\\": \\\"ColumnDataChanged\\\", \\\"new\\\": {\\\"gross_rent\\\": [1239, 1530, 2324, 2971, 3528, 3739, 4390], \\\"year\\\": [2010, 2011, 2012, 2013, 2014, 2015, 2016]}}, {\\\"attr\\\": \\\"text\\\", \\\"kind\\\": \\\"ModelChanged\\\", \\\"model\\\": {\\\"id\\\": \\\"2263\\\"}, \\\"new\\\": \\\"<span style=\\\\\\\"color:black;font-family:Arial;font-style:bold;font-weight:bold;font-size:12pt\\\\\\\">neighborhood: Park North<\\\\/span>\\\"}], \\\"references\\\": []}\",\"header\":\"{\\\"msgid\\\": \\\"2669\\\", \\\"msgtype\\\": \\\"PATCH-DOC\\\"}\",\"metadata\":\"{}\"},\"Parkside\":{\"content\":\"{\\\"events\\\": [{\\\"attr\\\": \\\"end\\\", \\\"kind\\\": \\\"ModelChanged\\\", \\\"model\\\": {\\\"id\\\": \\\"2152\\\"}, \\\"new\\\": 2015.0}, {\\\"attr\\\": \\\"reset_end\\\", \\\"kind\\\": \\\"ModelChanged\\\", \\\"model\\\": {\\\"id\\\": \\\"2152\\\"}, \\\"new\\\": 2015.0}, {\\\"attr\\\": \\\"start\\\", \\\"kind\\\": \\\"ModelChanged\\\", \\\"model\\\": {\\\"id\\\": \\\"2153\\\"}, \\\"new\\\": 194.69074100076128}, {\\\"attr\\\": \\\"reset_start\\\", \\\"kind\\\": \\\"ModelChanged\\\", \\\"model\\\": {\\\"id\\\": \\\"2153\\\"}, \\\"new\\\": 194.69074100076128}, {\\\"attr\\\": \\\"end\\\", \\\"kind\\\": \\\"ModelChanged\\\", \\\"model\\\": {\\\"id\\\": \\\"2153\\\"}, \\\"new\\\": 469.1072911349746}, {\\\"attr\\\": \\\"reset_end\\\", \\\"kind\\\": \\\"ModelChanged\\\", \\\"model\\\": {\\\"id\\\": \\\"2153\\\"}, \\\"new\\\": 469.1072911349746}, {\\\"cols\\\": null, \\\"column_source\\\": {\\\"id\\\": \\\"2185\\\"}, \\\"kind\\\": \\\"ColumnDataChanged\\\", \\\"new\\\": {\\\"sale_price_sqr_foot\\\": {\\\"__ndarray__\\\": \\\"jNs5+aoicUATPfOU4TFrQAWYW85hpHdAiGIrlP7JdkC/o97y0+N7QAAAAAAAAPh/\\\", \\\"dtype\\\": \\\"float64\\\", \\\"order\\\": \\\"little\\\", \\\"shape\\\": [6]}, \\\"year\\\": [2010, 2011, 2012, 2013, 2014, 2015]}}, {\\\"attr\\\": \\\"start\\\", \\\"kind\\\": \\\"ModelChanged\\\", \\\"model\\\": {\\\"id\\\": \\\"2197\\\"}, \\\"new\\\": 989.0}, {\\\"attr\\\": \\\"reset_start\\\", \\\"kind\\\": \\\"ModelChanged\\\", \\\"model\\\": {\\\"id\\\": \\\"2197\\\"}, \\\"new\\\": 989.0}, {\\\"attr\\\": \\\"end\\\", \\\"kind\\\": \\\"ModelChanged\\\", \\\"model\\\": {\\\"id\\\": \\\"2197\\\"}, \\\"new\\\": 3989.0}, {\\\"attr\\\": \\\"reset_end\\\", \\\"kind\\\": \\\"ModelChanged\\\", \\\"model\\\": {\\\"id\\\": \\\"2197\\\"}, \\\"new\\\": 3989.0}, {\\\"cols\\\": null, \\\"column_source\\\": {\\\"id\\\": \\\"2229\\\"}, \\\"kind\\\": \\\"ColumnDataChanged\\\", \\\"new\\\": {\\\"gross_rent\\\": [1239, 1530, 2324, 2971, 3528, 3739], \\\"year\\\": [2010, 2011, 2012, 2013, 2014, 2015]}}, {\\\"attr\\\": \\\"text\\\", \\\"kind\\\": \\\"ModelChanged\\\", \\\"model\\\": {\\\"id\\\": \\\"2263\\\"}, \\\"new\\\": \\\"<span style=\\\\\\\"color:black;font-family:Arial;font-style:bold;font-weight:bold;font-size:12pt\\\\\\\">neighborhood: Parkside<\\\\/span>\\\"}], \\\"references\\\": []}\",\"header\":\"{\\\"msgid\\\": \\\"2660\\\", \\\"msgtype\\\": \\\"PATCH-DOC\\\"}\",\"metadata\":\"{}\"},\"Parnassus/Ashbury Heights\":{\"content\":\"{\\\"events\\\": [{\\\"attr\\\": \\\"end\\\", \\\"kind\\\": \\\"ModelChanged\\\", \\\"model\\\": {\\\"id\\\": \\\"2152\\\"}, \\\"new\\\": 2016.0}, {\\\"attr\\\": \\\"reset_end\\\", \\\"kind\\\": \\\"ModelChanged\\\", \\\"model\\\": {\\\"id\\\": \\\"2152\\\"}, \\\"new\\\": 2016.0}, {\\\"attr\\\": \\\"start\\\", \\\"kind\\\": \\\"ModelChanged\\\", \\\"model\\\": {\\\"id\\\": \\\"2153\\\"}, \\\"new\\\": 347.4067323930735}, {\\\"attr\\\": \\\"reset_start\\\", \\\"kind\\\": \\\"ModelChanged\\\", \\\"model\\\": {\\\"id\\\": \\\"2153\\\"}, \\\"new\\\": 347.4067323930735}, {\\\"attr\\\": \\\"end\\\", \\\"kind\\\": \\\"ModelChanged\\\", \\\"model\\\": {\\\"id\\\": \\\"2153\\\"}, \\\"new\\\": 1286.233007645905}, {\\\"attr\\\": \\\"reset_end\\\", \\\"kind\\\": \\\"ModelChanged\\\", \\\"model\\\": {\\\"id\\\": \\\"2153\\\"}, \\\"new\\\": 1286.233007645905}, {\\\"cols\\\": null, \\\"column_source\\\": {\\\"id\\\": \\\"2185\\\"}, \\\"kind\\\": \\\"ColumnDataChanged\\\", \\\"new\\\": {\\\"sale_price_sqr_foot\\\": {\\\"__ndarray__\\\": \\\"g4gEfxQke0DyEqbo4il9QIwLoVteH4BAIpiGrUaaekD6hZfDPyuIQI7cJCG/6oJAYp+hbP3fkkA=\\\", \\\"dtype\\\": \\\"float64\\\", \\\"order\\\": \\\"little\\\", \\\"shape\\\": [7]}, \\\"year\\\": [2010, 2011, 2012, 2013, 2014, 2015, 2016]}}, {\\\"attr\\\": \\\"start\\\", \\\"kind\\\": \\\"ModelChanged\\\", \\\"model\\\": {\\\"id\\\": \\\"2197\\\"}, \\\"new\\\": 923.9}, {\\\"attr\\\": \\\"reset_start\\\", \\\"kind\\\": \\\"ModelChanged\\\", \\\"model\\\": {\\\"id\\\": \\\"2197\\\"}, \\\"new\\\": 923.9}, {\\\"attr\\\": \\\"end\\\", \\\"kind\\\": \\\"ModelChanged\\\", \\\"model\\\": {\\\"id\\\": \\\"2197\\\"}, \\\"new\\\": 4705.1}, {\\\"attr\\\": \\\"reset_end\\\", \\\"kind\\\": \\\"ModelChanged\\\", \\\"model\\\": {\\\"id\\\": \\\"2197\\\"}, \\\"new\\\": 4705.1}, {\\\"cols\\\": null, \\\"column_source\\\": {\\\"id\\\": \\\"2229\\\"}, \\\"kind\\\": \\\"ColumnDataChanged\\\", \\\"new\\\": {\\\"gross_rent\\\": [1239, 1530, 2324, 2971, 3528, 3739, 4390], \\\"year\\\": [2010, 2011, 2012, 2013, 2014, 2015, 2016]}}, {\\\"attr\\\": \\\"text\\\", \\\"kind\\\": \\\"ModelChanged\\\", \\\"model\\\": {\\\"id\\\": \\\"2263\\\"}, \\\"new\\\": \\\"<span style=\\\\\\\"color:black;font-family:Arial;font-style:bold;font-weight:bold;font-size:12pt\\\\\\\">neighborhood: Parnassus/Ashbury Heights<\\\\/span>\\\"}], \\\"references\\\": []}\",\"header\":\"{\\\"msgid\\\": \\\"2651\\\", \\\"msgtype\\\": \\\"PATCH-DOC\\\"}\",\"metadata\":\"{}\"},\"Portola\":{\"content\":\"{\\\"events\\\": [{\\\"attr\\\": \\\"end\\\", \\\"kind\\\": \\\"ModelChanged\\\", \\\"model\\\": {\\\"id\\\": \\\"2152\\\"}, \\\"new\\\": 2014.0}, {\\\"attr\\\": \\\"reset_end\\\", \\\"kind\\\": \\\"ModelChanged\\\", \\\"model\\\": {\\\"id\\\": \\\"2152\\\"}, \\\"new\\\": 2014.0}, {\\\"attr\\\": \\\"start\\\", \\\"kind\\\": \\\"ModelChanged\\\", \\\"model\\\": {\\\"id\\\": \\\"2153\\\"}, \\\"new\\\": 175.16432656549597}, {\\\"attr\\\": \\\"reset_start\\\", \\\"kind\\\": \\\"ModelChanged\\\", \\\"model\\\": {\\\"id\\\": \\\"2153\\\"}, \\\"new\\\": 175.16432656549597}, {\\\"attr\\\": \\\"end\\\", \\\"kind\\\": \\\"ModelChanged\\\", \\\"model\\\": {\\\"id\\\": \\\"2153\\\"}, \\\"new\\\": 571.2083687601738}, {\\\"attr\\\": \\\"reset_end\\\", \\\"kind\\\": \\\"ModelChanged\\\", \\\"model\\\": {\\\"id\\\": \\\"2153\\\"}, \\\"new\\\": 571.2083687601738}, {\\\"cols\\\": null, \\\"column_source\\\": {\\\"id\\\": \\\"2185\\\"}, \\\"kind\\\": \\\"ColumnDataChanged\\\", \\\"new\\\": {\\\"sale_price_sqr_foot\\\": {\\\"__ndarray__\\\": \\\"SE2NcH/ickDYhLc6YAVqQMhgbA2x8HVArI0kR+x/bUDI9wE5o9GAQA==\\\", \\\"dtype\\\": \\\"float64\\\", \\\"order\\\": \\\"little\\\", \\\"shape\\\": [5]}, \\\"year\\\": [2010, 2011, 2012, 2013, 2014]}}, {\\\"attr\\\": \\\"start\\\", \\\"kind\\\": \\\"ModelChanged\\\", \\\"model\\\": {\\\"id\\\": \\\"2197\\\"}, \\\"new\\\": 1010.1}, {\\\"attr\\\": \\\"reset_start\\\", \\\"kind\\\": \\\"ModelChanged\\\", \\\"model\\\": {\\\"id\\\": \\\"2197\\\"}, \\\"new\\\": 1010.1}, {\\\"attr\\\": \\\"end\\\", \\\"kind\\\": \\\"ModelChanged\\\", \\\"model\\\": {\\\"id\\\": \\\"2197\\\"}, \\\"new\\\": 3756.9}, {\\\"attr\\\": \\\"reset_end\\\", \\\"kind\\\": \\\"ModelChanged\\\", \\\"model\\\": {\\\"id\\\": \\\"2197\\\"}, \\\"new\\\": 3756.9}, {\\\"cols\\\": null, \\\"column_source\\\": {\\\"id\\\": \\\"2229\\\"}, \\\"kind\\\": \\\"ColumnDataChanged\\\", \\\"new\\\": {\\\"gross_rent\\\": [1239, 1530, 2324, 2971, 3528], \\\"year\\\": [2010, 2011, 2012, 2013, 2014]}}, {\\\"attr\\\": \\\"text\\\", \\\"kind\\\": \\\"ModelChanged\\\", \\\"model\\\": {\\\"id\\\": \\\"2263\\\"}, \\\"new\\\": \\\"<span style=\\\\\\\"color:black;font-family:Arial;font-style:bold;font-weight:bold;font-size:12pt\\\\\\\">neighborhood: Portola<\\\\/span>\\\"}], \\\"references\\\": []}\",\"header\":\"{\\\"msgid\\\": \\\"2642\\\", \\\"msgtype\\\": \\\"PATCH-DOC\\\"}\",\"metadata\":\"{}\"},\"Potrero Hill\":{\"content\":\"{\\\"events\\\": [{\\\"attr\\\": \\\"start\\\", \\\"kind\\\": \\\"ModelChanged\\\", \\\"model\\\": {\\\"id\\\": \\\"2153\\\"}, \\\"new\\\": 408.7924696461623}, {\\\"attr\\\": \\\"reset_start\\\", \\\"kind\\\": \\\"ModelChanged\\\", \\\"model\\\": {\\\"id\\\": \\\"2153\\\"}, \\\"new\\\": 408.7924696461623}, {\\\"attr\\\": \\\"end\\\", \\\"kind\\\": \\\"ModelChanged\\\", \\\"model\\\": {\\\"id\\\": \\\"2153\\\"}, \\\"new\\\": 1103.056916492821}, {\\\"attr\\\": \\\"reset_end\\\", \\\"kind\\\": \\\"ModelChanged\\\", \\\"model\\\": {\\\"id\\\": \\\"2153\\\"}, \\\"new\\\": 1103.056916492821}, {\\\"cols\\\": null, \\\"column_source\\\": {\\\"id\\\": \\\"2185\\\"}, \\\"kind\\\": \\\"ColumnDataChanged\\\", \\\"new\\\": {\\\"sale_price_sqr_foot\\\": {\\\"__ndarray__\\\": \\\"h38+NzO3fkC1zY5QN3J/QFj9s41dKn1AlMC7a6O1gkAa4w1izlSQQF3nsW1oqolAxoQBfzYdhkA=\\\", \\\"dtype\\\": \\\"float64\\\", \\\"order\\\": \\\"little\\\", \\\"shape\\\": [7]}, \\\"year\\\": [2010, 2011, 2012, 2013, 2014, 2015, 2016]}}, {\\\"cols\\\": null, \\\"column_source\\\": {\\\"id\\\": \\\"2229\\\"}, \\\"kind\\\": \\\"ColumnDataChanged\\\", \\\"new\\\": {\\\"gross_rent\\\": [1239, 1530, 2324, 2971, 3528, 3739, 4390], \\\"year\\\": [2010, 2011, 2012, 2013, 2014, 2015, 2016]}}, {\\\"attr\\\": \\\"text\\\", \\\"kind\\\": \\\"ModelChanged\\\", \\\"model\\\": {\\\"id\\\": \\\"2263\\\"}, \\\"new\\\": \\\"<span style=\\\\\\\"color:black;font-family:Arial;font-style:bold;font-weight:bold;font-size:12pt\\\\\\\">neighborhood: Potrero Hill<\\\\/span>\\\"}], \\\"references\\\": []}\",\"header\":\"{\\\"msgid\\\": \\\"2633\\\", \\\"msgtype\\\": \\\"PATCH-DOC\\\"}\",\"metadata\":\"{}\"},\"Presidio Heights\":{\"content\":\"{\\\"events\\\": [{\\\"attr\\\": \\\"start\\\", \\\"kind\\\": \\\"ModelChanged\\\", \\\"model\\\": {\\\"id\\\": \\\"2153\\\"}, \\\"new\\\": 322.67259264014115}, {\\\"attr\\\": \\\"reset_start\\\", \\\"kind\\\": \\\"ModelChanged\\\", \\\"model\\\": {\\\"id\\\": \\\"2153\\\"}, \\\"new\\\": 322.67259264014115}, {\\\"attr\\\": \\\"end\\\", \\\"kind\\\": \\\"ModelChanged\\\", \\\"model\\\": {\\\"id\\\": \\\"2153\\\"}, \\\"new\\\": 1569.9045858190066}, {\\\"attr\\\": \\\"reset_end\\\", \\\"kind\\\": \\\"ModelChanged\\\", \\\"model\\\": {\\\"id\\\": \\\"2153\\\"}, \\\"new\\\": 1569.9045858190066}, {\\\"cols\\\": null, \\\"column_source\\\": {\\\"id\\\": \\\"2185\\\"}, \\\"kind\\\": \\\"ColumnDataChanged\\\", \\\"new\\\": {\\\"sale_price_sqr_foot\\\": {\\\"__ndarray__\\\": \\\"1qRW7FcrgUCiXLTmCd1+QNBJCsu8qXpA+gIs1LgGgECnjECkm9uCQAAAAAAAAPh/hyUc1d/nlkA=\\\", \\\"dtype\\\": \\\"float64\\\", \\\"order\\\": \\\"little\\\", \\\"shape\\\": [7]}, \\\"year\\\": [2010, 2011, 2012, 2013, 2014, 2015, 2016]}}, {\\\"cols\\\": null, \\\"column_source\\\": {\\\"id\\\": \\\"2229\\\"}, \\\"kind\\\": \\\"ColumnDataChanged\\\", \\\"new\\\": {\\\"gross_rent\\\": [1239, 1530, 2324, 2971, 3528, 3739, 4390], \\\"year\\\": [2010, 2011, 2012, 2013, 2014, 2015, 2016]}}, {\\\"attr\\\": \\\"text\\\", \\\"kind\\\": \\\"ModelChanged\\\", \\\"model\\\": {\\\"id\\\": \\\"2263\\\"}, \\\"new\\\": \\\"<span style=\\\\\\\"color:black;font-family:Arial;font-style:bold;font-weight:bold;font-size:12pt\\\\\\\">neighborhood: Presidio Heights<\\\\/span>\\\"}], \\\"references\\\": []}\",\"header\":\"{\\\"msgid\\\": \\\"2624\\\", \\\"msgtype\\\": \\\"PATCH-DOC\\\"}\",\"metadata\":\"{}\"},\"Russian Hill\":{\"content\":\"{\\\"events\\\": [{\\\"attr\\\": \\\"start\\\", \\\"kind\\\": \\\"ModelChanged\\\", \\\"model\\\": {\\\"id\\\": \\\"2152\\\"}, \\\"new\\\": 2010.0}, {\\\"attr\\\": \\\"reset_start\\\", \\\"kind\\\": \\\"ModelChanged\\\", \\\"model\\\": {\\\"id\\\": \\\"2152\\\"}, \\\"new\\\": 2010.0}, {\\\"attr\\\": \\\"end\\\", \\\"kind\\\": \\\"ModelChanged\\\", \\\"model\\\": {\\\"id\\\": \\\"2152\\\"}, \\\"new\\\": 2016.0}, {\\\"attr\\\": \\\"reset_end\\\", \\\"kind\\\": \\\"ModelChanged\\\", \\\"model\\\": {\\\"id\\\": \\\"2152\\\"}, \\\"new\\\": 2016.0}, {\\\"attr\\\": \\\"start\\\", \\\"kind\\\": \\\"ModelChanged\\\", \\\"model\\\": {\\\"id\\\": \\\"2153\\\"}, \\\"new\\\": 296.14905859078186}, {\\\"attr\\\": \\\"reset_start\\\", \\\"kind\\\": \\\"ModelChanged\\\", \\\"model\\\": {\\\"id\\\": \\\"2153\\\"}, \\\"new\\\": 296.14905859078186}, {\\\"attr\\\": \\\"end\\\", \\\"kind\\\": \\\"ModelChanged\\\", \\\"model\\\": {\\\"id\\\": \\\"2153\\\"}, \\\"new\\\": 1090.5390424588552}, {\\\"attr\\\": \\\"reset_end\\\", \\\"kind\\\": \\\"ModelChanged\\\", \\\"model\\\": {\\\"id\\\": \\\"2153\\\"}, \\\"new\\\": 1090.5390424588552}, {\\\"cols\\\": null, \\\"column_source\\\": {\\\"id\\\": \\\"2185\\\"}, \\\"kind\\\": \\\"ColumnDataChanged\\\", \\\"new\\\": {\\\"sale_price_sqr_foot\\\": {\\\"__ndarray__\\\": \\\"qeg8U5KldkCz55glHwV8QBozkYia4nlAYr9O7qOjf0BeOprOxlGGQE8CCI8YyohA+YfACFwBkEA=\\\", \\\"dtype\\\": \\\"float64\\\", \\\"order\\\": \\\"little\\\", \\\"shape\\\": [7]}, \\\"year\\\": [2010, 2011, 2012, 2013, 2014, 2015, 2016]}}, {\\\"attr\\\": \\\"start\\\", \\\"kind\\\": \\\"ModelChanged\\\", \\\"model\\\": {\\\"id\\\": \\\"2197\\\"}, \\\"new\\\": 923.9}, {\\\"attr\\\": \\\"reset_start\\\", \\\"kind\\\": \\\"ModelChanged\\\", \\\"model\\\": {\\\"id\\\": \\\"2197\\\"}, \\\"new\\\": 923.9}, {\\\"attr\\\": \\\"end\\\", \\\"kind\\\": \\\"ModelChanged\\\", \\\"model\\\": {\\\"id\\\": \\\"2197\\\"}, \\\"new\\\": 4705.1}, {\\\"attr\\\": \\\"reset_end\\\", \\\"kind\\\": \\\"ModelChanged\\\", \\\"model\\\": {\\\"id\\\": \\\"2197\\\"}, \\\"new\\\": 4705.1}, {\\\"cols\\\": null, \\\"column_source\\\": {\\\"id\\\": \\\"2229\\\"}, \\\"kind\\\": \\\"ColumnDataChanged\\\", \\\"new\\\": {\\\"gross_rent\\\": [1239, 1530, 2324, 2971, 3528, 3739, 4390], \\\"year\\\": [2010, 2011, 2012, 2013, 2014, 2015, 2016]}}, {\\\"attr\\\": \\\"text\\\", \\\"kind\\\": \\\"ModelChanged\\\", \\\"model\\\": {\\\"id\\\": \\\"2263\\\"}, \\\"new\\\": \\\"<span style=\\\\\\\"color:black;font-family:Arial;font-style:bold;font-weight:bold;font-size:12pt\\\\\\\">neighborhood: Russian Hill<\\\\/span>\\\"}], \\\"references\\\": []}\",\"header\":\"{\\\"msgid\\\": \\\"2615\\\", \\\"msgtype\\\": \\\"PATCH-DOC\\\"}\",\"metadata\":\"{}\"},\"Silver Terrace\":{\"content\":\"{\\\"events\\\": [{\\\"attr\\\": \\\"start\\\", \\\"kind\\\": \\\"ModelChanged\\\", \\\"model\\\": {\\\"id\\\": \\\"2152\\\"}, \\\"new\\\": 2013.0}, {\\\"attr\\\": \\\"reset_start\\\", \\\"kind\\\": \\\"ModelChanged\\\", \\\"model\\\": {\\\"id\\\": \\\"2152\\\"}, \\\"new\\\": 2013.0}, {\\\"attr\\\": \\\"end\\\", \\\"kind\\\": \\\"ModelChanged\\\", \\\"model\\\": {\\\"id\\\": \\\"2152\\\"}, \\\"new\\\": 2015.0}, {\\\"attr\\\": \\\"reset_end\\\", \\\"kind\\\": \\\"ModelChanged\\\", \\\"model\\\": {\\\"id\\\": \\\"2152\\\"}, \\\"new\\\": 2015.0}, {\\\"attr\\\": \\\"start\\\", \\\"kind\\\": \\\"ModelChanged\\\", \\\"model\\\": {\\\"id\\\": \\\"2153\\\"}, \\\"new\\\": 169.09254851520691}, {\\\"attr\\\": \\\"reset_start\\\", \\\"kind\\\": \\\"ModelChanged\\\", \\\"model\\\": {\\\"id\\\": \\\"2153\\\"}, \\\"new\\\": 169.09254851520691}, {\\\"attr\\\": \\\"end\\\", \\\"kind\\\": \\\"ModelChanged\\\", \\\"model\\\": {\\\"id\\\": \\\"2153\\\"}, \\\"new\\\": 171.4925485152069}, {\\\"attr\\\": \\\"reset_end\\\", \\\"kind\\\": \\\"ModelChanged\\\", \\\"model\\\": {\\\"id\\\": \\\"2153\\\"}, \\\"new\\\": 171.4925485152069}, {\\\"cols\\\": null, \\\"column_source\\\": {\\\"id\\\": \\\"2185\\\"}, \\\"kind\\\": \\\"ColumnDataChanged\\\", \\\"new\\\": {\\\"sale_price_sqr_foot\\\": {\\\"__ndarray__\\\": \\\"0ym0jlxJZUA=\\\", \\\"dtype\\\": \\\"float64\\\", \\\"order\\\": \\\"little\\\", \\\"shape\\\": [1]}, \\\"year\\\": [2014]}}, {\\\"attr\\\": \\\"start\\\", \\\"kind\\\": \\\"ModelChanged\\\", \\\"model\\\": {\\\"id\\\": \\\"2197\\\"}, \\\"new\\\": 3526.8}, {\\\"attr\\\": \\\"reset_start\\\", \\\"kind\\\": \\\"ModelChanged\\\", \\\"model\\\": {\\\"id\\\": \\\"2197\\\"}, \\\"new\\\": 3526.8}, {\\\"attr\\\": \\\"end\\\", \\\"kind\\\": \\\"ModelChanged\\\", \\\"model\\\": {\\\"id\\\": \\\"2197\\\"}, \\\"new\\\": 3529.2}, {\\\"attr\\\": \\\"reset_end\\\", \\\"kind\\\": \\\"ModelChanged\\\", \\\"model\\\": {\\\"id\\\": \\\"2197\\\"}, \\\"new\\\": 3529.2}, {\\\"cols\\\": null, \\\"column_source\\\": {\\\"id\\\": \\\"2229\\\"}, \\\"kind\\\": \\\"ColumnDataChanged\\\", \\\"new\\\": {\\\"gross_rent\\\": [3528], \\\"year\\\": [2014]}}, {\\\"attr\\\": \\\"text\\\", \\\"kind\\\": \\\"ModelChanged\\\", \\\"model\\\": {\\\"id\\\": \\\"2263\\\"}, \\\"new\\\": \\\"<span style=\\\\\\\"color:black;font-family:Arial;font-style:bold;font-weight:bold;font-size:12pt\\\\\\\">neighborhood: Silver Terrace<\\\\/span>\\\"}], \\\"references\\\": []}\",\"header\":\"{\\\"msgid\\\": \\\"2606\\\", \\\"msgtype\\\": \\\"PATCH-DOC\\\"}\",\"metadata\":\"{}\"},\"South Beach\":{\"content\":\"{\\\"events\\\": [{\\\"attr\\\": \\\"end\\\", \\\"kind\\\": \\\"ModelChanged\\\", \\\"model\\\": {\\\"id\\\": \\\"2152\\\"}, \\\"new\\\": 2014.0}, {\\\"attr\\\": \\\"reset_end\\\", \\\"kind\\\": \\\"ModelChanged\\\", \\\"model\\\": {\\\"id\\\": \\\"2152\\\"}, \\\"new\\\": 2014.0}, {\\\"attr\\\": \\\"start\\\", \\\"kind\\\": \\\"ModelChanged\\\", \\\"model\\\": {\\\"id\\\": \\\"2153\\\"}, \\\"new\\\": 323.79879159351344}, {\\\"attr\\\": \\\"reset_start\\\", \\\"kind\\\": \\\"ModelChanged\\\", \\\"model\\\": {\\\"id\\\": \\\"2153\\\"}, \\\"new\\\": 323.79879159351344}, {\\\"attr\\\": \\\"end\\\", \\\"kind\\\": \\\"ModelChanged\\\", \\\"model\\\": {\\\"id\\\": \\\"2153\\\"}, \\\"new\\\": 1101.9453338498147}, {\\\"attr\\\": \\\"reset_end\\\", \\\"kind\\\": \\\"ModelChanged\\\", \\\"model\\\": {\\\"id\\\": \\\"2153\\\"}, \\\"new\\\": 1101.9453338498147}, {\\\"cols\\\": null, \\\"column_source\\\": {\\\"id\\\": \\\"2185\\\"}, \\\"kind\\\": \\\"ColumnDataChanged\\\", \\\"new\\\": {\\\"sale_price_sqr_foot\\\": {\\\"__ndarray__\\\": \\\"l7v/LmY0kEAWxRU0T0p4QKOvzdQIZYBA\\\", \\\"dtype\\\": \\\"float64\\\", \\\"order\\\": \\\"little\\\", \\\"shape\\\": [3]}, \\\"year\\\": [2010, 2011, 2014]}}, {\\\"attr\\\": \\\"start\\\", \\\"kind\\\": \\\"ModelChanged\\\", \\\"model\\\": {\\\"id\\\": \\\"2197\\\"}, \\\"new\\\": 1010.1}, {\\\"attr\\\": \\\"reset_start\\\", \\\"kind\\\": \\\"ModelChanged\\\", \\\"model\\\": {\\\"id\\\": \\\"2197\\\"}, \\\"new\\\": 1010.1}, {\\\"attr\\\": \\\"end\\\", \\\"kind\\\": \\\"ModelChanged\\\", \\\"model\\\": {\\\"id\\\": \\\"2197\\\"}, \\\"new\\\": 3756.9}, {\\\"attr\\\": \\\"reset_end\\\", \\\"kind\\\": \\\"ModelChanged\\\", \\\"model\\\": {\\\"id\\\": \\\"2197\\\"}, \\\"new\\\": 3756.9}, {\\\"cols\\\": null, \\\"column_source\\\": {\\\"id\\\": \\\"2229\\\"}, \\\"kind\\\": \\\"ColumnDataChanged\\\", \\\"new\\\": {\\\"gross_rent\\\": [1239, 1530, 3528], \\\"year\\\": [2010, 2011, 2014]}}, {\\\"attr\\\": \\\"text\\\", \\\"kind\\\": \\\"ModelChanged\\\", \\\"model\\\": {\\\"id\\\": \\\"2263\\\"}, \\\"new\\\": \\\"<span style=\\\\\\\"color:black;font-family:Arial;font-style:bold;font-weight:bold;font-size:12pt\\\\\\\">neighborhood: South Beach<\\\\/span>\\\"}], \\\"references\\\": []}\",\"header\":\"{\\\"msgid\\\": \\\"2597\\\", \\\"msgtype\\\": \\\"PATCH-DOC\\\"}\",\"metadata\":\"{}\"},\"South of Market\":{\"content\":\"{\\\"events\\\": [{\\\"attr\\\": \\\"start\\\", \\\"kind\\\": \\\"ModelChanged\\\", \\\"model\\\": {\\\"id\\\": \\\"2153\\\"}, \\\"new\\\": 259.7216603765349}, {\\\"attr\\\": \\\"reset_start\\\", \\\"kind\\\": \\\"ModelChanged\\\", \\\"model\\\": {\\\"id\\\": \\\"2153\\\"}, \\\"new\\\": 259.7216603765349}, {\\\"attr\\\": \\\"end\\\", \\\"kind\\\": \\\"ModelChanged\\\", \\\"model\\\": {\\\"id\\\": \\\"2153\\\"}, \\\"new\\\": 1198.031351581918}, {\\\"attr\\\": \\\"reset_end\\\", \\\"kind\\\": \\\"ModelChanged\\\", \\\"model\\\": {\\\"id\\\": \\\"2153\\\"}, \\\"new\\\": 1198.031351581918}, {\\\"cols\\\": null, \\\"column_source\\\": {\\\"id\\\": \\\"2185\\\"}, \\\"kind\\\": \\\"ColumnDataChanged\\\", \\\"new\\\": {\\\"sale_price_sqr_foot\\\": {\\\"__ndarray__\\\": \\\"NvbXUbwUeUDj6aVLoB51QFu0jVj1/HxAwhgJqydNekC8oacCW3+RQCGjXgupaIZAeO0bSxeZgEA=\\\", \\\"dtype\\\": \\\"float64\\\", \\\"order\\\": \\\"little\\\", \\\"shape\\\": [7]}, \\\"year\\\": [2010, 2011, 2012, 2013, 2014, 2015, 2016]}}, {\\\"cols\\\": null, \\\"column_source\\\": {\\\"id\\\": \\\"2229\\\"}, \\\"kind\\\": \\\"ColumnDataChanged\\\", \\\"new\\\": {\\\"gross_rent\\\": [1239, 1530, 2324, 2971, 3528, 3739, 4390], \\\"year\\\": [2010, 2011, 2012, 2013, 2014, 2015, 2016]}}, {\\\"attr\\\": \\\"text\\\", \\\"kind\\\": \\\"ModelChanged\\\", \\\"model\\\": {\\\"id\\\": \\\"2263\\\"}, \\\"new\\\": \\\"<span style=\\\\\\\"color:black;font-family:Arial;font-style:bold;font-weight:bold;font-size:12pt\\\\\\\">neighborhood: South of Market<\\\\/span>\\\"}], \\\"references\\\": []}\",\"header\":\"{\\\"msgid\\\": \\\"2588\\\", \\\"msgtype\\\": \\\"PATCH-DOC\\\"}\",\"metadata\":\"{}\"},\"Sunnyside\":{\"content\":\"{\\\"events\\\": [{\\\"attr\\\": \\\"start\\\", \\\"kind\\\": \\\"ModelChanged\\\", \\\"model\\\": {\\\"id\\\": \\\"2153\\\"}, \\\"new\\\": 405.76335854915556}, {\\\"attr\\\": \\\"reset_start\\\", \\\"kind\\\": \\\"ModelChanged\\\", \\\"model\\\": {\\\"id\\\": \\\"2153\\\"}, \\\"new\\\": 405.76335854915556}, {\\\"attr\\\": \\\"end\\\", \\\"kind\\\": \\\"ModelChanged\\\", \\\"model\\\": {\\\"id\\\": \\\"2153\\\"}, \\\"new\\\": 782.5746498630087}, {\\\"attr\\\": \\\"reset_end\\\", \\\"kind\\\": \\\"ModelChanged\\\", \\\"model\\\": {\\\"id\\\": \\\"2153\\\"}, \\\"new\\\": 782.5746498630087}, {\\\"cols\\\": null, \\\"column_source\\\": {\\\"id\\\": \\\"2185\\\"}, \\\"kind\\\": \\\"ColumnDataChanged\\\", \\\"new\\\": {\\\"sale_price_sqr_foot\\\": {\\\"__ndarray__\\\": \\\"f6R84kD0gECgDIH4oFJ7QPXbPGNbnX9AnvFbKErXfkARQeSF/3t7QNaZgMFjeYdA\\\", \\\"dtype\\\": \\\"float64\\\", \\\"order\\\": \\\"little\\\", \\\"shape\\\": [6]}, \\\"year\\\": [2010, 2011, 2013, 2014, 2015, 2016]}}, {\\\"cols\\\": null, \\\"column_source\\\": {\\\"id\\\": \\\"2229\\\"}, \\\"kind\\\": \\\"ColumnDataChanged\\\", \\\"new\\\": {\\\"gross_rent\\\": [1239, 1530, 2971, 3528, 3739, 4390], \\\"year\\\": [2010, 2011, 2013, 2014, 2015, 2016]}}, {\\\"attr\\\": \\\"text\\\", \\\"kind\\\": \\\"ModelChanged\\\", \\\"model\\\": {\\\"id\\\": \\\"2263\\\"}, \\\"new\\\": \\\"<span style=\\\\\\\"color:black;font-family:Arial;font-style:bold;font-weight:bold;font-size:12pt\\\\\\\">neighborhood: Sunnyside<\\\\/span>\\\"}], \\\"references\\\": []}\",\"header\":\"{\\\"msgid\\\": \\\"2579\\\", \\\"msgtype\\\": \\\"PATCH-DOC\\\"}\",\"metadata\":\"{}\"},\"Telegraph Hill\":{\"content\":\"{\\\"events\\\": [{\\\"attr\\\": \\\"start\\\", \\\"kind\\\": \\\"ModelChanged\\\", \\\"model\\\": {\\\"id\\\": \\\"2153\\\"}, \\\"new\\\": 412.68331174636455}, {\\\"attr\\\": \\\"reset_start\\\", \\\"kind\\\": \\\"ModelChanged\\\", \\\"model\\\": {\\\"id\\\": \\\"2153\\\"}, \\\"new\\\": 412.68331174636455}, {\\\"attr\\\": \\\"end\\\", \\\"kind\\\": \\\"ModelChanged\\\", \\\"model\\\": {\\\"id\\\": \\\"2153\\\"}, \\\"new\\\": 1050.1090303712745}, {\\\"attr\\\": \\\"reset_end\\\", \\\"kind\\\": \\\"ModelChanged\\\", \\\"model\\\": {\\\"id\\\": \\\"2153\\\"}, \\\"new\\\": 1050.1090303712745}, {\\\"cols\\\": null, \\\"column_source\\\": {\\\"id\\\": \\\"2185\\\"}, \\\"kind\\\": \\\"ColumnDataChanged\\\", \\\"new\\\": {\\\"sale_price_sqr_foot\\\": {\\\"__ndarray__\\\": \\\"COpLG1lmgEAS2VILfjZ+QB7+fX3VHH1AM0HkMH5qhECxLjJUiyGGQPfUt/jrJ49AqrAg7mU4jEA=\\\", \\\"dtype\\\": \\\"float64\\\", \\\"order\\\": \\\"little\\\", \\\"shape\\\": [7]}, \\\"year\\\": [2010, 2011, 2012, 2013, 2014, 2015, 2016]}}, {\\\"cols\\\": null, \\\"column_source\\\": {\\\"id\\\": \\\"2229\\\"}, \\\"kind\\\": \\\"ColumnDataChanged\\\", \\\"new\\\": {\\\"gross_rent\\\": [1239, 1530, 2324, 2971, 3528, 3739, 4390], \\\"year\\\": [2010, 2011, 2012, 2013, 2014, 2015, 2016]}}, {\\\"attr\\\": \\\"text\\\", \\\"kind\\\": \\\"ModelChanged\\\", \\\"model\\\": {\\\"id\\\": \\\"2263\\\"}, \\\"new\\\": \\\"<span style=\\\\\\\"color:black;font-family:Arial;font-style:bold;font-weight:bold;font-size:12pt\\\\\\\">neighborhood: Telegraph Hill<\\\\/span>\\\"}], \\\"references\\\": []}\",\"header\":\"{\\\"msgid\\\": \\\"2570\\\", \\\"msgtype\\\": \\\"PATCH-DOC\\\"}\",\"metadata\":\"{}\"},\"Twin Peaks\":{\"content\":\"{\\\"events\\\": [{\\\"attr\\\": \\\"end\\\", \\\"kind\\\": \\\"ModelChanged\\\", \\\"model\\\": {\\\"id\\\": \\\"2152\\\"}, \\\"new\\\": 2016.0}, {\\\"attr\\\": \\\"reset_end\\\", \\\"kind\\\": \\\"ModelChanged\\\", \\\"model\\\": {\\\"id\\\": \\\"2152\\\"}, \\\"new\\\": 2016.0}, {\\\"attr\\\": \\\"start\\\", \\\"kind\\\": \\\"ModelChanged\\\", \\\"model\\\": {\\\"id\\\": \\\"2153\\\"}, \\\"new\\\": 216.0151160609511}, {\\\"attr\\\": \\\"reset_start\\\", \\\"kind\\\": \\\"ModelChanged\\\", \\\"model\\\": {\\\"id\\\": \\\"2153\\\"}, \\\"new\\\": 216.0151160609511}, {\\\"attr\\\": \\\"end\\\", \\\"kind\\\": \\\"ModelChanged\\\", \\\"model\\\": {\\\"id\\\": \\\"2153\\\"}, \\\"new\\\": 1038.6373204513354}, {\\\"attr\\\": \\\"reset_end\\\", \\\"kind\\\": \\\"ModelChanged\\\", \\\"model\\\": {\\\"id\\\": \\\"2153\\\"}, \\\"new\\\": 1038.6373204513354}, {\\\"cols\\\": null, \\\"column_source\\\": {\\\"id\\\": \\\"2185\\\"}, \\\"kind\\\": \\\"ColumnDataChanged\\\", \\\"new\\\": {\\\"sale_price_sqr_foot\\\": {\\\"__ndarray__\\\": \\\"WOE2XOW4dEC1UWNLEslxQAmC4vRkDnNA+JW2mPjmeUDKE/I0SpeBQBwTSrZdFXpACq/wCq9QjkA=\\\", \\\"dtype\\\": \\\"float64\\\", \\\"order\\\": \\\"little\\\", \\\"shape\\\": [7]}, \\\"year\\\": [2010, 2011, 2012, 2013, 2014, 2015, 2016]}}, {\\\"attr\\\": \\\"start\\\", \\\"kind\\\": \\\"ModelChanged\\\", \\\"model\\\": {\\\"id\\\": \\\"2197\\\"}, \\\"new\\\": 923.9}, {\\\"attr\\\": \\\"reset_start\\\", \\\"kind\\\": \\\"ModelChanged\\\", \\\"model\\\": {\\\"id\\\": \\\"2197\\\"}, \\\"new\\\": 923.9}, {\\\"attr\\\": \\\"end\\\", \\\"kind\\\": \\\"ModelChanged\\\", \\\"model\\\": {\\\"id\\\": \\\"2197\\\"}, \\\"new\\\": 4705.1}, {\\\"attr\\\": \\\"reset_end\\\", \\\"kind\\\": \\\"ModelChanged\\\", \\\"model\\\": {\\\"id\\\": \\\"2197\\\"}, \\\"new\\\": 4705.1}, {\\\"cols\\\": null, \\\"column_source\\\": {\\\"id\\\": \\\"2229\\\"}, \\\"kind\\\": \\\"ColumnDataChanged\\\", \\\"new\\\": {\\\"gross_rent\\\": [1239, 1530, 2324, 2971, 3528, 3739, 4390], \\\"year\\\": [2010, 2011, 2012, 2013, 2014, 2015, 2016]}}, {\\\"attr\\\": \\\"text\\\", \\\"kind\\\": \\\"ModelChanged\\\", \\\"model\\\": {\\\"id\\\": \\\"2263\\\"}, \\\"new\\\": \\\"<span style=\\\\\\\"color:black;font-family:Arial;font-style:bold;font-weight:bold;font-size:12pt\\\\\\\">neighborhood: Twin Peaks<\\\\/span>\\\"}], \\\"references\\\": []}\",\"header\":\"{\\\"msgid\\\": \\\"2561\\\", \\\"msgtype\\\": \\\"PATCH-DOC\\\"}\",\"metadata\":\"{}\"},\"Union Square District\":{\"content\":\"{\\\"events\\\": [{\\\"attr\\\": \\\"end\\\", \\\"kind\\\": \\\"ModelChanged\\\", \\\"model\\\": {\\\"id\\\": \\\"2152\\\"}, \\\"new\\\": 2015.0}, {\\\"attr\\\": \\\"reset_end\\\", \\\"kind\\\": \\\"ModelChanged\\\", \\\"model\\\": {\\\"id\\\": \\\"2152\\\"}, \\\"new\\\": 2015.0}, {\\\"attr\\\": \\\"start\\\", \\\"kind\\\": \\\"ModelChanged\\\", \\\"model\\\": {\\\"id\\\": \\\"2153\\\"}, \\\"new\\\": 106.46529489082496}, {\\\"attr\\\": \\\"reset_start\\\", \\\"kind\\\": \\\"ModelChanged\\\", \\\"model\\\": {\\\"id\\\": \\\"2153\\\"}, \\\"new\\\": 106.46529489082496}, {\\\"attr\\\": \\\"end\\\", \\\"kind\\\": \\\"ModelChanged\\\", \\\"model\\\": {\\\"id\\\": \\\"2153\\\"}, \\\"new\\\": 2454.3607899172216}, {\\\"attr\\\": \\\"reset_end\\\", \\\"kind\\\": \\\"ModelChanged\\\", \\\"model\\\": {\\\"id\\\": \\\"2153\\\"}, \\\"new\\\": 2454.3607899172216}, {\\\"cols\\\": null, \\\"column_source\\\": {\\\"id\\\": \\\"2185\\\"}, \\\"kind\\\": \\\"ColumnDataChanged\\\", \\\"new\\\": {\\\"sale_price_sqr_foot\\\": {\\\"__ndarray__\\\": \\\"4Ic3LozJgUA7LPDX+OFyQDQwzQom03tAML7sb+MplEBCsqZAK3KBQAl/mNlnpaFA\\\", \\\"dtype\\\": \\\"float64\\\", \\\"order\\\": \\\"little\\\", \\\"shape\\\": [6]}, \\\"year\\\": [2010, 2011, 2012, 2013, 2014, 2015]}}, {\\\"attr\\\": \\\"start\\\", \\\"kind\\\": \\\"ModelChanged\\\", \\\"model\\\": {\\\"id\\\": \\\"2197\\\"}, \\\"new\\\": 989.0}, {\\\"attr\\\": \\\"reset_start\\\", \\\"kind\\\": \\\"ModelChanged\\\", \\\"model\\\": {\\\"id\\\": \\\"2197\\\"}, \\\"new\\\": 989.0}, {\\\"attr\\\": \\\"end\\\", \\\"kind\\\": \\\"ModelChanged\\\", \\\"model\\\": {\\\"id\\\": \\\"2197\\\"}, \\\"new\\\": 3989.0}, {\\\"attr\\\": \\\"reset_end\\\", \\\"kind\\\": \\\"ModelChanged\\\", \\\"model\\\": {\\\"id\\\": \\\"2197\\\"}, \\\"new\\\": 3989.0}, {\\\"cols\\\": null, \\\"column_source\\\": {\\\"id\\\": \\\"2229\\\"}, \\\"kind\\\": \\\"ColumnDataChanged\\\", \\\"new\\\": {\\\"gross_rent\\\": [1239, 1530, 2324, 2971, 3528, 3739], \\\"year\\\": [2010, 2011, 2012, 2013, 2014, 2015]}}, {\\\"attr\\\": \\\"text\\\", \\\"kind\\\": \\\"ModelChanged\\\", \\\"model\\\": {\\\"id\\\": \\\"2263\\\"}, \\\"new\\\": \\\"<span style=\\\\\\\"color:black;font-family:Arial;font-style:bold;font-weight:bold;font-size:12pt\\\\\\\">neighborhood: Union Square District<\\\\/span>\\\"}], \\\"references\\\": []}\",\"header\":\"{\\\"msgid\\\": \\\"2552\\\", \\\"msgtype\\\": \\\"PATCH-DOC\\\"}\",\"metadata\":\"{}\"},\"Van Ness/ Civic Center\":{\"content\":\"{\\\"events\\\": [{\\\"attr\\\": \\\"start\\\", \\\"kind\\\": \\\"ModelChanged\\\", \\\"model\\\": {\\\"id\\\": \\\"2152\\\"}, \\\"new\\\": 2010.0}, {\\\"attr\\\": \\\"reset_start\\\", \\\"kind\\\": \\\"ModelChanged\\\", \\\"model\\\": {\\\"id\\\": \\\"2152\\\"}, \\\"new\\\": 2010.0}, {\\\"attr\\\": \\\"start\\\", \\\"kind\\\": \\\"ModelChanged\\\", \\\"model\\\": {\\\"id\\\": \\\"2153\\\"}, \\\"new\\\": 51.03039638133734}, {\\\"attr\\\": \\\"reset_start\\\", \\\"kind\\\": \\\"ModelChanged\\\", \\\"model\\\": {\\\"id\\\": \\\"2153\\\"}, \\\"new\\\": 51.03039638133734}, {\\\"attr\\\": \\\"end\\\", \\\"kind\\\": \\\"ModelChanged\\\", \\\"model\\\": {\\\"id\\\": \\\"2153\\\"}, \\\"new\\\": 734.8207623233469}, {\\\"attr\\\": \\\"reset_end\\\", \\\"kind\\\": \\\"ModelChanged\\\", \\\"model\\\": {\\\"id\\\": \\\"2153\\\"}, \\\"new\\\": 734.8207623233469}, {\\\"cols\\\": null, \\\"column_source\\\": {\\\"id\\\": \\\"2185\\\"}, \\\"kind\\\": \\\"ColumnDataChanged\\\", \\\"new\\\": {\\\"sale_price_sqr_foot\\\": {\\\"__ndarray__\\\": \\\"9/Q/y9MAW0C4de7wyQN4QCWBKCJUn3VAuVvU7ybQcUD2TkF+SrZ9QPqD47K0LoVAmVO3DtJEgUA=\\\", \\\"dtype\\\": \\\"float64\\\", \\\"order\\\": \\\"little\\\", \\\"shape\\\": [7]}, \\\"year\\\": [2010, 2011, 2012, 2013, 2014, 2015, 2016]}}, {\\\"attr\\\": \\\"start\\\", \\\"kind\\\": \\\"ModelChanged\\\", \\\"model\\\": {\\\"id\\\": \\\"2197\\\"}, \\\"new\\\": 923.9}, {\\\"attr\\\": \\\"reset_start\\\", \\\"kind\\\": \\\"ModelChanged\\\", \\\"model\\\": {\\\"id\\\": \\\"2197\\\"}, \\\"new\\\": 923.9}, {\\\"attr\\\": \\\"end\\\", \\\"kind\\\": \\\"ModelChanged\\\", \\\"model\\\": {\\\"id\\\": \\\"2197\\\"}, \\\"new\\\": 4705.1}, {\\\"attr\\\": \\\"reset_end\\\", \\\"kind\\\": \\\"ModelChanged\\\", \\\"model\\\": {\\\"id\\\": \\\"2197\\\"}, \\\"new\\\": 4705.1}, {\\\"cols\\\": null, \\\"column_source\\\": {\\\"id\\\": \\\"2229\\\"}, \\\"kind\\\": \\\"ColumnDataChanged\\\", \\\"new\\\": {\\\"gross_rent\\\": [1239, 1530, 2324, 2971, 3528, 3739, 4390], \\\"year\\\": [2010, 2011, 2012, 2013, 2014, 2015, 2016]}}, {\\\"attr\\\": \\\"text\\\", \\\"kind\\\": \\\"ModelChanged\\\", \\\"model\\\": {\\\"id\\\": \\\"2263\\\"}, \\\"new\\\": \\\"<span style=\\\\\\\"color:black;font-family:Arial;font-style:bold;font-weight:bold;font-size:12pt\\\\\\\">neighborhood: Van Ness/ Civic Center<\\\\/span>\\\"}], \\\"references\\\": []}\",\"header\":\"{\\\"msgid\\\": \\\"2543\\\", \\\"msgtype\\\": \\\"PATCH-DOC\\\"}\",\"metadata\":\"{}\"},\"Visitacion Valley\":{\"content\":\"{\\\"events\\\": [{\\\"attr\\\": \\\"start\\\", \\\"kind\\\": \\\"ModelChanged\\\", \\\"model\\\": {\\\"id\\\": \\\"2152\\\"}, \\\"new\\\": 2013.0}, {\\\"attr\\\": \\\"reset_start\\\", \\\"kind\\\": \\\"ModelChanged\\\", \\\"model\\\": {\\\"id\\\": \\\"2152\\\"}, \\\"new\\\": 2013.0}, {\\\"attr\\\": \\\"end\\\", \\\"kind\\\": \\\"ModelChanged\\\", \\\"model\\\": {\\\"id\\\": \\\"2152\\\"}, \\\"new\\\": 2016.0}, {\\\"attr\\\": \\\"reset_end\\\", \\\"kind\\\": \\\"ModelChanged\\\", \\\"model\\\": {\\\"id\\\": \\\"2152\\\"}, \\\"new\\\": 2016.0}, {\\\"attr\\\": \\\"start\\\", \\\"kind\\\": \\\"ModelChanged\\\", \\\"model\\\": {\\\"id\\\": \\\"2153\\\"}, \\\"new\\\": 277.39611446160455}, {\\\"attr\\\": \\\"reset_start\\\", \\\"kind\\\": \\\"ModelChanged\\\", \\\"model\\\": {\\\"id\\\": \\\"2153\\\"}, \\\"new\\\": 277.39611446160455}, {\\\"attr\\\": \\\"end\\\", \\\"kind\\\": \\\"ModelChanged\\\", \\\"model\\\": {\\\"id\\\": \\\"2153\\\"}, \\\"new\\\": 332.94836052432925}, {\\\"attr\\\": \\\"reset_end\\\", \\\"kind\\\": \\\"ModelChanged\\\", \\\"model\\\": {\\\"id\\\": \\\"2153\\\"}, \\\"new\\\": 332.94836052432925}, {\\\"cols\\\": null, \\\"column_source\\\": {\\\"id\\\": \\\"2185\\\"}, \\\"kind\\\": \\\"ColumnDataChanged\\\", \\\"new\\\": {\\\"sale_price_sqr_foot\\\": {\\\"__ndarray__\\\": \\\"bh3vIcZUckCxxHJRaKBxQA8XZcqM43JAUinBphqFdEA=\\\", \\\"dtype\\\": \\\"float64\\\", \\\"order\\\": \\\"little\\\", \\\"shape\\\": [4]}, \\\"year\\\": [2013, 2014, 2015, 2016]}}, {\\\"attr\\\": \\\"start\\\", \\\"kind\\\": \\\"ModelChanged\\\", \\\"model\\\": {\\\"id\\\": \\\"2197\\\"}, \\\"new\\\": 2829.1}, {\\\"attr\\\": \\\"reset_start\\\", \\\"kind\\\": \\\"ModelChanged\\\", \\\"model\\\": {\\\"id\\\": \\\"2197\\\"}, \\\"new\\\": 2829.1}, {\\\"attr\\\": \\\"end\\\", \\\"kind\\\": \\\"ModelChanged\\\", \\\"model\\\": {\\\"id\\\": \\\"2197\\\"}, \\\"new\\\": 4531.9}, {\\\"attr\\\": \\\"reset_end\\\", \\\"kind\\\": \\\"ModelChanged\\\", \\\"model\\\": {\\\"id\\\": \\\"2197\\\"}, \\\"new\\\": 4531.9}, {\\\"cols\\\": null, \\\"column_source\\\": {\\\"id\\\": \\\"2229\\\"}, \\\"kind\\\": \\\"ColumnDataChanged\\\", \\\"new\\\": {\\\"gross_rent\\\": [2971, 3528, 3739, 4390], \\\"year\\\": [2013, 2014, 2015, 2016]}}, {\\\"attr\\\": \\\"text\\\", \\\"kind\\\": \\\"ModelChanged\\\", \\\"model\\\": {\\\"id\\\": \\\"2263\\\"}, \\\"new\\\": \\\"<span style=\\\\\\\"color:black;font-family:Arial;font-style:bold;font-weight:bold;font-size:12pt\\\\\\\">neighborhood: Visitacion Valley<\\\\/span>\\\"}], \\\"references\\\": []}\",\"header\":\"{\\\"msgid\\\": \\\"2534\\\", \\\"msgtype\\\": \\\"PATCH-DOC\\\"}\",\"metadata\":\"{}\"},\"West Portal\":{\"content\":\"{\\\"events\\\": [{\\\"attr\\\": \\\"end\\\", \\\"kind\\\": \\\"ModelChanged\\\", \\\"model\\\": {\\\"id\\\": \\\"2152\\\"}, \\\"new\\\": 2014.0}, {\\\"attr\\\": \\\"reset_end\\\", \\\"kind\\\": \\\"ModelChanged\\\", \\\"model\\\": {\\\"id\\\": \\\"2152\\\"}, \\\"new\\\": 2014.0}, {\\\"attr\\\": \\\"start\\\", \\\"kind\\\": \\\"ModelChanged\\\", \\\"model\\\": {\\\"id\\\": \\\"2153\\\"}, \\\"new\\\": 289.5966602407253}, {\\\"attr\\\": \\\"reset_start\\\", \\\"kind\\\": \\\"ModelChanged\\\", \\\"model\\\": {\\\"id\\\": \\\"2153\\\"}, \\\"new\\\": 289.5966602407253}, {\\\"attr\\\": \\\"end\\\", \\\"kind\\\": \\\"ModelChanged\\\", \\\"model\\\": {\\\"id\\\": \\\"2153\\\"}, \\\"new\\\": 723.981718124067}, {\\\"attr\\\": \\\"reset_end\\\", \\\"kind\\\": \\\"ModelChanged\\\", \\\"model\\\": {\\\"id\\\": \\\"2153\\\"}, \\\"new\\\": 723.981718124067}, {\\\"cols\\\": null, \\\"column_source\\\": {\\\"id\\\": \\\"2185\\\"}, \\\"kind\\\": \\\"ColumnDataChanged\\\", \\\"new\\\": {\\\"sale_price_sqr_foot\\\": {\\\"__ndarray__\\\": \\\"X0cX7s+EeEAugSUFulx0QOs5Di+ZYIJAY0tDgkN+hUA=\\\", \\\"dtype\\\": \\\"float64\\\", \\\"order\\\": \\\"little\\\", \\\"shape\\\": [4]}, \\\"year\\\": [2010, 2012, 2013, 2014]}}, {\\\"attr\\\": \\\"start\\\", \\\"kind\\\": \\\"ModelChanged\\\", \\\"model\\\": {\\\"id\\\": \\\"2197\\\"}, \\\"new\\\": 1010.1}, {\\\"attr\\\": \\\"reset_start\\\", \\\"kind\\\": \\\"ModelChanged\\\", \\\"model\\\": {\\\"id\\\": \\\"2197\\\"}, \\\"new\\\": 1010.1}, {\\\"attr\\\": \\\"end\\\", \\\"kind\\\": \\\"ModelChanged\\\", \\\"model\\\": {\\\"id\\\": \\\"2197\\\"}, \\\"new\\\": 3756.9}, {\\\"attr\\\": \\\"reset_end\\\", \\\"kind\\\": \\\"ModelChanged\\\", \\\"model\\\": {\\\"id\\\": \\\"2197\\\"}, \\\"new\\\": 3756.9}, {\\\"cols\\\": null, \\\"column_source\\\": {\\\"id\\\": \\\"2229\\\"}, \\\"kind\\\": \\\"ColumnDataChanged\\\", \\\"new\\\": {\\\"gross_rent\\\": [1239, 2324, 2971, 3528], \\\"year\\\": [2010, 2012, 2013, 2014]}}, {\\\"attr\\\": \\\"text\\\", \\\"kind\\\": \\\"ModelChanged\\\", \\\"model\\\": {\\\"id\\\": \\\"2263\\\"}, \\\"new\\\": \\\"<span style=\\\\\\\"color:black;font-family:Arial;font-style:bold;font-weight:bold;font-size:12pt\\\\\\\">neighborhood: West Portal<\\\\/span>\\\"}], \\\"references\\\": []}\",\"header\":\"{\\\"msgid\\\": \\\"2525\\\", \\\"msgtype\\\": \\\"PATCH-DOC\\\"}\",\"metadata\":\"{}\"},\"Western Addition\":{\"content\":\"{\\\"events\\\": [{\\\"attr\\\": \\\"start\\\", \\\"kind\\\": \\\"ModelChanged\\\", \\\"model\\\": {\\\"id\\\": \\\"2152\\\"}, \\\"new\\\": 2010.0}, {\\\"attr\\\": \\\"reset_start\\\", \\\"kind\\\": \\\"ModelChanged\\\", \\\"model\\\": {\\\"id\\\": \\\"2152\\\"}, \\\"new\\\": 2010.0}, {\\\"attr\\\": \\\"end\\\", \\\"kind\\\": \\\"ModelChanged\\\", \\\"model\\\": {\\\"id\\\": \\\"2152\\\"}, \\\"new\\\": 2015.0}, {\\\"attr\\\": \\\"reset_end\\\", \\\"kind\\\": \\\"ModelChanged\\\", \\\"model\\\": {\\\"id\\\": \\\"2152\\\"}, \\\"new\\\": 2015.0}, {\\\"attr\\\": \\\"start\\\", \\\"kind\\\": \\\"ModelChanged\\\", \\\"model\\\": {\\\"id\\\": \\\"2153\\\"}, \\\"new\\\": 188.97912331896887}, {\\\"attr\\\": \\\"reset_start\\\", \\\"kind\\\": \\\"ModelChanged\\\", \\\"model\\\": {\\\"id\\\": \\\"2153\\\"}, \\\"new\\\": 188.97912331896887}, {\\\"attr\\\": \\\"end\\\", \\\"kind\\\": \\\"ModelChanged\\\", \\\"model\\\": {\\\"id\\\": \\\"2153\\\"}, \\\"new\\\": 508.059255269849}, {\\\"attr\\\": \\\"reset_end\\\", \\\"kind\\\": \\\"ModelChanged\\\", \\\"model\\\": {\\\"id\\\": \\\"2153\\\"}, \\\"new\\\": 508.059255269849}, {\\\"cols\\\": null, \\\"column_source\\\": {\\\"id\\\": \\\"2185\\\"}, \\\"kind\\\": \\\"ColumnDataChanged\\\", \\\"new\\\": {\\\"sale_price_sqr_foot\\\": {\\\"__ndarray__\\\": \\\"gK0qWTbyakDIEo9KaG1sQCp/FVVqJXFAdZUip9kia0B6M+4l0Nd6QK+mSAaCF35A\\\", \\\"dtype\\\": \\\"float64\\\", \\\"order\\\": \\\"little\\\", \\\"shape\\\": [6]}, \\\"year\\\": [2010, 2011, 2012, 2013, 2014, 2015]}}, {\\\"attr\\\": \\\"start\\\", \\\"kind\\\": \\\"ModelChanged\\\", \\\"model\\\": {\\\"id\\\": \\\"2197\\\"}, \\\"new\\\": 989.0}, {\\\"attr\\\": \\\"reset_start\\\", \\\"kind\\\": \\\"ModelChanged\\\", \\\"model\\\": {\\\"id\\\": \\\"2197\\\"}, \\\"new\\\": 989.0}, {\\\"attr\\\": \\\"end\\\", \\\"kind\\\": \\\"ModelChanged\\\", \\\"model\\\": {\\\"id\\\": \\\"2197\\\"}, \\\"new\\\": 3989.0}, {\\\"attr\\\": \\\"reset_end\\\", \\\"kind\\\": \\\"ModelChanged\\\", \\\"model\\\": {\\\"id\\\": \\\"2197\\\"}, \\\"new\\\": 3989.0}, {\\\"cols\\\": null, \\\"column_source\\\": {\\\"id\\\": \\\"2229\\\"}, \\\"kind\\\": \\\"ColumnDataChanged\\\", \\\"new\\\": {\\\"gross_rent\\\": [1239, 1530, 2324, 2971, 3528, 3739], \\\"year\\\": [2010, 2011, 2012, 2013, 2014, 2015]}}, {\\\"attr\\\": \\\"text\\\", \\\"kind\\\": \\\"ModelChanged\\\", \\\"model\\\": {\\\"id\\\": \\\"2263\\\"}, \\\"new\\\": \\\"<span style=\\\\\\\"color:black;font-family:Arial;font-style:bold;font-weight:bold;font-size:12pt\\\\\\\">neighborhood: Western Addition<\\\\/span>\\\"}], \\\"references\\\": []}\",\"header\":\"{\\\"msgid\\\": \\\"2516\\\", \\\"msgtype\\\": \\\"PATCH-DOC\\\"}\",\"metadata\":\"{}\"},\"Westwood Highlands\":{\"content\":\"{\\\"events\\\": [{\\\"attr\\\": \\\"start\\\", \\\"kind\\\": \\\"ModelChanged\\\", \\\"model\\\": {\\\"id\\\": \\\"2152\\\"}, \\\"new\\\": 2011.0}, {\\\"attr\\\": \\\"reset_start\\\", \\\"kind\\\": \\\"ModelChanged\\\", \\\"model\\\": {\\\"id\\\": \\\"2152\\\"}, \\\"new\\\": 2011.0}, {\\\"attr\\\": \\\"end\\\", \\\"kind\\\": \\\"ModelChanged\\\", \\\"model\\\": {\\\"id\\\": \\\"2152\\\"}, \\\"new\\\": 2013.0}, {\\\"attr\\\": \\\"reset_end\\\", \\\"kind\\\": \\\"ModelChanged\\\", \\\"model\\\": {\\\"id\\\": \\\"2152\\\"}, \\\"new\\\": 2013.0}, {\\\"attr\\\": \\\"start\\\", \\\"kind\\\": \\\"ModelChanged\\\", \\\"model\\\": {\\\"id\\\": \\\"2153\\\"}, \\\"new\\\": 277.34841257850235}, {\\\"attr\\\": \\\"reset_start\\\", \\\"kind\\\": \\\"ModelChanged\\\", \\\"model\\\": {\\\"id\\\": \\\"2153\\\"}, \\\"new\\\": 277.34841257850235}, {\\\"attr\\\": \\\"end\\\", \\\"kind\\\": \\\"ModelChanged\\\", \\\"model\\\": {\\\"id\\\": \\\"2153\\\"}, \\\"new\\\": 790.0594582934003}, {\\\"attr\\\": \\\"reset_end\\\", \\\"kind\\\": \\\"ModelChanged\\\", \\\"model\\\": {\\\"id\\\": \\\"2153\\\"}, \\\"new\\\": 790.0594582934003}, {\\\"cols\\\": null, \\\"column_source\\\": {\\\"id\\\": \\\"2185\\\"}, \\\"kind\\\": \\\"ColumnDataChanged\\\", \\\"new\\\": {\\\"sale_price_sqr_foot\\\": {\\\"__ndarray__\\\": \\\"MHLbdzABdEBpBeAVq1qHQA==\\\", \\\"dtype\\\": \\\"float64\\\", \\\"order\\\": \\\"little\\\", \\\"shape\\\": [2]}, \\\"year\\\": [2011, 2013]}}, {\\\"attr\\\": \\\"start\\\", \\\"kind\\\": \\\"ModelChanged\\\", \\\"model\\\": {\\\"id\\\": \\\"2197\\\"}, \\\"new\\\": 1385.9}, {\\\"attr\\\": \\\"reset_start\\\", \\\"kind\\\": \\\"ModelChanged\\\", \\\"model\\\": {\\\"id\\\": \\\"2197\\\"}, \\\"new\\\": 1385.9}, {\\\"attr\\\": \\\"end\\\", \\\"kind\\\": \\\"ModelChanged\\\", \\\"model\\\": {\\\"id\\\": \\\"2197\\\"}, \\\"new\\\": 3115.1}, {\\\"attr\\\": \\\"reset_end\\\", \\\"kind\\\": \\\"ModelChanged\\\", \\\"model\\\": {\\\"id\\\": \\\"2197\\\"}, \\\"new\\\": 3115.1}, {\\\"cols\\\": null, \\\"column_source\\\": {\\\"id\\\": \\\"2229\\\"}, \\\"kind\\\": \\\"ColumnDataChanged\\\", \\\"new\\\": {\\\"gross_rent\\\": [1530, 2971], \\\"year\\\": [2011, 2013]}}, {\\\"attr\\\": \\\"text\\\", \\\"kind\\\": \\\"ModelChanged\\\", \\\"model\\\": {\\\"id\\\": \\\"2263\\\"}, \\\"new\\\": \\\"<span style=\\\\\\\"color:black;font-family:Arial;font-style:bold;font-weight:bold;font-size:12pt\\\\\\\">neighborhood: Westwood Highlands<\\\\/span>\\\"}], \\\"references\\\": []}\",\"header\":\"{\\\"msgid\\\": \\\"2507\\\", \\\"msgtype\\\": \\\"PATCH-DOC\\\"}\",\"metadata\":\"{}\"},\"Westwood Park\":{\"content\":\"{\\\"events\\\": [{\\\"attr\\\": \\\"start\\\", \\\"kind\\\": \\\"ModelChanged\\\", \\\"model\\\": {\\\"id\\\": \\\"2152\\\"}, \\\"new\\\": 2014.0}, {\\\"attr\\\": \\\"reset_start\\\", \\\"kind\\\": \\\"ModelChanged\\\", \\\"model\\\": {\\\"id\\\": \\\"2152\\\"}, \\\"new\\\": 2014.0}, {\\\"attr\\\": \\\"end\\\", \\\"kind\\\": \\\"ModelChanged\\\", \\\"model\\\": {\\\"id\\\": \\\"2152\\\"}, \\\"new\\\": 2016.0}, {\\\"attr\\\": \\\"reset_end\\\", \\\"kind\\\": \\\"ModelChanged\\\", \\\"model\\\": {\\\"id\\\": \\\"2152\\\"}, \\\"new\\\": 2016.0}, {\\\"attr\\\": \\\"start\\\", \\\"kind\\\": \\\"ModelChanged\\\", \\\"model\\\": {\\\"id\\\": \\\"2153\\\"}, \\\"new\\\": 620.0169961433245}, {\\\"attr\\\": \\\"reset_start\\\", \\\"kind\\\": \\\"ModelChanged\\\", \\\"model\\\": {\\\"id\\\": \\\"2153\\\"}, \\\"new\\\": 620.0169961433245}, {\\\"attr\\\": \\\"end\\\", \\\"kind\\\": \\\"ModelChanged\\\", \\\"model\\\": {\\\"id\\\": \\\"2153\\\"}, \\\"new\\\": 754.15815289234}, {\\\"attr\\\": \\\"reset_end\\\", \\\"kind\\\": \\\"ModelChanged\\\", \\\"model\\\": {\\\"id\\\": \\\"2153\\\"}, \\\"new\\\": 754.15815289234}, {\\\"cols\\\": null, \\\"column_source\\\": {\\\"id\\\": \\\"2185\\\"}, \\\"kind\\\": \\\"ColumnDataChanged\\\", \\\"new\\\": {\\\"sale_price_sqr_foot\\\": {\\\"__ndarray__\\\": \\\"hgoZedY3h0BRlnA7kLmDQA==\\\", \\\"dtype\\\": \\\"float64\\\", \\\"order\\\": \\\"little\\\", \\\"shape\\\": [2]}, \\\"year\\\": [2014, 2016]}}, {\\\"attr\\\": \\\"start\\\", \\\"kind\\\": \\\"ModelChanged\\\", \\\"model\\\": {\\\"id\\\": \\\"2197\\\"}, \\\"new\\\": 3441.8}, {\\\"attr\\\": \\\"reset_start\\\", \\\"kind\\\": \\\"ModelChanged\\\", \\\"model\\\": {\\\"id\\\": \\\"2197\\\"}, \\\"new\\\": 3441.8}, {\\\"attr\\\": \\\"end\\\", \\\"kind\\\": \\\"ModelChanged\\\", \\\"model\\\": {\\\"id\\\": \\\"2197\\\"}, \\\"new\\\": 4476.2}, {\\\"attr\\\": \\\"reset_end\\\", \\\"kind\\\": \\\"ModelChanged\\\", \\\"model\\\": {\\\"id\\\": \\\"2197\\\"}, \\\"new\\\": 4476.2}, {\\\"cols\\\": null, \\\"column_source\\\": {\\\"id\\\": \\\"2229\\\"}, \\\"kind\\\": \\\"ColumnDataChanged\\\", \\\"new\\\": {\\\"gross_rent\\\": [3528, 4390], \\\"year\\\": [2014, 2016]}}, {\\\"attr\\\": \\\"text\\\", \\\"kind\\\": \\\"ModelChanged\\\", \\\"model\\\": {\\\"id\\\": \\\"2263\\\"}, \\\"new\\\": \\\"<span style=\\\\\\\"color:black;font-family:Arial;font-style:bold;font-weight:bold;font-size:12pt\\\\\\\">neighborhood: Westwood Park<\\\\/span>\\\"}], \\\"references\\\": []}\",\"header\":\"{\\\"msgid\\\": \\\"2498\\\", \\\"msgtype\\\": \\\"PATCH-DOC\\\"}\",\"metadata\":\"{}\"},\"Yerba Buena\":{\"content\":\"{\\\"events\\\": [{\\\"attr\\\": \\\"end\\\", \\\"kind\\\": \\\"ModelChanged\\\", \\\"model\\\": {\\\"id\\\": \\\"2152\\\"}, \\\"new\\\": 2015.0}, {\\\"attr\\\": \\\"reset_end\\\", \\\"kind\\\": \\\"ModelChanged\\\", \\\"model\\\": {\\\"id\\\": \\\"2152\\\"}, \\\"new\\\": 2015.0}, {\\\"attr\\\": \\\"start\\\", \\\"kind\\\": \\\"ModelChanged\\\", \\\"model\\\": {\\\"id\\\": \\\"2153\\\"}, \\\"new\\\": 270.08719060972004}, {\\\"attr\\\": \\\"reset_start\\\", \\\"kind\\\": \\\"ModelChanged\\\", \\\"model\\\": {\\\"id\\\": \\\"2153\\\"}, \\\"new\\\": 270.08719060972004}, {\\\"attr\\\": \\\"end\\\", \\\"kind\\\": \\\"ModelChanged\\\", \\\"model\\\": {\\\"id\\\": \\\"2153\\\"}, \\\"new\\\": 1026.5621893963462}, {\\\"attr\\\": \\\"reset_end\\\", \\\"kind\\\": \\\"ModelChanged\\\", \\\"model\\\": {\\\"id\\\": \\\"2153\\\"}, \\\"new\\\": 1026.5621893963462}, {\\\"cols\\\": null, \\\"column_source\\\": {\\\"id\\\": \\\"2185\\\"}, \\\"kind\\\": \\\"ColumnDataChanged\\\", \\\"new\\\": {\\\"sale_price_sqr_foot\\\": {\\\"__ndarray__\\\": \\\"2hECRAfSdEB3bevKxG17QBDwDygGvX5AZqvdXxeIh0Ae7tWsx/59QOv8I0wuHI5A\\\", \\\"dtype\\\": \\\"float64\\\", \\\"order\\\": \\\"little\\\", \\\"shape\\\": [6]}, \\\"year\\\": [2010, 2011, 2012, 2013, 2014, 2015]}}, {\\\"attr\\\": \\\"start\\\", \\\"kind\\\": \\\"ModelChanged\\\", \\\"model\\\": {\\\"id\\\": \\\"2197\\\"}, \\\"new\\\": 989.0}, {\\\"attr\\\": \\\"reset_start\\\", \\\"kind\\\": \\\"ModelChanged\\\", \\\"model\\\": {\\\"id\\\": \\\"2197\\\"}, \\\"new\\\": 989.0}, {\\\"attr\\\": \\\"end\\\", \\\"kind\\\": \\\"ModelChanged\\\", \\\"model\\\": {\\\"id\\\": \\\"2197\\\"}, \\\"new\\\": 3989.0}, {\\\"attr\\\": \\\"reset_end\\\", \\\"kind\\\": \\\"ModelChanged\\\", \\\"model\\\": {\\\"id\\\": \\\"2197\\\"}, \\\"new\\\": 3989.0}, {\\\"cols\\\": null, \\\"column_source\\\": {\\\"id\\\": \\\"2229\\\"}, \\\"kind\\\": \\\"ColumnDataChanged\\\", \\\"new\\\": {\\\"gross_rent\\\": [1239, 1530, 2324, 2971, 3528, 3739], \\\"year\\\": [2010, 2011, 2012, 2013, 2014, 2015]}}, {\\\"attr\\\": \\\"text\\\", \\\"kind\\\": \\\"ModelChanged\\\", \\\"model\\\": {\\\"id\\\": \\\"2263\\\"}, \\\"new\\\": \\\"<span style=\\\\\\\"color:black;font-family:Arial;font-style:bold;font-weight:bold;font-size:12pt\\\\\\\">neighborhood: Yerba Buena<\\\\/span>\\\"}], \\\"references\\\": []}\",\"header\":\"{\\\"msgid\\\": \\\"2489\\\", \\\"msgtype\\\": \\\"PATCH-DOC\\\"}\",\"metadata\":\"{}\"}},\"values\":[\"Alamo Square\"],\"widgets\":{\"2429\":0}},\"id\":\"2447\",\"type\":\"panel.models.state.State\"},{\"attributes\":{\"data\":{\"sale_price_sqr_foot\":{\"__ndarray__\":\"Dkc7WO0yckCafszcbwhxQIGRs5ot42ZAJzog0LQ8eEAWMinKGEd+QI0V5FDt0IJAVCHcmLVPdUA=\",\"dtype\":\"float64\",\"order\":\"little\",\"shape\":[7]},\"year\":[2010,2011,2012,2013,2014,2015,2016]},\"selected\":{\"id\":\"2186\"},\"selection_policy\":{\"id\":\"2248\"}},\"id\":\"2185\",\"type\":\"ColumnDataSource\"},{\"attributes\":{\"line_color\":\"#1f77b3\",\"line_width\":2,\"x\":{\"field\":\"year\"},\"y\":{\"field\":\"gross_rent\"}},\"id\":\"2232\",\"type\":\"Line\"},{\"attributes\":{\"end\":2016.0,\"reset_end\":2016.0,\"reset_start\":2010.0,\"start\":2010.0,\"tags\":[[[\"year\",\"year\",null]]]},\"id\":\"2152\",\"type\":\"Range1d\"},{\"attributes\":{\"data\":{\"gross_rent\":[1239,1530,2324,2971,3528,3739,4390],\"year\":[2010,2011,2012,2013,2014,2015,2016]},\"selected\":{\"id\":\"2230\"},\"selection_policy\":{\"id\":\"2257\"}},\"id\":\"2229\",\"type\":\"ColumnDataSource\"},{\"attributes\":{},\"id\":\"2213\",\"type\":\"BasicTicker\"},{\"attributes\":{},\"id\":\"2248\",\"type\":\"UnionRenderers\"},{\"attributes\":{},\"id\":\"2220\",\"type\":\"ResetTool\"},{\"attributes\":{\"toolbar\":{\"id\":\"2260\"},\"toolbar_location\":\"above\"},\"id\":\"2261\",\"type\":\"ToolbarBox\"},{\"attributes\":{},\"id\":\"2216\",\"type\":\"SaveTool\"},{\"attributes\":{\"active_drag\":\"auto\",\"active_inspect\":\"auto\",\"active_multi\":null,\"active_scroll\":\"auto\",\"active_tap\":\"auto\",\"tools\":[{\"id\":\"2154\"},{\"id\":\"2172\"},{\"id\":\"2173\"},{\"id\":\"2174\"},{\"id\":\"2175\"},{\"id\":\"2176\"}]},\"id\":\"2178\",\"type\":\"Toolbar\"},{\"attributes\":{},\"id\":\"2162\",\"type\":\"LinearScale\"},{\"attributes\":{\"children\":[{\"id\":\"2427\"},{\"id\":\"2428\"},{\"id\":\"2430\"}],\"margin\":[0,0,0,0],\"name\":\"Column13612\"},\"id\":\"2426\",\"type\":\"Column\"},{\"attributes\":{},\"id\":\"2217\",\"type\":\"PanTool\"},{\"attributes\":{\"toolbars\":[{\"id\":\"2178\"},{\"id\":\"2222\"}],\"tools\":[{\"id\":\"2154\"},{\"id\":\"2172\"},{\"id\":\"2173\"},{\"id\":\"2174\"},{\"id\":\"2175\"},{\"id\":\"2176\"},{\"id\":\"2198\"},{\"id\":\"2216\"},{\"id\":\"2217\"},{\"id\":\"2218\"},{\"id\":\"2219\"},{\"id\":\"2220\"}]},\"id\":\"2260\",\"type\":\"ProxyToolbar\"},{\"attributes\":{\"children\":[{\"id\":\"2429\"}],\"css_classes\":[\"panel-widget-box\"],\"margin\":[5,5,5,5],\"name\":\"WidgetBox13603\"},\"id\":\"2428\",\"type\":\"Column\"},{\"attributes\":{\"overlay\":{\"id\":\"2221\"}},\"id\":\"2219\",\"type\":\"BoxZoomTool\"},{\"attributes\":{},\"id\":\"2172\",\"type\":\"SaveTool\"},{\"attributes\":{\"js_property_callbacks\":{\"change:value\":[{\"id\":\"2448\"}]},\"margin\":[20,20,20,20],\"min_width\":250,\"options\":[\"Alamo Square\",\"Anza Vista\",\"Bayview\",\"Bayview Heights\",\"Bernal Heights \",\"Buena Vista Park\",\"Central Richmond\",\"Central Sunset\",\"Clarendon Heights\",\"Corona Heights\",\"Cow Hollow\",\"Croker Amazon\",\"Diamond Heights\",\"Downtown \",\"Duboce Triangle\",\"Eureka Valley/Dolores Heights\",\"Excelsior\",\"Financial District North\",\"Financial District South\",\"Forest Knolls\",\"Glen Park\",\"Golden Gate Heights\",\"Haight Ashbury\",\"Hayes Valley\",\"Hunters Point\",\"Ingleside \",\"Ingleside Heights\",\"Inner Mission\",\"Inner Parkside\",\"Inner Richmond\",\"Inner Sunset\",\"Jordan Park/Laurel Heights\",\"Lake --The Presidio\",\"Lone Mountain\",\"Lower Pacific Heights\",\"Marina\",\"Merced Heights\",\"Midtown Terrace\",\"Miraloma Park\",\"Mission Bay\",\"Mission Dolores\",\"Mission Terrace\",\"Nob Hill\",\"Noe Valley\",\"North Beach\",\"North Waterfront\",\"Oceanview\",\"Outer Mission\",\"Outer Parkside\",\"Outer Richmond \",\"Outer Sunset\",\"Pacific Heights\",\"Park North\",\"Parkside\",\"Parnassus/Ashbury Heights\",\"Portola\",\"Potrero Hill\",\"Presidio Heights\",\"Russian Hill\",\"Silver Terrace\",\"South Beach\",\"South of Market\",\"Sunnyside\",\"Telegraph Hill\",\"Twin Peaks\",\"Union Square District\",\"Van Ness/ Civic Center\",\"Visitacion Valley\",\"West Portal\",\"Western Addition\",\"Westwood Highlands\",\"Westwood Park\",\"Yerba Buena\"],\"title\":\"neighborhood\",\"value\":\"Alamo Square\",\"width\":250},\"id\":\"2429\",\"type\":\"Select\"},{\"attributes\":{\"line_alpha\":0.2,\"line_color\":\"#1f77b3\",\"line_width\":2,\"x\":{\"field\":\"year\"},\"y\":{\"field\":\"sale_price_sqr_foot\"}},\"id\":\"2190\",\"type\":\"Line\"},{\"attributes\":{},\"id\":\"2186\",\"type\":\"Selection\"},{\"attributes\":{\"line_color\":\"#1f77b3\",\"line_width\":2,\"x\":{\"field\":\"year\"},\"y\":{\"field\":\"sale_price_sqr_foot\"}},\"id\":\"2188\",\"type\":\"Line\"},{\"attributes\":{},\"id\":\"2195\",\"type\":\"BasicTickFormatter\"},{\"attributes\":{},\"id\":\"2209\",\"type\":\"BasicTicker\"},{\"attributes\":{},\"id\":\"2173\",\"type\":\"PanTool\"},{\"attributes\":{},\"id\":\"2218\",\"type\":\"WheelZoomTool\"},{\"attributes\":{\"data_source\":{\"id\":\"2185\"},\"glyph\":{\"id\":\"2188\"},\"hover_glyph\":null,\"muted_glyph\":{\"id\":\"2190\"},\"nonselection_glyph\":{\"id\":\"2189\"},\"selection_glyph\":null,\"view\":{\"id\":\"2192\"}},\"id\":\"2191\",\"type\":\"GlyphRenderer\"},{\"attributes\":{\"children\":[{\"id\":\"2151\"},{\"id\":\"2264\"},{\"id\":\"2425\"},{\"id\":\"2426\"}],\"margin\":[0,0,0,0],\"name\":\"Row13602\",\"tags\":[\"embedded\"]},\"id\":\"2150\",\"type\":\"Row\"},{\"attributes\":{\"axis_label\":\"sale_price_sqr_foot\",\"bounds\":\"auto\",\"formatter\":{\"id\":\"2195\"},\"major_label_orientation\":\"horizontal\",\"ticker\":{\"id\":\"2169\"}},\"id\":\"2168\",\"type\":\"LinearAxis\"},{\"attributes\":{},\"id\":\"2204\",\"type\":\"LinearScale\"},{\"attributes\":{\"style\":{\"white-space\":\"nowrap\"},\"text\":\"<span style=\\\"color:black;font-family:Arial;font-style:bold;font-weight:bold;font-size:12pt\\\">neighborhood: Alamo Square</span>\",\"width\":450},\"id\":\"2263\",\"type\":\"Div\"},{\"attributes\":{},\"id\":\"2257\",\"type\":\"UnionRenderers\"},{\"attributes\":{\"below\":[{\"id\":\"2164\"}],\"center\":[{\"id\":\"2167\"},{\"id\":\"2171\"}],\"left\":[{\"id\":\"2168\"}],\"margin\":null,\"min_border_bottom\":10,\"min_border_left\":10,\"min_border_right\":10,\"min_border_top\":10,\"plot_height\":300,\"plot_width\":700,\"renderers\":[{\"id\":\"2191\"}],\"sizing_mode\":\"fixed\",\"title\":{\"id\":\"2156\"},\"toolbar\":{\"id\":\"2178\"},\"toolbar_location\":null,\"x_range\":{\"id\":\"2152\"},\"x_scale\":{\"id\":\"2160\"},\"y_range\":{\"id\":\"2153\"},\"y_scale\":{\"id\":\"2162\"}},\"id\":\"2155\",\"subtype\":\"Figure\",\"type\":\"Plot\"},{\"attributes\":{},\"id\":\"2160\",\"type\":\"LinearScale\"},{\"attributes\":{\"line_alpha\":0.1,\"line_color\":\"#1f77b3\",\"line_width\":2,\"x\":{\"field\":\"year\"},\"y\":{\"field\":\"sale_price_sqr_foot\"}},\"id\":\"2189\",\"type\":\"Line\"},{\"attributes\":{\"active_drag\":\"auto\",\"active_inspect\":\"auto\",\"active_multi\":null,\"active_scroll\":\"auto\",\"active_tap\":\"auto\",\"tools\":[{\"id\":\"2198\"},{\"id\":\"2216\"},{\"id\":\"2217\"},{\"id\":\"2218\"},{\"id\":\"2219\"},{\"id\":\"2220\"}]},\"id\":\"2222\",\"type\":\"Toolbar\"},{\"attributes\":{\"overlay\":{\"id\":\"2177\"}},\"id\":\"2175\",\"type\":\"BoxZoomTool\"},{\"attributes\":{\"axis_label\":\"gross_rent\",\"bounds\":\"auto\",\"formatter\":{\"id\":\"2239\"},\"major_label_orientation\":\"horizontal\",\"ticker\":{\"id\":\"2213\"}},\"id\":\"2212\",\"type\":\"LinearAxis\"},{\"attributes\":{\"margin\":[5,5,5,5],\"name\":\"HSpacer13614\",\"sizing_mode\":\"stretch_width\"},\"id\":\"2425\",\"type\":\"Spacer\"},{\"attributes\":{\"bottom_units\":\"screen\",\"fill_alpha\":0.5,\"fill_color\":\"lightgrey\",\"left_units\":\"screen\",\"level\":\"overlay\",\"line_alpha\":1.0,\"line_color\":\"black\",\"line_dash\":[4,4],\"line_width\":2,\"right_units\":\"screen\",\"top_units\":\"screen\"},\"id\":\"2221\",\"type\":\"BoxAnnotation\"},{\"attributes\":{\"below\":[{\"id\":\"2208\"}],\"center\":[{\"id\":\"2211\"},{\"id\":\"2215\"}],\"left\":[{\"id\":\"2212\"}],\"margin\":null,\"min_border_bottom\":10,\"min_border_left\":10,\"min_border_right\":10,\"min_border_top\":10,\"plot_height\":300,\"plot_width\":700,\"renderers\":[{\"id\":\"2235\"}],\"sizing_mode\":\"fixed\",\"title\":{\"id\":\"2200\"},\"toolbar\":{\"id\":\"2222\"},\"toolbar_location\":null,\"x_range\":{\"id\":\"2152\"},\"x_scale\":{\"id\":\"2204\"},\"y_range\":{\"id\":\"2197\"},\"y_scale\":{\"id\":\"2206\"}},\"id\":\"2199\",\"subtype\":\"Figure\",\"type\":\"Plot\"},{\"attributes\":{\"end\":4705.1,\"reset_end\":4705.1,\"reset_start\":923.9,\"start\":923.9,\"tags\":[[[\"gross_rent\",\"gross_rent\",null]]]},\"id\":\"2197\",\"type\":\"Range1d\"},{\"attributes\":{\"margin\":[5,5,5,5],\"name\":\"HSpacer13613\",\"sizing_mode\":\"stretch_width\"},\"id\":\"2151\",\"type\":\"Spacer\"},{\"attributes\":{\"text\":\"Average Monthly Rent\",\"text_color\":{\"value\":\"black\"},\"text_font_size\":{\"value\":\"12pt\"}},\"id\":\"2200\",\"type\":\"Title\"},{\"attributes\":{\"axis_label\":\"year\",\"bounds\":\"auto\",\"formatter\":{\"id\":\"2237\"},\"major_label_orientation\":\"horizontal\",\"ticker\":{\"id\":\"2209\"}},\"id\":\"2208\",\"type\":\"LinearAxis\"},{\"attributes\":{\"data_source\":{\"id\":\"2229\"},\"glyph\":{\"id\":\"2232\"},\"hover_glyph\":null,\"muted_glyph\":{\"id\":\"2234\"},\"nonselection_glyph\":{\"id\":\"2233\"},\"selection_glyph\":null,\"view\":{\"id\":\"2236\"}},\"id\":\"2235\",\"type\":\"GlyphRenderer\"},{\"attributes\":{\"margin\":[5,5,5,5],\"name\":\"VSpacer13610\",\"sizing_mode\":\"stretch_height\"},\"id\":\"2427\",\"type\":\"Spacer\"},{\"attributes\":{\"callback\":null,\"renderers\":[{\"id\":\"2191\"}],\"tags\":[\"hv_created\"],\"tooltips\":[[\"year\",\"@{year}\"],[\"sale_price_sqr_foot\",\"@{sale_price_sqr_foot}\"]]},\"id\":\"2154\",\"type\":\"HoverTool\"},{\"attributes\":{\"axis\":{\"id\":\"2212\"},\"dimension\":1,\"grid_line_color\":null,\"ticker\":null},\"id\":\"2215\",\"type\":\"Grid\"},{\"attributes\":{\"children\":[{\"id\":\"2263\"},{\"id\":\"2262\"}]},\"id\":\"2264\",\"type\":\"Column\"},{\"attributes\":{},\"id\":\"2174\",\"type\":\"WheelZoomTool\"},{\"attributes\":{},\"id\":\"2176\",\"type\":\"ResetTool\"},{\"attributes\":{},\"id\":\"2206\",\"type\":\"LinearScale\"},{\"attributes\":{\"children\":[{\"id\":\"2261\"},{\"id\":\"2259\"}]},\"id\":\"2262\",\"type\":\"Column\"},{\"attributes\":{\"source\":{\"id\":\"2229\"}},\"id\":\"2236\",\"type\":\"CDSView\"},{\"attributes\":{},\"id\":\"2230\",\"type\":\"Selection\"},{\"attributes\":{\"callback\":null,\"renderers\":[{\"id\":\"2235\"}],\"tags\":[\"hv_created\"],\"tooltips\":[[\"year\",\"@{year}\"],[\"gross_rent\",\"@{gross_rent}\"]]},\"id\":\"2198\",\"type\":\"HoverTool\"},{\"attributes\":{\"axis_label\":\"year\",\"bounds\":\"auto\",\"formatter\":{\"id\":\"2193\"},\"major_label_orientation\":\"horizontal\",\"ticker\":{\"id\":\"2165\"}},\"id\":\"2164\",\"type\":\"LinearAxis\"},{\"attributes\":{\"line_alpha\":0.2,\"line_color\":\"#1f77b3\",\"line_width\":2,\"x\":{\"field\":\"year\"},\"y\":{\"field\":\"gross_rent\"}},\"id\":\"2234\",\"type\":\"Line\"},{\"attributes\":{\"code\":\"\\nvar state = null\\nfor (var root of cb_obj.document.roots()) {\\n  if (root.id == '2447') {\\n    state = root;\\n    break;\\n  }\\n}\\nif (!state) { return; }\\nstate.set_state(cb_obj, cb_obj.value)\\n\"},\"id\":\"2448\",\"type\":\"CustomJS\"},{\"attributes\":{\"margin\":[5,5,5,5],\"name\":\"VSpacer13611\",\"sizing_mode\":\"stretch_height\"},\"id\":\"2430\",\"type\":\"Spacer\"},{\"attributes\":{\"axis\":{\"id\":\"2164\"},\"grid_line_color\":null,\"ticker\":null},\"id\":\"2167\",\"type\":\"Grid\"},{\"attributes\":{},\"id\":\"2165\",\"type\":\"BasicTicker\"},{\"attributes\":{\"line_alpha\":0.1,\"line_color\":\"#1f77b3\",\"line_width\":2,\"x\":{\"field\":\"year\"},\"y\":{\"field\":\"gross_rent\"}},\"id\":\"2233\",\"type\":\"Line\"},{\"attributes\":{\"text\":\"Average Price/sqft\",\"text_color\":{\"value\":\"black\"},\"text_font_size\":{\"value\":\"12pt\"}},\"id\":\"2156\",\"type\":\"Title\"},{\"attributes\":{\"end\":644.0175329447045,\"reset_end\":644.0175329447045,\"reset_start\":141.1976609302527,\"start\":141.1976609302527,\"tags\":[[[\"sale_price_sqr_foot\",\"sale_price_sqr_foot\",null]]]},\"id\":\"2153\",\"type\":\"Range1d\"},{\"attributes\":{\"axis\":{\"id\":\"2208\"},\"grid_line_color\":null,\"ticker\":null},\"id\":\"2211\",\"type\":\"Grid\"},{\"attributes\":{},\"id\":\"2239\",\"type\":\"BasicTickFormatter\"},{\"attributes\":{\"bottom_units\":\"screen\",\"fill_alpha\":0.5,\"fill_color\":\"lightgrey\",\"left_units\":\"screen\",\"level\":\"overlay\",\"line_alpha\":1.0,\"line_color\":\"black\",\"line_dash\":[4,4],\"line_width\":2,\"right_units\":\"screen\",\"top_units\":\"screen\"},\"id\":\"2177\",\"type\":\"BoxAnnotation\"},{\"attributes\":{\"axis\":{\"id\":\"2168\"},\"dimension\":1,\"grid_line_color\":null,\"ticker\":null},\"id\":\"2171\",\"type\":\"Grid\"},{\"attributes\":{},\"id\":\"2193\",\"type\":\"BasicTickFormatter\"}],\"root_ids\":[\"2150\",\"2447\"]},\"title\":\"Bokeh Application\",\"version\":\"2.2.3\"}};\n    var render_items = [{\"docid\":\"2415d9e5-9541-41d2-8b5d-3134285d20a7\",\"root_ids\":[\"2150\"],\"roots\":{\"2150\":\"6473587d-beb6-4367-8a98-b20c55848fc5\"}}];\n    root.Bokeh.embed.embed_items_notebook(docs_json, render_items);\n  }\n  if (root.Bokeh !== undefined && root.Bokeh.Panel !== undefined && root['Plotly'] !== undefined ) {\n    embed_document(root);\n  } else {\n    var attempts = 0;\n    var timer = setInterval(function(root) {\n      if (root.Bokeh !== undefined && root.Bokeh.Panel !== undefined && root['Plotly'] !== undefined) {\n        clearInterval(timer);\n        embed_document(root);\n      } else if (document.readyState == \"complete\") {\n        attempts++;\n        if (attempts > 100) {\n          clearInterval(timer);\n          console.log(\"Bokeh: ERROR: Unable to run BokehJS code because BokehJS library is missing\");\n        }\n      }\n    }, 10, root)\n  }\n})(window);</script>",
      "application/vnd.holoviews_exec.v0+json": "",
      "text/plain": [
       ":Layout\n",
       "   .HoloMap.Average_Price_over_sqft :HoloMap   [neighborhood]\n",
       "      :Curve   [year]   (sale_price_sqr_foot)\n",
       "   .HoloMap.Average_Monthly_Rent    :HoloMap   [neighborhood]\n",
       "      :Curve   [year]   (gross_rent)"
      ]
     },
     "metadata": {
      "application/vnd.holoviews_exec.v0+json": {
       "id": "2150"
      }
     },
     "execution_count": 85
    }
   ],
   "source": [
    "average_price_by_neighborhood()"
   ]
  },
  {
   "cell_type": "code",
   "execution_count": 86,
   "metadata": {},
   "outputs": [
    {
     "output_type": "display_data",
     "data": {},
     "metadata": {}
    },
    {
     "output_type": "execute_result",
     "data": {
      "text/html": "<div id='3186'>\n\n\n\n\n\n  <div class=\"bk-root\" id=\"46c58fb6-e563-4316-af20-d88c950892af\" data-root-id=\"3186\"></div>\n</div>\n<script type=\"application/javascript\">(function(root) {\n  function embed_document(root) {\n    var docs_json = {\"1e9e6b51-f614-4658-a3e8-24e964a8a1ef\":{\"roots\":{\"references\":[{\"attributes\":{\"fill_color\":{\"value\":\"#1f77b3\"},\"top\":{\"field\":\"sale_price_sqr_foot\"},\"width\":{\"value\":0.8},\"x\":{\"field\":\"neighborhood\"}},\"id\":\"3223\",\"type\":\"VBar\"},{\"attributes\":{},\"id\":\"3239\",\"type\":\"UnionRenderers\"},{\"attributes\":{\"fill_alpha\":{\"value\":0.1},\"fill_color\":{\"value\":\"#1f77b3\"},\"line_alpha\":{\"value\":0.1},\"top\":{\"field\":\"sale_price_sqr_foot\"},\"width\":{\"value\":0.8},\"x\":{\"field\":\"neighborhood\"}},\"id\":\"3224\",\"type\":\"VBar\"},{\"attributes\":{\"below\":[{\"id\":\"3200\"}],\"center\":[{\"id\":\"3202\"},{\"id\":\"3206\"}],\"left\":[{\"id\":\"3203\"}],\"margin\":[5,5,5,5],\"min_border_bottom\":10,\"min_border_left\":10,\"min_border_right\":10,\"min_border_top\":10,\"plot_height\":300,\"plot_width\":700,\"renderers\":[{\"id\":\"3226\"}],\"sizing_mode\":\"fixed\",\"title\":{\"id\":\"3192\"},\"toolbar\":{\"id\":\"3213\"},\"x_range\":{\"id\":\"3188\"},\"x_scale\":{\"id\":\"3196\"},\"y_range\":{\"id\":\"3189\"},\"y_scale\":{\"id\":\"3198\"}},\"id\":\"3191\",\"subtype\":\"Figure\",\"type\":\"Plot\"},{\"attributes\":{},\"id\":\"3207\",\"type\":\"SaveTool\"},{\"attributes\":{},\"id\":\"3208\",\"type\":\"PanTool\"},{\"attributes\":{},\"id\":\"3211\",\"type\":\"ResetTool\"},{\"attributes\":{},\"id\":\"3209\",\"type\":\"WheelZoomTool\"},{\"attributes\":{\"overlay\":{\"id\":\"3212\"}},\"id\":\"3210\",\"type\":\"BoxZoomTool\"},{\"attributes\":{\"margin\":[5,5,5,5],\"name\":\"HSpacer111864\",\"sizing_mode\":\"stretch_width\"},\"id\":\"3248\",\"type\":\"Spacer\"},{\"attributes\":{},\"id\":\"3196\",\"type\":\"CategoricalScale\"},{\"attributes\":{\"source\":{\"id\":\"3220\"}},\"id\":\"3227\",\"type\":\"CDSView\"},{\"attributes\":{\"axis\":{\"id\":\"3200\"},\"grid_line_color\":null,\"ticker\":null},\"id\":\"3202\",\"type\":\"Grid\"},{\"attributes\":{},\"id\":\"3201\",\"type\":\"CategoricalTicker\"},{\"attributes\":{\"text\":\"10 Most Expensive Neighborhoods\",\"text_color\":{\"value\":\"black\"},\"text_font_size\":{\"value\":\"12pt\"}},\"id\":\"3192\",\"type\":\"Title\"},{\"attributes\":{},\"id\":\"3198\",\"type\":\"LinearScale\"},{\"attributes\":{\"axis_label\":\"neighborhood\",\"bounds\":\"auto\",\"formatter\":{\"id\":\"3228\"},\"major_label_orientation\":0.7853981633974483,\"ticker\":{\"id\":\"3201\"}},\"id\":\"3200\",\"type\":\"CategoricalAxis\"},{\"attributes\":{\"children\":[{\"id\":\"3187\"},{\"id\":\"3191\"},{\"id\":\"3248\"}],\"margin\":[0,0,0,0],\"name\":\"Row111859\",\"tags\":[\"embedded\"]},\"id\":\"3186\",\"type\":\"Row\"},{\"attributes\":{\"data\":{\"neighborhood\":[\"Union Square District\",\"Merced Heights\",\"Miraloma Park\",\"Pacific Heights\",\"Westwood Park\",\"Telegraph Hill\",\"Presidio Heights\",\"Cow Hollow\",\"Potrero Hill\",\"South Beach\"],\"sale_price_sqr_foot\":{\"__ndarray__\":\"JRAUMfI/jEB9IrkvwqaIQFx/3pp8XohAFpsVUHKMhUBs0ERas3iFQL0KhXgNJIVAy835O80ahUANV25bts+EQJrMCuEbsIRAya3y7v5QhEA=\",\"dtype\":\"float64\",\"order\":\"little\",\"shape\":[10]}},\"selected\":{\"id\":\"3221\"},\"selection_policy\":{\"id\":\"3239\"}},\"id\":\"3220\",\"type\":\"ColumnDataSource\"},{\"attributes\":{\"end\":1000,\"reset_end\":1000,\"reset_start\":600,\"start\":600,\"tags\":[[[\"sale_price_sqr_foot\",\"sale_price_sqr_foot\",null]]]},\"id\":\"3189\",\"type\":\"Range1d\"},{\"attributes\":{\"axis_label\":\"sale_price_sqr_foot\",\"bounds\":\"auto\",\"formatter\":{\"id\":\"3230\"},\"major_label_orientation\":\"horizontal\",\"ticker\":{\"id\":\"3204\"}},\"id\":\"3203\",\"type\":\"LinearAxis\"},{\"attributes\":{\"margin\":[5,5,5,5],\"name\":\"HSpacer111863\",\"sizing_mode\":\"stretch_width\"},\"id\":\"3187\",\"type\":\"Spacer\"},{\"attributes\":{},\"id\":\"3204\",\"type\":\"BasicTicker\"},{\"attributes\":{\"axis\":{\"id\":\"3203\"},\"dimension\":1,\"grid_line_color\":null,\"ticker\":null},\"id\":\"3206\",\"type\":\"Grid\"},{\"attributes\":{},\"id\":\"3221\",\"type\":\"Selection\"},{\"attributes\":{\"active_drag\":\"auto\",\"active_inspect\":\"auto\",\"active_multi\":null,\"active_scroll\":\"auto\",\"active_tap\":\"auto\",\"tools\":[{\"id\":\"3190\"},{\"id\":\"3207\"},{\"id\":\"3208\"},{\"id\":\"3209\"},{\"id\":\"3210\"},{\"id\":\"3211\"}]},\"id\":\"3213\",\"type\":\"Toolbar\"},{\"attributes\":{\"data_source\":{\"id\":\"3220\"},\"glyph\":{\"id\":\"3223\"},\"hover_glyph\":null,\"muted_glyph\":{\"id\":\"3225\"},\"nonselection_glyph\":{\"id\":\"3224\"},\"selection_glyph\":null,\"view\":{\"id\":\"3227\"}},\"id\":\"3226\",\"type\":\"GlyphRenderer\"},{\"attributes\":{},\"id\":\"3228\",\"type\":\"CategoricalTickFormatter\"},{\"attributes\":{},\"id\":\"3230\",\"type\":\"BasicTickFormatter\"},{\"attributes\":{\"callback\":null,\"renderers\":[{\"id\":\"3226\"}],\"tags\":[\"hv_created\"],\"tooltips\":[[\"neighborhood\",\"@{neighborhood}\"],[\"sale_price_sqr_foot\",\"@{sale_price_sqr_foot}\"]]},\"id\":\"3190\",\"type\":\"HoverTool\"},{\"attributes\":{\"fill_alpha\":{\"value\":0.2},\"fill_color\":{\"value\":\"#1f77b3\"},\"line_alpha\":{\"value\":0.2},\"top\":{\"field\":\"sale_price_sqr_foot\"},\"width\":{\"value\":0.8},\"x\":{\"field\":\"neighborhood\"}},\"id\":\"3225\",\"type\":\"VBar\"},{\"attributes\":{\"bottom_units\":\"screen\",\"fill_alpha\":0.5,\"fill_color\":\"lightgrey\",\"left_units\":\"screen\",\"level\":\"overlay\",\"line_alpha\":1.0,\"line_color\":\"black\",\"line_dash\":[4,4],\"line_width\":2,\"right_units\":\"screen\",\"top_units\":\"screen\"},\"id\":\"3212\",\"type\":\"BoxAnnotation\"},{\"attributes\":{\"factors\":[\"Union Square District\",\"Merced Heights\",\"Miraloma Park\",\"Pacific Heights\",\"Westwood Park\",\"Telegraph Hill\",\"Presidio Heights\",\"Cow Hollow\",\"Potrero Hill\",\"South Beach\"],\"tags\":[[[\"neighborhood\",\"neighborhood\",null]]]},\"id\":\"3188\",\"type\":\"FactorRange\"}],\"root_ids\":[\"3186\"]},\"title\":\"Bokeh Application\",\"version\":\"2.2.3\"}};\n    var render_items = [{\"docid\":\"1e9e6b51-f614-4658-a3e8-24e964a8a1ef\",\"root_ids\":[\"3186\"],\"roots\":{\"3186\":\"46c58fb6-e563-4316-af20-d88c950892af\"}}];\n    root.Bokeh.embed.embed_items_notebook(docs_json, render_items);\n  }\n  if (root.Bokeh !== undefined && root.Bokeh.Panel !== undefined && root['Plotly'] !== undefined ) {\n    embed_document(root);\n  } else {\n    var attempts = 0;\n    var timer = setInterval(function(root) {\n      if (root.Bokeh !== undefined && root.Bokeh.Panel !== undefined && root['Plotly'] !== undefined) {\n        clearInterval(timer);\n        embed_document(root);\n      } else if (document.readyState == \"complete\") {\n        attempts++;\n        if (attempts > 100) {\n          clearInterval(timer);\n          console.log(\"Bokeh: ERROR: Unable to run BokehJS code because BokehJS library is missing\");\n        }\n      }\n    }, 10, root)\n  }\n})(window);</script>",
      "application/vnd.holoviews_exec.v0+json": "",
      "text/plain": [
       ":Bars   [neighborhood]   (sale_price_sqr_foot)"
      ]
     },
     "metadata": {
      "application/vnd.holoviews_exec.v0+json": {
       "id": "3186"
      }
     },
     "execution_count": 86
    }
   ],
   "source": [
    "top_most_expensive_neighborhoods()"
   ]
  },
  {
   "cell_type": "code",
   "execution_count": 89,
   "metadata": {},
   "outputs": [
    {
     "output_type": "display_data",
     "data": {},
     "metadata": {}
    },
    {
     "output_type": "execute_result",
     "data": {
      "text/html": "<div id='3290'>\n\n\n\n\n\n  <div class=\"bk-root\" id=\"240ec44e-fe20-4ab2-83da-fc3a4a328d6d\" data-root-id=\"3290\"></div>\n</div>\n<script type=\"application/javascript\">(function(root) {\n  function embed_document(root) {\n    var docs_json = {\"9bbc1de2-ec3c-4736-acf3-269947bd5c9c\":{\"roots\":{\"references\":[{\"attributes\":{},\"id\":\"3305\",\"type\":\"CategoricalTicker\"},{\"attributes\":{\"client_comm_id\":\"9db05b5361f44150b54e827baf2a97ab\",\"comm_id\":\"fe3b975d6c8841f4a303b952903c05cd\",\"plot_id\":\"3290\"},\"id\":\"3387\",\"type\":\"panel.models.comm_manager.CommManager\"},{\"attributes\":{},\"id\":\"3302\",\"type\":\"LinearScale\"},{\"attributes\":{\"end\":4789.940434697159,\"reset_end\":4789.940434697159,\"reset_start\":0.0,\"tags\":[[[\"value\",\"value\",null]]]},\"id\":\"3293\",\"type\":\"Range1d\"},{\"attributes\":{\"axis_label\":\"Yearly Rent vs Price/sqft\",\"bounds\":\"auto\",\"formatter\":{\"id\":\"3333\"},\"major_label_orientation\":1.5707963267948966,\"ticker\":{\"id\":\"3305\"}},\"id\":\"3304\",\"type\":\"CategoricalAxis\"},{\"attributes\":{\"margin\":[5,5,5,5],\"name\":\"VSpacer111965\",\"sizing_mode\":\"stretch_height\"},\"id\":\"3362\",\"type\":\"Spacer\"},{\"attributes\":{\"source\":{\"id\":\"3325\"}},\"id\":\"3332\",\"type\":\"CDSView\"},{\"attributes\":{\"children\":[{\"id\":\"3361\"}],\"css_classes\":[\"panel-widget-box\"],\"margin\":[5,5,5,5],\"name\":\"WidgetBox111959\"},\"id\":\"3360\",\"type\":\"Column\"},{\"attributes\":{\"axis_label\":\"Average Price\",\"bounds\":\"auto\",\"formatter\":{\"id\":\"3335\"},\"major_label_orientation\":\"horizontal\",\"ticker\":{\"id\":\"3308\"}},\"id\":\"3307\",\"type\":\"LinearAxis\"},{\"attributes\":{\"data\":{\"Variable\":[\"sale_price_sqr_foot\",\"sale_price_sqr_foot\",\"sale_price_sqr_foot\",\"sale_price_sqr_foot\",\"sale_price_sqr_foot\",\"sale_price_sqr_foot\",\"sale_price_sqr_foot\",\"gross_rent\",\"gross_rent\",\"gross_rent\",\"gross_rent\",\"gross_rent\",\"gross_rent\",\"gross_rent\"],\"value\":{\"__ndarray__\":\"LMKfLArLgUAbTXjLh2l4QAnYXuSLJoRAMODd8zgbhkCYJdtc7J6FQJ+1dd72tIJAlnINLUOMkEAAAAAAAFyTQAAAAAAA6JdAAAAAAAAookAAAAAAADanQAAAAAAAkKtAAAAAAAA2rUAAAAAAACaxQA==\",\"dtype\":\"float64\",\"order\":\"little\",\"shape\":[14]},\"xoffsets\":[[\"2010\",\"sale_price_sqr_foot\"],[\"2011\",\"sale_price_sqr_foot\"],[\"2012\",\"sale_price_sqr_foot\"],[\"2013\",\"sale_price_sqr_foot\"],[\"2014\",\"sale_price_sqr_foot\"],[\"2015\",\"sale_price_sqr_foot\"],[\"2016\",\"sale_price_sqr_foot\"],[\"2010\",\"gross_rent\"],[\"2011\",\"gross_rent\"],[\"2012\",\"gross_rent\"],[\"2013\",\"gross_rent\"],[\"2014\",\"gross_rent\"],[\"2015\",\"gross_rent\"],[\"2016\",\"gross_rent\"]],\"year\":[\"2010\",\"2011\",\"2012\",\"2013\",\"2014\",\"2015\",\"2016\",\"2010\",\"2011\",\"2012\",\"2013\",\"2014\",\"2015\",\"2016\"]},\"selected\":{\"id\":\"3326\"},\"selection_policy\":{\"id\":\"3348\"}},\"id\":\"3325\",\"type\":\"ColumnDataSource\"},{\"attributes\":{\"data_source\":{\"id\":\"3325\"},\"glyph\":{\"id\":\"3328\"},\"hover_glyph\":null,\"muted_glyph\":{\"id\":\"3330\"},\"nonselection_glyph\":{\"id\":\"3329\"},\"selection_glyph\":null,\"view\":{\"id\":\"3332\"}},\"id\":\"3331\",\"type\":\"GlyphRenderer\"},{\"attributes\":{\"fill_alpha\":{\"value\":0.1},\"fill_color\":{\"field\":\"Variable\",\"transform\":{\"id\":\"3324\"}},\"line_alpha\":{\"value\":0.1},\"top\":{\"field\":\"value\"},\"width\":{\"value\":0.8},\"x\":{\"field\":\"xoffsets\"}},\"id\":\"3329\",\"type\":\"VBar\"},{\"attributes\":{},\"id\":\"3308\",\"type\":\"BasicTicker\"},{\"attributes\":{\"axis\":{\"id\":\"3307\"},\"dimension\":1,\"grid_line_color\":null,\"ticker\":null},\"id\":\"3310\",\"type\":\"Grid\"},{\"attributes\":{\"callback\":null,\"renderers\":[{\"id\":\"3331\"}],\"tags\":[\"hv_created\"],\"tooltips\":[[\"year\",\"@{year}\"],[\"Variable\",\"@{Variable}\"],[\"value\",\"@{value}\"]]},\"id\":\"3294\",\"type\":\"HoverTool\"},{\"attributes\":{\"active_drag\":\"auto\",\"active_inspect\":\"auto\",\"active_multi\":null,\"active_scroll\":\"auto\",\"active_tap\":\"auto\",\"tools\":[{\"id\":\"3294\"},{\"id\":\"3311\"},{\"id\":\"3312\"},{\"id\":\"3313\"},{\"id\":\"3314\"},{\"id\":\"3315\"}]},\"id\":\"3317\",\"type\":\"Toolbar\"},{\"attributes\":{\"margin\":[5,5,5,5],\"name\":\"VSpacer111964\",\"sizing_mode\":\"stretch_height\"},\"id\":\"3359\",\"type\":\"Spacer\"},{\"attributes\":{},\"id\":\"3348\",\"type\":\"UnionRenderers\"},{\"attributes\":{\"bottom_units\":\"screen\",\"fill_alpha\":0.5,\"fill_color\":\"lightgrey\",\"left_units\":\"screen\",\"level\":\"overlay\",\"line_alpha\":1.0,\"line_color\":\"black\",\"line_dash\":[4,4],\"line_width\":2,\"right_units\":\"screen\",\"top_units\":\"screen\"},\"id\":\"3316\",\"type\":\"BoxAnnotation\"},{\"attributes\":{\"factors\":[\"sale_price_sqr_foot\",\"gross_rent\"],\"palette\":[\"#1f77b3\",\"#ff7e0e\"]},\"id\":\"3324\",\"type\":\"CategoricalColorMapper\"},{\"attributes\":{\"text\":\"High cost of living   neighborhood: Cow Hollow\",\"text_color\":{\"value\":\"black\"},\"text_font_size\":{\"value\":\"12pt\"}},\"id\":\"3296\",\"type\":\"Title\"},{\"attributes\":{},\"id\":\"3335\",\"type\":\"BasicTickFormatter\"},{\"attributes\":{},\"id\":\"3326\",\"type\":\"Selection\"},{\"attributes\":{\"margin\":[5,5,5,5],\"name\":\"HSpacer111967\",\"sizing_mode\":\"stretch_width\"},\"id\":\"3291\",\"type\":\"Spacer\"},{\"attributes\":{\"margin\":[5,5,5,5],\"name\":\"HSpacer111968\",\"sizing_mode\":\"stretch_width\"},\"id\":\"3357\",\"type\":\"Spacer\"},{\"attributes\":{\"below\":[{\"id\":\"3304\"}],\"center\":[{\"id\":\"3306\"},{\"id\":\"3310\"}],\"left\":[{\"id\":\"3307\"}],\"margin\":[5,5,5,5],\"min_border_bottom\":10,\"min_border_left\":10,\"min_border_right\":10,\"min_border_top\":10,\"plot_height\":300,\"plot_width\":700,\"renderers\":[{\"id\":\"3331\"}],\"sizing_mode\":\"fixed\",\"title\":{\"id\":\"3296\"},\"toolbar\":{\"id\":\"3317\"},\"x_range\":{\"id\":\"3292\"},\"x_scale\":{\"id\":\"3300\"},\"y_range\":{\"id\":\"3293\"},\"y_scale\":{\"id\":\"3302\"}},\"id\":\"3295\",\"subtype\":\"Figure\",\"type\":\"Plot\"},{\"attributes\":{},\"id\":\"3311\",\"type\":\"SaveTool\"},{\"attributes\":{},\"id\":\"3312\",\"type\":\"PanTool\"},{\"attributes\":{},\"id\":\"3333\",\"type\":\"CategoricalTickFormatter\"},{\"attributes\":{},\"id\":\"3313\",\"type\":\"WheelZoomTool\"},{\"attributes\":{\"margin\":[20,20,20,20],\"min_width\":250,\"options\":[\"Cow Hollow\",\"Miraloma Park\",\"Pacific Heights\",\"Potrero Hill\",\"Presidio Heights\",\"South Beach\",\"Telegraph Hill\",\"Union Square District\",\"Merced Heights\",\"Westwood Park\"],\"title\":\"neighborhood\",\"value\":\"Cow Hollow\",\"width\":250},\"id\":\"3361\",\"type\":\"Select\"},{\"attributes\":{\"children\":[{\"id\":\"3291\"},{\"id\":\"3295\"},{\"id\":\"3357\"},{\"id\":\"3358\"}],\"margin\":[0,0,0,0],\"name\":\"Row111958\"},\"id\":\"3290\",\"type\":\"Row\"},{\"attributes\":{\"children\":[{\"id\":\"3359\"},{\"id\":\"3360\"},{\"id\":\"3362\"}],\"margin\":[0,0,0,0],\"name\":\"Column111966\"},\"id\":\"3358\",\"type\":\"Column\"},{\"attributes\":{\"overlay\":{\"id\":\"3316\"}},\"id\":\"3314\",\"type\":\"BoxZoomTool\"},{\"attributes\":{\"factors\":[[\"2010\",\"gross_rent\"],[\"2010\",\"sale_price_sqr_foot\"],[\"2011\",\"gross_rent\"],[\"2011\",\"sale_price_sqr_foot\"],[\"2012\",\"gross_rent\"],[\"2012\",\"sale_price_sqr_foot\"],[\"2013\",\"gross_rent\"],[\"2013\",\"sale_price_sqr_foot\"],[\"2014\",\"gross_rent\"],[\"2014\",\"sale_price_sqr_foot\"],[\"2015\",\"gross_rent\"],[\"2015\",\"sale_price_sqr_foot\"],[\"2016\",\"gross_rent\"],[\"2016\",\"sale_price_sqr_foot\"]],\"tags\":[[[\"year\",\"year\",null],[\"Variable\",\"Variable\",null]]]},\"id\":\"3292\",\"type\":\"FactorRange\"},{\"attributes\":{},\"id\":\"3300\",\"type\":\"CategoricalScale\"},{\"attributes\":{},\"id\":\"3315\",\"type\":\"ResetTool\"},{\"attributes\":{\"fill_color\":{\"field\":\"Variable\",\"transform\":{\"id\":\"3324\"}},\"top\":{\"field\":\"value\"},\"width\":{\"value\":0.8},\"x\":{\"field\":\"xoffsets\"}},\"id\":\"3328\",\"type\":\"VBar\"},{\"attributes\":{\"fill_alpha\":{\"value\":0.2},\"fill_color\":{\"field\":\"Variable\",\"transform\":{\"id\":\"3324\"}},\"line_alpha\":{\"value\":0.2},\"top\":{\"field\":\"value\"},\"width\":{\"value\":0.8},\"x\":{\"field\":\"xoffsets\"}},\"id\":\"3330\",\"type\":\"VBar\"},{\"attributes\":{\"axis\":{\"id\":\"3304\"},\"grid_line_color\":null,\"ticker\":null},\"id\":\"3306\",\"type\":\"Grid\"}],\"root_ids\":[\"3290\",\"3387\"]},\"title\":\"Bokeh Application\",\"version\":\"2.2.3\"}};\n    var render_items = [{\"docid\":\"9bbc1de2-ec3c-4736-acf3-269947bd5c9c\",\"root_ids\":[\"3290\"],\"roots\":{\"3290\":\"240ec44e-fe20-4ab2-83da-fc3a4a328d6d\"}}];\n    root.Bokeh.embed.embed_items_notebook(docs_json, render_items);\n  }\n  if (root.Bokeh !== undefined && root.Bokeh.Panel !== undefined && root['Plotly'] !== undefined ) {\n    embed_document(root);\n  } else {\n    var attempts = 0;\n    var timer = setInterval(function(root) {\n      if (root.Bokeh !== undefined && root.Bokeh.Panel !== undefined && root['Plotly'] !== undefined) {\n        clearInterval(timer);\n        embed_document(root);\n      } else if (document.readyState == \"complete\") {\n        attempts++;\n        if (attempts > 100) {\n          clearInterval(timer);\n          console.log(\"Bokeh: ERROR: Unable to run BokehJS code because BokehJS library is missing\");\n        }\n      }\n    }, 10, root)\n  }\n})(window);</script>",
      "application/vnd.holoviews_exec.v0+json": "",
      "text/plain": [
       ":DynamicMap   [neighborhood]\n",
       "   :Bars   [year,Variable]   (value)"
      ]
     },
     "metadata": {
      "application/vnd.holoviews_exec.v0+json": {
       "id": "3290"
      }
     },
     "execution_count": 89
    }
   ],
   "source": [
    "most_expensive_neighborhoods_rent_sales()"
   ]
  },
  {
   "cell_type": "code",
   "execution_count": 90,
   "metadata": {},
   "outputs": [
    {
     "output_type": "display_data",
     "data": {
      "application/vnd.plotly.v1+json": {
       "config": {
        "plotlyServerURL": "https://plot.ly"
       },
       "data": [
        {
         "hovertemplate": "index=Alamo Square<br>gross_rent=%{marker.size}<br>Lat=%{lat}<br>Lon=%{lon}<extra></extra>",
         "lat": [
          37.791012
         ],
         "legendgroup": "Alamo Square",
         "lon": [
          -122.4021
         ],
         "marker": {
          "color": "#636efa",
          "size": [
           2817.285714285714
          ],
          "sizemode": "area",
          "sizeref": 9.8975
         },
         "mode": "markers",
         "name": "Alamo Square",
         "showlegend": true,
         "subplot": "mapbox",
         "type": "scattermapbox"
        },
        {
         "hovertemplate": "index=Anza Vista<br>gross_rent=%{marker.size}<br>Lat=%{lat}<br>Lon=%{lon}<extra></extra>",
         "lat": [
          37.779598
         ],
         "legendgroup": "Anza Vista",
         "lon": [
          -122.443451
         ],
         "marker": {
          "color": "#EF553B",
          "size": [
           3031.8333333333335
          ],
          "sizemode": "area",
          "sizeref": 9.8975
         },
         "mode": "markers",
         "name": "Anza Vista",
         "showlegend": true,
         "subplot": "mapbox",
         "type": "scattermapbox"
        },
        {
         "hovertemplate": "index=Bayview<br>gross_rent=%{marker.size}<br>Lat=%{lat}<br>Lon=%{lon}<extra></extra>",
         "lat": [
          37.73467
         ],
         "legendgroup": "Bayview",
         "lon": [
          -122.40106000000002
         ],
         "marker": {
          "color": "#00cc96",
          "size": [
           2318.4
          ],
          "sizemode": "area",
          "sizeref": 9.8975
         },
         "mode": "markers",
         "name": "Bayview",
         "showlegend": true,
         "subplot": "mapbox",
         "type": "scattermapbox"
        },
        {
         "hovertemplate": "index=Bayview Heights<br>gross_rent=%{marker.size}<br>Lat=%{lat}<br>Lon=%{lon}<extra></extra>",
         "lat": [
          37.72874
         ],
         "legendgroup": "Bayview Heights",
         "lon": [
          -122.41098000000001
         ],
         "marker": {
          "color": "#ab63fa",
          "size": [
           3739
          ],
          "sizemode": "area",
          "sizeref": 9.8975
         },
         "mode": "markers",
         "name": "Bayview Heights",
         "showlegend": true,
         "subplot": "mapbox",
         "type": "scattermapbox"
        },
        {
         "hovertemplate": "index=Buena Vista Park<br>gross_rent=%{marker.size}<br>Lat=%{lat}<br>Lon=%{lon}<extra></extra>",
         "lat": [
          37.768159999999995
         ],
         "legendgroup": "Buena Vista Park",
         "lon": [
          -122.43933
         ],
         "marker": {
          "color": "#FFA15A",
          "size": [
           2698.8333333333335
          ],
          "sizemode": "area",
          "sizeref": 9.8975
         },
         "mode": "markers",
         "name": "Buena Vista Park",
         "showlegend": true,
         "subplot": "mapbox",
         "type": "scattermapbox"
        },
        {
         "hovertemplate": "index=Central Richmond<br>gross_rent=%{marker.size}<br>Lat=%{lat}<br>Lon=%{lon}<extra></extra>",
         "lat": [
          37.77789
         ],
         "legendgroup": "Central Richmond",
         "lon": [
          -122.44516999999999
         ],
         "marker": {
          "color": "#19d3f3",
          "size": [
           2817.285714285714
          ],
          "sizemode": "area",
          "sizeref": 9.8975
         },
         "mode": "markers",
         "name": "Central Richmond",
         "showlegend": true,
         "subplot": "mapbox",
         "type": "scattermapbox"
        },
        {
         "hovertemplate": "index=Central Sunset<br>gross_rent=%{marker.size}<br>Lat=%{lat}<br>Lon=%{lon}<extra></extra>",
         "lat": [
          37.74961
         ],
         "legendgroup": "Central Sunset",
         "lon": [
          -122.48998999999999
         ],
         "marker": {
          "color": "#FF6692",
          "size": [
           2817.285714285714
          ],
          "sizemode": "area",
          "sizeref": 9.8975
         },
         "mode": "markers",
         "name": "Central Sunset",
         "showlegend": true,
         "subplot": "mapbox",
         "type": "scattermapbox"
        },
        {
         "hovertemplate": "index=Clarendon Heights<br>gross_rent=%{marker.size}<br>Lat=%{lat}<br>Lon=%{lon}<extra></extra>",
         "lat": [
          37.75331
         ],
         "legendgroup": "Clarendon Heights",
         "lon": [
          -122.44703
         ],
         "marker": {
          "color": "#B6E880",
          "size": [
           2250.5
          ],
          "sizemode": "area",
          "sizeref": 9.8975
         },
         "mode": "markers",
         "name": "Clarendon Heights",
         "showlegend": true,
         "subplot": "mapbox",
         "type": "scattermapbox"
        },
        {
         "hovertemplate": "index=Corona Heights<br>gross_rent=%{marker.size}<br>Lat=%{lat}<br>Lon=%{lon}<extra></extra>",
         "lat": [
          37.78553
         ],
         "legendgroup": "Corona Heights",
         "lon": [
          -122.456
         ],
         "marker": {
          "color": "#FF97FF",
          "size": [
           2472
          ],
          "sizemode": "area",
          "sizeref": 9.8975
         },
         "mode": "markers",
         "name": "Corona Heights",
         "showlegend": true,
         "subplot": "mapbox",
         "type": "scattermapbox"
        },
        {
         "hovertemplate": "index=Cow Hollow<br>gross_rent=%{marker.size}<br>Lat=%{lat}<br>Lon=%{lon}<extra></extra>",
         "lat": [
          37.79298
         ],
         "legendgroup": "Cow Hollow",
         "lon": [
          -122.43579
         ],
         "marker": {
          "color": "#FECB52",
          "size": [
           2817.285714285714
          ],
          "sizemode": "area",
          "sizeref": 9.8975
         },
         "mode": "markers",
         "name": "Cow Hollow",
         "showlegend": true,
         "subplot": "mapbox",
         "type": "scattermapbox"
        },
        {
         "hovertemplate": "index=Croker Amazon<br>gross_rent=%{marker.size}<br>Lat=%{lat}<br>Lon=%{lon}<extra></extra>",
         "lat": [
          37.7228
         ],
         "legendgroup": "Croker Amazon",
         "lon": [
          -122.43869
         ],
         "marker": {
          "color": "#636efa",
          "size": [
           2698.8333333333335
          ],
          "sizemode": "area",
          "sizeref": 9.8975
         },
         "mode": "markers",
         "name": "Croker Amazon",
         "showlegend": true,
         "subplot": "mapbox",
         "type": "scattermapbox"
        },
        {
         "hovertemplate": "index=Diamond Heights<br>gross_rent=%{marker.size}<br>Lat=%{lat}<br>Lon=%{lon}<extra></extra>",
         "lat": [
          37.728629999999995
         ],
         "legendgroup": "Diamond Heights",
         "lon": [
          -122.44305
         ],
         "marker": {
          "color": "#EF553B",
          "size": [
           2016
          ],
          "sizemode": "area",
          "sizeref": 9.8975
         },
         "mode": "markers",
         "name": "Diamond Heights",
         "showlegend": true,
         "subplot": "mapbox",
         "type": "scattermapbox"
        },
        {
         "hovertemplate": "index=Duboce Triangle<br>gross_rent=%{marker.size}<br>Lat=%{lat}<br>Lon=%{lon}<extra></extra>",
         "lat": [
          37.76964
         ],
         "legendgroup": "Duboce Triangle",
         "lon": [
          -122.42611000000001
         ],
         "marker": {
          "color": "#00cc96",
          "size": [
           2780.25
          ],
          "sizemode": "area",
          "sizeref": 9.8975
         },
         "mode": "markers",
         "name": "Duboce Triangle",
         "showlegend": true,
         "subplot": "mapbox",
         "type": "scattermapbox"
        },
        {
         "hovertemplate": "index=Eureka Valley/Dolores Heights<br>gross_rent=%{marker.size}<br>Lat=%{lat}<br>Lon=%{lon}<extra></extra>",
         "lat": [
          37.75554
         ],
         "legendgroup": "Eureka Valley/Dolores Heights",
         "lon": [
          -122.43778999999999
         ],
         "marker": {
          "color": "#ab63fa",
          "size": [
           2817.285714285714
          ],
          "sizemode": "area",
          "sizeref": 9.8975
         },
         "mode": "markers",
         "name": "Eureka Valley/Dolores Heights",
         "showlegend": true,
         "subplot": "mapbox",
         "type": "scattermapbox"
        },
        {
         "hovertemplate": "index=Excelsior<br>gross_rent=%{marker.size}<br>Lat=%{lat}<br>Lon=%{lon}<extra></extra>",
         "lat": [
          37.72874
         ],
         "legendgroup": "Excelsior",
         "lon": [
          -122.41098000000001
         ],
         "marker": {
          "color": "#FFA15A",
          "size": [
           3031.8333333333335
          ],
          "sizemode": "area",
          "sizeref": 9.8975
         },
         "mode": "markers",
         "name": "Excelsior",
         "showlegend": true,
         "subplot": "mapbox",
         "type": "scattermapbox"
        },
        {
         "hovertemplate": "index=Financial District North<br>gross_rent=%{marker.size}<br>Lat=%{lat}<br>Lon=%{lon}<extra></extra>",
         "lat": [
          37.79101
         ],
         "legendgroup": "Financial District North",
         "lon": [
          -122.4021
         ],
         "marker": {
          "color": "#19d3f3",
          "size": [
           2817.285714285714
          ],
          "sizemode": "area",
          "sizeref": 9.8975
         },
         "mode": "markers",
         "name": "Financial District North",
         "showlegend": true,
         "subplot": "mapbox",
         "type": "scattermapbox"
        },
        {
         "hovertemplate": "index=Financial District South<br>gross_rent=%{marker.size}<br>Lat=%{lat}<br>Lon=%{lon}<extra></extra>",
         "lat": [
          37.79101
         ],
         "legendgroup": "Financial District South",
         "lon": [
          -122.4021
         ],
         "marker": {
          "color": "#FF6692",
          "size": [
           2472
          ],
          "sizemode": "area",
          "sizeref": 9.8975
         },
         "mode": "markers",
         "name": "Financial District South",
         "showlegend": true,
         "subplot": "mapbox",
         "type": "scattermapbox"
        },
        {
         "hovertemplate": "index=Forest Knolls<br>gross_rent=%{marker.size}<br>Lat=%{lat}<br>Lon=%{lon}<extra></extra>",
         "lat": [
          37.757059999999996
         ],
         "legendgroup": "Forest Knolls",
         "lon": [
          -122.45508999999998
         ],
         "marker": {
          "color": "#B6E880",
          "size": [
           1781.5
          ],
          "sizemode": "area",
          "sizeref": 9.8975
         },
         "mode": "markers",
         "name": "Forest Knolls",
         "showlegend": true,
         "subplot": "mapbox",
         "type": "scattermapbox"
        },
        {
         "hovertemplate": "index=Glen Park<br>gross_rent=%{marker.size}<br>Lat=%{lat}<br>Lon=%{lon}<extra></extra>",
         "lat": [
          37.728629999999995
         ],
         "legendgroup": "Glen Park",
         "lon": [
          -122.44305
         ],
         "marker": {
          "color": "#FF97FF",
          "size": [
           2899.5
          ],
          "sizemode": "area",
          "sizeref": 9.8975
         },
         "mode": "markers",
         "name": "Glen Park",
         "showlegend": true,
         "subplot": "mapbox",
         "type": "scattermapbox"
        },
        {
         "hovertemplate": "index=Golden Gate Heights<br>gross_rent=%{marker.size}<br>Lat=%{lat}<br>Lon=%{lon}<extra></extra>",
         "lat": [
          37.757912
         ],
         "legendgroup": "Golden Gate Heights",
         "lon": [
          -122.46401999999999
         ],
         "marker": {
          "color": "#FECB52",
          "size": [
           2601.4
          ],
          "sizemode": "area",
          "sizeref": 9.8975
         },
         "mode": "markers",
         "name": "Golden Gate Heights",
         "showlegend": true,
         "subplot": "mapbox",
         "type": "scattermapbox"
        },
        {
         "hovertemplate": "index=Haight Ashbury<br>gross_rent=%{marker.size}<br>Lat=%{lat}<br>Lon=%{lon}<extra></extra>",
         "lat": [
          37.76525
         ],
         "legendgroup": "Haight Ashbury",
         "lon": [
          -122.43596000000001
         ],
         "marker": {
          "color": "#636efa",
          "size": [
           2817.285714285714
          ],
          "sizemode": "area",
          "sizeref": 9.8975
         },
         "mode": "markers",
         "name": "Haight Ashbury",
         "showlegend": true,
         "subplot": "mapbox",
         "type": "scattermapbox"
        },
        {
         "hovertemplate": "index=Hayes Valley<br>gross_rent=%{marker.size}<br>Lat=%{lat}<br>Lon=%{lon}<extra></extra>",
         "lat": [
          37.76525
         ],
         "legendgroup": "Hayes Valley",
         "lon": [
          -122.43596000000001
         ],
         "marker": {
          "color": "#EF553B",
          "size": [
           2817.285714285714
          ],
          "sizemode": "area",
          "sizeref": 9.8975
         },
         "mode": "markers",
         "name": "Hayes Valley",
         "showlegend": true,
         "subplot": "mapbox",
         "type": "scattermapbox"
        },
        {
         "hovertemplate": "index=Hunters Point<br>gross_rent=%{marker.size}<br>Lat=%{lat}<br>Lon=%{lon}<extra></extra>",
         "lat": [
          37.72551
         ],
         "legendgroup": "Hunters Point",
         "lon": [
          -122.37178
         ],
         "marker": {
          "color": "#00cc96",
          "size": [
           2489
          ],
          "sizemode": "area",
          "sizeref": 9.8975
         },
         "mode": "markers",
         "name": "Hunters Point",
         "showlegend": true,
         "subplot": "mapbox",
         "type": "scattermapbox"
        },
        {
         "hovertemplate": "index=Ingleside Heights<br>gross_rent=%{marker.size}<br>Lat=%{lat}<br>Lon=%{lon}<extra></extra>",
         "lat": [
          37.72116
         ],
         "legendgroup": "Ingleside Heights",
         "lon": [
          -122.48706999999999
         ],
         "marker": {
          "color": "#ab63fa",
          "size": [
           2960
          ],
          "sizemode": "area",
          "sizeref": 9.8975
         },
         "mode": "markers",
         "name": "Ingleside Heights",
         "showlegend": true,
         "subplot": "mapbox",
         "type": "scattermapbox"
        },
        {
         "hovertemplate": "index=Inner Mission<br>gross_rent=%{marker.size}<br>Lat=%{lat}<br>Lon=%{lon}<extra></extra>",
         "lat": [
          37.75416
         ],
         "legendgroup": "Inner Mission",
         "lon": [
          -122.41946999999999
         ],
         "marker": {
          "color": "#FFA15A",
          "size": [
           2817.285714285714
          ],
          "sizemode": "area",
          "sizeref": 9.8975
         },
         "mode": "markers",
         "name": "Inner Mission",
         "showlegend": true,
         "subplot": "mapbox",
         "type": "scattermapbox"
        },
        {
         "hovertemplate": "index=Inner Parkside<br>gross_rent=%{marker.size}<br>Lat=%{lat}<br>Lon=%{lon}<extra></extra>",
         "lat": [
          37.74961
         ],
         "legendgroup": "Inner Parkside",
         "lon": [
          -122.48998999999999
         ],
         "marker": {
          "color": "#19d3f3",
          "size": [
           3224
          ],
          "sizemode": "area",
          "sizeref": 9.8975
         },
         "mode": "markers",
         "name": "Inner Parkside",
         "showlegend": true,
         "subplot": "mapbox",
         "type": "scattermapbox"
        },
        {
         "hovertemplate": "index=Inner Richmond<br>gross_rent=%{marker.size}<br>Lat=%{lat}<br>Lon=%{lon}<extra></extra>",
         "lat": [
          37.769112
         ],
         "legendgroup": "Inner Richmond",
         "lon": [
          -122.483566
         ],
         "marker": {
          "color": "#FF6692",
          "size": [
           2817.285714285714
          ],
          "sizemode": "area",
          "sizeref": 9.8975
         },
         "mode": "markers",
         "name": "Inner Richmond",
         "showlegend": true,
         "subplot": "mapbox",
         "type": "scattermapbox"
        },
        {
         "hovertemplate": "index=Inner Sunset<br>gross_rent=%{marker.size}<br>Lat=%{lat}<br>Lon=%{lon}<extra></extra>",
         "lat": [
          37.74961
         ],
         "legendgroup": "Inner Sunset",
         "lon": [
          -122.48997
         ],
         "marker": {
          "color": "#B6E880",
          "size": [
           2817.285714285714
          ],
          "sizemode": "area",
          "sizeref": 9.8975
         },
         "mode": "markers",
         "name": "Inner Sunset",
         "showlegend": true,
         "subplot": "mapbox",
         "type": "scattermapbox"
        },
        {
         "hovertemplate": "index=Jordan Park/Laurel Heights<br>gross_rent=%{marker.size}<br>Lat=%{lat}<br>Lon=%{lon}<extra></extra>",
         "lat": [
          37.78553
         ],
         "legendgroup": "Jordan Park/Laurel Heights",
         "lon": [
          -122.456
         ],
         "marker": {
          "color": "#FF97FF",
          "size": [
           2817.285714285714
          ],
          "sizemode": "area",
          "sizeref": 9.8975
         },
         "mode": "markers",
         "name": "Jordan Park/Laurel Heights",
         "showlegend": true,
         "subplot": "mapbox",
         "type": "scattermapbox"
        },
        {
         "hovertemplate": "index=Lake --The Presidio<br>gross_rent=%{marker.size}<br>Lat=%{lat}<br>Lon=%{lon}<extra></extra>",
         "lat": [
          37.801520000000004
         ],
         "legendgroup": "Lake --The Presidio",
         "lon": [
          -122.45456999999999
         ],
         "marker": {
          "color": "#FECB52",
          "size": [
           2555.1666666666665
          ],
          "sizemode": "area",
          "sizeref": 9.8975
         },
         "mode": "markers",
         "name": "Lake --The Presidio",
         "showlegend": true,
         "subplot": "mapbox",
         "type": "scattermapbox"
        },
        {
         "hovertemplate": "index=Lone Mountain<br>gross_rent=%{marker.size}<br>Lat=%{lat}<br>Lon=%{lon}<extra></extra>",
         "lat": [
          37.7789
         ],
         "legendgroup": "Lone Mountain",
         "lon": [
          -122.45496000000001
         ],
         "marker": {
          "color": "#636efa",
          "size": [
           2555.1666666666665
          ],
          "sizemode": "area",
          "sizeref": 9.8975
         },
         "mode": "markers",
         "name": "Lone Mountain",
         "showlegend": true,
         "subplot": "mapbox",
         "type": "scattermapbox"
        },
        {
         "hovertemplate": "index=Lower Pacific Heights<br>gross_rent=%{marker.size}<br>Lat=%{lat}<br>Lon=%{lon}<extra></extra>",
         "lat": [
          37.79298
         ],
         "legendgroup": "Lower Pacific Heights",
         "lon": [
          -122.43579
         ],
         "marker": {
          "color": "#EF553B",
          "size": [
           2817.285714285714
          ],
          "sizemode": "area",
          "sizeref": 9.8975
         },
         "mode": "markers",
         "name": "Lower Pacific Heights",
         "showlegend": true,
         "subplot": "mapbox",
         "type": "scattermapbox"
        },
        {
         "hovertemplate": "index=Marina<br>gross_rent=%{marker.size}<br>Lat=%{lat}<br>Lon=%{lon}<extra></extra>",
         "lat": [
          37.79972
         ],
         "legendgroup": "Marina",
         "lon": [
          -122.46688999999999
         ],
         "marker": {
          "color": "#00cc96",
          "size": [
           2817.285714285714
          ],
          "sizemode": "area",
          "sizeref": 9.8975
         },
         "mode": "markers",
         "name": "Marina",
         "showlegend": true,
         "subplot": "mapbox",
         "type": "scattermapbox"
        },
        {
         "hovertemplate": "index=Merced Heights<br>gross_rent=%{marker.size}<br>Lat=%{lat}<br>Lon=%{lon}<extra></extra>",
         "lat": [
          37.71993
         ],
         "legendgroup": "Merced Heights",
         "lon": [
          -122.46595
         ],
         "marker": {
          "color": "#ab63fa",
          "size": [
           3414
          ],
          "sizemode": "area",
          "sizeref": 9.8975
         },
         "mode": "markers",
         "name": "Merced Heights",
         "showlegend": true,
         "subplot": "mapbox",
         "type": "scattermapbox"
        },
        {
         "hovertemplate": "index=Midtown Terrace<br>gross_rent=%{marker.size}<br>Lat=%{lat}<br>Lon=%{lon}<extra></extra>",
         "lat": [
          37.75331
         ],
         "legendgroup": "Midtown Terrace",
         "lon": [
          -122.44703
         ],
         "marker": {
          "color": "#FFA15A",
          "size": [
           2647.5
          ],
          "sizemode": "area",
          "sizeref": 9.8975
         },
         "mode": "markers",
         "name": "Midtown Terrace",
         "showlegend": true,
         "subplot": "mapbox",
         "type": "scattermapbox"
        },
        {
         "hovertemplate": "index=Miraloma Park<br>gross_rent=%{marker.size}<br>Lat=%{lat}<br>Lon=%{lon}<extra></extra>",
         "lat": [
          37.73415
         ],
         "legendgroup": "Miraloma Park",
         "lon": [
          -122.45700000000001
         ],
         "marker": {
          "color": "#19d3f3",
          "size": [
           2155.25
          ],
          "sizemode": "area",
          "sizeref": 9.8975
         },
         "mode": "markers",
         "name": "Miraloma Park",
         "showlegend": true,
         "subplot": "mapbox",
         "type": "scattermapbox"
        },
        {
         "hovertemplate": "index=Mission Bay<br>gross_rent=%{marker.size}<br>Lat=%{lat}<br>Lon=%{lon}<extra></extra>",
         "lat": [
          37.783229999999996
         ],
         "legendgroup": "Mission Bay",
         "lon": [
          -122.40065
         ],
         "marker": {
          "color": "#FF6692",
          "size": [
           2663.6666666666665
          ],
          "sizemode": "area",
          "sizeref": 9.8975
         },
         "mode": "markers",
         "name": "Mission Bay",
         "showlegend": true,
         "subplot": "mapbox",
         "type": "scattermapbox"
        },
        {
         "hovertemplate": "index=Mission Dolores<br>gross_rent=%{marker.size}<br>Lat=%{lat}<br>Lon=%{lon}<extra></extra>",
         "lat": [
          37.75184
         ],
         "legendgroup": "Mission Dolores",
         "lon": [
          -122.42522
         ],
         "marker": {
          "color": "#B6E880",
          "size": [
           2555.1666666666665
          ],
          "sizemode": "area",
          "sizeref": 9.8975
         },
         "mode": "markers",
         "name": "Mission Dolores",
         "showlegend": true,
         "subplot": "mapbox",
         "type": "scattermapbox"
        },
        {
         "hovertemplate": "index=Mission Terrace<br>gross_rent=%{marker.size}<br>Lat=%{lat}<br>Lon=%{lon}<extra></extra>",
         "lat": [
          37.728629999999995
         ],
         "legendgroup": "Mission Terrace",
         "lon": [
          -122.44305
         ],
         "marker": {
          "color": "#FF97FF",
          "size": [
           3173.4
          ],
          "sizemode": "area",
          "sizeref": 9.8975
         },
         "mode": "markers",
         "name": "Mission Terrace",
         "showlegend": true,
         "subplot": "mapbox",
         "type": "scattermapbox"
        },
        {
         "hovertemplate": "index=Nob Hill<br>gross_rent=%{marker.size}<br>Lat=%{lat}<br>Lon=%{lon}<extra></extra>",
         "lat": [
          37.79298
         ],
         "legendgroup": "Nob Hill",
         "lon": [
          -122.43579
         ],
         "marker": {
          "color": "#FECB52",
          "size": [
           2817.285714285714
          ],
          "sizemode": "area",
          "sizeref": 9.8975
         },
         "mode": "markers",
         "name": "Nob Hill",
         "showlegend": true,
         "subplot": "mapbox",
         "type": "scattermapbox"
        },
        {
         "hovertemplate": "index=Noe Valley<br>gross_rent=%{marker.size}<br>Lat=%{lat}<br>Lon=%{lon}<extra></extra>",
         "lat": [
          37.75331
         ],
         "legendgroup": "Noe Valley",
         "lon": [
          -122.44703
         ],
         "marker": {
          "color": "#636efa",
          "size": [
           2817.285714285714
          ],
          "sizemode": "area",
          "sizeref": 9.8975
         },
         "mode": "markers",
         "name": "Noe Valley",
         "showlegend": true,
         "subplot": "mapbox",
         "type": "scattermapbox"
        },
        {
         "hovertemplate": "index=North Beach<br>gross_rent=%{marker.size}<br>Lat=%{lat}<br>Lon=%{lon}<extra></extra>",
         "lat": [
          37.80055
         ],
         "legendgroup": "North Beach",
         "lon": [
          -122.40433
         ],
         "marker": {
          "color": "#EF553B",
          "size": [
           2990.8
          ],
          "sizemode": "area",
          "sizeref": 9.8975
         },
         "mode": "markers",
         "name": "North Beach",
         "showlegend": true,
         "subplot": "mapbox",
         "type": "scattermapbox"
        },
        {
         "hovertemplate": "index=North Waterfront<br>gross_rent=%{marker.size}<br>Lat=%{lat}<br>Lon=%{lon}<extra></extra>",
         "lat": [
          37.80055
         ],
         "legendgroup": "North Waterfront",
         "lon": [
          -122.40433
         ],
         "marker": {
          "color": "#00cc96",
          "size": [
           2818.4
          ],
          "sizemode": "area",
          "sizeref": 9.8975
         },
         "mode": "markers",
         "name": "North Waterfront",
         "showlegend": true,
         "subplot": "mapbox",
         "type": "scattermapbox"
        },
        {
         "hovertemplate": "index=Oceanview<br>gross_rent=%{marker.size}<br>Lat=%{lat}<br>Lon=%{lon}<extra></extra>",
         "lat": [
          37.71993
         ],
         "legendgroup": "Oceanview",
         "lon": [
          -122.46595
         ],
         "marker": {
          "color": "#ab63fa",
          "size": [
           2434
          ],
          "sizemode": "area",
          "sizeref": 9.8975
         },
         "mode": "markers",
         "name": "Oceanview",
         "showlegend": true,
         "subplot": "mapbox",
         "type": "scattermapbox"
        },
        {
         "hovertemplate": "index=Outer Mission<br>gross_rent=%{marker.size}<br>Lat=%{lat}<br>Lon=%{lon}<extra></extra>",
         "lat": [
          37.7228
         ],
         "legendgroup": "Outer Mission",
         "lon": [
          -122.43869
         ],
         "marker": {
          "color": "#FFA15A",
          "size": [
           2995.75
          ],
          "sizemode": "area",
          "sizeref": 9.8975
         },
         "mode": "markers",
         "name": "Outer Mission",
         "showlegend": true,
         "subplot": "mapbox",
         "type": "scattermapbox"
        },
        {
         "hovertemplate": "index=Outer Parkside<br>gross_rent=%{marker.size}<br>Lat=%{lat}<br>Lon=%{lon}<extra></extra>",
         "lat": [
          37.7517
         ],
         "legendgroup": "Outer Parkside",
         "lon": [
          -122.446
         ],
         "marker": {
          "color": "#19d3f3",
          "size": [
           2817.285714285714
          ],
          "sizemode": "area",
          "sizeref": 9.8975
         },
         "mode": "markers",
         "name": "Outer Parkside",
         "showlegend": true,
         "subplot": "mapbox",
         "type": "scattermapbox"
        },
        {
         "hovertemplate": "index=Outer Sunset<br>gross_rent=%{marker.size}<br>Lat=%{lat}<br>Lon=%{lon}<extra></extra>",
         "lat": [
          37.74961
         ],
         "legendgroup": "Outer Sunset",
         "lon": [
          -122.48998999999999
         ],
         "marker": {
          "color": "#FF6692",
          "size": [
           2817.285714285714
          ],
          "sizemode": "area",
          "sizeref": 9.8975
         },
         "mode": "markers",
         "name": "Outer Sunset",
         "showlegend": true,
         "subplot": "mapbox",
         "type": "scattermapbox"
        },
        {
         "hovertemplate": "index=Pacific Heights<br>gross_rent=%{marker.size}<br>Lat=%{lat}<br>Lon=%{lon}<extra></extra>",
         "lat": [
          37.79298
         ],
         "legendgroup": "Pacific Heights",
         "lon": [
          -122.43579
         ],
         "marker": {
          "color": "#B6E880",
          "size": [
           2817.285714285714
          ],
          "sizemode": "area",
          "sizeref": 9.8975
         },
         "mode": "markers",
         "name": "Pacific Heights",
         "showlegend": true,
         "subplot": "mapbox",
         "type": "scattermapbox"
        },
        {
         "hovertemplate": "index=Park North<br>gross_rent=%{marker.size}<br>Lat=%{lat}<br>Lon=%{lon}<extra></extra>",
         "lat": [
          37.72838
         ],
         "legendgroup": "Park North",
         "lon": [
          -122.47851000000001
         ],
         "marker": {
          "color": "#FF97FF",
          "size": [
           2817.285714285714
          ],
          "sizemode": "area",
          "sizeref": 9.8975
         },
         "mode": "markers",
         "name": "Park North",
         "showlegend": true,
         "subplot": "mapbox",
         "type": "scattermapbox"
        },
        {
         "hovertemplate": "index=Parkside<br>gross_rent=%{marker.size}<br>Lat=%{lat}<br>Lon=%{lon}<extra></extra>",
         "lat": [
          37.74961
         ],
         "legendgroup": "Parkside",
         "lon": [
          -122.48998999999999
         ],
         "marker": {
          "color": "#FECB52",
          "size": [
           2555.1666666666665
          ],
          "sizemode": "area",
          "sizeref": 9.8975
         },
         "mode": "markers",
         "name": "Parkside",
         "showlegend": true,
         "subplot": "mapbox",
         "type": "scattermapbox"
        },
        {
         "hovertemplate": "index=Parnassus/Ashbury Heights<br>gross_rent=%{marker.size}<br>Lat=%{lat}<br>Lon=%{lon}<extra></extra>",
         "lat": [
          37.76355
         ],
         "legendgroup": "Parnassus/Ashbury Heights",
         "lon": [
          -122.45765
         ],
         "marker": {
          "color": "#636efa",
          "size": [
           2817.285714285714
          ],
          "sizemode": "area",
          "sizeref": 9.8975
         },
         "mode": "markers",
         "name": "Parnassus/Ashbury Heights",
         "showlegend": true,
         "subplot": "mapbox",
         "type": "scattermapbox"
        },
        {
         "hovertemplate": "index=Portola<br>gross_rent=%{marker.size}<br>Lat=%{lat}<br>Lon=%{lon}<extra></extra>",
         "lat": [
          37.73467
         ],
         "legendgroup": "Portola",
         "lon": [
          -122.40106000000002
         ],
         "marker": {
          "color": "#EF553B",
          "size": [
           2318.4
          ],
          "sizemode": "area",
          "sizeref": 9.8975
         },
         "mode": "markers",
         "name": "Portola",
         "showlegend": true,
         "subplot": "mapbox",
         "type": "scattermapbox"
        },
        {
         "hovertemplate": "index=Potrero Hill<br>gross_rent=%{marker.size}<br>Lat=%{lat}<br>Lon=%{lon}<extra></extra>",
         "lat": [
          37.73196
         ],
         "legendgroup": "Potrero Hill",
         "lon": [
          -122.38323999999999
         ],
         "marker": {
          "color": "#00cc96",
          "size": [
           2817.285714285714
          ],
          "sizemode": "area",
          "sizeref": 9.8975
         },
         "mode": "markers",
         "name": "Potrero Hill",
         "showlegend": true,
         "subplot": "mapbox",
         "type": "scattermapbox"
        },
        {
         "hovertemplate": "index=Presidio Heights<br>gross_rent=%{marker.size}<br>Lat=%{lat}<br>Lon=%{lon}<extra></extra>",
         "lat": [
          37.78553
         ],
         "legendgroup": "Presidio Heights",
         "lon": [
          -122.456
         ],
         "marker": {
          "color": "#ab63fa",
          "size": [
           2817.285714285714
          ],
          "sizemode": "area",
          "sizeref": 9.8975
         },
         "mode": "markers",
         "name": "Presidio Heights",
         "showlegend": true,
         "subplot": "mapbox",
         "type": "scattermapbox"
        },
        {
         "hovertemplate": "index=Russian Hill<br>gross_rent=%{marker.size}<br>Lat=%{lat}<br>Lon=%{lon}<extra></extra>",
         "lat": [
          37.79298
         ],
         "legendgroup": "Russian Hill",
         "lon": [
          -122.43579
         ],
         "marker": {
          "color": "#FFA15A",
          "size": [
           2817.285714285714
          ],
          "sizemode": "area",
          "sizeref": 9.8975
         },
         "mode": "markers",
         "name": "Russian Hill",
         "showlegend": true,
         "subplot": "mapbox",
         "type": "scattermapbox"
        },
        {
         "hovertemplate": "index=Silver Terrace<br>gross_rent=%{marker.size}<br>Lat=%{lat}<br>Lon=%{lon}<extra></extra>",
         "lat": [
          37.73467
         ],
         "legendgroup": "Silver Terrace",
         "lon": [
          -122.40106000000002
         ],
         "marker": {
          "color": "#19d3f3",
          "size": [
           3528
          ],
          "sizemode": "area",
          "sizeref": 9.8975
         },
         "mode": "markers",
         "name": "Silver Terrace",
         "showlegend": true,
         "subplot": "mapbox",
         "type": "scattermapbox"
        },
        {
         "hovertemplate": "index=South Beach<br>gross_rent=%{marker.size}<br>Lat=%{lat}<br>Lon=%{lon}<extra></extra>",
         "lat": [
          37.783229999999996
         ],
         "legendgroup": "South Beach",
         "lon": [
          -122.40065
         ],
         "marker": {
          "color": "#FF6692",
          "size": [
           2099
          ],
          "sizemode": "area",
          "sizeref": 9.8975
         },
         "mode": "markers",
         "name": "South Beach",
         "showlegend": true,
         "subplot": "mapbox",
         "type": "scattermapbox"
        },
        {
         "hovertemplate": "index=South of Market<br>gross_rent=%{marker.size}<br>Lat=%{lat}<br>Lon=%{lon}<extra></extra>",
         "lat": [
          37.79101
         ],
         "legendgroup": "South of Market",
         "lon": [
          -122.4021
         ],
         "marker": {
          "color": "#B6E880",
          "size": [
           2817.285714285714
          ],
          "sizemode": "area",
          "sizeref": 9.8975
         },
         "mode": "markers",
         "name": "South of Market",
         "showlegend": true,
         "subplot": "mapbox",
         "type": "scattermapbox"
        },
        {
         "hovertemplate": "index=Sunnyside<br>gross_rent=%{marker.size}<br>Lat=%{lat}<br>Lon=%{lon}<extra></extra>",
         "lat": [
          37.73415
         ],
         "legendgroup": "Sunnyside",
         "lon": [
          -122.45700000000001
         ],
         "marker": {
          "color": "#FF97FF",
          "size": [
           2899.5
          ],
          "sizemode": "area",
          "sizeref": 9.8975
         },
         "mode": "markers",
         "name": "Sunnyside",
         "showlegend": true,
         "subplot": "mapbox",
         "type": "scattermapbox"
        },
        {
         "hovertemplate": "index=Telegraph Hill<br>gross_rent=%{marker.size}<br>Lat=%{lat}<br>Lon=%{lon}<extra></extra>",
         "lat": [
          37.80055
         ],
         "legendgroup": "Telegraph Hill",
         "lon": [
          -122.40433
         ],
         "marker": {
          "color": "#FECB52",
          "size": [
           2817.285714285714
          ],
          "sizemode": "area",
          "sizeref": 9.8975
         },
         "mode": "markers",
         "name": "Telegraph Hill",
         "showlegend": true,
         "subplot": "mapbox",
         "type": "scattermapbox"
        },
        {
         "hovertemplate": "index=Twin Peaks<br>gross_rent=%{marker.size}<br>Lat=%{lat}<br>Lon=%{lon}<extra></extra>",
         "lat": [
          37.753311
         ],
         "legendgroup": "Twin Peaks",
         "lon": [
          -122.447029
         ],
         "marker": {
          "color": "#636efa",
          "size": [
           2817.285714285714
          ],
          "sizemode": "area",
          "sizeref": 9.8975
         },
         "mode": "markers",
         "name": "Twin Peaks",
         "showlegend": true,
         "subplot": "mapbox",
         "type": "scattermapbox"
        },
        {
         "hovertemplate": "index=Union Square District<br>gross_rent=%{marker.size}<br>Lat=%{lat}<br>Lon=%{lon}<extra></extra>",
         "lat": [
          37.79101
         ],
         "legendgroup": "Union Square District",
         "lon": [
          -122.4021
         ],
         "marker": {
          "color": "#EF553B",
          "size": [
           2555.1666666666665
          ],
          "sizemode": "area",
          "sizeref": 9.8975
         },
         "mode": "markers",
         "name": "Union Square District",
         "showlegend": true,
         "subplot": "mapbox",
         "type": "scattermapbox"
        },
        {
         "hovertemplate": "index=Van Ness/ Civic Center<br>gross_rent=%{marker.size}<br>Lat=%{lat}<br>Lon=%{lon}<extra></extra>",
         "lat": [
          37.779509999999995
         ],
         "legendgroup": "Van Ness/ Civic Center",
         "lon": [
          -122.42022
         ],
         "marker": {
          "color": "#00cc96",
          "size": [
           2817.285714285714
          ],
          "sizemode": "area",
          "sizeref": 9.8975
         },
         "mode": "markers",
         "name": "Van Ness/ Civic Center",
         "showlegend": true,
         "subplot": "mapbox",
         "type": "scattermapbox"
        },
        {
         "hovertemplate": "index=Visitacion Valley<br>gross_rent=%{marker.size}<br>Lat=%{lat}<br>Lon=%{lon}<extra></extra>",
         "lat": [
          37.72874
         ],
         "legendgroup": "Visitacion Valley",
         "lon": [
          -122.41098000000001
         ],
         "marker": {
          "color": "#ab63fa",
          "size": [
           3657
          ],
          "sizemode": "area",
          "sizeref": 9.8975
         },
         "mode": "markers",
         "name": "Visitacion Valley",
         "showlegend": true,
         "subplot": "mapbox",
         "type": "scattermapbox"
        },
        {
         "hovertemplate": "index=West Portal<br>gross_rent=%{marker.size}<br>Lat=%{lat}<br>Lon=%{lon}<extra></extra>",
         "lat": [
          37.74026
         ],
         "legendgroup": "West Portal",
         "lon": [
          -122.46388
         ],
         "marker": {
          "color": "#FFA15A",
          "size": [
           2515.5
          ],
          "sizemode": "area",
          "sizeref": 9.8975
         },
         "mode": "markers",
         "name": "West Portal",
         "showlegend": true,
         "subplot": "mapbox",
         "type": "scattermapbox"
        },
        {
         "hovertemplate": "index=Western Addition<br>gross_rent=%{marker.size}<br>Lat=%{lat}<br>Lon=%{lon}<extra></extra>",
         "lat": [
          37.79298
         ],
         "legendgroup": "Western Addition",
         "lon": [
          -122.43579
         ],
         "marker": {
          "color": "#19d3f3",
          "size": [
           2555.1666666666665
          ],
          "sizemode": "area",
          "sizeref": 9.8975
         },
         "mode": "markers",
         "name": "Western Addition",
         "showlegend": true,
         "subplot": "mapbox",
         "type": "scattermapbox"
        },
        {
         "hovertemplate": "index=Westwood Highlands<br>gross_rent=%{marker.size}<br>Lat=%{lat}<br>Lon=%{lon}<extra></extra>",
         "lat": [
          37.7347
         ],
         "legendgroup": "Westwood Highlands",
         "lon": [
          -122.456854
         ],
         "marker": {
          "color": "#FF6692",
          "size": [
           2250.5
          ],
          "sizemode": "area",
          "sizeref": 9.8975
         },
         "mode": "markers",
         "name": "Westwood Highlands",
         "showlegend": true,
         "subplot": "mapbox",
         "type": "scattermapbox"
        },
        {
         "hovertemplate": "index=Westwood Park<br>gross_rent=%{marker.size}<br>Lat=%{lat}<br>Lon=%{lon}<extra></extra>",
         "lat": [
          37.73415
         ],
         "legendgroup": "Westwood Park",
         "lon": [
          -122.45700000000001
         ],
         "marker": {
          "color": "#B6E880",
          "size": [
           3959
          ],
          "sizemode": "area",
          "sizeref": 9.8975
         },
         "mode": "markers",
         "name": "Westwood Park",
         "showlegend": true,
         "subplot": "mapbox",
         "type": "scattermapbox"
        },
        {
         "hovertemplate": "index=Yerba Buena<br>gross_rent=%{marker.size}<br>Lat=%{lat}<br>Lon=%{lon}<extra></extra>",
         "lat": [
          37.79298
         ],
         "legendgroup": "Yerba Buena",
         "lon": [
          -122.39636000000002
         ],
         "marker": {
          "color": "#FF97FF",
          "size": [
           2555.1666666666665
          ],
          "sizemode": "area",
          "sizeref": 9.8975
         },
         "mode": "markers",
         "name": "Yerba Buena",
         "showlegend": true,
         "subplot": "mapbox",
         "type": "scattermapbox"
        }
       ],
       "layout": {
        "legend": {
         "itemsizing": "constant",
         "title": {
          "text": "index"
         },
         "tracegroupgap": 0
        },
        "mapbox": {
         "accesstoken": "pk.eyJ1IjoidGF5bG9ydHVja2VyIiwiYSI6ImNrazl2Ym1kazA5eHYybnIxMGRndXRzc3oifQ.nirqSsckN78uVb7rH8aXjg",
         "center": {
          "lat": 37.76064079710145,
          "lon": -122.43826449275363
         },
         "domain": {
          "x": [
           0,
           1
          ],
          "y": [
           0,
           1
          ]
         },
         "style": "streets",
         "zoom": 12
        },
        "margin": {
         "t": 60
        },
        "template": {
         "data": {
          "bar": [
           {
            "error_x": {
             "color": "#2a3f5f"
            },
            "error_y": {
             "color": "#2a3f5f"
            },
            "marker": {
             "line": {
              "color": "#E5ECF6",
              "width": 0.5
             }
            },
            "type": "bar"
           }
          ],
          "barpolar": [
           {
            "marker": {
             "line": {
              "color": "#E5ECF6",
              "width": 0.5
             }
            },
            "type": "barpolar"
           }
          ],
          "carpet": [
           {
            "aaxis": {
             "endlinecolor": "#2a3f5f",
             "gridcolor": "white",
             "linecolor": "white",
             "minorgridcolor": "white",
             "startlinecolor": "#2a3f5f"
            },
            "baxis": {
             "endlinecolor": "#2a3f5f",
             "gridcolor": "white",
             "linecolor": "white",
             "minorgridcolor": "white",
             "startlinecolor": "#2a3f5f"
            },
            "type": "carpet"
           }
          ],
          "choropleth": [
           {
            "colorbar": {
             "outlinewidth": 0,
             "ticks": ""
            },
            "type": "choropleth"
           }
          ],
          "contour": [
           {
            "colorbar": {
             "outlinewidth": 0,
             "ticks": ""
            },
            "colorscale": [
             [
              0,
              "#0d0887"
             ],
             [
              0.1111111111111111,
              "#46039f"
             ],
             [
              0.2222222222222222,
              "#7201a8"
             ],
             [
              0.3333333333333333,
              "#9c179e"
             ],
             [
              0.4444444444444444,
              "#bd3786"
             ],
             [
              0.5555555555555556,
              "#d8576b"
             ],
             [
              0.6666666666666666,
              "#ed7953"
             ],
             [
              0.7777777777777778,
              "#fb9f3a"
             ],
             [
              0.8888888888888888,
              "#fdca26"
             ],
             [
              1,
              "#f0f921"
             ]
            ],
            "type": "contour"
           }
          ],
          "contourcarpet": [
           {
            "colorbar": {
             "outlinewidth": 0,
             "ticks": ""
            },
            "type": "contourcarpet"
           }
          ],
          "heatmap": [
           {
            "colorbar": {
             "outlinewidth": 0,
             "ticks": ""
            },
            "colorscale": [
             [
              0,
              "#0d0887"
             ],
             [
              0.1111111111111111,
              "#46039f"
             ],
             [
              0.2222222222222222,
              "#7201a8"
             ],
             [
              0.3333333333333333,
              "#9c179e"
             ],
             [
              0.4444444444444444,
              "#bd3786"
             ],
             [
              0.5555555555555556,
              "#d8576b"
             ],
             [
              0.6666666666666666,
              "#ed7953"
             ],
             [
              0.7777777777777778,
              "#fb9f3a"
             ],
             [
              0.8888888888888888,
              "#fdca26"
             ],
             [
              1,
              "#f0f921"
             ]
            ],
            "type": "heatmap"
           }
          ],
          "heatmapgl": [
           {
            "colorbar": {
             "outlinewidth": 0,
             "ticks": ""
            },
            "colorscale": [
             [
              0,
              "#0d0887"
             ],
             [
              0.1111111111111111,
              "#46039f"
             ],
             [
              0.2222222222222222,
              "#7201a8"
             ],
             [
              0.3333333333333333,
              "#9c179e"
             ],
             [
              0.4444444444444444,
              "#bd3786"
             ],
             [
              0.5555555555555556,
              "#d8576b"
             ],
             [
              0.6666666666666666,
              "#ed7953"
             ],
             [
              0.7777777777777778,
              "#fb9f3a"
             ],
             [
              0.8888888888888888,
              "#fdca26"
             ],
             [
              1,
              "#f0f921"
             ]
            ],
            "type": "heatmapgl"
           }
          ],
          "histogram": [
           {
            "marker": {
             "colorbar": {
              "outlinewidth": 0,
              "ticks": ""
             }
            },
            "type": "histogram"
           }
          ],
          "histogram2d": [
           {
            "colorbar": {
             "outlinewidth": 0,
             "ticks": ""
            },
            "colorscale": [
             [
              0,
              "#0d0887"
             ],
             [
              0.1111111111111111,
              "#46039f"
             ],
             [
              0.2222222222222222,
              "#7201a8"
             ],
             [
              0.3333333333333333,
              "#9c179e"
             ],
             [
              0.4444444444444444,
              "#bd3786"
             ],
             [
              0.5555555555555556,
              "#d8576b"
             ],
             [
              0.6666666666666666,
              "#ed7953"
             ],
             [
              0.7777777777777778,
              "#fb9f3a"
             ],
             [
              0.8888888888888888,
              "#fdca26"
             ],
             [
              1,
              "#f0f921"
             ]
            ],
            "type": "histogram2d"
           }
          ],
          "histogram2dcontour": [
           {
            "colorbar": {
             "outlinewidth": 0,
             "ticks": ""
            },
            "colorscale": [
             [
              0,
              "#0d0887"
             ],
             [
              0.1111111111111111,
              "#46039f"
             ],
             [
              0.2222222222222222,
              "#7201a8"
             ],
             [
              0.3333333333333333,
              "#9c179e"
             ],
             [
              0.4444444444444444,
              "#bd3786"
             ],
             [
              0.5555555555555556,
              "#d8576b"
             ],
             [
              0.6666666666666666,
              "#ed7953"
             ],
             [
              0.7777777777777778,
              "#fb9f3a"
             ],
             [
              0.8888888888888888,
              "#fdca26"
             ],
             [
              1,
              "#f0f921"
             ]
            ],
            "type": "histogram2dcontour"
           }
          ],
          "mesh3d": [
           {
            "colorbar": {
             "outlinewidth": 0,
             "ticks": ""
            },
            "type": "mesh3d"
           }
          ],
          "parcoords": [
           {
            "line": {
             "colorbar": {
              "outlinewidth": 0,
              "ticks": ""
             }
            },
            "type": "parcoords"
           }
          ],
          "pie": [
           {
            "automargin": true,
            "type": "pie"
           }
          ],
          "scatter": [
           {
            "marker": {
             "colorbar": {
              "outlinewidth": 0,
              "ticks": ""
             }
            },
            "type": "scatter"
           }
          ],
          "scatter3d": [
           {
            "line": {
             "colorbar": {
              "outlinewidth": 0,
              "ticks": ""
             }
            },
            "marker": {
             "colorbar": {
              "outlinewidth": 0,
              "ticks": ""
             }
            },
            "type": "scatter3d"
           }
          ],
          "scattercarpet": [
           {
            "marker": {
             "colorbar": {
              "outlinewidth": 0,
              "ticks": ""
             }
            },
            "type": "scattercarpet"
           }
          ],
          "scattergeo": [
           {
            "marker": {
             "colorbar": {
              "outlinewidth": 0,
              "ticks": ""
             }
            },
            "type": "scattergeo"
           }
          ],
          "scattergl": [
           {
            "marker": {
             "colorbar": {
              "outlinewidth": 0,
              "ticks": ""
             }
            },
            "type": "scattergl"
           }
          ],
          "scattermapbox": [
           {
            "marker": {
             "colorbar": {
              "outlinewidth": 0,
              "ticks": ""
             }
            },
            "type": "scattermapbox"
           }
          ],
          "scatterpolar": [
           {
            "marker": {
             "colorbar": {
              "outlinewidth": 0,
              "ticks": ""
             }
            },
            "type": "scatterpolar"
           }
          ],
          "scatterpolargl": [
           {
            "marker": {
             "colorbar": {
              "outlinewidth": 0,
              "ticks": ""
             }
            },
            "type": "scatterpolargl"
           }
          ],
          "scatterternary": [
           {
            "marker": {
             "colorbar": {
              "outlinewidth": 0,
              "ticks": ""
             }
            },
            "type": "scatterternary"
           }
          ],
          "surface": [
           {
            "colorbar": {
             "outlinewidth": 0,
             "ticks": ""
            },
            "colorscale": [
             [
              0,
              "#0d0887"
             ],
             [
              0.1111111111111111,
              "#46039f"
             ],
             [
              0.2222222222222222,
              "#7201a8"
             ],
             [
              0.3333333333333333,
              "#9c179e"
             ],
             [
              0.4444444444444444,
              "#bd3786"
             ],
             [
              0.5555555555555556,
              "#d8576b"
             ],
             [
              0.6666666666666666,
              "#ed7953"
             ],
             [
              0.7777777777777778,
              "#fb9f3a"
             ],
             [
              0.8888888888888888,
              "#fdca26"
             ],
             [
              1,
              "#f0f921"
             ]
            ],
            "type": "surface"
           }
          ],
          "table": [
           {
            "cells": {
             "fill": {
              "color": "#EBF0F8"
             },
             "line": {
              "color": "white"
             }
            },
            "header": {
             "fill": {
              "color": "#C8D4E3"
             },
             "line": {
              "color": "white"
             }
            },
            "type": "table"
           }
          ]
         },
         "layout": {
          "annotationdefaults": {
           "arrowcolor": "#2a3f5f",
           "arrowhead": 0,
           "arrowwidth": 1
          },
          "autotypenumbers": "strict",
          "coloraxis": {
           "colorbar": {
            "outlinewidth": 0,
            "ticks": ""
           }
          },
          "colorscale": {
           "diverging": [
            [
             0,
             "#8e0152"
            ],
            [
             0.1,
             "#c51b7d"
            ],
            [
             0.2,
             "#de77ae"
            ],
            [
             0.3,
             "#f1b6da"
            ],
            [
             0.4,
             "#fde0ef"
            ],
            [
             0.5,
             "#f7f7f7"
            ],
            [
             0.6,
             "#e6f5d0"
            ],
            [
             0.7,
             "#b8e186"
            ],
            [
             0.8,
             "#7fbc41"
            ],
            [
             0.9,
             "#4d9221"
            ],
            [
             1,
             "#276419"
            ]
           ],
           "sequential": [
            [
             0,
             "#0d0887"
            ],
            [
             0.1111111111111111,
             "#46039f"
            ],
            [
             0.2222222222222222,
             "#7201a8"
            ],
            [
             0.3333333333333333,
             "#9c179e"
            ],
            [
             0.4444444444444444,
             "#bd3786"
            ],
            [
             0.5555555555555556,
             "#d8576b"
            ],
            [
             0.6666666666666666,
             "#ed7953"
            ],
            [
             0.7777777777777778,
             "#fb9f3a"
            ],
            [
             0.8888888888888888,
             "#fdca26"
            ],
            [
             1,
             "#f0f921"
            ]
           ],
           "sequentialminus": [
            [
             0,
             "#0d0887"
            ],
            [
             0.1111111111111111,
             "#46039f"
            ],
            [
             0.2222222222222222,
             "#7201a8"
            ],
            [
             0.3333333333333333,
             "#9c179e"
            ],
            [
             0.4444444444444444,
             "#bd3786"
            ],
            [
             0.5555555555555556,
             "#d8576b"
            ],
            [
             0.6666666666666666,
             "#ed7953"
            ],
            [
             0.7777777777777778,
             "#fb9f3a"
            ],
            [
             0.8888888888888888,
             "#fdca26"
            ],
            [
             1,
             "#f0f921"
            ]
           ]
          },
          "colorway": [
           "#636efa",
           "#EF553B",
           "#00cc96",
           "#ab63fa",
           "#FFA15A",
           "#19d3f3",
           "#FF6692",
           "#B6E880",
           "#FF97FF",
           "#FECB52"
          ],
          "font": {
           "color": "#2a3f5f"
          },
          "geo": {
           "bgcolor": "white",
           "lakecolor": "white",
           "landcolor": "#E5ECF6",
           "showlakes": true,
           "showland": true,
           "subunitcolor": "white"
          },
          "hoverlabel": {
           "align": "left"
          },
          "hovermode": "closest",
          "mapbox": {
           "style": "light"
          },
          "paper_bgcolor": "white",
          "plot_bgcolor": "#E5ECF6",
          "polar": {
           "angularaxis": {
            "gridcolor": "white",
            "linecolor": "white",
            "ticks": ""
           },
           "bgcolor": "#E5ECF6",
           "radialaxis": {
            "gridcolor": "white",
            "linecolor": "white",
            "ticks": ""
           }
          },
          "scene": {
           "xaxis": {
            "backgroundcolor": "#E5ECF6",
            "gridcolor": "white",
            "gridwidth": 2,
            "linecolor": "white",
            "showbackground": true,
            "ticks": "",
            "zerolinecolor": "white"
           },
           "yaxis": {
            "backgroundcolor": "#E5ECF6",
            "gridcolor": "white",
            "gridwidth": 2,
            "linecolor": "white",
            "showbackground": true,
            "ticks": "",
            "zerolinecolor": "white"
           },
           "zaxis": {
            "backgroundcolor": "#E5ECF6",
            "gridcolor": "white",
            "gridwidth": 2,
            "linecolor": "white",
            "showbackground": true,
            "ticks": "",
            "zerolinecolor": "white"
           }
          },
          "shapedefaults": {
           "line": {
            "color": "#2a3f5f"
           }
          },
          "ternary": {
           "aaxis": {
            "gridcolor": "white",
            "linecolor": "white",
            "ticks": ""
           },
           "baxis": {
            "gridcolor": "white",
            "linecolor": "white",
            "ticks": ""
           },
           "bgcolor": "#E5ECF6",
           "caxis": {
            "gridcolor": "white",
            "linecolor": "white",
            "ticks": ""
           }
          },
          "title": {
           "x": 0.05
          },
          "xaxis": {
           "automargin": true,
           "gridcolor": "white",
           "linecolor": "white",
           "ticks": "",
           "title": {
            "standoff": 15
           },
           "zerolinecolor": "white",
           "zerolinewidth": 2
          },
          "yaxis": {
           "automargin": true,
           "gridcolor": "white",
           "linecolor": "white",
           "ticks": "",
           "title": {
            "standoff": 15
           },
           "zerolinecolor": "white",
           "zerolinewidth": 2
          }
         }
        }
       }
      }
     },
     "metadata": {}
    }
   ],
   "source": [
    "neighborhood_map().show()"
   ]
  },
  {
   "cell_type": "code",
   "execution_count": 94,
   "metadata": {},
   "outputs": [
    {
     "output_type": "display_data",
     "data": {
      "application/vnd.plotly.v1+json": {
       "config": {
        "plotlyServerURL": "https://plot.ly"
       },
       "data": [
        {
         "dimensions": [
          {
           "label": "neighborhood",
           "values": [
            "Cow Hollow",
            "Merced Heights",
            "Miraloma Park",
            "Pacific Heights",
            "Potrero Hill",
            "Presidio Heights",
            "South Beach",
            "Telegraph Hill",
            "Union Square District",
            "Westwood Park"
           ]
          },
          {
           "label": "sale_price_sqr_foot",
           "values": [
            665.964041578323,
            788.8448175872469,
            779.810842264425,
            689.5558168113664,
            662.0136128276529,
            675.3502120510033,
            650.1244791945729,
            676.5065775293257,
            903.9932576720645,
            687.0875745178323
           ]
          },
          {
           "label": "housing_units",
           "values": [
            378401,
            380348,
            375967.25,
            378401,
            378401,
            378401,
            375805,
            378401,
            377427.5,
            382295
           ]
          },
          {
           "label": "gross_rent",
           "values": [
            2817.285714285714,
            3414,
            2155.25,
            2817.285714285714,
            2817.285714285714,
            2817.285714285714,
            2099,
            2817.285714285714,
            2555.1666666666665,
            3959
           ]
          }
         ],
         "domain": {
          "x": [
           0,
           1
          ],
          "y": [
           0,
           1
          ]
         },
         "line": {
          "color": [
           665.964041578323,
           788.8448175872469,
           779.810842264425,
           689.5558168113664,
           662.0136128276529,
           675.3502120510033,
           650.1244791945729,
           676.5065775293257,
           903.9932576720645,
           687.0875745178323
          ],
          "coloraxis": "coloraxis"
         },
         "name": "",
         "type": "parcats"
        }
       ],
       "layout": {
        "coloraxis": {
         "colorbar": {
          "title": {
           "text": "sale_price_sqr_foot"
          }
         },
         "colorscale": [
          [
           0,
           "#0d0887"
          ],
          [
           0.1111111111111111,
           "#46039f"
          ],
          [
           0.2222222222222222,
           "#7201a8"
          ],
          [
           0.3333333333333333,
           "#9c179e"
          ],
          [
           0.4444444444444444,
           "#bd3786"
          ],
          [
           0.5555555555555556,
           "#d8576b"
          ],
          [
           0.6666666666666666,
           "#ed7953"
          ],
          [
           0.7777777777777778,
           "#fb9f3a"
          ],
          [
           0.8888888888888888,
           "#fdca26"
          ],
          [
           1,
           "#f0f921"
          ]
         ]
        },
        "legend": {
         "tracegroupgap": 0
        },
        "margin": {
         "t": 60
        },
        "template": {
         "data": {
          "bar": [
           {
            "error_x": {
             "color": "#2a3f5f"
            },
            "error_y": {
             "color": "#2a3f5f"
            },
            "marker": {
             "line": {
              "color": "#E5ECF6",
              "width": 0.5
             }
            },
            "type": "bar"
           }
          ],
          "barpolar": [
           {
            "marker": {
             "line": {
              "color": "#E5ECF6",
              "width": 0.5
             }
            },
            "type": "barpolar"
           }
          ],
          "carpet": [
           {
            "aaxis": {
             "endlinecolor": "#2a3f5f",
             "gridcolor": "white",
             "linecolor": "white",
             "minorgridcolor": "white",
             "startlinecolor": "#2a3f5f"
            },
            "baxis": {
             "endlinecolor": "#2a3f5f",
             "gridcolor": "white",
             "linecolor": "white",
             "minorgridcolor": "white",
             "startlinecolor": "#2a3f5f"
            },
            "type": "carpet"
           }
          ],
          "choropleth": [
           {
            "colorbar": {
             "outlinewidth": 0,
             "ticks": ""
            },
            "type": "choropleth"
           }
          ],
          "contour": [
           {
            "colorbar": {
             "outlinewidth": 0,
             "ticks": ""
            },
            "colorscale": [
             [
              0,
              "#0d0887"
             ],
             [
              0.1111111111111111,
              "#46039f"
             ],
             [
              0.2222222222222222,
              "#7201a8"
             ],
             [
              0.3333333333333333,
              "#9c179e"
             ],
             [
              0.4444444444444444,
              "#bd3786"
             ],
             [
              0.5555555555555556,
              "#d8576b"
             ],
             [
              0.6666666666666666,
              "#ed7953"
             ],
             [
              0.7777777777777778,
              "#fb9f3a"
             ],
             [
              0.8888888888888888,
              "#fdca26"
             ],
             [
              1,
              "#f0f921"
             ]
            ],
            "type": "contour"
           }
          ],
          "contourcarpet": [
           {
            "colorbar": {
             "outlinewidth": 0,
             "ticks": ""
            },
            "type": "contourcarpet"
           }
          ],
          "heatmap": [
           {
            "colorbar": {
             "outlinewidth": 0,
             "ticks": ""
            },
            "colorscale": [
             [
              0,
              "#0d0887"
             ],
             [
              0.1111111111111111,
              "#46039f"
             ],
             [
              0.2222222222222222,
              "#7201a8"
             ],
             [
              0.3333333333333333,
              "#9c179e"
             ],
             [
              0.4444444444444444,
              "#bd3786"
             ],
             [
              0.5555555555555556,
              "#d8576b"
             ],
             [
              0.6666666666666666,
              "#ed7953"
             ],
             [
              0.7777777777777778,
              "#fb9f3a"
             ],
             [
              0.8888888888888888,
              "#fdca26"
             ],
             [
              1,
              "#f0f921"
             ]
            ],
            "type": "heatmap"
           }
          ],
          "heatmapgl": [
           {
            "colorbar": {
             "outlinewidth": 0,
             "ticks": ""
            },
            "colorscale": [
             [
              0,
              "#0d0887"
             ],
             [
              0.1111111111111111,
              "#46039f"
             ],
             [
              0.2222222222222222,
              "#7201a8"
             ],
             [
              0.3333333333333333,
              "#9c179e"
             ],
             [
              0.4444444444444444,
              "#bd3786"
             ],
             [
              0.5555555555555556,
              "#d8576b"
             ],
             [
              0.6666666666666666,
              "#ed7953"
             ],
             [
              0.7777777777777778,
              "#fb9f3a"
             ],
             [
              0.8888888888888888,
              "#fdca26"
             ],
             [
              1,
              "#f0f921"
             ]
            ],
            "type": "heatmapgl"
           }
          ],
          "histogram": [
           {
            "marker": {
             "colorbar": {
              "outlinewidth": 0,
              "ticks": ""
             }
            },
            "type": "histogram"
           }
          ],
          "histogram2d": [
           {
            "colorbar": {
             "outlinewidth": 0,
             "ticks": ""
            },
            "colorscale": [
             [
              0,
              "#0d0887"
             ],
             [
              0.1111111111111111,
              "#46039f"
             ],
             [
              0.2222222222222222,
              "#7201a8"
             ],
             [
              0.3333333333333333,
              "#9c179e"
             ],
             [
              0.4444444444444444,
              "#bd3786"
             ],
             [
              0.5555555555555556,
              "#d8576b"
             ],
             [
              0.6666666666666666,
              "#ed7953"
             ],
             [
              0.7777777777777778,
              "#fb9f3a"
             ],
             [
              0.8888888888888888,
              "#fdca26"
             ],
             [
              1,
              "#f0f921"
             ]
            ],
            "type": "histogram2d"
           }
          ],
          "histogram2dcontour": [
           {
            "colorbar": {
             "outlinewidth": 0,
             "ticks": ""
            },
            "colorscale": [
             [
              0,
              "#0d0887"
             ],
             [
              0.1111111111111111,
              "#46039f"
             ],
             [
              0.2222222222222222,
              "#7201a8"
             ],
             [
              0.3333333333333333,
              "#9c179e"
             ],
             [
              0.4444444444444444,
              "#bd3786"
             ],
             [
              0.5555555555555556,
              "#d8576b"
             ],
             [
              0.6666666666666666,
              "#ed7953"
             ],
             [
              0.7777777777777778,
              "#fb9f3a"
             ],
             [
              0.8888888888888888,
              "#fdca26"
             ],
             [
              1,
              "#f0f921"
             ]
            ],
            "type": "histogram2dcontour"
           }
          ],
          "mesh3d": [
           {
            "colorbar": {
             "outlinewidth": 0,
             "ticks": ""
            },
            "type": "mesh3d"
           }
          ],
          "parcoords": [
           {
            "line": {
             "colorbar": {
              "outlinewidth": 0,
              "ticks": ""
             }
            },
            "type": "parcoords"
           }
          ],
          "pie": [
           {
            "automargin": true,
            "type": "pie"
           }
          ],
          "scatter": [
           {
            "marker": {
             "colorbar": {
              "outlinewidth": 0,
              "ticks": ""
             }
            },
            "type": "scatter"
           }
          ],
          "scatter3d": [
           {
            "line": {
             "colorbar": {
              "outlinewidth": 0,
              "ticks": ""
             }
            },
            "marker": {
             "colorbar": {
              "outlinewidth": 0,
              "ticks": ""
             }
            },
            "type": "scatter3d"
           }
          ],
          "scattercarpet": [
           {
            "marker": {
             "colorbar": {
              "outlinewidth": 0,
              "ticks": ""
             }
            },
            "type": "scattercarpet"
           }
          ],
          "scattergeo": [
           {
            "marker": {
             "colorbar": {
              "outlinewidth": 0,
              "ticks": ""
             }
            },
            "type": "scattergeo"
           }
          ],
          "scattergl": [
           {
            "marker": {
             "colorbar": {
              "outlinewidth": 0,
              "ticks": ""
             }
            },
            "type": "scattergl"
           }
          ],
          "scattermapbox": [
           {
            "marker": {
             "colorbar": {
              "outlinewidth": 0,
              "ticks": ""
             }
            },
            "type": "scattermapbox"
           }
          ],
          "scatterpolar": [
           {
            "marker": {
             "colorbar": {
              "outlinewidth": 0,
              "ticks": ""
             }
            },
            "type": "scatterpolar"
           }
          ],
          "scatterpolargl": [
           {
            "marker": {
             "colorbar": {
              "outlinewidth": 0,
              "ticks": ""
             }
            },
            "type": "scatterpolargl"
           }
          ],
          "scatterternary": [
           {
            "marker": {
             "colorbar": {
              "outlinewidth": 0,
              "ticks": ""
             }
            },
            "type": "scatterternary"
           }
          ],
          "surface": [
           {
            "colorbar": {
             "outlinewidth": 0,
             "ticks": ""
            },
            "colorscale": [
             [
              0,
              "#0d0887"
             ],
             [
              0.1111111111111111,
              "#46039f"
             ],
             [
              0.2222222222222222,
              "#7201a8"
             ],
             [
              0.3333333333333333,
              "#9c179e"
             ],
             [
              0.4444444444444444,
              "#bd3786"
             ],
             [
              0.5555555555555556,
              "#d8576b"
             ],
             [
              0.6666666666666666,
              "#ed7953"
             ],
             [
              0.7777777777777778,
              "#fb9f3a"
             ],
             [
              0.8888888888888888,
              "#fdca26"
             ],
             [
              1,
              "#f0f921"
             ]
            ],
            "type": "surface"
           }
          ],
          "table": [
           {
            "cells": {
             "fill": {
              "color": "#EBF0F8"
             },
             "line": {
              "color": "white"
             }
            },
            "header": {
             "fill": {
              "color": "#C8D4E3"
             },
             "line": {
              "color": "white"
             }
            },
            "type": "table"
           }
          ]
         },
         "layout": {
          "annotationdefaults": {
           "arrowcolor": "#2a3f5f",
           "arrowhead": 0,
           "arrowwidth": 1
          },
          "autotypenumbers": "strict",
          "coloraxis": {
           "colorbar": {
            "outlinewidth": 0,
            "ticks": ""
           }
          },
          "colorscale": {
           "diverging": [
            [
             0,
             "#8e0152"
            ],
            [
             0.1,
             "#c51b7d"
            ],
            [
             0.2,
             "#de77ae"
            ],
            [
             0.3,
             "#f1b6da"
            ],
            [
             0.4,
             "#fde0ef"
            ],
            [
             0.5,
             "#f7f7f7"
            ],
            [
             0.6,
             "#e6f5d0"
            ],
            [
             0.7,
             "#b8e186"
            ],
            [
             0.8,
             "#7fbc41"
            ],
            [
             0.9,
             "#4d9221"
            ],
            [
             1,
             "#276419"
            ]
           ],
           "sequential": [
            [
             0,
             "#0d0887"
            ],
            [
             0.1111111111111111,
             "#46039f"
            ],
            [
             0.2222222222222222,
             "#7201a8"
            ],
            [
             0.3333333333333333,
             "#9c179e"
            ],
            [
             0.4444444444444444,
             "#bd3786"
            ],
            [
             0.5555555555555556,
             "#d8576b"
            ],
            [
             0.6666666666666666,
             "#ed7953"
            ],
            [
             0.7777777777777778,
             "#fb9f3a"
            ],
            [
             0.8888888888888888,
             "#fdca26"
            ],
            [
             1,
             "#f0f921"
            ]
           ],
           "sequentialminus": [
            [
             0,
             "#0d0887"
            ],
            [
             0.1111111111111111,
             "#46039f"
            ],
            [
             0.2222222222222222,
             "#7201a8"
            ],
            [
             0.3333333333333333,
             "#9c179e"
            ],
            [
             0.4444444444444444,
             "#bd3786"
            ],
            [
             0.5555555555555556,
             "#d8576b"
            ],
            [
             0.6666666666666666,
             "#ed7953"
            ],
            [
             0.7777777777777778,
             "#fb9f3a"
            ],
            [
             0.8888888888888888,
             "#fdca26"
            ],
            [
             1,
             "#f0f921"
            ]
           ]
          },
          "colorway": [
           "#636efa",
           "#EF553B",
           "#00cc96",
           "#ab63fa",
           "#FFA15A",
           "#19d3f3",
           "#FF6692",
           "#B6E880",
           "#FF97FF",
           "#FECB52"
          ],
          "font": {
           "color": "#2a3f5f"
          },
          "geo": {
           "bgcolor": "white",
           "lakecolor": "white",
           "landcolor": "#E5ECF6",
           "showlakes": true,
           "showland": true,
           "subunitcolor": "white"
          },
          "hoverlabel": {
           "align": "left"
          },
          "hovermode": "closest",
          "mapbox": {
           "style": "light"
          },
          "paper_bgcolor": "white",
          "plot_bgcolor": "#E5ECF6",
          "polar": {
           "angularaxis": {
            "gridcolor": "white",
            "linecolor": "white",
            "ticks": ""
           },
           "bgcolor": "#E5ECF6",
           "radialaxis": {
            "gridcolor": "white",
            "linecolor": "white",
            "ticks": ""
           }
          },
          "scene": {
           "xaxis": {
            "backgroundcolor": "#E5ECF6",
            "gridcolor": "white",
            "gridwidth": 2,
            "linecolor": "white",
            "showbackground": true,
            "ticks": "",
            "zerolinecolor": "white"
           },
           "yaxis": {
            "backgroundcolor": "#E5ECF6",
            "gridcolor": "white",
            "gridwidth": 2,
            "linecolor": "white",
            "showbackground": true,
            "ticks": "",
            "zerolinecolor": "white"
           },
           "zaxis": {
            "backgroundcolor": "#E5ECF6",
            "gridcolor": "white",
            "gridwidth": 2,
            "linecolor": "white",
            "showbackground": true,
            "ticks": "",
            "zerolinecolor": "white"
           }
          },
          "shapedefaults": {
           "line": {
            "color": "#2a3f5f"
           }
          },
          "ternary": {
           "aaxis": {
            "gridcolor": "white",
            "linecolor": "white",
            "ticks": ""
           },
           "baxis": {
            "gridcolor": "white",
            "linecolor": "white",
            "ticks": ""
           },
           "bgcolor": "#E5ECF6",
           "caxis": {
            "gridcolor": "white",
            "linecolor": "white",
            "ticks": ""
           }
          },
          "title": {
           "x": 0.05
          },
          "xaxis": {
           "automargin": true,
           "gridcolor": "white",
           "linecolor": "white",
           "ticks": "",
           "title": {
            "standoff": 15
           },
           "zerolinecolor": "white",
           "zerolinewidth": 2
          },
          "yaxis": {
           "automargin": true,
           "gridcolor": "white",
           "linecolor": "white",
           "ticks": "",
           "title": {
            "standoff": 15
           },
           "zerolinecolor": "white",
           "zerolinewidth": 2
          }
         }
        }
       }
      }
     },
     "metadata": {}
    }
   ],
   "source": [
    " parallel_categories()"
   ]
  },
  {
   "cell_type": "code",
   "execution_count": 95,
   "metadata": {},
   "outputs": [
    {
     "output_type": "display_data",
     "data": {
      "application/vnd.plotly.v1+json": {
       "config": {
        "plotlyServerURL": "https://plot.ly"
       },
       "data": [
        {
         "dimensions": [
          {
           "label": "sale_price_sqr_foot",
           "values": [
            665.964041578323,
            788.8448175872469,
            779.810842264425,
            689.5558168113664,
            662.0136128276529,
            675.3502120510033,
            650.1244791945729,
            676.5065775293257,
            903.9932576720645,
            687.0875745178323
           ]
          },
          {
           "label": "housing_units",
           "values": [
            378401,
            380348,
            375967.25,
            378401,
            378401,
            378401,
            375805,
            378401,
            377427.5,
            382295
           ]
          },
          {
           "label": "gross_rent",
           "values": [
            2817.285714285714,
            3414,
            2155.25,
            2817.285714285714,
            2817.285714285714,
            2817.285714285714,
            2099,
            2817.285714285714,
            2555.1666666666665,
            3959
           ]
          },
          {
           "label": "index",
           "values": [
            0,
            1,
            2,
            3,
            4,
            5,
            6,
            7,
            8,
            9
           ]
          }
         ],
         "domain": {
          "x": [
           0,
           1
          ],
          "y": [
           0,
           1
          ]
         },
         "line": {
          "color": [
           0,
           1,
           2,
           3,
           4,
           5,
           6,
           7,
           8,
           9
          ],
          "coloraxis": "coloraxis"
         },
         "name": "",
         "type": "parcoords"
        }
       ],
       "layout": {
        "coloraxis": {
         "colorbar": {
          "title": {
           "text": "index"
          }
         },
         "colorscale": [
          [
           0,
           "#0d0887"
          ],
          [
           0.1111111111111111,
           "#46039f"
          ],
          [
           0.2222222222222222,
           "#7201a8"
          ],
          [
           0.3333333333333333,
           "#9c179e"
          ],
          [
           0.4444444444444444,
           "#bd3786"
          ],
          [
           0.5555555555555556,
           "#d8576b"
          ],
          [
           0.6666666666666666,
           "#ed7953"
          ],
          [
           0.7777777777777778,
           "#fb9f3a"
          ],
          [
           0.8888888888888888,
           "#fdca26"
          ],
          [
           1,
           "#f0f921"
          ]
         ]
        },
        "height": 500,
        "legend": {
         "tracegroupgap": 0
        },
        "margin": {
         "t": 60
        },
        "template": {
         "data": {
          "bar": [
           {
            "error_x": {
             "color": "#2a3f5f"
            },
            "error_y": {
             "color": "#2a3f5f"
            },
            "marker": {
             "line": {
              "color": "#E5ECF6",
              "width": 0.5
             }
            },
            "type": "bar"
           }
          ],
          "barpolar": [
           {
            "marker": {
             "line": {
              "color": "#E5ECF6",
              "width": 0.5
             }
            },
            "type": "barpolar"
           }
          ],
          "carpet": [
           {
            "aaxis": {
             "endlinecolor": "#2a3f5f",
             "gridcolor": "white",
             "linecolor": "white",
             "minorgridcolor": "white",
             "startlinecolor": "#2a3f5f"
            },
            "baxis": {
             "endlinecolor": "#2a3f5f",
             "gridcolor": "white",
             "linecolor": "white",
             "minorgridcolor": "white",
             "startlinecolor": "#2a3f5f"
            },
            "type": "carpet"
           }
          ],
          "choropleth": [
           {
            "colorbar": {
             "outlinewidth": 0,
             "ticks": ""
            },
            "type": "choropleth"
           }
          ],
          "contour": [
           {
            "colorbar": {
             "outlinewidth": 0,
             "ticks": ""
            },
            "colorscale": [
             [
              0,
              "#0d0887"
             ],
             [
              0.1111111111111111,
              "#46039f"
             ],
             [
              0.2222222222222222,
              "#7201a8"
             ],
             [
              0.3333333333333333,
              "#9c179e"
             ],
             [
              0.4444444444444444,
              "#bd3786"
             ],
             [
              0.5555555555555556,
              "#d8576b"
             ],
             [
              0.6666666666666666,
              "#ed7953"
             ],
             [
              0.7777777777777778,
              "#fb9f3a"
             ],
             [
              0.8888888888888888,
              "#fdca26"
             ],
             [
              1,
              "#f0f921"
             ]
            ],
            "type": "contour"
           }
          ],
          "contourcarpet": [
           {
            "colorbar": {
             "outlinewidth": 0,
             "ticks": ""
            },
            "type": "contourcarpet"
           }
          ],
          "heatmap": [
           {
            "colorbar": {
             "outlinewidth": 0,
             "ticks": ""
            },
            "colorscale": [
             [
              0,
              "#0d0887"
             ],
             [
              0.1111111111111111,
              "#46039f"
             ],
             [
              0.2222222222222222,
              "#7201a8"
             ],
             [
              0.3333333333333333,
              "#9c179e"
             ],
             [
              0.4444444444444444,
              "#bd3786"
             ],
             [
              0.5555555555555556,
              "#d8576b"
             ],
             [
              0.6666666666666666,
              "#ed7953"
             ],
             [
              0.7777777777777778,
              "#fb9f3a"
             ],
             [
              0.8888888888888888,
              "#fdca26"
             ],
             [
              1,
              "#f0f921"
             ]
            ],
            "type": "heatmap"
           }
          ],
          "heatmapgl": [
           {
            "colorbar": {
             "outlinewidth": 0,
             "ticks": ""
            },
            "colorscale": [
             [
              0,
              "#0d0887"
             ],
             [
              0.1111111111111111,
              "#46039f"
             ],
             [
              0.2222222222222222,
              "#7201a8"
             ],
             [
              0.3333333333333333,
              "#9c179e"
             ],
             [
              0.4444444444444444,
              "#bd3786"
             ],
             [
              0.5555555555555556,
              "#d8576b"
             ],
             [
              0.6666666666666666,
              "#ed7953"
             ],
             [
              0.7777777777777778,
              "#fb9f3a"
             ],
             [
              0.8888888888888888,
              "#fdca26"
             ],
             [
              1,
              "#f0f921"
             ]
            ],
            "type": "heatmapgl"
           }
          ],
          "histogram": [
           {
            "marker": {
             "colorbar": {
              "outlinewidth": 0,
              "ticks": ""
             }
            },
            "type": "histogram"
           }
          ],
          "histogram2d": [
           {
            "colorbar": {
             "outlinewidth": 0,
             "ticks": ""
            },
            "colorscale": [
             [
              0,
              "#0d0887"
             ],
             [
              0.1111111111111111,
              "#46039f"
             ],
             [
              0.2222222222222222,
              "#7201a8"
             ],
             [
              0.3333333333333333,
              "#9c179e"
             ],
             [
              0.4444444444444444,
              "#bd3786"
             ],
             [
              0.5555555555555556,
              "#d8576b"
             ],
             [
              0.6666666666666666,
              "#ed7953"
             ],
             [
              0.7777777777777778,
              "#fb9f3a"
             ],
             [
              0.8888888888888888,
              "#fdca26"
             ],
             [
              1,
              "#f0f921"
             ]
            ],
            "type": "histogram2d"
           }
          ],
          "histogram2dcontour": [
           {
            "colorbar": {
             "outlinewidth": 0,
             "ticks": ""
            },
            "colorscale": [
             [
              0,
              "#0d0887"
             ],
             [
              0.1111111111111111,
              "#46039f"
             ],
             [
              0.2222222222222222,
              "#7201a8"
             ],
             [
              0.3333333333333333,
              "#9c179e"
             ],
             [
              0.4444444444444444,
              "#bd3786"
             ],
             [
              0.5555555555555556,
              "#d8576b"
             ],
             [
              0.6666666666666666,
              "#ed7953"
             ],
             [
              0.7777777777777778,
              "#fb9f3a"
             ],
             [
              0.8888888888888888,
              "#fdca26"
             ],
             [
              1,
              "#f0f921"
             ]
            ],
            "type": "histogram2dcontour"
           }
          ],
          "mesh3d": [
           {
            "colorbar": {
             "outlinewidth": 0,
             "ticks": ""
            },
            "type": "mesh3d"
           }
          ],
          "parcoords": [
           {
            "line": {
             "colorbar": {
              "outlinewidth": 0,
              "ticks": ""
             }
            },
            "type": "parcoords"
           }
          ],
          "pie": [
           {
            "automargin": true,
            "type": "pie"
           }
          ],
          "scatter": [
           {
            "marker": {
             "colorbar": {
              "outlinewidth": 0,
              "ticks": ""
             }
            },
            "type": "scatter"
           }
          ],
          "scatter3d": [
           {
            "line": {
             "colorbar": {
              "outlinewidth": 0,
              "ticks": ""
             }
            },
            "marker": {
             "colorbar": {
              "outlinewidth": 0,
              "ticks": ""
             }
            },
            "type": "scatter3d"
           }
          ],
          "scattercarpet": [
           {
            "marker": {
             "colorbar": {
              "outlinewidth": 0,
              "ticks": ""
             }
            },
            "type": "scattercarpet"
           }
          ],
          "scattergeo": [
           {
            "marker": {
             "colorbar": {
              "outlinewidth": 0,
              "ticks": ""
             }
            },
            "type": "scattergeo"
           }
          ],
          "scattergl": [
           {
            "marker": {
             "colorbar": {
              "outlinewidth": 0,
              "ticks": ""
             }
            },
            "type": "scattergl"
           }
          ],
          "scattermapbox": [
           {
            "marker": {
             "colorbar": {
              "outlinewidth": 0,
              "ticks": ""
             }
            },
            "type": "scattermapbox"
           }
          ],
          "scatterpolar": [
           {
            "marker": {
             "colorbar": {
              "outlinewidth": 0,
              "ticks": ""
             }
            },
            "type": "scatterpolar"
           }
          ],
          "scatterpolargl": [
           {
            "marker": {
             "colorbar": {
              "outlinewidth": 0,
              "ticks": ""
             }
            },
            "type": "scatterpolargl"
           }
          ],
          "scatterternary": [
           {
            "marker": {
             "colorbar": {
              "outlinewidth": 0,
              "ticks": ""
             }
            },
            "type": "scatterternary"
           }
          ],
          "surface": [
           {
            "colorbar": {
             "outlinewidth": 0,
             "ticks": ""
            },
            "colorscale": [
             [
              0,
              "#0d0887"
             ],
             [
              0.1111111111111111,
              "#46039f"
             ],
             [
              0.2222222222222222,
              "#7201a8"
             ],
             [
              0.3333333333333333,
              "#9c179e"
             ],
             [
              0.4444444444444444,
              "#bd3786"
             ],
             [
              0.5555555555555556,
              "#d8576b"
             ],
             [
              0.6666666666666666,
              "#ed7953"
             ],
             [
              0.7777777777777778,
              "#fb9f3a"
             ],
             [
              0.8888888888888888,
              "#fdca26"
             ],
             [
              1,
              "#f0f921"
             ]
            ],
            "type": "surface"
           }
          ],
          "table": [
           {
            "cells": {
             "fill": {
              "color": "#EBF0F8"
             },
             "line": {
              "color": "white"
             }
            },
            "header": {
             "fill": {
              "color": "#C8D4E3"
             },
             "line": {
              "color": "white"
             }
            },
            "type": "table"
           }
          ]
         },
         "layout": {
          "annotationdefaults": {
           "arrowcolor": "#2a3f5f",
           "arrowhead": 0,
           "arrowwidth": 1
          },
          "autotypenumbers": "strict",
          "coloraxis": {
           "colorbar": {
            "outlinewidth": 0,
            "ticks": ""
           }
          },
          "colorscale": {
           "diverging": [
            [
             0,
             "#8e0152"
            ],
            [
             0.1,
             "#c51b7d"
            ],
            [
             0.2,
             "#de77ae"
            ],
            [
             0.3,
             "#f1b6da"
            ],
            [
             0.4,
             "#fde0ef"
            ],
            [
             0.5,
             "#f7f7f7"
            ],
            [
             0.6,
             "#e6f5d0"
            ],
            [
             0.7,
             "#b8e186"
            ],
            [
             0.8,
             "#7fbc41"
            ],
            [
             0.9,
             "#4d9221"
            ],
            [
             1,
             "#276419"
            ]
           ],
           "sequential": [
            [
             0,
             "#0d0887"
            ],
            [
             0.1111111111111111,
             "#46039f"
            ],
            [
             0.2222222222222222,
             "#7201a8"
            ],
            [
             0.3333333333333333,
             "#9c179e"
            ],
            [
             0.4444444444444444,
             "#bd3786"
            ],
            [
             0.5555555555555556,
             "#d8576b"
            ],
            [
             0.6666666666666666,
             "#ed7953"
            ],
            [
             0.7777777777777778,
             "#fb9f3a"
            ],
            [
             0.8888888888888888,
             "#fdca26"
            ],
            [
             1,
             "#f0f921"
            ]
           ],
           "sequentialminus": [
            [
             0,
             "#0d0887"
            ],
            [
             0.1111111111111111,
             "#46039f"
            ],
            [
             0.2222222222222222,
             "#7201a8"
            ],
            [
             0.3333333333333333,
             "#9c179e"
            ],
            [
             0.4444444444444444,
             "#bd3786"
            ],
            [
             0.5555555555555556,
             "#d8576b"
            ],
            [
             0.6666666666666666,
             "#ed7953"
            ],
            [
             0.7777777777777778,
             "#fb9f3a"
            ],
            [
             0.8888888888888888,
             "#fdca26"
            ],
            [
             1,
             "#f0f921"
            ]
           ]
          },
          "colorway": [
           "#636efa",
           "#EF553B",
           "#00cc96",
           "#ab63fa",
           "#FFA15A",
           "#19d3f3",
           "#FF6692",
           "#B6E880",
           "#FF97FF",
           "#FECB52"
          ],
          "font": {
           "color": "#2a3f5f"
          },
          "geo": {
           "bgcolor": "white",
           "lakecolor": "white",
           "landcolor": "#E5ECF6",
           "showlakes": true,
           "showland": true,
           "subunitcolor": "white"
          },
          "hoverlabel": {
           "align": "left"
          },
          "hovermode": "closest",
          "mapbox": {
           "style": "light"
          },
          "paper_bgcolor": "white",
          "plot_bgcolor": "#E5ECF6",
          "polar": {
           "angularaxis": {
            "gridcolor": "white",
            "linecolor": "white",
            "ticks": ""
           },
           "bgcolor": "#E5ECF6",
           "radialaxis": {
            "gridcolor": "white",
            "linecolor": "white",
            "ticks": ""
           }
          },
          "scene": {
           "xaxis": {
            "backgroundcolor": "#E5ECF6",
            "gridcolor": "white",
            "gridwidth": 2,
            "linecolor": "white",
            "showbackground": true,
            "ticks": "",
            "zerolinecolor": "white"
           },
           "yaxis": {
            "backgroundcolor": "#E5ECF6",
            "gridcolor": "white",
            "gridwidth": 2,
            "linecolor": "white",
            "showbackground": true,
            "ticks": "",
            "zerolinecolor": "white"
           },
           "zaxis": {
            "backgroundcolor": "#E5ECF6",
            "gridcolor": "white",
            "gridwidth": 2,
            "linecolor": "white",
            "showbackground": true,
            "ticks": "",
            "zerolinecolor": "white"
           }
          },
          "shapedefaults": {
           "line": {
            "color": "#2a3f5f"
           }
          },
          "ternary": {
           "aaxis": {
            "gridcolor": "white",
            "linecolor": "white",
            "ticks": ""
           },
           "baxis": {
            "gridcolor": "white",
            "linecolor": "white",
            "ticks": ""
           },
           "bgcolor": "#E5ECF6",
           "caxis": {
            "gridcolor": "white",
            "linecolor": "white",
            "ticks": ""
           }
          },
          "title": {
           "x": 0.05
          },
          "xaxis": {
           "automargin": true,
           "gridcolor": "white",
           "linecolor": "white",
           "ticks": "",
           "title": {
            "standoff": 15
           },
           "zerolinecolor": "white",
           "zerolinewidth": 2
          },
          "yaxis": {
           "automargin": true,
           "gridcolor": "white",
           "linecolor": "white",
           "ticks": "",
           "title": {
            "standoff": 15
           },
           "zerolinecolor": "white",
           "zerolinewidth": 2
          }
         }
        },
        "width": 1000
       }
      }
     },
     "metadata": {}
    }
   ],
   "source": [
    "parallel_coordinates()"
   ]
  },
  {
   "cell_type": "code",
   "execution_count": 96,
   "metadata": {},
   "outputs": [
    {
     "output_type": "display_data",
     "data": {
      "application/vnd.plotly.v1+json": {
       "config": {
        "plotlyServerURL": "https://plot.ly"
       },
       "data": [
        {
         "branchvalues": "total",
         "customdata": [
          [
           1239
          ],
          [
           1529.9999999999998
          ],
          [
           2324
          ],
          [
           2971
          ],
          [
           3527.9999999999995
          ],
          [
           3739.0000000000005
          ],
          [
           4390
          ],
          [
           2324
          ],
          [
           3528
          ],
          [
           4390
          ],
          [
           1239
          ],
          [
           1530
          ],
          [
           2324
          ],
          [
           3528
          ],
          [
           1239
          ],
          [
           1530
          ],
          [
           2324
          ],
          [
           2971
          ],
          [
           3528
          ],
          [
           3739
          ],
          [
           4390
          ],
          [
           1239
          ],
          [
           1530
          ],
          [
           2324
          ],
          [
           2971
          ],
          [
           3528
          ],
          [
           3739
          ],
          [
           4390
          ],
          [
           1239
          ],
          [
           1530
          ],
          [
           2324
          ],
          [
           2971
          ],
          [
           3528
          ],
          [
           null
          ],
          [
           4390
          ],
          [
           1239
          ],
          [
           1530
          ],
          [
           3528
          ],
          [
           1239
          ],
          [
           1530
          ],
          [
           2324.0000000000005
          ],
          [
           2971
          ],
          [
           3527.9999999999995
          ],
          [
           3739
          ],
          [
           4390
          ],
          [
           1239
          ],
          [
           1530
          ],
          [
           2324
          ],
          [
           2971
          ],
          [
           3528
          ],
          [
           3739.0000000000005
          ],
          [
           3527.9999999999995
          ],
          [
           4390
          ],
          [
           1238.9999999999998
          ],
          [
           1530
          ],
          [
           2324.0000000000005
          ],
          [
           2970.9999999999995
          ],
          [
           3528.0000000000005
          ],
          [
           null
          ],
          [
           4390
          ]
         ],
         "domain": {
          "x": [
           0,
           1
          ],
          "y": [
           0,
           1
          ]
         },
         "hovertemplate": "labels=%{label}<br>sale_price_sqr_foot=%{value}<br>parent=%{parent}<br>id=%{id}<br>gross_rent=%{color}<extra></extra>",
         "ids": [
          "2010/Cow Hollow",
          "2011/Cow Hollow",
          "2012/Cow Hollow",
          "2013/Cow Hollow",
          "2014/Cow Hollow",
          "2015/Cow Hollow",
          "2016/Cow Hollow",
          "2012/Merced Heights",
          "2014/Merced Heights",
          "2016/Merced Heights",
          "2010/Miraloma Park",
          "2011/Miraloma Park",
          "2012/Miraloma Park",
          "2014/Miraloma Park",
          "2010/Pacific Heights",
          "2011/Pacific Heights",
          "2012/Pacific Heights",
          "2013/Pacific Heights",
          "2014/Pacific Heights",
          "2015/Pacific Heights",
          "2016/Pacific Heights",
          "2010/Potrero Hill",
          "2011/Potrero Hill",
          "2012/Potrero Hill",
          "2013/Potrero Hill",
          "2014/Potrero Hill",
          "2015/Potrero Hill",
          "2016/Potrero Hill",
          "2010/Presidio Heights",
          "2011/Presidio Heights",
          "2012/Presidio Heights",
          "2013/Presidio Heights",
          "2014/Presidio Heights",
          "2015/Presidio Heights",
          "2016/Presidio Heights",
          "2010/South Beach",
          "2011/South Beach",
          "2014/South Beach",
          "2010/Telegraph Hill",
          "2011/Telegraph Hill",
          "2012/Telegraph Hill",
          "2013/Telegraph Hill",
          "2014/Telegraph Hill",
          "2015/Telegraph Hill",
          "2016/Telegraph Hill",
          "2010/Union Square District",
          "2011/Union Square District",
          "2012/Union Square District",
          "2013/Union Square District",
          "2014/Union Square District",
          "2015/Union Square District",
          "2014/Westwood Park",
          "2016/Westwood Park",
          "2010",
          "2011",
          "2012",
          "2013",
          "2014",
          "2015",
          "2016"
         ],
         "labels": [
          "Cow Hollow",
          "Cow Hollow",
          "Cow Hollow",
          "Cow Hollow",
          "Cow Hollow",
          "Cow Hollow",
          "Cow Hollow",
          "Merced Heights",
          "Merced Heights",
          "Merced Heights",
          "Miraloma Park",
          "Miraloma Park",
          "Miraloma Park",
          "Miraloma Park",
          "Pacific Heights",
          "Pacific Heights",
          "Pacific Heights",
          "Pacific Heights",
          "Pacific Heights",
          "Pacific Heights",
          "Pacific Heights",
          "Potrero Hill",
          "Potrero Hill",
          "Potrero Hill",
          "Potrero Hill",
          "Potrero Hill",
          "Potrero Hill",
          "Potrero Hill",
          "Presidio Heights",
          "Presidio Heights",
          "Presidio Heights",
          "Presidio Heights",
          "Presidio Heights",
          "Presidio Heights",
          "Presidio Heights",
          "South Beach",
          "South Beach",
          "South Beach",
          "Telegraph Hill",
          "Telegraph Hill",
          "Telegraph Hill",
          "Telegraph Hill",
          "Telegraph Hill",
          "Telegraph Hill",
          "Telegraph Hill",
          "Union Square District",
          "Union Square District",
          "Union Square District",
          "Union Square District",
          "Union Square District",
          "Union Square District",
          "Westwood Park",
          "Westwood Park",
          "2010",
          "2011",
          "2012",
          "2013",
          "2014",
          "2015",
          "2016"
         ],
         "marker": {
          "coloraxis": "coloraxis",
          "colors": [
           1239,
           1529.9999999999998,
           2324,
           2971,
           3527.9999999999995,
           3739.0000000000005,
           4390,
           2324,
           3528,
           4390,
           1239,
           1530,
           2324,
           3528,
           1239,
           1530,
           2324,
           2971,
           3528,
           3739,
           4390,
           1239,
           1530,
           2324,
           2971,
           3528,
           3739,
           4390,
           1239,
           1530,
           2324,
           2971,
           3528,
           null,
           4390,
           1239,
           1530,
           3528,
           1239,
           1530,
           2324.0000000000005,
           2971,
           3527.9999999999995,
           3739,
           4390,
           1239,
           1530,
           2324,
           2971,
           3528,
           3739.0000000000005,
           3527.9999999999995,
           4390,
           1238.9999999999998,
           1530,
           2324.0000000000005,
           2970.9999999999995,
           3528.0000000000005,
           null,
           4390
          ]
         },
         "name": "",
         "parents": [
          "2010",
          "2011",
          "2012",
          "2013",
          "2014",
          "2015",
          "2016",
          "2012",
          "2014",
          "2016",
          "2010",
          "2011",
          "2012",
          "2014",
          "2010",
          "2011",
          "2012",
          "2013",
          "2014",
          "2015",
          "2016",
          "2010",
          "2011",
          "2012",
          "2013",
          "2014",
          "2015",
          "2016",
          "2010",
          "2011",
          "2012",
          "2013",
          "2014",
          "2015",
          "2016",
          "2010",
          "2011",
          "2014",
          "2010",
          "2011",
          "2012",
          "2013",
          "2014",
          "2015",
          "2016",
          "2010",
          "2011",
          "2012",
          "2013",
          "2014",
          "2015",
          "2014",
          "2016",
          "",
          "",
          "",
          "",
          "",
          "",
          ""
         ],
         "type": "sunburst",
         "values": [
          569.3799679261333,
          390.5956530284181,
          644.8183066758803,
          707.4028088888208,
          691.8654114838455,
          598.6205414959003,
          1059.0656015492618,
          421.1412447061912,
          528.7265413888829,
          1416.666666666667,
          680.6087291389301,
          414.67606477603755,
          756.1923725098497,
          1267.7662026328826,
          496.51601414694983,
          509.0214800287398,
          586.2182148097696,
          503.89926133005366,
          824.6586936349588,
          910.1876901656897,
          996.3893635634033,
          491.45000385678617,
          503.13850456030497,
          466.6478402167172,
          598.704795328917,
          1045.2015459222662,
          821.3009904764873,
          707.6516094320912,
          549.4179312485746,
          493.814917282618,
          426.60859207171325,
          512.8402484358223,
          603.4509968798565,
          0,
          1465.9685863874345,
          1037.0997886617895,
          388.6443367815385,
          524.6293121403909,
          524.7935090952678,
          483.4057725178001,
          465.80212163177373,
          653.3116166908643,
          708.1930316849231,
          996.9902204858653,
          903.0497705987848,
          569.1934475267735,
          302.12325280969134,
          445.1967876448791,
          1290.472106646641,
          558.2711194060469,
          2258.702831998355,
          742.9797231632554,
          631.1954258724091,
          4918.459391601205,
          3485.419981785148,
          4212.6254802667745,
          4266.6308373211195,
          7495.742578337307,
          5585.802274622298,
          7179.987024070052
         ]
        }
       ],
       "layout": {
        "coloraxis": {
         "colorbar": {
          "title": {
           "text": "gross_rent"
          }
         },
         "colorscale": [
          [
           0,
           "rgb(103,0,31)"
          ],
          [
           0.1,
           "rgb(178,24,43)"
          ],
          [
           0.2,
           "rgb(214,96,77)"
          ],
          [
           0.3,
           "rgb(244,165,130)"
          ],
          [
           0.4,
           "rgb(253,219,199)"
          ],
          [
           0.5,
           "rgb(247,247,247)"
          ],
          [
           0.6,
           "rgb(209,229,240)"
          ],
          [
           0.7,
           "rgb(146,197,222)"
          ],
          [
           0.8,
           "rgb(67,147,195)"
          ],
          [
           0.9,
           "rgb(33,102,172)"
          ],
          [
           1,
           "rgb(5,48,97)"
          ]
         ]
        },
        "legend": {
         "tracegroupgap": 0
        },
        "margin": {
         "t": 60
        },
        "template": {
         "data": {
          "bar": [
           {
            "error_x": {
             "color": "#2a3f5f"
            },
            "error_y": {
             "color": "#2a3f5f"
            },
            "marker": {
             "line": {
              "color": "#E5ECF6",
              "width": 0.5
             }
            },
            "type": "bar"
           }
          ],
          "barpolar": [
           {
            "marker": {
             "line": {
              "color": "#E5ECF6",
              "width": 0.5
             }
            },
            "type": "barpolar"
           }
          ],
          "carpet": [
           {
            "aaxis": {
             "endlinecolor": "#2a3f5f",
             "gridcolor": "white",
             "linecolor": "white",
             "minorgridcolor": "white",
             "startlinecolor": "#2a3f5f"
            },
            "baxis": {
             "endlinecolor": "#2a3f5f",
             "gridcolor": "white",
             "linecolor": "white",
             "minorgridcolor": "white",
             "startlinecolor": "#2a3f5f"
            },
            "type": "carpet"
           }
          ],
          "choropleth": [
           {
            "colorbar": {
             "outlinewidth": 0,
             "ticks": ""
            },
            "type": "choropleth"
           }
          ],
          "contour": [
           {
            "colorbar": {
             "outlinewidth": 0,
             "ticks": ""
            },
            "colorscale": [
             [
              0,
              "#0d0887"
             ],
             [
              0.1111111111111111,
              "#46039f"
             ],
             [
              0.2222222222222222,
              "#7201a8"
             ],
             [
              0.3333333333333333,
              "#9c179e"
             ],
             [
              0.4444444444444444,
              "#bd3786"
             ],
             [
              0.5555555555555556,
              "#d8576b"
             ],
             [
              0.6666666666666666,
              "#ed7953"
             ],
             [
              0.7777777777777778,
              "#fb9f3a"
             ],
             [
              0.8888888888888888,
              "#fdca26"
             ],
             [
              1,
              "#f0f921"
             ]
            ],
            "type": "contour"
           }
          ],
          "contourcarpet": [
           {
            "colorbar": {
             "outlinewidth": 0,
             "ticks": ""
            },
            "type": "contourcarpet"
           }
          ],
          "heatmap": [
           {
            "colorbar": {
             "outlinewidth": 0,
             "ticks": ""
            },
            "colorscale": [
             [
              0,
              "#0d0887"
             ],
             [
              0.1111111111111111,
              "#46039f"
             ],
             [
              0.2222222222222222,
              "#7201a8"
             ],
             [
              0.3333333333333333,
              "#9c179e"
             ],
             [
              0.4444444444444444,
              "#bd3786"
             ],
             [
              0.5555555555555556,
              "#d8576b"
             ],
             [
              0.6666666666666666,
              "#ed7953"
             ],
             [
              0.7777777777777778,
              "#fb9f3a"
             ],
             [
              0.8888888888888888,
              "#fdca26"
             ],
             [
              1,
              "#f0f921"
             ]
            ],
            "type": "heatmap"
           }
          ],
          "heatmapgl": [
           {
            "colorbar": {
             "outlinewidth": 0,
             "ticks": ""
            },
            "colorscale": [
             [
              0,
              "#0d0887"
             ],
             [
              0.1111111111111111,
              "#46039f"
             ],
             [
              0.2222222222222222,
              "#7201a8"
             ],
             [
              0.3333333333333333,
              "#9c179e"
             ],
             [
              0.4444444444444444,
              "#bd3786"
             ],
             [
              0.5555555555555556,
              "#d8576b"
             ],
             [
              0.6666666666666666,
              "#ed7953"
             ],
             [
              0.7777777777777778,
              "#fb9f3a"
             ],
             [
              0.8888888888888888,
              "#fdca26"
             ],
             [
              1,
              "#f0f921"
             ]
            ],
            "type": "heatmapgl"
           }
          ],
          "histogram": [
           {
            "marker": {
             "colorbar": {
              "outlinewidth": 0,
              "ticks": ""
             }
            },
            "type": "histogram"
           }
          ],
          "histogram2d": [
           {
            "colorbar": {
             "outlinewidth": 0,
             "ticks": ""
            },
            "colorscale": [
             [
              0,
              "#0d0887"
             ],
             [
              0.1111111111111111,
              "#46039f"
             ],
             [
              0.2222222222222222,
              "#7201a8"
             ],
             [
              0.3333333333333333,
              "#9c179e"
             ],
             [
              0.4444444444444444,
              "#bd3786"
             ],
             [
              0.5555555555555556,
              "#d8576b"
             ],
             [
              0.6666666666666666,
              "#ed7953"
             ],
             [
              0.7777777777777778,
              "#fb9f3a"
             ],
             [
              0.8888888888888888,
              "#fdca26"
             ],
             [
              1,
              "#f0f921"
             ]
            ],
            "type": "histogram2d"
           }
          ],
          "histogram2dcontour": [
           {
            "colorbar": {
             "outlinewidth": 0,
             "ticks": ""
            },
            "colorscale": [
             [
              0,
              "#0d0887"
             ],
             [
              0.1111111111111111,
              "#46039f"
             ],
             [
              0.2222222222222222,
              "#7201a8"
             ],
             [
              0.3333333333333333,
              "#9c179e"
             ],
             [
              0.4444444444444444,
              "#bd3786"
             ],
             [
              0.5555555555555556,
              "#d8576b"
             ],
             [
              0.6666666666666666,
              "#ed7953"
             ],
             [
              0.7777777777777778,
              "#fb9f3a"
             ],
             [
              0.8888888888888888,
              "#fdca26"
             ],
             [
              1,
              "#f0f921"
             ]
            ],
            "type": "histogram2dcontour"
           }
          ],
          "mesh3d": [
           {
            "colorbar": {
             "outlinewidth": 0,
             "ticks": ""
            },
            "type": "mesh3d"
           }
          ],
          "parcoords": [
           {
            "line": {
             "colorbar": {
              "outlinewidth": 0,
              "ticks": ""
             }
            },
            "type": "parcoords"
           }
          ],
          "pie": [
           {
            "automargin": true,
            "type": "pie"
           }
          ],
          "scatter": [
           {
            "marker": {
             "colorbar": {
              "outlinewidth": 0,
              "ticks": ""
             }
            },
            "type": "scatter"
           }
          ],
          "scatter3d": [
           {
            "line": {
             "colorbar": {
              "outlinewidth": 0,
              "ticks": ""
             }
            },
            "marker": {
             "colorbar": {
              "outlinewidth": 0,
              "ticks": ""
             }
            },
            "type": "scatter3d"
           }
          ],
          "scattercarpet": [
           {
            "marker": {
             "colorbar": {
              "outlinewidth": 0,
              "ticks": ""
             }
            },
            "type": "scattercarpet"
           }
          ],
          "scattergeo": [
           {
            "marker": {
             "colorbar": {
              "outlinewidth": 0,
              "ticks": ""
             }
            },
            "type": "scattergeo"
           }
          ],
          "scattergl": [
           {
            "marker": {
             "colorbar": {
              "outlinewidth": 0,
              "ticks": ""
             }
            },
            "type": "scattergl"
           }
          ],
          "scattermapbox": [
           {
            "marker": {
             "colorbar": {
              "outlinewidth": 0,
              "ticks": ""
             }
            },
            "type": "scattermapbox"
           }
          ],
          "scatterpolar": [
           {
            "marker": {
             "colorbar": {
              "outlinewidth": 0,
              "ticks": ""
             }
            },
            "type": "scatterpolar"
           }
          ],
          "scatterpolargl": [
           {
            "marker": {
             "colorbar": {
              "outlinewidth": 0,
              "ticks": ""
             }
            },
            "type": "scatterpolargl"
           }
          ],
          "scatterternary": [
           {
            "marker": {
             "colorbar": {
              "outlinewidth": 0,
              "ticks": ""
             }
            },
            "type": "scatterternary"
           }
          ],
          "surface": [
           {
            "colorbar": {
             "outlinewidth": 0,
             "ticks": ""
            },
            "colorscale": [
             [
              0,
              "#0d0887"
             ],
             [
              0.1111111111111111,
              "#46039f"
             ],
             [
              0.2222222222222222,
              "#7201a8"
             ],
             [
              0.3333333333333333,
              "#9c179e"
             ],
             [
              0.4444444444444444,
              "#bd3786"
             ],
             [
              0.5555555555555556,
              "#d8576b"
             ],
             [
              0.6666666666666666,
              "#ed7953"
             ],
             [
              0.7777777777777778,
              "#fb9f3a"
             ],
             [
              0.8888888888888888,
              "#fdca26"
             ],
             [
              1,
              "#f0f921"
             ]
            ],
            "type": "surface"
           }
          ],
          "table": [
           {
            "cells": {
             "fill": {
              "color": "#EBF0F8"
             },
             "line": {
              "color": "white"
             }
            },
            "header": {
             "fill": {
              "color": "#C8D4E3"
             },
             "line": {
              "color": "white"
             }
            },
            "type": "table"
           }
          ]
         },
         "layout": {
          "annotationdefaults": {
           "arrowcolor": "#2a3f5f",
           "arrowhead": 0,
           "arrowwidth": 1
          },
          "autotypenumbers": "strict",
          "coloraxis": {
           "colorbar": {
            "outlinewidth": 0,
            "ticks": ""
           }
          },
          "colorscale": {
           "diverging": [
            [
             0,
             "#8e0152"
            ],
            [
             0.1,
             "#c51b7d"
            ],
            [
             0.2,
             "#de77ae"
            ],
            [
             0.3,
             "#f1b6da"
            ],
            [
             0.4,
             "#fde0ef"
            ],
            [
             0.5,
             "#f7f7f7"
            ],
            [
             0.6,
             "#e6f5d0"
            ],
            [
             0.7,
             "#b8e186"
            ],
            [
             0.8,
             "#7fbc41"
            ],
            [
             0.9,
             "#4d9221"
            ],
            [
             1,
             "#276419"
            ]
           ],
           "sequential": [
            [
             0,
             "#0d0887"
            ],
            [
             0.1111111111111111,
             "#46039f"
            ],
            [
             0.2222222222222222,
             "#7201a8"
            ],
            [
             0.3333333333333333,
             "#9c179e"
            ],
            [
             0.4444444444444444,
             "#bd3786"
            ],
            [
             0.5555555555555556,
             "#d8576b"
            ],
            [
             0.6666666666666666,
             "#ed7953"
            ],
            [
             0.7777777777777778,
             "#fb9f3a"
            ],
            [
             0.8888888888888888,
             "#fdca26"
            ],
            [
             1,
             "#f0f921"
            ]
           ],
           "sequentialminus": [
            [
             0,
             "#0d0887"
            ],
            [
             0.1111111111111111,
             "#46039f"
            ],
            [
             0.2222222222222222,
             "#7201a8"
            ],
            [
             0.3333333333333333,
             "#9c179e"
            ],
            [
             0.4444444444444444,
             "#bd3786"
            ],
            [
             0.5555555555555556,
             "#d8576b"
            ],
            [
             0.6666666666666666,
             "#ed7953"
            ],
            [
             0.7777777777777778,
             "#fb9f3a"
            ],
            [
             0.8888888888888888,
             "#fdca26"
            ],
            [
             1,
             "#f0f921"
            ]
           ]
          },
          "colorway": [
           "#636efa",
           "#EF553B",
           "#00cc96",
           "#ab63fa",
           "#FFA15A",
           "#19d3f3",
           "#FF6692",
           "#B6E880",
           "#FF97FF",
           "#FECB52"
          ],
          "font": {
           "color": "#2a3f5f"
          },
          "geo": {
           "bgcolor": "white",
           "lakecolor": "white",
           "landcolor": "#E5ECF6",
           "showlakes": true,
           "showland": true,
           "subunitcolor": "white"
          },
          "hoverlabel": {
           "align": "left"
          },
          "hovermode": "closest",
          "mapbox": {
           "style": "light"
          },
          "paper_bgcolor": "white",
          "plot_bgcolor": "#E5ECF6",
          "polar": {
           "angularaxis": {
            "gridcolor": "white",
            "linecolor": "white",
            "ticks": ""
           },
           "bgcolor": "#E5ECF6",
           "radialaxis": {
            "gridcolor": "white",
            "linecolor": "white",
            "ticks": ""
           }
          },
          "scene": {
           "xaxis": {
            "backgroundcolor": "#E5ECF6",
            "gridcolor": "white",
            "gridwidth": 2,
            "linecolor": "white",
            "showbackground": true,
            "ticks": "",
            "zerolinecolor": "white"
           },
           "yaxis": {
            "backgroundcolor": "#E5ECF6",
            "gridcolor": "white",
            "gridwidth": 2,
            "linecolor": "white",
            "showbackground": true,
            "ticks": "",
            "zerolinecolor": "white"
           },
           "zaxis": {
            "backgroundcolor": "#E5ECF6",
            "gridcolor": "white",
            "gridwidth": 2,
            "linecolor": "white",
            "showbackground": true,
            "ticks": "",
            "zerolinecolor": "white"
           }
          },
          "shapedefaults": {
           "line": {
            "color": "#2a3f5f"
           }
          },
          "ternary": {
           "aaxis": {
            "gridcolor": "white",
            "linecolor": "white",
            "ticks": ""
           },
           "baxis": {
            "gridcolor": "white",
            "linecolor": "white",
            "ticks": ""
           },
           "bgcolor": "#E5ECF6",
           "caxis": {
            "gridcolor": "white",
            "linecolor": "white",
            "ticks": ""
           }
          },
          "title": {
           "x": 0.05
          },
          "xaxis": {
           "automargin": true,
           "gridcolor": "white",
           "linecolor": "white",
           "ticks": "",
           "title": {
            "standoff": 15
           },
           "zerolinecolor": "white",
           "zerolinewidth": 2
          },
          "yaxis": {
           "automargin": true,
           "gridcolor": "white",
           "linecolor": "white",
           "ticks": "",
           "title": {
            "standoff": 15
           },
           "zerolinecolor": "white",
           "zerolinewidth": 2
          }
         }
        }
       }
      }
     },
     "metadata": {}
    }
   ],
   "source": [
    "sunburst()"
   ]
  },
  {
   "cell_type": "code",
   "execution_count": null,
   "metadata": {},
   "outputs": [],
   "source": []
  }
 ],
 "metadata": {
  "file_extension": ".py",
  "kernelspec": {
   "name": "python3",
   "display_name": "Python 3.7.9 64-bit",
   "metadata": {
    "interpreter": {
     "hash": "d80174946ab33f67953776fa8d4b27c8525087cb9397d8eb8ccea80e6ac6534e"
    }
   }
  },
  "language_info": {
   "codemirror_mode": {
    "name": "ipython",
    "version": 3
   },
   "file_extension": ".py",
   "mimetype": "text/x-python",
   "name": "python",
   "nbconvert_exporter": "python",
   "pygments_lexer": "ipython3",
   "version": "3.7.9-final"
  },
  "mimetype": "text/x-python",
  "name": "python",
  "npconvert_exporter": "python",
  "pygments_lexer": "ipython3",
  "version": 3
 },
 "nbformat": 4,
 "nbformat_minor": 4
}